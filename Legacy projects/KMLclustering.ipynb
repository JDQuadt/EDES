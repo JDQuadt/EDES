{
 "cells": [
  {
   "cell_type": "code",
   "execution_count": 1,
   "metadata": {},
   "outputs": [
    {
     "data": {
      "text/plain": [
       "TaskLocalRNG()"
      ]
     },
     "metadata": {},
     "output_type": "display_data"
    }
   ],
   "source": [
    "using CSV \n",
    "using DataFrames, Random\n",
    "using Clustering\n",
    "\n",
    "# set random seed\n",
    "Random.seed!(1234)"
   ]
  },
  {
   "cell_type": "code",
   "execution_count": 2,
   "metadata": {},
   "outputs": [
    {
     "data": {
      "text/html": [
       "<div><div style = \"float: left;\"><span>120×7 DataFrame</span></div><div style = \"float: right;\"><span style = \"font-style: italic;\">95 rows omitted</span></div><div style = \"clear: both;\"></div></div><div class = \"data-frame\" style = \"overflow-x: scroll;\"><table class = \"data-frame\" style = \"margin-bottom: 6px;\"><thead><tr class = \"header\"><th class = \"rowNumber\" style = \"font-weight: bold; text-align: right;\">Row</th><th style = \"text-align: left;\">ID</th><th style = \"text-align: left;\">Meal Test</th><th style = \"text-align: left;\">Health status</th><th style = \"text-align: left;\">k1</th><th style = \"text-align: left;\">k5</th><th style = \"text-align: left;\">k6</th><th style = \"text-align: left;\">k8</th></tr><tr class = \"subheader headerLastRow\"><th class = \"rowNumber\" style = \"font-weight: bold; text-align: right;\"></th><th title = \"Float64\" style = \"text-align: left;\">Float64</th><th title = \"Float64\" style = \"text-align: left;\">Float64</th><th title = \"Float64\" style = \"text-align: left;\">Float64</th><th title = \"Float64\" style = \"text-align: left;\">Float64</th><th title = \"Float64\" style = \"text-align: left;\">Float64</th><th title = \"Float64\" style = \"text-align: left;\">Float64</th><th title = \"Float64\" style = \"text-align: left;\">Float64</th></tr></thead><tbody><tr><td class = \"rowNumber\" style = \"font-weight: bold; text-align: right;\">1</td><td style = \"text-align: right;\">1.0</td><td style = \"text-align: right;\">1.0</td><td style = \"text-align: right;\">0.0</td><td style = \"text-align: right;\">0.0102168</td><td style = \"text-align: right;\">0.0459655</td><td style = \"text-align: right;\">2.36046</td><td style = \"text-align: right;\">4.64885</td></tr><tr><td class = \"rowNumber\" style = \"font-weight: bold; text-align: right;\">2</td><td style = \"text-align: right;\">1.0</td><td style = \"text-align: right;\">2.0</td><td style = \"text-align: right;\">0.0</td><td style = \"text-align: right;\">0.010703</td><td style = \"text-align: right;\">0.039215</td><td style = \"text-align: right;\">2.62905</td><td style = \"text-align: right;\">4.89013</td></tr><tr><td class = \"rowNumber\" style = \"font-weight: bold; text-align: right;\">3</td><td style = \"text-align: right;\">1.0</td><td style = \"text-align: right;\">3.0</td><td style = \"text-align: right;\">0.0</td><td style = \"text-align: right;\">0.0114941</td><td style = \"text-align: right;\">0.0361941</td><td style = \"text-align: right;\">2.43105</td><td style = \"text-align: right;\">4.68702</td></tr><tr><td class = \"rowNumber\" style = \"font-weight: bold; text-align: right;\">4</td><td style = \"text-align: right;\">1.0</td><td style = \"text-align: right;\">4.0</td><td style = \"text-align: right;\">0.0</td><td style = \"text-align: right;\">0.0120577</td><td style = \"text-align: right;\">0.0408216</td><td style = \"text-align: right;\">2.21771</td><td style = \"text-align: right;\">3.82294</td></tr><tr><td class = \"rowNumber\" style = \"font-weight: bold; text-align: right;\">5</td><td style = \"text-align: right;\">1.0</td><td style = \"text-align: right;\">5.0</td><td style = \"text-align: right;\">0.0</td><td style = \"text-align: right;\">0.0128715</td><td style = \"text-align: right;\">0.0362616</td><td style = \"text-align: right;\">2.31327</td><td style = \"text-align: right;\">3.81754</td></tr><tr><td class = \"rowNumber\" style = \"font-weight: bold; text-align: right;\">6</td><td style = \"text-align: right;\">1.0</td><td style = \"text-align: right;\">6.0</td><td style = \"text-align: right;\">0.0</td><td style = \"text-align: right;\">0.0140081</td><td style = \"text-align: right;\">0.0300844</td><td style = \"text-align: right;\">2.41778</td><td style = \"text-align: right;\">4.03432</td></tr><tr><td class = \"rowNumber\" style = \"font-weight: bold; text-align: right;\">7</td><td style = \"text-align: right;\">2.0</td><td style = \"text-align: right;\">1.0</td><td style = \"text-align: right;\">0.0</td><td style = \"text-align: right;\">0.0102496</td><td style = \"text-align: right;\">0.0467434</td><td style = \"text-align: right;\">2.24555</td><td style = \"text-align: right;\">4.55563</td></tr><tr><td class = \"rowNumber\" style = \"font-weight: bold; text-align: right;\">8</td><td style = \"text-align: right;\">2.0</td><td style = \"text-align: right;\">2.0</td><td style = \"text-align: right;\">0.0</td><td style = \"text-align: right;\">0.0106976</td><td style = \"text-align: right;\">0.0462139</td><td style = \"text-align: right;\">2.25448</td><td style = \"text-align: right;\">4.24349</td></tr><tr><td class = \"rowNumber\" style = \"font-weight: bold; text-align: right;\">9</td><td style = \"text-align: right;\">2.0</td><td style = \"text-align: right;\">3.0</td><td style = \"text-align: right;\">0.0</td><td style = \"text-align: right;\">0.0113883</td><td style = \"text-align: right;\">0.0405245</td><td style = \"text-align: right;\">2.28657</td><td style = \"text-align: right;\">4.2954</td></tr><tr><td class = \"rowNumber\" style = \"font-weight: bold; text-align: right;\">10</td><td style = \"text-align: right;\">2.0</td><td style = \"text-align: right;\">4.0</td><td style = \"text-align: right;\">0.0</td><td style = \"text-align: right;\">0.0119001</td><td style = \"text-align: right;\">0.0433677</td><td style = \"text-align: right;\">2.21332</td><td style = \"text-align: right;\">3.70667</td></tr><tr><td class = \"rowNumber\" style = \"font-weight: bold; text-align: right;\">11</td><td style = \"text-align: right;\">2.0</td><td style = \"text-align: right;\">5.0</td><td style = \"text-align: right;\">0.0</td><td style = \"text-align: right;\">0.0127142</td><td style = \"text-align: right;\">0.039061</td><td style = \"text-align: right;\">2.25757</td><td style = \"text-align: right;\">3.65494</td></tr><tr><td class = \"rowNumber\" style = \"font-weight: bold; text-align: right;\">12</td><td style = \"text-align: right;\">2.0</td><td style = \"text-align: right;\">6.0</td><td style = \"text-align: right;\">0.0</td><td style = \"text-align: right;\">0.0136114</td><td style = \"text-align: right;\">0.0313863</td><td style = \"text-align: right;\">2.5899</td><td style = \"text-align: right;\">3.93985</td></tr><tr><td class = \"rowNumber\" style = \"font-weight: bold; text-align: right;\">13</td><td style = \"text-align: right;\">3.0</td><td style = \"text-align: right;\">1.0</td><td style = \"text-align: right;\">0.0</td><td style = \"text-align: right;\">0.0103853</td><td style = \"text-align: right;\">0.0411755</td><td style = \"text-align: right;\">2.35571</td><td style = \"text-align: right;\">4.98632</td></tr><tr><td style = \"text-align: right;\">&vellip;</td><td style = \"text-align: right;\">&vellip;</td><td style = \"text-align: right;\">&vellip;</td><td style = \"text-align: right;\">&vellip;</td><td style = \"text-align: right;\">&vellip;</td><td style = \"text-align: right;\">&vellip;</td><td style = \"text-align: right;\">&vellip;</td><td style = \"text-align: right;\">&vellip;</td></tr><tr><td class = \"rowNumber\" style = \"font-weight: bold; text-align: right;\">109</td><td style = \"text-align: right;\">19.0</td><td style = \"text-align: right;\">1.0</td><td style = \"text-align: right;\">1.0</td><td style = \"text-align: right;\">0.0103926</td><td style = \"text-align: right;\">0.0426356</td><td style = \"text-align: right;\">2.25513</td><td style = \"text-align: right;\">4.4339</td></tr><tr><td class = \"rowNumber\" style = \"font-weight: bold; text-align: right;\">110</td><td style = \"text-align: right;\">19.0</td><td style = \"text-align: right;\">2.0</td><td style = \"text-align: right;\">1.0</td><td style = \"text-align: right;\">0.0103574</td><td style = \"text-align: right;\">0.0396765</td><td style = \"text-align: right;\">2.21102</td><td style = \"text-align: right;\">4.28879</td></tr><tr><td class = \"rowNumber\" style = \"font-weight: bold; text-align: right;\">111</td><td style = \"text-align: right;\">19.0</td><td style = \"text-align: right;\">3.0</td><td style = \"text-align: right;\">1.0</td><td style = \"text-align: right;\">0.0104216</td><td style = \"text-align: right;\">0.0314295</td><td style = \"text-align: right;\">2.34075</td><td style = \"text-align: right;\">4.72871</td></tr><tr><td class = \"rowNumber\" style = \"font-weight: bold; text-align: right;\">112</td><td style = \"text-align: right;\">19.0</td><td style = \"text-align: right;\">4.0</td><td style = \"text-align: right;\">1.0</td><td style = \"text-align: right;\">0.0102789</td><td style = \"text-align: right;\">0.0266395</td><td style = \"text-align: right;\">2.58506</td><td style = \"text-align: right;\">4.88897</td></tr><tr><td class = \"rowNumber\" style = \"font-weight: bold; text-align: right;\">113</td><td style = \"text-align: right;\">19.0</td><td style = \"text-align: right;\">5.0</td><td style = \"text-align: right;\">1.0</td><td style = \"text-align: right;\">0.0103558</td><td style = \"text-align: right;\">0.0251391</td><td style = \"text-align: right;\">2.22382</td><td style = \"text-align: right;\">4.49147</td></tr><tr><td class = \"rowNumber\" style = \"font-weight: bold; text-align: right;\">114</td><td style = \"text-align: right;\">19.0</td><td style = \"text-align: right;\">6.0</td><td style = \"text-align: right;\">1.0</td><td style = \"text-align: right;\">0.0102547</td><td style = \"text-align: right;\">0.0196821</td><td style = \"text-align: right;\">2.4415</td><td style = \"text-align: right;\">4.78874</td></tr><tr><td class = \"rowNumber\" style = \"font-weight: bold; text-align: right;\">115</td><td style = \"text-align: right;\">20.0</td><td style = \"text-align: right;\">1.0</td><td style = \"text-align: right;\">1.0</td><td style = \"text-align: right;\">0.0104191</td><td style = \"text-align: right;\">0.0448226</td><td style = \"text-align: right;\">2.38494</td><td style = \"text-align: right;\">4.76882</td></tr><tr><td class = \"rowNumber\" style = \"font-weight: bold; text-align: right;\">116</td><td style = \"text-align: right;\">20.0</td><td style = \"text-align: right;\">2.0</td><td style = \"text-align: right;\">1.0</td><td style = \"text-align: right;\">0.010396</td><td style = \"text-align: right;\">0.0434554</td><td style = \"text-align: right;\">2.24421</td><td style = \"text-align: right;\">4.42406</td></tr><tr><td class = \"rowNumber\" style = \"font-weight: bold; text-align: right;\">117</td><td style = \"text-align: right;\">20.0</td><td style = \"text-align: right;\">3.0</td><td style = \"text-align: right;\">1.0</td><td style = \"text-align: right;\">0.0104171</td><td style = \"text-align: right;\">0.0332118</td><td style = \"text-align: right;\">2.51265</td><td style = \"text-align: right;\">5.04194</td></tr><tr><td class = \"rowNumber\" style = \"font-weight: bold; text-align: right;\">118</td><td style = \"text-align: right;\">20.0</td><td style = \"text-align: right;\">4.0</td><td style = \"text-align: right;\">1.0</td><td style = \"text-align: right;\">0.0103031</td><td style = \"text-align: right;\">0.0295436</td><td style = \"text-align: right;\">2.61531</td><td style = \"text-align: right;\">4.98277</td></tr><tr><td class = \"rowNumber\" style = \"font-weight: bold; text-align: right;\">119</td><td style = \"text-align: right;\">20.0</td><td style = \"text-align: right;\">5.0</td><td style = \"text-align: right;\">1.0</td><td style = \"text-align: right;\">0.0102998</td><td style = \"text-align: right;\">0.026257</td><td style = \"text-align: right;\">2.49239</td><td style = \"text-align: right;\">4.82396</td></tr><tr><td class = \"rowNumber\" style = \"font-weight: bold; text-align: right;\">120</td><td style = \"text-align: right;\">20.0</td><td style = \"text-align: right;\">6.0</td><td style = \"text-align: right;\">1.0</td><td style = \"text-align: right;\">0.0102166</td><td style = \"text-align: right;\">0.0243359</td><td style = \"text-align: right;\">2.31684</td><td style = \"text-align: right;\">4.41793</td></tr></tbody></table></div>"
      ],
      "text/latex": [
       "\\begin{tabular}{r|ccccccc}\n",
       "\t& ID & Meal Test & Health status & k1 & k5 & k6 & k8\\\\\n",
       "\t\\hline\n",
       "\t& Float64 & Float64 & Float64 & Float64 & Float64 & Float64 & Float64\\\\\n",
       "\t\\hline\n",
       "\t1 & 1.0 & 1.0 & 0.0 & 0.0102168 & 0.0459655 & 2.36046 & 4.64885 \\\\\n",
       "\t2 & 1.0 & 2.0 & 0.0 & 0.010703 & 0.039215 & 2.62905 & 4.89013 \\\\\n",
       "\t3 & 1.0 & 3.0 & 0.0 & 0.0114941 & 0.0361941 & 2.43105 & 4.68702 \\\\\n",
       "\t4 & 1.0 & 4.0 & 0.0 & 0.0120577 & 0.0408216 & 2.21771 & 3.82294 \\\\\n",
       "\t5 & 1.0 & 5.0 & 0.0 & 0.0128715 & 0.0362616 & 2.31327 & 3.81754 \\\\\n",
       "\t6 & 1.0 & 6.0 & 0.0 & 0.0140081 & 0.0300844 & 2.41778 & 4.03432 \\\\\n",
       "\t7 & 2.0 & 1.0 & 0.0 & 0.0102496 & 0.0467434 & 2.24555 & 4.55563 \\\\\n",
       "\t8 & 2.0 & 2.0 & 0.0 & 0.0106976 & 0.0462139 & 2.25448 & 4.24349 \\\\\n",
       "\t9 & 2.0 & 3.0 & 0.0 & 0.0113883 & 0.0405245 & 2.28657 & 4.2954 \\\\\n",
       "\t10 & 2.0 & 4.0 & 0.0 & 0.0119001 & 0.0433677 & 2.21332 & 3.70667 \\\\\n",
       "\t11 & 2.0 & 5.0 & 0.0 & 0.0127142 & 0.039061 & 2.25757 & 3.65494 \\\\\n",
       "\t12 & 2.0 & 6.0 & 0.0 & 0.0136114 & 0.0313863 & 2.5899 & 3.93985 \\\\\n",
       "\t13 & 3.0 & 1.0 & 0.0 & 0.0103853 & 0.0411755 & 2.35571 & 4.98632 \\\\\n",
       "\t14 & 3.0 & 2.0 & 0.0 & 0.0107298 & 0.039158 & 2.60426 & 4.88837 \\\\\n",
       "\t15 & 3.0 & 3.0 & 0.0 & 0.0112637 & 0.0425285 & 2.34459 & 4.15103 \\\\\n",
       "\t16 & 3.0 & 4.0 & 0.0 & 0.0120689 & 0.0338054 & 2.54867 & 4.57585 \\\\\n",
       "\t17 & 3.0 & 5.0 & 0.0 & 0.0129299 & 0.0335965 & 2.34 & 4.18881 \\\\\n",
       "\t18 & 3.0 & 6.0 & 0.0 & 0.0136002 & 0.035865 & 2.2764 & 3.5655 \\\\\n",
       "\t19 & 4.0 & 1.0 & 0.0 & 0.0103701 & 0.0425064 & 2.33263 & 4.8463 \\\\\n",
       "\t20 & 4.0 & 2.0 & 0.0 & 0.0107993 & 0.0373635 & 2.59937 & 5.03988 \\\\\n",
       "\t21 & 4.0 & 3.0 & 0.0 & 0.0114159 & 0.0403176 & 2.25648 & 4.28528 \\\\\n",
       "\t22 & 4.0 & 4.0 & 0.0 & 0.0120762 & 0.0413784 & 2.09376 & 3.82539 \\\\\n",
       "\t23 & 4.0 & 5.0 & 0.0 & 0.0128255 & 0.0333052 & 2.39064 & 4.20968 \\\\\n",
       "\t24 & 4.0 & 6.0 & 0.0 & 0.0135943 & 0.0349659 & 2.25889 & 3.64073 \\\\\n",
       "\t$\\dots$ & $\\dots$ & $\\dots$ & $\\dots$ & $\\dots$ & $\\dots$ & $\\dots$ & $\\dots$ \\\\\n",
       "\\end{tabular}\n"
      ],
      "text/plain": [
       "\u001b[1m120×7 DataFrame\u001b[0m\n",
       "\u001b[1m Row \u001b[0m│\u001b[1m ID      \u001b[0m\u001b[1m Meal Test \u001b[0m\u001b[1m Health status \u001b[0m\u001b[1m k1        \u001b[0m\u001b[1m k5        \u001b[0m\u001b[1m k6      \u001b[0m\u001b[1m k8   \u001b[0m ⋯\n",
       "     │\u001b[90m Float64 \u001b[0m\u001b[90m Float64   \u001b[0m\u001b[90m Float64       \u001b[0m\u001b[90m Float64   \u001b[0m\u001b[90m Float64   \u001b[0m\u001b[90m Float64 \u001b[0m\u001b[90m Float\u001b[0m ⋯\n",
       "─────┼──────────────────────────────────────────────────────────────────────────\n",
       "   1 │     1.0        1.0            0.0  0.0102168  0.0459655  2.36046  4.648 ⋯\n",
       "   2 │     1.0        2.0            0.0  0.010703   0.039215   2.62905  4.890\n",
       "   3 │     1.0        3.0            0.0  0.0114941  0.0361941  2.43105  4.687\n",
       "   4 │     1.0        4.0            0.0  0.0120577  0.0408216  2.21771  3.822\n",
       "   5 │     1.0        5.0            0.0  0.0128715  0.0362616  2.31327  3.817 ⋯\n",
       "   6 │     1.0        6.0            0.0  0.0140081  0.0300844  2.41778  4.034\n",
       "   7 │     2.0        1.0            0.0  0.0102496  0.0467434  2.24555  4.555\n",
       "   8 │     2.0        2.0            0.0  0.0106976  0.0462139  2.25448  4.243\n",
       "  ⋮  │    ⋮         ⋮            ⋮            ⋮          ⋮         ⋮        ⋮  ⋱\n",
       " 114 │    19.0        6.0            1.0  0.0102547  0.0196821  2.4415   4.788 ⋯\n",
       " 115 │    20.0        1.0            1.0  0.0104191  0.0448226  2.38494  4.768\n",
       " 116 │    20.0        2.0            1.0  0.010396   0.0434554  2.24421  4.424\n",
       " 117 │    20.0        3.0            1.0  0.0104171  0.0332118  2.51265  5.041\n",
       " 118 │    20.0        4.0            1.0  0.0103031  0.0295436  2.61531  4.982 ⋯\n",
       " 119 │    20.0        5.0            1.0  0.0102998  0.026257   2.49239  4.823\n",
       " 120 │    20.0        6.0            1.0  0.0102166  0.0243359  2.31684  4.417\n",
       "\u001b[36m                                                   1 column and 105 rows omitted\u001b[0m"
      ]
     },
     "metadata": {},
     "output_type": "display_data"
    }
   ],
   "source": [
    "df_MIRLIR = CSV.read(\"../Results/MIR_LIR_fits2024-09-20-11_43.csv\", DataFrame)"
   ]
  },
  {
   "cell_type": "code",
   "execution_count": 50,
   "metadata": {},
   "outputs": [
    {
     "data": {
      "text/html": [
       "<div><div style = \"float: left;\"><span>20×6 DataFrame</span></div><div style = \"clear: both;\"></div></div><div class = \"data-frame\" style = \"overflow-x: scroll;\"><table class = \"data-frame\" style = \"margin-bottom: 6px;\"><thead><tr class = \"header\"><th class = \"rowNumber\" style = \"font-weight: bold; text-align: right;\">Row</th><th style = \"text-align: left;\">1.0</th><th style = \"text-align: left;\">2.0</th><th style = \"text-align: left;\">3.0</th><th style = \"text-align: left;\">4.0</th><th style = \"text-align: left;\">5.0</th><th style = \"text-align: left;\">6.0</th></tr><tr class = \"subheader headerLastRow\"><th class = \"rowNumber\" style = \"font-weight: bold; text-align: right;\"></th><th title = \"Union{Missing, Float64}\" style = \"text-align: left;\">Float64?</th><th title = \"Union{Missing, Float64}\" style = \"text-align: left;\">Float64?</th><th title = \"Union{Missing, Float64}\" style = \"text-align: left;\">Float64?</th><th title = \"Union{Missing, Float64}\" style = \"text-align: left;\">Float64?</th><th title = \"Union{Missing, Float64}\" style = \"text-align: left;\">Float64?</th><th title = \"Union{Missing, Float64}\" style = \"text-align: left;\">Float64?</th></tr></thead><tbody><tr><td class = \"rowNumber\" style = \"font-weight: bold; text-align: right;\">1</td><td style = \"text-align: right;\">0.0459655</td><td style = \"text-align: right;\">0.039215</td><td style = \"text-align: right;\">0.0361941</td><td style = \"text-align: right;\">0.0408216</td><td style = \"text-align: right;\">0.0362616</td><td style = \"text-align: right;\">0.0300844</td></tr><tr><td class = \"rowNumber\" style = \"font-weight: bold; text-align: right;\">2</td><td style = \"text-align: right;\">0.0467434</td><td style = \"text-align: right;\">0.0462139</td><td style = \"text-align: right;\">0.0405245</td><td style = \"text-align: right;\">0.0433677</td><td style = \"text-align: right;\">0.039061</td><td style = \"text-align: right;\">0.0313863</td></tr><tr><td class = \"rowNumber\" style = \"font-weight: bold; text-align: right;\">3</td><td style = \"text-align: right;\">0.0411755</td><td style = \"text-align: right;\">0.039158</td><td style = \"text-align: right;\">0.0425285</td><td style = \"text-align: right;\">0.0338054</td><td style = \"text-align: right;\">0.0335965</td><td style = \"text-align: right;\">0.035865</td></tr><tr><td class = \"rowNumber\" style = \"font-weight: bold; text-align: right;\">4</td><td style = \"text-align: right;\">0.0425064</td><td style = \"text-align: right;\">0.0373635</td><td style = \"text-align: right;\">0.0403176</td><td style = \"text-align: right;\">0.0413784</td><td style = \"text-align: right;\">0.0333052</td><td style = \"text-align: right;\">0.0349659</td></tr><tr><td class = \"rowNumber\" style = \"font-weight: bold; text-align: right;\">5</td><td style = \"text-align: right;\">0.0410588</td><td style = \"text-align: right;\">0.0403084</td><td style = \"text-align: right;\">0.037278</td><td style = \"text-align: right;\">0.0407043</td><td style = \"text-align: right;\">0.0340521</td><td style = \"text-align: right;\">0.0355736</td></tr><tr><td class = \"rowNumber\" style = \"font-weight: bold; text-align: right;\">6</td><td style = \"text-align: right;\">0.0407765</td><td style = \"text-align: right;\">0.0389023</td><td style = \"text-align: right;\">0.0426168</td><td style = \"text-align: right;\">0.0404653</td><td style = \"text-align: right;\">0.0355977</td><td style = \"text-align: right;\">0.0339897</td></tr><tr><td class = \"rowNumber\" style = \"font-weight: bold; text-align: right;\">7</td><td style = \"text-align: right;\">0.0425179</td><td style = \"text-align: right;\">0.0431537</td><td style = \"text-align: right;\">0.0440908</td><td style = \"text-align: right;\">0.0414984</td><td style = \"text-align: right;\">0.0379777</td><td style = \"text-align: right;\">0.0343555</td></tr><tr><td class = \"rowNumber\" style = \"font-weight: bold; text-align: right;\">8</td><td style = \"text-align: right;\">0.0398374</td><td style = \"text-align: right;\">0.0402277</td><td style = \"text-align: right;\">0.0392854</td><td style = \"text-align: right;\">0.0344363</td><td style = \"text-align: right;\">0.036799</td><td style = \"text-align: right;\">0.0363503</td></tr><tr><td class = \"rowNumber\" style = \"font-weight: bold; text-align: right;\">9</td><td style = \"text-align: right;\">0.0459329</td><td style = \"text-align: right;\">0.046229</td><td style = \"text-align: right;\">0.0414131</td><td style = \"text-align: right;\">0.0385305</td><td style = \"text-align: right;\">0.0356896</td><td style = \"text-align: right;\">0.0356397</td></tr><tr><td class = \"rowNumber\" style = \"font-weight: bold; text-align: right;\">10</td><td style = \"text-align: right;\">0.0438312</td><td style = \"text-align: right;\">0.0394931</td><td style = \"text-align: right;\">0.0381077</td><td style = \"text-align: right;\">0.0370851</td><td style = \"text-align: right;\">0.035366</td><td style = \"text-align: right;\">0.0357225</td></tr><tr><td class = \"rowNumber\" style = \"font-weight: bold; text-align: right;\">11</td><td style = \"text-align: right;\">0.0426435</td><td style = \"text-align: right;\">0.04066</td><td style = \"text-align: right;\">0.0342834</td><td style = \"text-align: right;\">0.027205</td><td style = \"text-align: right;\">0.0244802</td><td style = \"text-align: right;\">0.0211579</td></tr><tr><td class = \"rowNumber\" style = \"font-weight: bold; text-align: right;\">12</td><td style = \"text-align: right;\">0.0501132</td><td style = \"text-align: right;\">0.0388015</td><td style = \"text-align: right;\">0.0328078</td><td style = \"text-align: right;\">0.0317443</td><td style = \"text-align: right;\">0.0262865</td><td style = \"text-align: right;\">0.0200563</td></tr><tr><td class = \"rowNumber\" style = \"font-weight: bold; text-align: right;\">13</td><td style = \"text-align: right;\">0.0385446</td><td style = \"text-align: right;\">0.0387055</td><td style = \"text-align: right;\">0.0363187</td><td style = \"text-align: right;\">0.0261628</td><td style = \"text-align: right;\">0.0225066</td><td style = \"text-align: right;\">0.0200526</td></tr><tr><td class = \"rowNumber\" style = \"font-weight: bold; text-align: right;\">14</td><td style = \"text-align: right;\">0.0436423</td><td style = \"text-align: right;\">0.0372215</td><td style = \"text-align: right;\">0.0382737</td><td style = \"text-align: right;\">0.0301755</td><td style = \"text-align: right;\">0.0290087</td><td style = \"text-align: right;\">0.0218848</td></tr><tr><td class = \"rowNumber\" style = \"font-weight: bold; text-align: right;\">15</td><td style = \"text-align: right;\">0.0373388</td><td style = \"text-align: right;\">0.0338501</td><td style = \"text-align: right;\">0.0343075</td><td style = \"text-align: right;\">0.0289686</td><td style = \"text-align: right;\">0.0220419</td><td style = \"text-align: right;\">0.0199599</td></tr><tr><td class = \"rowNumber\" style = \"font-weight: bold; text-align: right;\">16</td><td style = \"text-align: right;\">0.0418913</td><td style = \"text-align: right;\">0.038822</td><td style = \"text-align: right;\">0.0384004</td><td style = \"text-align: right;\">0.0304867</td><td style = \"text-align: right;\">0.025605</td><td style = \"text-align: right;\">0.0200331</td></tr><tr><td class = \"rowNumber\" style = \"font-weight: bold; text-align: right;\">17</td><td style = \"text-align: right;\">0.041144</td><td style = \"text-align: right;\">0.0415473</td><td style = \"text-align: right;\">0.0355673</td><td style = \"text-align: right;\">0.0309444</td><td style = \"text-align: right;\">0.0287401</td><td style = \"text-align: right;\">0.0235541</td></tr><tr><td class = \"rowNumber\" style = \"font-weight: bold; text-align: right;\">18</td><td style = \"text-align: right;\">0.0435351</td><td style = \"text-align: right;\">0.0384464</td><td style = \"text-align: right;\">0.034478</td><td style = \"text-align: right;\">0.0351569</td><td style = \"text-align: right;\">0.0309027</td><td style = \"text-align: right;\">0.0221451</td></tr><tr><td class = \"rowNumber\" style = \"font-weight: bold; text-align: right;\">19</td><td style = \"text-align: right;\">0.0426356</td><td style = \"text-align: right;\">0.0396765</td><td style = \"text-align: right;\">0.0314295</td><td style = \"text-align: right;\">0.0266395</td><td style = \"text-align: right;\">0.0251391</td><td style = \"text-align: right;\">0.0196821</td></tr><tr><td class = \"rowNumber\" style = \"font-weight: bold; text-align: right;\">20</td><td style = \"text-align: right;\">0.0448226</td><td style = \"text-align: right;\">0.0434554</td><td style = \"text-align: right;\">0.0332118</td><td style = \"text-align: right;\">0.0295436</td><td style = \"text-align: right;\">0.026257</td><td style = \"text-align: right;\">0.0243359</td></tr></tbody></table></div>"
      ],
      "text/latex": [
       "\\begin{tabular}{r|cccccc}\n",
       "\t& 1.0 & 2.0 & 3.0 & 4.0 & 5.0 & 6.0\\\\\n",
       "\t\\hline\n",
       "\t& Float64? & Float64? & Float64? & Float64? & Float64? & Float64?\\\\\n",
       "\t\\hline\n",
       "\t1 & 0.0459655 & 0.039215 & 0.0361941 & 0.0408216 & 0.0362616 & 0.0300844 \\\\\n",
       "\t2 & 0.0467434 & 0.0462139 & 0.0405245 & 0.0433677 & 0.039061 & 0.0313863 \\\\\n",
       "\t3 & 0.0411755 & 0.039158 & 0.0425285 & 0.0338054 & 0.0335965 & 0.035865 \\\\\n",
       "\t4 & 0.0425064 & 0.0373635 & 0.0403176 & 0.0413784 & 0.0333052 & 0.0349659 \\\\\n",
       "\t5 & 0.0410588 & 0.0403084 & 0.037278 & 0.0407043 & 0.0340521 & 0.0355736 \\\\\n",
       "\t6 & 0.0407765 & 0.0389023 & 0.0426168 & 0.0404653 & 0.0355977 & 0.0339897 \\\\\n",
       "\t7 & 0.0425179 & 0.0431537 & 0.0440908 & 0.0414984 & 0.0379777 & 0.0343555 \\\\\n",
       "\t8 & 0.0398374 & 0.0402277 & 0.0392854 & 0.0344363 & 0.036799 & 0.0363503 \\\\\n",
       "\t9 & 0.0459329 & 0.046229 & 0.0414131 & 0.0385305 & 0.0356896 & 0.0356397 \\\\\n",
       "\t10 & 0.0438312 & 0.0394931 & 0.0381077 & 0.0370851 & 0.035366 & 0.0357225 \\\\\n",
       "\t11 & 0.0426435 & 0.04066 & 0.0342834 & 0.027205 & 0.0244802 & 0.0211579 \\\\\n",
       "\t12 & 0.0501132 & 0.0388015 & 0.0328078 & 0.0317443 & 0.0262865 & 0.0200563 \\\\\n",
       "\t13 & 0.0385446 & 0.0387055 & 0.0363187 & 0.0261628 & 0.0225066 & 0.0200526 \\\\\n",
       "\t14 & 0.0436423 & 0.0372215 & 0.0382737 & 0.0301755 & 0.0290087 & 0.0218848 \\\\\n",
       "\t15 & 0.0373388 & 0.0338501 & 0.0343075 & 0.0289686 & 0.0220419 & 0.0199599 \\\\\n",
       "\t16 & 0.0418913 & 0.038822 & 0.0384004 & 0.0304867 & 0.025605 & 0.0200331 \\\\\n",
       "\t17 & 0.041144 & 0.0415473 & 0.0355673 & 0.0309444 & 0.0287401 & 0.0235541 \\\\\n",
       "\t18 & 0.0435351 & 0.0384464 & 0.034478 & 0.0351569 & 0.0309027 & 0.0221451 \\\\\n",
       "\t19 & 0.0426356 & 0.0396765 & 0.0314295 & 0.0266395 & 0.0251391 & 0.0196821 \\\\\n",
       "\t20 & 0.0448226 & 0.0434554 & 0.0332118 & 0.0295436 & 0.026257 & 0.0243359 \\\\\n",
       "\\end{tabular}\n"
      ],
      "text/plain": [
       "\u001b[1m20×6 DataFrame\u001b[0m\n",
       "\u001b[1m Row \u001b[0m│\u001b[1m 1.0       \u001b[0m\u001b[1m 2.0       \u001b[0m\u001b[1m 3.0       \u001b[0m\u001b[1m 4.0       \u001b[0m\u001b[1m 5.0       \u001b[0m\u001b[1m 6.0       \u001b[0m\n",
       "     │\u001b[90m Float64?  \u001b[0m\u001b[90m Float64?  \u001b[0m\u001b[90m Float64?  \u001b[0m\u001b[90m Float64?  \u001b[0m\u001b[90m Float64?  \u001b[0m\u001b[90m Float64?  \u001b[0m\n",
       "─────┼──────────────────────────────────────────────────────────────────\n",
       "   1 │ 0.0459655  0.039215   0.0361941  0.0408216  0.0362616  0.0300844\n",
       "   2 │ 0.0467434  0.0462139  0.0405245  0.0433677  0.039061   0.0313863\n",
       "   3 │ 0.0411755  0.039158   0.0425285  0.0338054  0.0335965  0.035865\n",
       "   4 │ 0.0425064  0.0373635  0.0403176  0.0413784  0.0333052  0.0349659\n",
       "   5 │ 0.0410588  0.0403084  0.037278   0.0407043  0.0340521  0.0355736\n",
       "   6 │ 0.0407765  0.0389023  0.0426168  0.0404653  0.0355977  0.0339897\n",
       "   7 │ 0.0425179  0.0431537  0.0440908  0.0414984  0.0379777  0.0343555\n",
       "   8 │ 0.0398374  0.0402277  0.0392854  0.0344363  0.036799   0.0363503\n",
       "  ⋮  │     ⋮          ⋮          ⋮          ⋮          ⋮          ⋮\n",
       "  14 │ 0.0436423  0.0372215  0.0382737  0.0301755  0.0290087  0.0218848\n",
       "  15 │ 0.0373388  0.0338501  0.0343075  0.0289686  0.0220419  0.0199599\n",
       "  16 │ 0.0418913  0.038822   0.0384004  0.0304867  0.025605   0.0200331\n",
       "  17 │ 0.041144   0.0415473  0.0355673  0.0309444  0.0287401  0.0235541\n",
       "  18 │ 0.0435351  0.0384464  0.034478   0.0351569  0.0309027  0.0221451\n",
       "  19 │ 0.0426356  0.0396765  0.0314295  0.0266395  0.0251391  0.0196821\n",
       "  20 │ 0.0448226  0.0434554  0.0332118  0.0295436  0.026257   0.0243359\n",
       "\u001b[36m                                                          5 rows omitted\u001b[0m"
      ]
     },
     "metadata": {},
     "output_type": "display_data"
    }
   ],
   "source": [
    "df_combined = rightjoin(df_unstacked_k5, df_unstacked_k6, on = :ID, makeunique=true)\n",
    "\n",
    "combined_data\n",
    "\n",
    "k6_data"
   ]
  },
  {
   "cell_type": "code",
   "execution_count": 86,
   "metadata": {},
   "outputs": [],
   "source": [
    "# generate random data for four groups, each with 20 subjects and 6 timepoints and 2 parameters\n",
    "# there should be one parametr"
   ]
  },
  {
   "cell_type": "code",
   "execution_count": 85,
   "metadata": {},
   "outputs": [
    {
     "data": {
      "text/plain": [
       "2-element Vector{Int64}:\n",
       " 12\n",
       "  8"
      ]
     },
     "metadata": {},
     "output_type": "display_data"
    }
   ],
   "source": [
    "# Rename the columns to be used in unstack\n",
    "df_k5s = rename(df_MIRLIR,  Symbol(\"Meal Test\") => :parameter, :k5 => :value)\n",
    "df_k6s = rename(df_MIRLIR,  Symbol(\"Meal Test\") => :parameter, :k6 => :value)\n",
    "# Get the unique IDs and Health status\n",
    "df_health_status = unique(df_MIRLIR[:, [:ID, Symbol(\"Health status\")]])\n",
    "\n",
    "# Unstack the DataFrame\n",
    "df_unstacked_k5 = unstack(df_k5s, :ID,  :parameter, :value)\n",
    "df_unstacked_k6 = unstack(df_k6s, :ID,  :parameter, :value)\n",
    "df_combined = rightjoin(df_unstacked_k5, df_unstacked_k6, on = :ID, makeunique=true)\n",
    "# Join the \"Health status\" DataFrame with the unstacked DataFrame\n",
    "df_unstacked_k5 = rightjoin(df_unstacked_k5, df_health_status, on = :ID)\n",
    "df_unstacked_k6 = rightjoin(df_unstacked_k6, df_health_status, on = :ID)\n",
    "#R = kmeans(k5_data,2)\n",
    "\n",
    "\n",
    "# Get the data for the clustering\n",
    "k5_data = df_unstacked_k5[:, 2:end-1]\n",
    "k6_data = df_unstacked[:, 2:end-1]\n",
    "combined_data = df_combined[:, 2:end-1]\n",
    "k5_data = Matrix{Float64}(k5_data)\t\n",
    "combined_data = Matrix{Float64}(combined_data)\n",
    "# Perform the clustering\n",
    "R = kmeans(combined_data', 2)\n",
    "# Find the missing values\n",
    "\n",
    "a = assignments(R) # get the assignments of points to clusters\n",
    "c = counts(R) # get the cluster sizes\n",
    "\n"
   ]
  },
  {
   "cell_type": "code",
   "execution_count": 5,
   "metadata": {},
   "outputs": [
    {
     "data": {
      "text/plain": [
       "\"c:\\\\Users\\\\20192809\\\\Documents\\\\GitHub\\\\EDES\\\\Legacy projects\\\\k5_clusters.png\""
      ]
     },
     "metadata": {},
     "output_type": "display_data"
    }
   ],
   "source": [
    "using MultivariateStats, Plots\n",
    "\n",
    "# Perform PCA\n",
    "M = fit(PCA, k5_data'; maxoutdim=2)\n",
    "\n",
    "# Project the data onto the principal components\n",
    "Yte = MultivariateStats.transform(M, k5_data')\n",
    "\n",
    "# Get the variance explained by each component\n",
    "ve = round.(M.prinvars / sum(M.prinvars);digits=4)\n",
    "ve1 = ve[1]\n",
    "ve2 = ve[2]\n",
    "\n",
    "# Create a scatter plot of the projected data, colored by cluster assignment\n",
    "scatter(Yte[1, :], Yte[2, :], color=a, legend=false, xlabel=\"PC1 ($ve1%)\" , ylabel=\"PC2 ($ve2%)\", title=\"PCA parameter k5\")\n",
    "\n",
    "savefig(\"k5_clusters.png\")\n"
   ]
  },
  {
   "cell_type": "code",
   "execution_count": 6,
   "metadata": {},
   "outputs": [
    {
     "ename": "ErrorException",
     "evalue": "type KmeansResult has no field dists",
     "output_type": "error",
     "traceback": [
      "type KmeansResult has no field dists\n",
      "\n",
      "Stacktrace:\n",
      " [1] getproperty(clu::KmeansResult{Matrix{Float64}, Float64, Int64}, prop::Symbol)\n",
      "   @ Clustering C:\\Users\\20192809\\.julia\\packages\\Clustering\\JwhfU\\src\\deprecate.jl:54\n",
      " [2] top-level scope\n",
      "   @ c:\\Users\\20192809\\Documents\\GitHub\\EDES\\Legacy projects\\jl_notebook_cell_df34fa98e69747e1a8f8a730347b8e2f_W5sZmlsZQ==.jl:14"
     ]
    }
   ],
   "source": [
    "# implement a elbow plot\n",
    "using Clustering\n",
    "using Plots\n",
    "\n",
    "# Create a vector to store the sum of squared errors\n",
    "sse = Float64[]\n",
    "# Create a vector to store the number of clusters\n",
    "k = 1:10\n",
    "# Loop over the number of clusters\n",
    "for i in k\n",
    "    # Perform the clustering\n",
    "    R = kmeans(k5_data', i)\n",
    "    # Get the sum of squared errors\n",
    "    push!(sse, sum(R.dists))\n",
    "end\n",
    "\n",
    "# Create a plot of the sum of squared errors\n",
    "plot(k, sse, xlabel=\"Number of clusters\", ylabel=\"Sum of squared errors\", title=\"Elbow plot for k5\")\n"
   ]
  }
 ],
 "metadata": {
  "kernelspec": {
   "display_name": "Julia 1.10.1",
   "language": "julia",
   "name": "julia-1.10"
  },
  "language_info": {
   "file_extension": ".jl",
   "mimetype": "application/julia",
   "name": "julia",
   "version": "1.10.1"
  }
 },
 "nbformat": 4,
 "nbformat_minor": 2
}
