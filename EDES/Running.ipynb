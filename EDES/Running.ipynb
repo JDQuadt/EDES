{
 "cells": [
  {
   "cell_type": "markdown",
   "metadata": {},
   "source": [
    "# Simulating the Mixed meal Model\n"
   ]
  },
  {
   "cell_type": "code",
   "execution_count": 8,
   "metadata": {},
   "outputs": [
    {
     "data": {
      "text/plain": [
       "TaskLocalRNG()"
      ]
     },
     "metadata": {},
     "output_type": "display_data"
    }
   ],
   "source": [
    "using DifferentialEquations, SciMLBase, Plots, Random\n",
    "using QuasiMonteCarlo\n",
    "using Trapz\n",
    "using MAT\n",
    "\n",
    "# set random seed for reproducibility\n",
    "Random.seed!(1234)\n"
   ]
  },
  {
   "cell_type": "code",
   "execution_count": 9,
   "metadata": {},
   "outputs": [
    {
     "data": {
      "text/plain": [
       "PlotMealResponse (generic function with 7 methods)"
      ]
     },
     "metadata": {},
     "output_type": "display_data"
    }
   ],
   "source": [
    "include(\"Including.jl\")"
   ]
  },
  {
   "cell_type": "code",
   "execution_count": 10,
   "metadata": {},
   "outputs": [
    {
     "data": {
      "text/plain": [
       "75000.0"
      ]
     },
     "metadata": {},
     "output_type": "display_data"
    }
   ],
   "source": [
    "individual_1 = Individual(2)\n",
    "\n",
    "# extract relevant data\n",
    "BW_1 = individual_1.BW\n",
    "fasting_glucose = individual_1.glc[1]\n",
    "fasting_insulin = individual_1.ins[1]\n",
    "G_dose = individual_1.G_dose\n",
    "\n"
   ]
  },
  {
   "cell_type": "code",
   "execution_count": 11,
   "metadata": {},
   "outputs": [
    {
     "data": {
      "text/plain": [
       "(time = [0.0, 1.0, 2.0, 3.0, 4.0, 5.0, 6.0, 7.0, 8.0, 9.0  …  471.0, 472.0, 473.0, 474.0, 475.0, 476.0, 477.0, 478.0, 479.0, 480.0], glucose_gut_to_plasma_flux = [0.0, 0.009299984439842923, 0.021987169270773807, 0.03491735794946587, 0.04724346383356455, 0.05866328600617034, 0.069095357111148, 0.07855787033556277, 0.08711333028663183, 0.09484166610735914  …  5.748462904264092e-5, 5.597861848520299e-5, 5.450682483186506e-5, 5.3054079949794375e-5, 5.163139169304613e-5, 5.024712558185602e-5, 4.8902549730933714e-5, 4.759680277824316e-5, 4.632689388500258e-5, 4.508770273568437e-5], hepatic_glucose_flux = [0.043, 0.04297554311908006, 0.04288019238367664, 0.04270538896921446, 0.042453289031300974, 0.04213009062145919, 0.041743744706428575, 0.04130287604117559, 0.04081621348417242, 0.040292284847489784  …  0.04404596127289292, 0.04404057240764279, 0.044035208311045466, 0.044029868760030136, 0.044024553840928564, 0.04401926362500308, 0.04401399809692517, 0.044008757210435, 0.04400354088834145, 0.04399834902252211], glucose_tissue_uptake = [0.043, 0.04303988199657536, 0.04324464840882761, 0.043716384373854666, 0.04453306309227666, 0.04575183383424489, 0.04741219388694485, 0.04953886534857913, 0.05214415917349667, 0.055229520058756684  …  0.043177714134261615, 0.04317523251936759, 0.0431728013729495, 0.043170416122234274, 0.04316807883350713, 0.043165790548989516, 0.04316355054245505, 0.043161357646458384, 0.043159210251872276, 0.04315710630743219], plasma_glucose = [4.44438211792684, 4.448371359116429, 4.463741560068815, 4.491566238931461, 4.5312065888334, 4.581431208774114, 4.640790938637614, 4.707787540601759, 4.780956806960429, 4.858909607406558  …  4.266540563365279, 4.267464019675891, 4.26838306649985, 4.26929775954745, 4.270208076513481, 4.27111400158983, 4.272015540451722, 4.272912705711267, 4.273805516917458, 4.274694000556174], plasma_insulin = [12.5404266739517, 12.601835345687906, 12.84615401658227, 13.304579545205572, 13.981880577395682, 14.871919428493051, 15.962900632315794, 17.239874811827875, 18.686121731050143, 20.283944435405648  …  13.200486476190617, 13.196267555984223, 13.192087428052337, 13.187945888206176, 13.183842066248852, 13.179775151737068, 13.175744530077488, 13.171749657615353, 13.167790061634483, 13.163865340357276])"
      ]
     },
     "metadata": {},
     "output_type": "display_data"
    }
   ],
   "source": [
    "\n",
    "model = EDES(fasting_glucose, fasting_insulin, G_dose, BW_1, estimated_params = [\"k1\",\"k5\",\"k6\", \"k8\"], timespan = (0.0, 480))\n",
    "\n",
    "outputs = output(model)"
   ]
  },
  {
   "cell_type": "code",
   "execution_count": 12,
   "metadata": {},
   "outputs": [
    {
     "data": {
      "text/plain": [
       "17-element Vector{Float64}:\n",
       "     0.0105\n",
       "     0.28\n",
       "     0.00607\n",
       "     0.000235\n",
       "     0.0424\n",
       "     2.2975\n",
       "     0.4\n",
       "     5.0\n",
       "     0.06\n",
       "     0.284\n",
       "     1.4\n",
       "    13.2\n",
       "     4.44438211792684\n",
       "    12.5404266739517\n",
       "     0.043\n",
       " 75000.0\n",
       "    76.0"
      ]
     },
     "metadata": {},
     "output_type": "display_data"
    }
   ],
   "source": [
    "model.prob.p"
   ]
  },
  {
   "cell_type": "code",
   "execution_count": 13,
   "metadata": {},
   "outputs": [
    {
     "data": {
      "text/plain": [
       "74.99326242070131"
      ]
     },
     "metadata": {},
     "output_type": "display_data"
    }
   ],
   "source": [
    "outputs.glucose_gut_to_plasma_flux\n",
    "trapz(outputs.glucose_gut_to_plasma_flux, outputs.time)\n",
    "\n",
    "f_G = 0.005551 # conversion factor for glucose, from mg/l to mmol/l\n",
    "V_G = (260/sqrt(BW_1/70))/1000 # volume of distribution of glucose\n",
    "answer = ((V_G*BW_1)/f_G)*trapz(outputs.time, outputs.glucose_gut_to_plasma_flux)*0.001\n",
    "\n",
    "#plot(outputs.time, outputs.glucose_gut_to_plasma_flux, label = \"glucose_gut_to_plasma_flux\")"
   ]
  },
  {
   "cell_type": "code",
   "execution_count": 14,
   "metadata": {},
   "outputs": [
    {
     "data": {
      "text/plain": [
       "\"c:\\\\Users\\\\20192809\\\\Documents\\\\GitHub\\\\EDES\\\\EDES\\\\glucose_insulin.png\""
      ]
     },
     "metadata": {},
     "output_type": "display_data"
    }
   ],
   "source": [
    "# four plots in a 2x2 grid showing plasma glucose, plasma insulin, plasma TG, and plasma NEFA\n",
    "plot(outputs.time, [outputs.plasma_glucose, outputs.plasma_insulin], layout = (1, 2), label = [\"glucose\" \"insulin\"], xlabel = \"time (min)\", ylabel = [\"glucose (mmol/L)\" \"insulin (uIU/ml)\"])\n",
    "savefig(\"glucose_insulin.png\")"
   ]
  },
  {
   "cell_type": "markdown",
   "metadata": {},
   "source": [
    "# Parameter estimation with the mixed meal model"
   ]
  },
  {
   "cell_type": "code",
   "execution_count": 15,
   "metadata": {},
   "outputs": [],
   "source": [
    "using Optimization, OptimizationOptimJL, LineSearches"
   ]
  },
  {
   "cell_type": "code",
   "execution_count": 16,
   "metadata": {},
   "outputs": [
    {
     "name": "stdout",
     "output_type": "stream",
     "text": [
      "12.5404266739517\n"
     ]
    },
    {
     "data": {
      "text/plain": [
       "EDES(ODEProblem{Vector{Float64}, Tuple{Float64, Float64}, true, Vector{Float64}, ODEFunction{true, SciMLBase.AutoSpecialize, var\"#29#30\"{Float64, Float64, Float64, Float64, Float64, Float64}, LinearAlgebra.UniformScaling{Bool}, Nothing, Nothing, Nothing, Nothing, Nothing, Nothing, Nothing, Nothing, Nothing, Nothing, Nothing, typeof(SciMLBase.DEFAULT_OBSERVED), Nothing, SymbolicIndexingInterface.SymbolCache{Nothing, Nothing, Nothing}, Nothing, Nothing}, Base.Pairs{Symbol, Union{}, Tuple{}, @NamedTuple{}}, SciMLBase.StandardODEProblem}(ODEFunction{true, SciMLBase.AutoSpecialize, var\"#29#30\"{Float64, Float64, Float64, Float64, Float64, Float64}, LinearAlgebra.UniformScaling{Bool}, Nothing, Nothing, Nothing, Nothing, Nothing, Nothing, Nothing, Nothing, Nothing, Nothing, Nothing, typeof(SciMLBase.DEFAULT_OBSERVED), Nothing, SymbolicIndexingInterface.SymbolCache{Nothing, Nothing, Nothing}, Nothing, Nothing}(var\"#29#30\"{Float64, Float64, Float64, Float64, Float64, Float64}(0.1, 9.0, 3.0, 31.0, 1.0, 0.005551), LinearAlgebra.UniformScaling{Bool}(true), nothing, nothing, nothing, nothing, nothing, nothing, nothing, nothing, nothing, nothing, nothing, SciMLBase.DEFAULT_OBSERVED, nothing, SymbolicIndexingInterface.SymbolCache{Nothing, Nothing, Nothing}(nothing, nothing, nothing), nothing, nothing), [0.0, 4.44438211792684, 0.0, 12.5404266739517, 0.0], (0.0, 480.0), [0.0105, 0.28, 0.00607, 0.000235, 0.0424, 2.2975, 0.4, 5.0, 0.06, 0.284, 1.4, 13.2, 4.44438211792684, 12.5404266739517, 0.043, 75000.0, 70.0], Base.Pairs{Symbol, Union{}, Tuple{}, @NamedTuple{}}(), SciMLBase.StandardODEProblem()), [\"k1\", \"k5\", \"k6\", \"k8\"])"
      ]
     },
     "metadata": {},
     "output_type": "display_data"
    }
   ],
   "source": [
    "# get data\n",
    "data = Individual(1);\n",
    "# extract relevant data\n",
    "BW_1 = individual_1.BW\n",
    "fasting_glucose = individual_1.glc[1]\n",
    "fasting_insulin = individual_1.ins[1]\n",
    "G_dose = individual_1.G_dose\n",
    "println(fasting_insulin)\n",
    "\n",
    "model = EDES(fasting_glucose, fasting_insulin, estimated_params = [\"k1\",\"k5\",\"k6\",\"k8\"], timespan = (0.0, 480))"
   ]
  },
  {
   "cell_type": "code",
   "execution_count": 17,
   "metadata": {},
   "outputs": [
    {
     "data": {
      "text/plain": [
       "4×10 Matrix{Float64}:\n",
       " 0.0229775  0.0329675  0.257742  0.392607  …  0.0079925   0.362638   0.242757\n",
       " 0.0825     0.0675     0.0225    0.7125       0.1425      0.1725     0.2475\n",
       " 1.45       9.35       2.85      2.35         7.15        5.85       7.25\n",
       " 2.1        4.5        9.5       1.9          5.3        10.9       11.7"
      ]
     },
     "metadata": {},
     "output_type": "display_data"
    }
   ],
   "source": [
    "loss = make_LossFunction(model, data.glc, data.time, data.ins, data.time)\n",
    "\n",
    "#select bounds for the latin hypercube sampler\n",
    "lhc_ub = [0.5, 1.5, 10., 20.]\n",
    "lhc_lb = [0.0005, 0, 0, 0.] \n",
    "\n",
    "\n",
    "# create preselected samples\n",
    "initial_parameter_sets = Preselection_LHS(loss, model, 100, lhc_lb, lhc_ub)\n",
    "initial_parameter_sets"
   ]
  },
  {
   "cell_type": "markdown",
   "metadata": {},
   "source": [
    "First we need to make a loss function and get the best initial parameter sets using LHCS"
   ]
  },
  {
   "cell_type": "markdown",
   "metadata": {},
   "source": [
    "Then we run the optimization for every parameter set:"
   ]
  },
  {
   "cell_type": "code",
   "execution_count": 18,
   "metadata": {},
   "outputs": [],
   "source": [
    "optimizer = LBFGS(linesearch = BackTracking(order=3)) # cubic interpolation\n",
    "\n",
    "objectives = []\n",
    "parameters = []\n",
    "\n",
    "opt_lb = lhc_lb\n",
    "opt_ub = lhc_ub\n",
    "\n",
    "for it in axes(initial_parameter_sets,2)\n",
    "    try \n",
    "        optf = OptimizationFunction((x,p)-> loss(x), Optimization.AutoForwardDiff())\n",
    "        starting_parameters = initial_parameter_sets[:,it]\n",
    "        optprob = OptimizationProblem(optf, starting_parameters, lb = opt_lb, ub = opt_ub)\n",
    "        sol = Optimization.solve(optprob, optimizer)\n",
    "\n",
    "        push!(parameters, sol.u)\n",
    "        push!(objectives, sol.objective)\n",
    "\n",
    "    catch e\n",
    "        throw(e)\n",
    "        println(\"Optimization FAILED for this initial set, continuing...\")\n",
    "    end\n",
    "end\n"
   ]
  },
  {
   "cell_type": "code",
   "execution_count": 19,
   "metadata": {},
   "outputs": [
    {
     "data": {
      "text/plain": [
       "10-element Vector{Any}:\n",
       "  4.931815610404136\n",
       "  4.931820344701956\n",
       " 40.59334706442252\n",
       " 95.25752448388533\n",
       "  4.9318197206868994\n",
       " 95.25757014696404\n",
       " 95.28256963243346\n",
       "  4.931814493495902\n",
       " 40.59335488349495\n",
       " 95.29230687755734"
      ]
     },
     "metadata": {},
     "output_type": "display_data"
    }
   ],
   "source": [
    "objectives"
   ]
  },
  {
   "cell_type": "markdown",
   "metadata": {},
   "source": [
    "Get a full parameter vector:"
   ]
  },
  {
   "cell_type": "code",
   "execution_count": 20,
   "metadata": {},
   "outputs": [
    {
     "name": "stdout",
     "output_type": "stream",
     "text": [
      "[0.021465830328348007, 0.28, 0.00607, 0.000235, 0.011808622099587884, 5.2414352240007185, 0.4, 5.318545987521016, 0.06, 0.284, 1.4, 13.2, 4.44438211792684, 12.5404266739517, 0.043, 75000.0, 70.0]\n"
     ]
    }
   ],
   "source": [
    "full_parameter_vector = make_full_parameter_vector(model, parameters[2])\n",
    "\n",
    "outputs = output(model, full_parameter_vector);\n",
    "println(full_parameter_vector)\n"
   ]
  },
  {
   "cell_type": "markdown",
   "metadata": {},
   "source": [
    "Finally let's plot the fitting"
   ]
  },
  {
   "cell_type": "code",
   "execution_count": 25,
   "metadata": {},
   "outputs": [
    {
     "data": {
      "text/plain": [
       "\"c:\\\\Users\\\\20192809\\\\Documents\\\\GitHub\\\\EDES\\\\EDES\\\\glucose_insulin.png\""
      ]
     },
     "metadata": {},
     "output_type": "display_data"
    }
   ],
   "source": [
    "glucose_plot = plot(outputs.time, outputs.plasma_glucose, label = \"glucose\", xlabel = \"time (min)\", ylabel = \"glucose (mmol/L)\")\n",
    "scatter!(data.time, data.glc, label = \"glucose_data\")\n",
    "\n",
    "insulin_plot = plot(outputs.time, outputs.plasma_insulin, label = \"insulin\", xlabel = \"time (min)\", ylabel = \"insulin (uIU/mL)\")\n",
    "scatter!(data.time, data.ins, label = \"insulin_data\")\n",
    "\n",
    "\n",
    "plot(glucose_plot, insulin_plot, layout = (1, 2),legend=false)\n",
    "savefig(\"glucose_insulin.png\")"
   ]
  }
 ],
 "metadata": {
  "kernelspec": {
   "display_name": "Julia 1.10.1",
   "language": "julia",
   "name": "julia-1.10"
  },
  "language_info": {
   "file_extension": ".jl",
   "mimetype": "application/julia",
   "name": "julia",
   "version": "1.10.1"
  }
 },
 "nbformat": 4,
 "nbformat_minor": 2
}
