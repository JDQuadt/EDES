{
 "cells": [
  {
   "cell_type": "markdown",
   "metadata": {},
   "source": [
    "# Notebook for generating the Makie plot analysis tool"
   ]
  },
  {
   "cell_type": "code",
   "execution_count": 8,
   "metadata": {},
   "outputs": [
    {
     "data": {
      "text/plain": [
       "Interactive_plots_PREDICT (generic function with 1 method)"
      ]
     },
     "metadata": {},
     "output_type": "display_data"
    }
   ],
   "source": [
    "using DifferentialEquations, SciMLBase# for solving ODEs\n",
    "using Trapz, CSV, DataFrames, Tables, MAT # for post-processing\n",
    "using GLMakie\n",
    "\n",
    "include(\"C:/Users/20192809/Documents/GitHub/Master-thesis/MMmodel/Including.jl\")\n",
    "include(\"./Data/NutriTech.jl\")\n",
    "include(\"./Plotting/PlotAnalysis.jl\")"
   ]
  },
  {
   "cell_type": "code",
   "execution_count": 2,
   "metadata": {},
   "outputs": [
    {
     "ename": "UndefVarError",
     "evalue": "UndefVarError: `NutriTech_data` not defined",
     "output_type": "error",
     "traceback": [
      "UndefVarError: `NutriTech_data` not defined\n",
      "\n",
      "Stacktrace:\n",
      " [1] top-level scope\n",
      "   @ c:\\Users\\20192809\\Documents\\GitHub\\Master-thesis\\DataGeneration\\ProcessingData\\AnalysePlots_Nutritech.ipynb:1"
     ]
    }
   ],
   "source": [
    "parameter_data = CSV.read(\"./Data/NutriTech_fits.csv\", DataFrame);\n",
    "data = NutriTech_data();\n"
   ]
  },
  {
   "cell_type": "code",
   "execution_count": 3,
   "metadata": {},
   "outputs": [
    {
     "ename": "UndefVarError",
     "evalue": "UndefVarError: `Interactive_plots_NutriTech` not defined",
     "output_type": "error",
     "traceback": [
      "UndefVarError: `Interactive_plots_NutriTech` not defined\n",
      "\n",
      "Stacktrace:\n",
      " [1] top-level scope\n",
      "   @ c:\\Users\\20192809\\Documents\\GitHub\\Master-thesis\\DataGeneration\\ProcessingData\\AnalysePlots_Nutritech.ipynb:1"
     ]
    }
   ],
   "source": [
    "accepted_plots = Interactive_plots_NutriTech(parameter_data, data);"
   ]
  }
 ],
 "metadata": {
  "kernelspec": {
   "display_name": "Julia 1.10.1",
   "language": "julia",
   "name": "julia-1.10"
  },
  "language_info": {
   "file_extension": ".jl",
   "mimetype": "application/julia",
   "name": "julia",
   "version": "1.10.1"
  }
 },
 "nbformat": 4,
 "nbformat_minor": 2
}
