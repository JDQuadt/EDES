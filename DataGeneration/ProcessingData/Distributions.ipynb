{
 "cells": [
  {
   "cell_type": "markdown",
   "metadata": {},
   "source": [
    "# Nutritech"
   ]
  },
  {
   "cell_type": "code",
   "execution_count": 4,
   "metadata": {},
   "outputs": [
    {
     "data": {
      "text/plain": [
       "plot_parameter_distributions (generic function with 1 method)"
      ]
     },
     "metadata": {},
     "output_type": "display_data"
    }
   ],
   "source": [
    "using DelimitedFiles, CSV, Statistics, Plots\n",
    "using MAT, DataFrames\n",
    "\n",
    "include(\"./Data/NutriTech.jl\")\n",
    "include(\"./Plotting/ParameterDistributions.jl\")"
   ]
  },
  {
   "cell_type": "code",
   "execution_count": 5,
   "metadata": {},
   "outputs": [
    {
     "data": {
      "text/html": [
       "<div><div style = \"float: left;\"><span>44×8 DataFrame</span></div><div style = \"float: right;\"><span style = \"font-style: italic;\">19 rows omitted</span></div><div style = \"clear: both;\"></div></div><div class = \"data-frame\" style = \"overflow-x: scroll;\"><table class = \"data-frame\" style = \"margin-bottom: 6px;\"><thead><tr class = \"header\"><th class = \"rowNumber\" style = \"font-weight: bold; text-align: right;\">Row</th><th style = \"text-align: left;\">k1</th><th style = \"text-align: left;\">k5</th><th style = \"text-align: left;\">k6</th><th style = \"text-align: left;\">k11</th><th style = \"text-align: left;\">k12</th><th style = \"text-align: left;\">tau_LPL</th><th style = \"text-align: left;\">k14</th><th style = \"text-align: left;\">k16</th></tr><tr class = \"subheader headerLastRow\"><th class = \"rowNumber\" style = \"font-weight: bold; text-align: right;\"></th><th title = \"Float64\" style = \"text-align: left;\">Float64</th><th title = \"Float64\" style = \"text-align: left;\">Float64</th><th title = \"Float64\" style = \"text-align: left;\">Float64</th><th title = \"Float64\" style = \"text-align: left;\">Float64</th><th title = \"Float64\" style = \"text-align: left;\">Float64</th><th title = \"Float64\" style = \"text-align: left;\">Float64</th><th title = \"Float64\" style = \"text-align: left;\">Float64</th><th title = \"Float64\" style = \"text-align: left;\">Float64</th></tr></thead><tbody><tr><td class = \"rowNumber\" style = \"font-weight: bold; text-align: right;\">1</td><td style = \"text-align: right;\">0.0243002</td><td style = \"text-align: right;\">0.0199537</td><td style = \"text-align: right;\">3.1482</td><td style = \"text-align: right;\">0.000670421</td><td style = \"text-align: right;\">0.0595948</td><td style = \"text-align: right;\">603.005</td><td style = \"text-align: right;\">0.0127291</td><td style = \"text-align: right;\">0.0322509</td></tr><tr><td class = \"rowNumber\" style = \"font-weight: bold; text-align: right;\">2</td><td style = \"text-align: right;\">0.0225886</td><td style = \"text-align: right;\">0.0676598</td><td style = \"text-align: right;\">1.47315</td><td style = \"text-align: right;\">0.000757958</td><td style = \"text-align: right;\">0.0597648</td><td style = \"text-align: right;\">243.174</td><td style = \"text-align: right;\">0.0154691</td><td style = \"text-align: right;\">0.0122589</td></tr><tr><td class = \"rowNumber\" style = \"font-weight: bold; text-align: right;\">3</td><td style = \"text-align: right;\">0.0213794</td><td style = \"text-align: right;\">0.0419103</td><td style = \"text-align: right;\">3.2694</td><td style = \"text-align: right;\">0.00122833</td><td style = \"text-align: right;\">0.113702</td><td style = \"text-align: right;\">186.18</td><td style = \"text-align: right;\">0.0257478</td><td style = \"text-align: right;\">0.0150153</td></tr><tr><td class = \"rowNumber\" style = \"font-weight: bold; text-align: right;\">4</td><td style = \"text-align: right;\">0.014522</td><td style = \"text-align: right;\">0.0237051</td><td style = \"text-align: right;\">4.72834</td><td style = \"text-align: right;\">0.000741046</td><td style = \"text-align: right;\">0.0531117</td><td style = \"text-align: right;\">477.52</td><td style = \"text-align: right;\">0.0120446</td><td style = \"text-align: right;\">0.0141066</td></tr><tr><td class = \"rowNumber\" style = \"font-weight: bold; text-align: right;\">5</td><td style = \"text-align: right;\">0.0141303</td><td style = \"text-align: right;\">0.0456035</td><td style = \"text-align: right;\">2.15519</td><td style = \"text-align: right;\">0.00124456</td><td style = \"text-align: right;\">0.0539265</td><td style = \"text-align: right;\">231.467</td><td style = \"text-align: right;\">0.0146156</td><td style = \"text-align: right;\">0.0144462</td></tr><tr><td class = \"rowNumber\" style = \"font-weight: bold; text-align: right;\">6</td><td style = \"text-align: right;\">0.00979907</td><td style = \"text-align: right;\">0.0610804</td><td style = \"text-align: right;\">2.49211</td><td style = \"text-align: right;\">0.0011191</td><td style = \"text-align: right;\">0.131876</td><td style = \"text-align: right;\">389.111</td><td style = \"text-align: right;\">0.0117116</td><td style = \"text-align: right;\">0.0299909</td></tr><tr><td class = \"rowNumber\" style = \"font-weight: bold; text-align: right;\">7</td><td style = \"text-align: right;\">0.00850088</td><td style = \"text-align: right;\">0.0332315</td><td style = \"text-align: right;\">0.905599</td><td style = \"text-align: right;\">0.000332685</td><td style = \"text-align: right;\">0.0414718</td><td style = \"text-align: right;\">151.699</td><td style = \"text-align: right;\">0.0163061</td><td style = \"text-align: right;\">0.00413533</td></tr><tr><td class = \"rowNumber\" style = \"font-weight: bold; text-align: right;\">8</td><td style = \"text-align: right;\">0.0152373</td><td style = \"text-align: right;\">0.0116514</td><td style = \"text-align: right;\">3.4485</td><td style = \"text-align: right;\">0.000129044</td><td style = \"text-align: right;\">0.0185704</td><td style = \"text-align: right;\">245.536</td><td style = \"text-align: right;\">0.015708</td><td style = \"text-align: right;\">0.00402559</td></tr><tr><td class = \"rowNumber\" style = \"font-weight: bold; text-align: right;\">9</td><td style = \"text-align: right;\">0.0116215</td><td style = \"text-align: right;\">0.0385778</td><td style = \"text-align: right;\">2.10624</td><td style = \"text-align: right;\">0.00111003</td><td style = \"text-align: right;\">0.0672845</td><td style = \"text-align: right;\">273.301</td><td style = \"text-align: right;\">0.0172952</td><td style = \"text-align: right;\">0.0351775</td></tr><tr><td class = \"rowNumber\" style = \"font-weight: bold; text-align: right;\">10</td><td style = \"text-align: right;\">0.0192581</td><td style = \"text-align: right;\">0.076759</td><td style = \"text-align: right;\">3.60706</td><td style = \"text-align: right;\">0.00086579</td><td style = \"text-align: right;\">0.067376</td><td style = \"text-align: right;\">382.914</td><td style = \"text-align: right;\">0.014842</td><td style = \"text-align: right;\">0.0130626</td></tr><tr><td class = \"rowNumber\" style = \"font-weight: bold; text-align: right;\">11</td><td style = \"text-align: right;\">0.00997206</td><td style = \"text-align: right;\">0.0562534</td><td style = \"text-align: right;\">3.84561</td><td style = \"text-align: right;\">0.0015351</td><td style = \"text-align: right;\">0.0453859</td><td style = \"text-align: right;\">101.228</td><td style = \"text-align: right;\">0.0269339</td><td style = \"text-align: right;\">0.0190046</td></tr><tr><td class = \"rowNumber\" style = \"font-weight: bold; text-align: right;\">12</td><td style = \"text-align: right;\">0.0115965</td><td style = \"text-align: right;\">0.0647032</td><td style = \"text-align: right;\">6.93924</td><td style = \"text-align: right;\">0.000715492</td><td style = \"text-align: right;\">0.0727426</td><td style = \"text-align: right;\">220.591</td><td style = \"text-align: right;\">0.0209315</td><td style = \"text-align: right;\">0.0121319</td></tr><tr><td class = \"rowNumber\" style = \"font-weight: bold; text-align: right;\">13</td><td style = \"text-align: right;\">0.0108395</td><td style = \"text-align: right;\">0.0129482</td><td style = \"text-align: right;\">5.37402</td><td style = \"text-align: right;\">0.00013257</td><td style = \"text-align: right;\">0.0237308</td><td style = \"text-align: right;\">252.308</td><td style = \"text-align: right;\">0.0116277</td><td style = \"text-align: right;\">0.00658981</td></tr><tr><td style = \"text-align: right;\">&vellip;</td><td style = \"text-align: right;\">&vellip;</td><td style = \"text-align: right;\">&vellip;</td><td style = \"text-align: right;\">&vellip;</td><td style = \"text-align: right;\">&vellip;</td><td style = \"text-align: right;\">&vellip;</td><td style = \"text-align: right;\">&vellip;</td><td style = \"text-align: right;\">&vellip;</td><td style = \"text-align: right;\">&vellip;</td></tr><tr><td class = \"rowNumber\" style = \"font-weight: bold; text-align: right;\">33</td><td style = \"text-align: right;\">0.0192206</td><td style = \"text-align: right;\">0.10642</td><td style = \"text-align: right;\">1.12529</td><td style = \"text-align: right;\">0.00114601</td><td style = \"text-align: right;\">0.0515058</td><td style = \"text-align: right;\">306.951</td><td style = \"text-align: right;\">0.01582</td><td style = \"text-align: right;\">0.0174348</td></tr><tr><td class = \"rowNumber\" style = \"font-weight: bold; text-align: right;\">34</td><td style = \"text-align: right;\">0.00913167</td><td style = \"text-align: right;\">0.104426</td><td style = \"text-align: right;\">4.18627</td><td style = \"text-align: right;\">0.00254537</td><td style = \"text-align: right;\">0.0745596</td><td style = \"text-align: right;\">251.263</td><td style = \"text-align: right;\">0.014615</td><td style = \"text-align: right;\">0.0254365</td></tr><tr><td class = \"rowNumber\" style = \"font-weight: bold; text-align: right;\">35</td><td style = \"text-align: right;\">0.00977286</td><td style = \"text-align: right;\">0.0898993</td><td style = \"text-align: right;\">1.18632</td><td style = \"text-align: right;\">0.0021133</td><td style = \"text-align: right;\">0.0618448</td><td style = \"text-align: right;\">60.0</td><td style = \"text-align: right;\">0.0303212</td><td style = \"text-align: right;\">0.0054911</td></tr><tr><td class = \"rowNumber\" style = \"font-weight: bold; text-align: right;\">36</td><td style = \"text-align: right;\">0.0102211</td><td style = \"text-align: right;\">0.0386726</td><td style = \"text-align: right;\">1.16605</td><td style = \"text-align: right;\">0.000261582</td><td style = \"text-align: right;\">0.032377</td><td style = \"text-align: right;\">221.957</td><td style = \"text-align: right;\">0.0185217</td><td style = \"text-align: right;\">0.00100676</td></tr><tr><td class = \"rowNumber\" style = \"font-weight: bold; text-align: right;\">37</td><td style = \"text-align: right;\">0.0143965</td><td style = \"text-align: right;\">0.0703798</td><td style = \"text-align: right;\">2.34222</td><td style = \"text-align: right;\">0.00102117</td><td style = \"text-align: right;\">0.0612845</td><td style = \"text-align: right;\">221.689</td><td style = \"text-align: right;\">0.0187586</td><td style = \"text-align: right;\">1.3794e-18</td></tr><tr><td class = \"rowNumber\" style = \"font-weight: bold; text-align: right;\">38</td><td style = \"text-align: right;\">0.00717331</td><td style = \"text-align: right;\">0.0349962</td><td style = \"text-align: right;\">0.703491</td><td style = \"text-align: right;\">0.000349971</td><td style = \"text-align: right;\">0.0601511</td><td style = \"text-align: right;\">231.76</td><td style = \"text-align: right;\">0.0135334</td><td style = \"text-align: right;\">0.0147727</td></tr><tr><td class = \"rowNumber\" style = \"font-weight: bold; text-align: right;\">39</td><td style = \"text-align: right;\">0.0103848</td><td style = \"text-align: right;\">0.0475808</td><td style = \"text-align: right;\">1.54906</td><td style = \"text-align: right;\">0.000712709</td><td style = \"text-align: right;\">0.0672609</td><td style = \"text-align: right;\">316.179</td><td style = \"text-align: right;\">0.0163012</td><td style = \"text-align: right;\">0.0206906</td></tr><tr><td class = \"rowNumber\" style = \"font-weight: bold; text-align: right;\">40</td><td style = \"text-align: right;\">0.0242436</td><td style = \"text-align: right;\">0.0246881</td><td style = \"text-align: right;\">2.83032</td><td style = \"text-align: right;\">0.000393429</td><td style = \"text-align: right;\">0.0477748</td><td style = \"text-align: right;\">240.536</td><td style = \"text-align: right;\">0.0185032</td><td style = \"text-align: right;\">0.00506993</td></tr><tr><td class = \"rowNumber\" style = \"font-weight: bold; text-align: right;\">41</td><td style = \"text-align: right;\">0.0133613</td><td style = \"text-align: right;\">0.0665049</td><td style = \"text-align: right;\">1.30592</td><td style = \"text-align: right;\">0.000613733</td><td style = \"text-align: right;\">0.075202</td><td style = \"text-align: right;\">271.929</td><td style = \"text-align: right;\">0.0180819</td><td style = \"text-align: right;\">0.00568592</td></tr><tr><td class = \"rowNumber\" style = \"font-weight: bold; text-align: right;\">42</td><td style = \"text-align: right;\">0.00858197</td><td style = \"text-align: right;\">0.130717</td><td style = \"text-align: right;\">2.38645</td><td style = \"text-align: right;\">0.00121067</td><td style = \"text-align: right;\">0.0715154</td><td style = \"text-align: right;\">188.269</td><td style = \"text-align: right;\">0.0117461</td><td style = \"text-align: right;\">0.0169777</td></tr><tr><td class = \"rowNumber\" style = \"font-weight: bold; text-align: right;\">43</td><td style = \"text-align: right;\">0.0221072</td><td style = \"text-align: right;\">0.0346421</td><td style = \"text-align: right;\">3.24123</td><td style = \"text-align: right;\">0.000468883</td><td style = \"text-align: right;\">0.0658211</td><td style = \"text-align: right;\">349.048</td><td style = \"text-align: right;\">0.0158926</td><td style = \"text-align: right;\">0.0178897</td></tr><tr><td class = \"rowNumber\" style = \"font-weight: bold; text-align: right;\">44</td><td style = \"text-align: right;\">0.0134508</td><td style = \"text-align: right;\">0.0901871</td><td style = \"text-align: right;\">1.85602</td><td style = \"text-align: right;\">0.00177659</td><td style = \"text-align: right;\">0.0688666</td><td style = \"text-align: right;\">156.036</td><td style = \"text-align: right;\">0.0192616</td><td style = \"text-align: right;\">0.0216805</td></tr></tbody></table></div>"
      ],
      "text/latex": [
       "\\begin{tabular}{r|cccccccc}\n",
       "\t& k1 & k5 & k6 & k11 & k12 & tau\\_LPL & k14 & k16\\\\\n",
       "\t\\hline\n",
       "\t& Float64 & Float64 & Float64 & Float64 & Float64 & Float64 & Float64 & Float64\\\\\n",
       "\t\\hline\n",
       "\t1 & 0.0243002 & 0.0199537 & 3.1482 & 0.000670421 & 0.0595948 & 603.005 & 0.0127291 & 0.0322509 \\\\\n",
       "\t2 & 0.0225886 & 0.0676598 & 1.47315 & 0.000757958 & 0.0597648 & 243.174 & 0.0154691 & 0.0122589 \\\\\n",
       "\t3 & 0.0213794 & 0.0419103 & 3.2694 & 0.00122833 & 0.113702 & 186.18 & 0.0257478 & 0.0150153 \\\\\n",
       "\t4 & 0.014522 & 0.0237051 & 4.72834 & 0.000741046 & 0.0531117 & 477.52 & 0.0120446 & 0.0141066 \\\\\n",
       "\t5 & 0.0141303 & 0.0456035 & 2.15519 & 0.00124456 & 0.0539265 & 231.467 & 0.0146156 & 0.0144462 \\\\\n",
       "\t6 & 0.00979907 & 0.0610804 & 2.49211 & 0.0011191 & 0.131876 & 389.111 & 0.0117116 & 0.0299909 \\\\\n",
       "\t7 & 0.00850088 & 0.0332315 & 0.905599 & 0.000332685 & 0.0414718 & 151.699 & 0.0163061 & 0.00413533 \\\\\n",
       "\t8 & 0.0152373 & 0.0116514 & 3.4485 & 0.000129044 & 0.0185704 & 245.536 & 0.015708 & 0.00402559 \\\\\n",
       "\t9 & 0.0116215 & 0.0385778 & 2.10624 & 0.00111003 & 0.0672845 & 273.301 & 0.0172952 & 0.0351775 \\\\\n",
       "\t10 & 0.0192581 & 0.076759 & 3.60706 & 0.00086579 & 0.067376 & 382.914 & 0.014842 & 0.0130626 \\\\\n",
       "\t11 & 0.00997206 & 0.0562534 & 3.84561 & 0.0015351 & 0.0453859 & 101.228 & 0.0269339 & 0.0190046 \\\\\n",
       "\t12 & 0.0115965 & 0.0647032 & 6.93924 & 0.000715492 & 0.0727426 & 220.591 & 0.0209315 & 0.0121319 \\\\\n",
       "\t13 & 0.0108395 & 0.0129482 & 5.37402 & 0.00013257 & 0.0237308 & 252.308 & 0.0116277 & 0.00658981 \\\\\n",
       "\t14 & 0.00993316 & 0.0228425 & 2.28225 & 0.000622257 & 0.0584082 & 180.662 & 0.0135183 & 0.0196153 \\\\\n",
       "\t15 & 0.0118993 & 0.0308044 & 3.80954 & 0.000243904 & 0.0660654 & 338.24 & 0.0125315 & 0.0138636 \\\\\n",
       "\t16 & 0.013337 & 0.0502633 & 4.55568 & 0.00094818 & 0.0800761 & 321.291 & 0.0126018 & 0.0149092 \\\\\n",
       "\t17 & 0.0119693 & 0.0595872 & 1.22285 & 0.000605475 & 0.0361135 & 250.935 & 0.0129355 & 1.79398e-13 \\\\\n",
       "\t18 & 0.0114281 & 0.0261617 & 3.16974 & 0.000253941 & 0.044581 & 262.802 & 0.0202889 & 0.0171742 \\\\\n",
       "\t19 & 0.0114424 & 0.0343314 & 2.44668 & 0.000493795 & 0.0516198 & 196.438 & 0.0107987 & 0.0218263 \\\\\n",
       "\t20 & 0.0102786 & 0.0422602 & 1.76331 & 0.000555288 & 0.0420033 & 63.3922 & 0.0226401 & 0.00243827 \\\\\n",
       "\t21 & 0.010017 & 0.0424221 & 2.06917 & 0.000489394 & 0.0822809 & 336.949 & 0.0125957 & 0.0477619 \\\\\n",
       "\t22 & 0.00888569 & 0.0844417 & 5.25018 & 0.000635259 & 0.0599857 & 268.308 & 0.018114 & 0.00715526 \\\\\n",
       "\t23 & 0.0107359 & 0.110054 & 1.86233 & 0.00088537 & 0.0508051 & 267.987 & 0.0152873 & 0.0109688 \\\\\n",
       "\t24 & 0.010323 & 0.0329409 & 2.49257 & 0.000203202 & 0.0392935 & 341.053 & 0.0123448 & 0.0268909 \\\\\n",
       "\t$\\dots$ & $\\dots$ & $\\dots$ & $\\dots$ & $\\dots$ & $\\dots$ & $\\dots$ & $\\dots$ & $\\dots$ \\\\\n",
       "\\end{tabular}\n"
      ],
      "text/plain": [
       "\u001b[1m44×8 DataFrame\u001b[0m\n",
       "\u001b[1m Row \u001b[0m│\u001b[1m k1         \u001b[0m\u001b[1m k5        \u001b[0m\u001b[1m k6       \u001b[0m\u001b[1m k11         \u001b[0m\u001b[1m k12       \u001b[0m\u001b[1m tau_LPL \u001b[0m\u001b[1m k14  \u001b[0m ⋯\n",
       "     │\u001b[90m Float64    \u001b[0m\u001b[90m Float64   \u001b[0m\u001b[90m Float64  \u001b[0m\u001b[90m Float64     \u001b[0m\u001b[90m Float64   \u001b[0m\u001b[90m Float64 \u001b[0m\u001b[90m Float\u001b[0m ⋯\n",
       "─────┼──────────────────────────────────────────────────────────────────────────\n",
       "   1 │ 0.0243002   0.0199537  3.1482    0.000670421  0.0595948  603.005  0.012 ⋯\n",
       "   2 │ 0.0225886   0.0676598  1.47315   0.000757958  0.0597648  243.174  0.015\n",
       "   3 │ 0.0213794   0.0419103  3.2694    0.00122833   0.113702   186.18   0.025\n",
       "   4 │ 0.014522    0.0237051  4.72834   0.000741046  0.0531117  477.52   0.012\n",
       "   5 │ 0.0141303   0.0456035  2.15519   0.00124456   0.0539265  231.467  0.014 ⋯\n",
       "   6 │ 0.00979907  0.0610804  2.49211   0.0011191    0.131876   389.111  0.011\n",
       "   7 │ 0.00850088  0.0332315  0.905599  0.000332685  0.0414718  151.699  0.016\n",
       "   8 │ 0.0152373   0.0116514  3.4485    0.000129044  0.0185704  245.536  0.015\n",
       "  ⋮  │     ⋮           ⋮         ⋮           ⋮           ⋮         ⋮         ⋮ ⋱\n",
       "  38 │ 0.00717331  0.0349962  0.703491  0.000349971  0.0601511  231.76   0.013 ⋯\n",
       "  39 │ 0.0103848   0.0475808  1.54906   0.000712709  0.0672609  316.179  0.016\n",
       "  40 │ 0.0242436   0.0246881  2.83032   0.000393429  0.0477748  240.536  0.018\n",
       "  41 │ 0.0133613   0.0665049  1.30592   0.000613733  0.075202   271.929  0.018\n",
       "  42 │ 0.00858197  0.130717   2.38645   0.00121067   0.0715154  188.269  0.011 ⋯\n",
       "  43 │ 0.0221072   0.0346421  3.24123   0.000468883  0.0658211  349.048  0.015\n",
       "  44 │ 0.0134508   0.0901871  1.85602   0.00177659   0.0688666  156.036  0.019\n",
       "\u001b[36m                                                   2 columns and 29 rows omitted\u001b[0m"
      ]
     },
     "metadata": {},
     "output_type": "display_data"
    }
   ],
   "source": [
    "accepted_fits_NutriTech = readdlm(\"./Data/accepted_plots_NutriTech.txt\", Bool)\n",
    "parameter_data_NutriTech = CSV.read(\"./Data/NutriTech_fits.csv\", DataFrame)\n",
    "index_vector_NutriTech = [findall(accepted_fits_NutriTech)[i][1] for i in 1:length(findall(accepted_fits_NutriTech))]\n",
    "parameter_data_NutriTech = parameter_data_NutriTech[index_vector_NutriTech,:]"
   ]
  },
  {
   "cell_type": "code",
   "execution_count": 6,
   "metadata": {},
   "outputs": [
    {
     "name": "stdout",
     "output_type": "stream",
     "text": [
      "[0.012822410367074683, 0.05390590911181996, 2.686181922095864, 0.0007650906288275626, 0.06150028833045707, 250.84866166062784, 0.016414453428004742, 0.014239202552615028]\n",
      "[0.004592455065374647, 0.033965349740611904, 1.7359657172253837, 0.0005458565005785566, 0.04011465650385041, 98.67583203842054, 0.00425470405356586, 0.012216232874797348]\n"
     ]
    }
   ],
   "source": [
    "# calculate the mean and standard deviation of the parameters\n",
    "mean_parameters_NutriTech = [mean(parameter_data_NutriTech[:,i]) for i in 1:size(parameter_data_NutriTech,2)]\n",
    "std_parameters_NutriTech = [std(parameter_data_NutriTech[:,i]) for i in 1:size(parameter_data_NutriTech,2)]\n",
    "println(mean_parameters_NutriTech)\n",
    "println(std_parameters_NutriTech)"
   ]
  },
  {
   "cell_type": "code",
   "execution_count": 7,
   "metadata": {},
   "outputs": [],
   "source": [
    "accepted_fits_PREDICT = readdlm(\"./Data/accepted_plots_PREDICT.txt\", Bool)\n",
    "parameter_data_PREDICT = CSV.read(\"./Data/PREDICT_fits.csv\", DataFrame)\n",
    "index_vector_PREDICT = [findall(accepted_fits_PREDICT)[i][1] for i in 1:length(findall(accepted_fits_PREDICT))]\n",
    "parameter_data_PREDICT = parameter_data_PREDICT[index_vector_PREDICT,:];"
   ]
  },
  {
   "cell_type": "code",
   "execution_count": 8,
   "metadata": {},
   "outputs": [
    {
     "name": "stdout",
     "output_type": "stream",
     "text": [
      "[0.01453958911319849, 0.12460220855158084, 2.4225195066854557, 0.002561094397573279, 222.91792371926556, 0.02742276016538439, 0.008186297882994504]\n",
      "[0.005223266638059142, 0.059791387732204, 1.4612510834009416, 0.004203732061377652, 200.59654411249133, 0.011297768199313437, 0.014337873329469439]\n"
     ]
    }
   ],
   "source": [
    "mean_parameters_PREDICT = [mean(parameter_data_PREDICT[:,i]) for i in 1:size(parameter_data_PREDICT,2)]\n",
    "std_parameters_PREDICT = [std(parameter_data_PREDICT[:,i]) for i in 1:size(parameter_data_PREDICT,2)]\n",
    "println(mean_parameters_PREDICT)\n",
    "println(std_parameters_PREDICT)"
   ]
  },
  {
   "cell_type": "code",
   "execution_count": 20,
   "metadata": {},
   "outputs": [
    {
     "data": {
      "text/plain": [
       "7×7 Matrix{Float64}:\n",
       " 1.0         0.381666    0.22241    …   0.0768442   0.200615   0.0327773\n",
       " 0.381666    1.0        -0.113955       0.0226976   0.237396   0.167941\n",
       " 0.22241    -0.113955    1.0           -0.0577807   0.118771  -0.104211\n",
       " 0.0136575   0.34631    -0.0891194      0.561925   -0.151742   0.668519\n",
       " 0.0768442   0.0226976  -0.0577807      1.0        -0.588662   0.645394\n",
       " 0.200615    0.237396    0.118771   …  -0.588662    1.0       -0.216657\n",
       " 0.0327773   0.167941   -0.104211       0.645394   -0.216657   1.0"
      ]
     },
     "metadata": {},
     "output_type": "display_data"
    }
   ],
   "source": [
    "covariance_PREDICT = cov(Matrix(parameter_data_PREDICT))\n",
    "covariance_NutriTech = cov(Matrix(parameter_data_NutriTech))\n",
    "correlation_PREDICT = cor(Matrix(parameter_data_PREDICT))\n",
    "#correlation_NutriTech = cor(Matrix(parameter_data_NutriTech))"
   ]
  },
  {
   "cell_type": "code",
   "execution_count": 16,
   "metadata": {},
   "outputs": [
    {
     "data": {
      "text/plain": [
       "------------------- Linear Fit -------------\n",
       "\n",
       "Equation: y = ax + b\n",
       "\n",
       "With: a = 0.723927161680563\n",
       "      b = 0.022476336547248\n",
       "\n",
       "Pearson correlation coefficient, R = 0.6129540015691328\n",
       "Average square residue = 0.000981762633714422\n",
       "\n",
       "Predicted Y: ypred = [0.03692134614270132, 0.07145707070885536, ...]\n",
       "residues = [-0.022673453175849102, 0.011692282129205159, ...]\n",
       "\n",
       "--------------------------------------------\n"
      ]
     },
     "metadata": {},
     "output_type": "display_data"
    }
   ],
   "source": [
    "using EasyFit\n",
    "k5s = parameter_data_NutriTech[:,2]\n",
    "k12s = parameter_data_NutriTech[:,5]\n",
    "\n",
    "scatter(k5s, k12s)\n",
    "fitlinear(k5s, k12s)"
   ]
  },
  {
   "cell_type": "code",
   "execution_count": 19,
   "metadata": {},
   "outputs": [
    {
     "data": {
      "text/plain": [
       "------------------- Linear Fit -------------\n",
       "\n",
       "Equation: y = ax + b\n",
       "\n",
       "With: a = 0.011153012494756162\n",
       "      b = 0.00016387735090932416\n",
       "\n",
       "Pearson correlation coefficient, R = 0.6939845352342912\n",
       "Average square residue = 1.5094737610839213e-7\n",
       "\n",
       "Predicted Y: ypred = [0.00038642097274410234, 0.0009184874401875978, ...]\n",
       "residues = [-0.0002839999467228379, 0.0001605296937987889, ...]\n",
       "\n",
       "--------------------------------------------\n"
      ]
     },
     "metadata": {},
     "output_type": "display_data"
    }
   ],
   "source": [
    "k5s = parameter_data_NutriTech[:,2]\n",
    "k11s = parameter_data_NutriTech[:,4]\n",
    "\n",
    "scatter(k5s, k11s)\n",
    "fitlinear(k5s, k11s)\n"
   ]
  }
 ],
 "metadata": {
  "kernelspec": {
   "display_name": "Julia 1.10.1",
   "language": "julia",
   "name": "julia-1.10"
  },
  "language_info": {
   "file_extension": ".jl",
   "mimetype": "application/julia",
   "name": "julia",
   "version": "1.10.1"
  }
 },
 "nbformat": 4,
 "nbformat_minor": 2
}
