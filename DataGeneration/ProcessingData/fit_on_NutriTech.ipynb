{
 "cells": [
  {
   "cell_type": "markdown",
   "metadata": {},
   "source": [
    "# file to load in the different data sets for parameter estimation\n"
   ]
  },
  {
   "cell_type": "code",
   "execution_count": 6,
   "metadata": {},
   "outputs": [
    {
     "data": {
      "text/plain": [
       "TaskLocalRNG()"
      ]
     },
     "metadata": {},
     "output_type": "display_data"
    }
   ],
   "source": [
    "using MAT # for reading .mat files\n",
    "using DifferentialEquations, SciMLBase, Plots, Random # for solving ODEs\n",
    "using QuasiMonteCarlo # for LHS\n",
    "using CSV, DataFrames, Tables # for post-processing\n",
    "using Optimization, OptimizationOptimJL, LineSearches # for optimization\n",
    "using Trapz\t \n",
    "using Distributed # for parallel computing\n",
    "\n",
    "include(\"C:/Users/20192809/Documents/GitHub/Master-thesis/MMmodel/Including.jl\")\n",
    "include(\"./Data/NutriTech.jl\")\n",
    "\n",
    "# set Random seed for reproducibility\n",
    "Random.seed!(1234);\n",
    "\n",
    "\n",
    "\n",
    "\n"
   ]
  },
  {
   "cell_type": "code",
   "execution_count": 2,
   "metadata": {},
   "outputs": [
    {
     "name": "stdout",
     "output_type": "stream",
     "text": [
      "Int32[0, 60, 120, 240, 360, 480]\n",
      "Int32[0, 60, 120, 240, 360, 480]\n",
      "Int32[0, 60, 120, 240, 360, 480]\n",
      "Int32[0, 60, 120, 240, 360, 480]\n"
     ]
    }
   ],
   "source": [
    "data_nutritech = NutriTech_data();\n",
    "\n",
    "# patient non-specific\n",
    "meal_G = data_nutritech.meal_G;\n",
    "meal_TG = data_nutritech.meal_TG;\n",
    "time_G = data_nutritech.time_TG\n",
    "time_I = data_nutritech.time_I\n",
    "time_TG = data_nutritech.time_TG\n",
    "time_NEFA = data_nutritech.time_NEFA\n",
    "\n",
    "# patient-specific\n",
    "glucose = data_nutritech.glucose;\n",
    "TG = data_nutritech.TG;\n",
    "NEFA = data_nutritech.NEFA;\n",
    "insulin = data_nutritech.insulin;\n",
    "BW = data_nutritech.BW;\n",
    "\n",
    "println(time_G)\n",
    "println(time_I)\n",
    "println(time_TG)\n",
    "println(time_NEFA)"
   ]
  },
  {
   "cell_type": "code",
   "execution_count": 9,
   "metadata": {},
   "outputs": [
    {
     "data": {
      "text/plain": [
       "Base.OneTo(69)"
      ]
     },
     "metadata": {},
     "output_type": "display_data"
    }
   ],
   "source": [
    "axes(glucose,1)"
   ]
  },
  {
   "cell_type": "markdown",
   "metadata": {},
   "source": [
    "## Fit the Nutritech data \n",
    "save the parameter values and names of those that are estimated for later model generation"
   ]
  },
  {
   "cell_type": "code",
   "execution_count": null,
   "metadata": {},
   "outputs": [],
   "source": [
    "results = []\n",
    "for i in axes(glucose,1)\n",
    "    result = ParameterEstimation(glucose[i,:],insulin[i,:], TG[i,:], NEFA[i,:], BW[i], meal_G, meal_TG, time_G, time_I, time_TG, time_NEFA, ub = [0.05, 1.5, 10., 1., 1., 720., 0.1, 1.], lb = [0.005, 0, 0, 0, 0, 60., 0.005, 0]);\n",
    "    push!(results, result)\n",
    "end"
   ]
  }
 ],
 "metadata": {
  "kernelspec": {
   "display_name": "Julia 1.10.1",
   "language": "julia",
   "name": "julia-1.10"
  },
  "language_info": {
   "file_extension": ".jl",
   "mimetype": "application/julia",
   "name": "julia",
   "version": "1.10.1"
  }
 },
 "nbformat": 4,
 "nbformat_minor": 2
}
