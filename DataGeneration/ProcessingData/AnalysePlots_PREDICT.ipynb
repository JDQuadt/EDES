{
 "cells": [
  {
   "cell_type": "code",
   "execution_count": 1,
   "metadata": {},
   "outputs": [
    {
     "data": {
      "text/plain": [
       "Interactive_plots_PREDICT (generic function with 1 method)"
      ]
     },
     "metadata": {},
     "output_type": "display_data"
    }
   ],
   "source": [
    "using DifferentialEquations, SciMLBase# for solving ODEs\n",
    "using Trapz, XLSX, CSV, DataFrames, Tables # for post-processing\n",
    "using GLMakie\n",
    "\n",
    "include(\"C:/Users/20192809/Documents/GitHub/Master-thesis/MMmodel/Including.jl\")\n",
    "include(\"./Data/PREDICT.jl\")\n",
    "include(\"./Plotting/PlotAnalysis.jl\")"
   ]
  },
  {
   "cell_type": "code",
   "execution_count": 2,
   "metadata": {},
   "outputs": [
    {
     "data": {
      "text/plain": [
       "7-element Vector{String}:\n",
       " \"k1\"\n",
       " \"k5\"\n",
       " \"k6\"\n",
       " \"k11\"\n",
       " \"tau_LPL\"\n",
       " \"k14\"\n",
       " \"k16\""
      ]
     },
     "metadata": {},
     "output_type": "display_data"
    }
   ],
   "source": [
    "parameter_data = CSV.read(\"./Data/PREDICT_fits.csv\", DataFrame);\n",
    "names(parameter_data)"
   ]
  },
  {
   "cell_type": "code",
   "execution_count": 3,
   "metadata": {},
   "outputs": [],
   "source": [
    "data = PREDICT_data();"
   ]
  },
  {
   "cell_type": "code",
   "execution_count": 4,
   "metadata": {},
   "outputs": [],
   "source": [
    "accepted_plots = Interactive_plots_PREDICT(parameter_data, data);"
   ]
  }
 ],
 "metadata": {
  "kernelspec": {
   "display_name": "Julia 1.10.1",
   "language": "julia",
   "name": "julia-1.10"
  },
  "language_info": {
   "file_extension": ".jl",
   "mimetype": "application/julia",
   "name": "julia",
   "version": "1.10.1"
  }
 },
 "nbformat": 4,
 "nbformat_minor": 2
}
