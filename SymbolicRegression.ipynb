{
 "cells": [
  {
   "cell_type": "code",
   "execution_count": 29,
   "metadata": {},
   "outputs": [
    {
     "ename": "ArgumentError",
     "evalue": "ArgumentError: Package Interpolations not found in current path.\n- Run `import Pkg; Pkg.add(\"Interpolations\")` to install the Interpolations package.",
     "output_type": "error",
     "traceback": [
      "ArgumentError: Package Interpolations not found in current path.\n",
      "- Run `import Pkg; Pkg.add(\"Interpolations\")` to install the Interpolations package.\n",
      "\n",
      "Stacktrace:\n",
      "  [1] macro expansion\n",
      "    @ .\\loading.jl:1772 [inlined]\n",
      "  [2] macro expansion\n",
      "    @ .\\lock.jl:267 [inlined]\n",
      "  [3] __require(into::Module, mod::Symbol)\n",
      "    @ Base .\\loading.jl:1753\n",
      "  [4] #invoke_in_world#3\n",
      "    @ .\\essentials.jl:926 [inlined]\n",
      "  [5] invoke_in_world\n",
      "    @ .\\essentials.jl:923 [inlined]\n",
      "  [6] require(into::Module, mod::Symbol)\n",
      "    @ Base .\\loading.jl:1746\n",
      "  [7] eval\n",
      "    @ .\\boot.jl:385 [inlined]\n",
      "  [8] include_string(mapexpr::typeof(REPL.softscope), mod::Module, code::String, filename::String)\n",
      "    @ Base .\\loading.jl:2076\n",
      "  [9] #invokelatest#2\n",
      "    @ .\\essentials.jl:892 [inlined]\n",
      " [10] invokelatest\n",
      "    @ .\\essentials.jl:889 [inlined]\n",
      " [11] (::VSCodeServer.var\"#219#220\"{VSCodeServer.NotebookRunCellArguments, String})()\n",
      "    @ VSCodeServer c:\\Users\\20192809\\.vscode\\extensions\\julialang.language-julia-1.79.2\\scripts\\packages\\VSCodeServer\\src\\serve_notebook.jl:19\n",
      " [12] withpath(f::VSCodeServer.var\"#219#220\"{VSCodeServer.NotebookRunCellArguments, String}, path::String)\n",
      "    @ VSCodeServer c:\\Users\\20192809\\.vscode\\extensions\\julialang.language-julia-1.79.2\\scripts\\packages\\VSCodeServer\\src\\repl.jl:276\n",
      " [13] notebook_runcell_request(conn::VSCodeServer.JSONRPC.JSONRPCEndpoint{Base.PipeEndpoint, Base.PipeEndpoint}, params::VSCodeServer.NotebookRunCellArguments)\n",
      "    @ VSCodeServer c:\\Users\\20192809\\.vscode\\extensions\\julialang.language-julia-1.79.2\\scripts\\packages\\VSCodeServer\\src\\serve_notebook.jl:13\n",
      " [14] dispatch_msg(x::VSCodeServer.JSONRPC.JSONRPCEndpoint{Base.PipeEndpoint, Base.PipeEndpoint}, dispatcher::VSCodeServer.JSONRPC.MsgDispatcher, msg::Dict{String, Any})\n",
      "    @ VSCodeServer.JSONRPC c:\\Users\\20192809\\.vscode\\extensions\\julialang.language-julia-1.79.2\\scripts\\packages\\JSONRPC\\src\\typed.jl:67\n",
      " [15] serve_notebook(pipename::String, outputchannel_logger::Base.CoreLogging.SimpleLogger; crashreporting_pipename::String)\n",
      "    @ VSCodeServer c:\\Users\\20192809\\.vscode\\extensions\\julialang.language-julia-1.79.2\\scripts\\packages\\VSCodeServer\\src\\serve_notebook.jl:139\n",
      " [16] top-level scope\n",
      "    @ c:\\Users\\20192809\\.vscode\\extensions\\julialang.language-julia-1.79.2\\scripts\\notebook\\notebook.jl:35"
     ]
    }
   ],
   "source": [
    "using SymbolicRegression\n",
    "using DataFrames, CSV\n",
    "using ShiftedArrays\n",
    "using Plots\n",
    "using Interpolations\n",
    "\n",
    "import SymbolicRegression\n",
    "\n",
    "\n"
   ]
  },
  {
   "cell_type": "code",
   "execution_count": 30,
   "metadata": {},
   "outputs": [
    {
     "name": "stderr",
     "output_type": "stream",
     "text": [
      "\u001b[32m\u001b[1m    Updating\u001b[22m\u001b[39m registry at `C:\\Users\\20192809\\.julia\\registries\\General.toml`\n",
      "\u001b[32m\u001b[1m   Resolving\u001b[22m\u001b[39m package versions...\n",
      "\u001b[32m\u001b[1m    Updating\u001b[22m\u001b[39m `C:\\Users\\20192809\\.julia\\environments\\v1.10\\Project.toml`\n",
      "  \u001b[90m[a98d9a8b] \u001b[39m\u001b[92m+ Interpolations v0.15.1\u001b[39m\n",
      "\u001b[32m\u001b[1m  No Changes\u001b[22m\u001b[39m to `C:\\Users\\20192809\\.julia\\environments\\v1.10\\Manifest.toml`\n",
      "\u001b[32m\u001b[1mPrecompiling\u001b[22m\u001b[39m project...\n",
      "\u001b[32m  ✓ \u001b[39m\u001b[90mDistributions → DistributionsChainRulesCoreExt\u001b[39m\n",
      "\u001b[32m  ✓ \u001b[39m\u001b[90mSimpleRandom\u001b[39m\n",
      "\u001b[32m  ✓ \u001b[39m\u001b[90mPlots → UnitfulExt\u001b[39m\n",
      "\u001b[32m  ✓ \u001b[39m\u001b[90mLsqFit\u001b[39m\n",
      "\u001b[32m  ✓ \u001b[39m\u001b[90mKernelDensity\u001b[39m\n",
      "\u001b[32m  ✓ \u001b[39mEasyFit\n",
      "\u001b[32m  ✓ \u001b[39m\u001b[90mSimpleGraphs\u001b[39m\n",
      "\u001b[32m  ✓ \u001b[39m\u001b[90mPlots → GeometryBasicsExt\u001b[39m\n",
      "\u001b[32m  ✓ \u001b[39m\u001b[90mEasyFit → SplineFitExt\u001b[39m\n",
      "\u001b[32m  ✓ \u001b[39m\u001b[90mDelaunayTriangulation\u001b[39m\n",
      "\u001b[32m  ✓ \u001b[39m\u001b[90mMakie\u001b[39m\n"
     ]
    }
   ],
   "source": [
    "import Pkg; Pkg.add(\"Interpolations\")"
   ]
  },
  {
   "cell_type": "code",
   "execution_count": 20,
   "metadata": {},
   "outputs": [
    {
     "data": {
      "text/html": [
       "<div><div style = \"float: left;\"><span>35×7 DataFrame</span></div><div style = \"float: right;\"><span style = \"font-style: italic;\">10 rows omitted</span></div><div style = \"clear: both;\"></div></div><div class = \"data-frame\" style = \"overflow-x: scroll;\"><table class = \"data-frame\" style = \"margin-bottom: 6px;\"><thead><tr class = \"header\"><th class = \"rowNumber\" style = \"font-weight: bold; text-align: right;\">Row</th><th style = \"text-align: left;\">ID</th><th style = \"text-align: left;\">Meal Test</th><th style = \"text-align: left;\">Health status</th><th style = \"text-align: left;\">k1</th><th style = \"text-align: left;\">k5</th><th style = \"text-align: left;\">k6</th><th style = \"text-align: left;\">k8</th></tr><tr class = \"subheader headerLastRow\"><th class = \"rowNumber\" style = \"font-weight: bold; text-align: right;\"></th><th title = \"Float64\" style = \"text-align: left;\">Float64</th><th title = \"Float64\" style = \"text-align: left;\">Float64</th><th title = \"Float64\" style = \"text-align: left;\">Float64</th><th title = \"Float64\" style = \"text-align: left;\">Float64</th><th title = \"Float64\" style = \"text-align: left;\">Float64</th><th title = \"Float64\" style = \"text-align: left;\">Float64</th><th title = \"Float64\" style = \"text-align: left;\">Float64</th></tr></thead><tbody><tr><td class = \"rowNumber\" style = \"font-weight: bold; text-align: right;\">1</td><td style = \"text-align: right;\">1.0</td><td style = \"text-align: right;\">1.0</td><td style = \"text-align: right;\">0.0</td><td style = \"text-align: right;\">0.0104072</td><td style = \"text-align: right;\">0.0173463</td><td style = \"text-align: right;\">4.40951</td><td style = \"text-align: right;\">7.354</td></tr><tr><td class = \"rowNumber\" style = \"font-weight: bold; text-align: right;\">2</td><td style = \"text-align: right;\">1.0</td><td style = \"text-align: right;\">2.0</td><td style = \"text-align: right;\">0.0</td><td style = \"text-align: right;\">0.0104362</td><td style = \"text-align: right;\">0.0155601</td><td style = \"text-align: right;\">5.10032</td><td style = \"text-align: right;\">7.57521</td></tr><tr><td class = \"rowNumber\" style = \"font-weight: bold; text-align: right;\">3</td><td style = \"text-align: right;\">1.0</td><td style = \"text-align: right;\">3.0</td><td style = \"text-align: right;\">0.0</td><td style = \"text-align: right;\">0.0105299</td><td style = \"text-align: right;\">0.0131662</td><td style = \"text-align: right;\">5.54484</td><td style = \"text-align: right;\">7.59195</td></tr><tr><td class = \"rowNumber\" style = \"font-weight: bold; text-align: right;\">4</td><td style = \"text-align: right;\">1.0</td><td style = \"text-align: right;\">4.0</td><td style = \"text-align: right;\">0.0</td><td style = \"text-align: right;\">0.0104272</td><td style = \"text-align: right;\">0.0116063</td><td style = \"text-align: right;\">5.3463</td><td style = \"text-align: right;\">7.08974</td></tr><tr><td class = \"rowNumber\" style = \"font-weight: bold; text-align: right;\">5</td><td style = \"text-align: right;\">1.0</td><td style = \"text-align: right;\">5.0</td><td style = \"text-align: right;\">0.0</td><td style = \"text-align: right;\">0.0103704</td><td style = \"text-align: right;\">0.0109003</td><td style = \"text-align: right;\">4.90771</td><td style = \"text-align: right;\">6.83445</td></tr><tr><td class = \"rowNumber\" style = \"font-weight: bold; text-align: right;\">6</td><td style = \"text-align: right;\">1.0</td><td style = \"text-align: right;\">6.0</td><td style = \"text-align: right;\">0.0</td><td style = \"text-align: right;\">0.0104962</td><td style = \"text-align: right;\">0.00845506</td><td style = \"text-align: right;\">3.49573</td><td style = \"text-align: right;\">7.08165</td></tr><tr><td class = \"rowNumber\" style = \"font-weight: bold; text-align: right;\">7</td><td style = \"text-align: right;\">1.0</td><td style = \"text-align: right;\">7.0</td><td style = \"text-align: right;\">0.0</td><td style = \"text-align: right;\">0.0104589</td><td style = \"text-align: right;\">0.0058106</td><td style = \"text-align: right;\">3.53309</td><td style = \"text-align: right;\">7.01873</td></tr><tr><td class = \"rowNumber\" style = \"font-weight: bold; text-align: right;\">8</td><td style = \"text-align: right;\">3.0</td><td style = \"text-align: right;\">1.0</td><td style = \"text-align: right;\">0.0</td><td style = \"text-align: right;\">0.0105075</td><td style = \"text-align: right;\">0.0177411</td><td style = \"text-align: right;\">4.13964</td><td style = \"text-align: right;\">6.68463</td></tr><tr><td class = \"rowNumber\" style = \"font-weight: bold; text-align: right;\">9</td><td style = \"text-align: right;\">3.0</td><td style = \"text-align: right;\">2.0</td><td style = \"text-align: right;\">0.0</td><td style = \"text-align: right;\">0.0106055</td><td style = \"text-align: right;\">0.0147333</td><td style = \"text-align: right;\">4.93145</td><td style = \"text-align: right;\">7.50868</td></tr><tr><td class = \"rowNumber\" style = \"font-weight: bold; text-align: right;\">10</td><td style = \"text-align: right;\">3.0</td><td style = \"text-align: right;\">3.0</td><td style = \"text-align: right;\">0.0</td><td style = \"text-align: right;\">0.0103432</td><td style = \"text-align: right;\">0.0148735</td><td style = \"text-align: right;\">5.3038</td><td style = \"text-align: right;\">6.26741</td></tr><tr><td class = \"rowNumber\" style = \"font-weight: bold; text-align: right;\">11</td><td style = \"text-align: right;\">3.0</td><td style = \"text-align: right;\">4.0</td><td style = \"text-align: right;\">0.0</td><td style = \"text-align: right;\">0.0104012</td><td style = \"text-align: right;\">0.0117033</td><td style = \"text-align: right;\">5.26826</td><td style = \"text-align: right;\">6.65639</td></tr><tr><td class = \"rowNumber\" style = \"font-weight: bold; text-align: right;\">12</td><td style = \"text-align: right;\">3.0</td><td style = \"text-align: right;\">5.0</td><td style = \"text-align: right;\">0.0</td><td style = \"text-align: right;\">0.0103811</td><td style = \"text-align: right;\">0.0101047</td><td style = \"text-align: right;\">5.16378</td><td style = \"text-align: right;\">6.91062</td></tr><tr><td class = \"rowNumber\" style = \"font-weight: bold; text-align: right;\">13</td><td style = \"text-align: right;\">3.0</td><td style = \"text-align: right;\">6.0</td><td style = \"text-align: right;\">0.0</td><td style = \"text-align: right;\">0.0104027</td><td style = \"text-align: right;\">0.00686387</td><td style = \"text-align: right;\">4.43842</td><td style = \"text-align: right;\">7.31214</td></tr><tr><td style = \"text-align: right;\">&vellip;</td><td style = \"text-align: right;\">&vellip;</td><td style = \"text-align: right;\">&vellip;</td><td style = \"text-align: right;\">&vellip;</td><td style = \"text-align: right;\">&vellip;</td><td style = \"text-align: right;\">&vellip;</td><td style = \"text-align: right;\">&vellip;</td><td style = \"text-align: right;\">&vellip;</td></tr><tr><td class = \"rowNumber\" style = \"font-weight: bold; text-align: right;\">24</td><td style = \"text-align: right;\">7.0</td><td style = \"text-align: right;\">3.0</td><td style = \"text-align: right;\">0.0</td><td style = \"text-align: right;\">0.0104802</td><td style = \"text-align: right;\">0.0131599</td><td style = \"text-align: right;\">7.03225</td><td style = \"text-align: right;\">7.82309</td></tr><tr><td class = \"rowNumber\" style = \"font-weight: bold; text-align: right;\">25</td><td style = \"text-align: right;\">7.0</td><td style = \"text-align: right;\">4.0</td><td style = \"text-align: right;\">0.0</td><td style = \"text-align: right;\">0.0105236</td><td style = \"text-align: right;\">0.0124565</td><td style = \"text-align: right;\">5.95692</td><td style = \"text-align: right;\">6.93404</td></tr><tr><td class = \"rowNumber\" style = \"font-weight: bold; text-align: right;\">26</td><td style = \"text-align: right;\">7.0</td><td style = \"text-align: right;\">5.0</td><td style = \"text-align: right;\">0.0</td><td style = \"text-align: right;\">0.0105048</td><td style = \"text-align: right;\">0.00965394</td><td style = \"text-align: right;\">6.48187</td><td style = \"text-align: right;\">7.82711</td></tr><tr><td class = \"rowNumber\" style = \"font-weight: bold; text-align: right;\">27</td><td style = \"text-align: right;\">7.0</td><td style = \"text-align: right;\">6.0</td><td style = \"text-align: right;\">0.0</td><td style = \"text-align: right;\">0.0105778</td><td style = \"text-align: right;\">0.00808294</td><td style = \"text-align: right;\">4.49276</td><td style = \"text-align: right;\">7.09993</td></tr><tr><td class = \"rowNumber\" style = \"font-weight: bold; text-align: right;\">28</td><td style = \"text-align: right;\">7.0</td><td style = \"text-align: right;\">7.0</td><td style = \"text-align: right;\">0.0</td><td style = \"text-align: right;\">0.0105715</td><td style = \"text-align: right;\">0.00677929</td><td style = \"text-align: right;\">3.56364</td><td style = \"text-align: right;\">7.38376</td></tr><tr><td class = \"rowNumber\" style = \"font-weight: bold; text-align: right;\">29</td><td style = \"text-align: right;\">9.0</td><td style = \"text-align: right;\">1.0</td><td style = \"text-align: right;\">0.0</td><td style = \"text-align: right;\">0.0104323</td><td style = \"text-align: right;\">0.0176969</td><td style = \"text-align: right;\">4.76068</td><td style = \"text-align: right;\">7.31664</td></tr><tr><td class = \"rowNumber\" style = \"font-weight: bold; text-align: right;\">30</td><td style = \"text-align: right;\">9.0</td><td style = \"text-align: right;\">2.0</td><td style = \"text-align: right;\">0.0</td><td style = \"text-align: right;\">0.0105906</td><td style = \"text-align: right;\">0.0172111</td><td style = \"text-align: right;\">4.83708</td><td style = \"text-align: right;\">6.99317</td></tr><tr><td class = \"rowNumber\" style = \"font-weight: bold; text-align: right;\">31</td><td style = \"text-align: right;\">9.0</td><td style = \"text-align: right;\">3.0</td><td style = \"text-align: right;\">0.0</td><td style = \"text-align: right;\">0.01064</td><td style = \"text-align: right;\">0.0124839</td><td style = \"text-align: right;\">6.12522</td><td style = \"text-align: right;\">8.2652</td></tr><tr><td class = \"rowNumber\" style = \"font-weight: bold; text-align: right;\">32</td><td style = \"text-align: right;\">9.0</td><td style = \"text-align: right;\">4.0</td><td style = \"text-align: right;\">0.0</td><td style = \"text-align: right;\">0.0104388</td><td style = \"text-align: right;\">0.0105636</td><td style = \"text-align: right;\">6.43597</td><td style = \"text-align: right;\">7.81644</td></tr><tr><td class = \"rowNumber\" style = \"font-weight: bold; text-align: right;\">33</td><td style = \"text-align: right;\">9.0</td><td style = \"text-align: right;\">5.0</td><td style = \"text-align: right;\">0.0</td><td style = \"text-align: right;\">0.010475</td><td style = \"text-align: right;\">0.0106977</td><td style = \"text-align: right;\">5.30915</td><td style = \"text-align: right;\">7.03222</td></tr><tr><td class = \"rowNumber\" style = \"font-weight: bold; text-align: right;\">34</td><td style = \"text-align: right;\">9.0</td><td style = \"text-align: right;\">6.0</td><td style = \"text-align: right;\">0.0</td><td style = \"text-align: right;\">0.0104189</td><td style = \"text-align: right;\">0.00853009</td><td style = \"text-align: right;\">3.98395</td><td style = \"text-align: right;\">7.02128</td></tr><tr><td class = \"rowNumber\" style = \"font-weight: bold; text-align: right;\">35</td><td style = \"text-align: right;\">9.0</td><td style = \"text-align: right;\">7.0</td><td style = \"text-align: right;\">0.0</td><td style = \"text-align: right;\">0.0103762</td><td style = \"text-align: right;\">0.00603877</td><td style = \"text-align: right;\">3.86536</td><td style = \"text-align: right;\">6.95791</td></tr></tbody></table></div>"
      ],
      "text/latex": [
       "\\begin{tabular}{r|ccccccc}\n",
       "\t& ID & Meal Test & Health status & k1 & k5 & k6 & k8\\\\\n",
       "\t\\hline\n",
       "\t& Float64 & Float64 & Float64 & Float64 & Float64 & Float64 & Float64\\\\\n",
       "\t\\hline\n",
       "\t1 & 1.0 & 1.0 & 0.0 & 0.0104072 & 0.0173463 & 4.40951 & 7.354 \\\\\n",
       "\t2 & 1.0 & 2.0 & 0.0 & 0.0104362 & 0.0155601 & 5.10032 & 7.57521 \\\\\n",
       "\t3 & 1.0 & 3.0 & 0.0 & 0.0105299 & 0.0131662 & 5.54484 & 7.59195 \\\\\n",
       "\t4 & 1.0 & 4.0 & 0.0 & 0.0104272 & 0.0116063 & 5.3463 & 7.08974 \\\\\n",
       "\t5 & 1.0 & 5.0 & 0.0 & 0.0103704 & 0.0109003 & 4.90771 & 6.83445 \\\\\n",
       "\t6 & 1.0 & 6.0 & 0.0 & 0.0104962 & 0.00845506 & 3.49573 & 7.08165 \\\\\n",
       "\t7 & 1.0 & 7.0 & 0.0 & 0.0104589 & 0.0058106 & 3.53309 & 7.01873 \\\\\n",
       "\t8 & 3.0 & 1.0 & 0.0 & 0.0105075 & 0.0177411 & 4.13964 & 6.68463 \\\\\n",
       "\t9 & 3.0 & 2.0 & 0.0 & 0.0106055 & 0.0147333 & 4.93145 & 7.50868 \\\\\n",
       "\t10 & 3.0 & 3.0 & 0.0 & 0.0103432 & 0.0148735 & 5.3038 & 6.26741 \\\\\n",
       "\t11 & 3.0 & 4.0 & 0.0 & 0.0104012 & 0.0117033 & 5.26826 & 6.65639 \\\\\n",
       "\t12 & 3.0 & 5.0 & 0.0 & 0.0103811 & 0.0101047 & 5.16378 & 6.91062 \\\\\n",
       "\t13 & 3.0 & 6.0 & 0.0 & 0.0104027 & 0.00686387 & 4.43842 & 7.31214 \\\\\n",
       "\t14 & 3.0 & 7.0 & 0.0 & 0.010276 & 0.00693629 & 2.98742 & 7.21601 \\\\\n",
       "\t15 & 5.0 & 1.0 & 0.0 & 0.0105206 & 0.0167211 & 5.03029 & 7.42066 \\\\\n",
       "\t16 & 5.0 & 2.0 & 0.0 & 0.010592 & 0.0147223 & 5.77245 & 7.9008 \\\\\n",
       "\t17 & 5.0 & 3.0 & 0.0 & 0.0105115 & 0.0124605 & 6.76764 & 7.84633 \\\\\n",
       "\t18 & 5.0 & 4.0 & 0.0 & 0.0106039 & 0.0111794 & 5.92788 & 7.30673 \\\\\n",
       "\t19 & 5.0 & 5.0 & 0.0 & 0.0103708 & 0.00982335 & 6.2458 & 7.24046 \\\\\n",
       "\t20 & 5.0 & 6.0 & 0.0 & 0.0105444 & 0.00723845 & 4.69433 & 7.37623 \\\\\n",
       "\t21 & 5.0 & 7.0 & 0.0 & 0.0103778 & 0.00677809 & 3.51366 & 7.16487 \\\\\n",
       "\t22 & 7.0 & 1.0 & 0.0 & 0.0103961 & 0.0198797 & 4.92937 & 6.55507 \\\\\n",
       "\t23 & 7.0 & 2.0 & 0.0 & 0.0104886 & 0.0173026 & 5.64072 & 7.05593 \\\\\n",
       "\t24 & 7.0 & 3.0 & 0.0 & 0.0104802 & 0.0131599 & 7.03225 & 7.82309 \\\\\n",
       "\t$\\dots$ & $\\dots$ & $\\dots$ & $\\dots$ & $\\dots$ & $\\dots$ & $\\dots$ & $\\dots$ \\\\\n",
       "\\end{tabular}\n"
      ],
      "text/plain": [
       "\u001b[1m35×7 DataFrame\u001b[0m\n",
       "\u001b[1m Row \u001b[0m│\u001b[1m ID      \u001b[0m\u001b[1m Meal Test \u001b[0m\u001b[1m Health status \u001b[0m\u001b[1m k1        \u001b[0m\u001b[1m k5         \u001b[0m\u001b[1m k6      \u001b[0m\u001b[1m k8  \u001b[0m ⋯\n",
       "     │\u001b[90m Float64 \u001b[0m\u001b[90m Float64   \u001b[0m\u001b[90m Float64       \u001b[0m\u001b[90m Float64   \u001b[0m\u001b[90m Float64    \u001b[0m\u001b[90m Float64 \u001b[0m\u001b[90m Floa\u001b[0m ⋯\n",
       "─────┼──────────────────────────────────────────────────────────────────────────\n",
       "   1 │     1.0        1.0            0.0  0.0104072  0.0173463   4.40951  7.35 ⋯\n",
       "   2 │     1.0        2.0            0.0  0.0104362  0.0155601   5.10032  7.57\n",
       "   3 │     1.0        3.0            0.0  0.0105299  0.0131662   5.54484  7.59\n",
       "   4 │     1.0        4.0            0.0  0.0104272  0.0116063   5.3463   7.08\n",
       "   5 │     1.0        5.0            0.0  0.0103704  0.0109003   4.90771  6.83 ⋯\n",
       "   6 │     1.0        6.0            0.0  0.0104962  0.00845506  3.49573  7.08\n",
       "   7 │     1.0        7.0            0.0  0.0104589  0.0058106   3.53309  7.01\n",
       "   8 │     3.0        1.0            0.0  0.0105075  0.0177411   4.13964  6.68\n",
       "  ⋮  │    ⋮         ⋮            ⋮            ⋮          ⋮          ⋮        ⋮ ⋱\n",
       "  29 │     9.0        1.0            0.0  0.0104323  0.0176969   4.76068  7.31 ⋯\n",
       "  30 │     9.0        2.0            0.0  0.0105906  0.0172111   4.83708  6.99\n",
       "  31 │     9.0        3.0            0.0  0.01064    0.0124839   6.12522  8.26\n",
       "  32 │     9.0        4.0            0.0  0.0104388  0.0105636   6.43597  7.81\n",
       "  33 │     9.0        5.0            0.0  0.010475   0.0106977   5.30915  7.03 ⋯\n",
       "  34 │     9.0        6.0            0.0  0.0104189  0.00853009  3.98395  7.02\n",
       "  35 │     9.0        7.0            0.0  0.0103762  0.00603877  3.86536  6.95\n",
       "\u001b[36m                                                    1 column and 20 rows omitted\u001b[0m"
      ]
     },
     "metadata": {},
     "output_type": "display_data"
    }
   ],
   "source": [
    "df_fits =  CSV.read(\"./Results/Synthetic_population_fits.csv\", DataFrame)\n",
    "df_fits_diabetic = df_fits[df_fits[!,\"Health status\"] .== 0.0, :]"
   ]
  },
  {
   "cell_type": "code",
   "execution_count": 28,
   "metadata": {},
   "outputs": [
    {
     "name": "stdout",
     "output_type": "stream",
     "text": [
      "[0, 1, 3, 5, 6, 8, 9, 0, 1, 3, 5, 6, 8, 9, 0, 1, 3, 5, 6, 8, 9, 0, 1, 3, 5, 6, 8, 9, 0, 1, 3, 5, 6, 8, 9, 0, 1, 3, 5, 6, 8, 9, 0, 1, 3, 5, 6, 8, 9, 0, 1, 3, 5, 6, 8, 9, 0, 1, 3, 5, 6, 8, 9, 0, 1, 3, 5, 6, 8, 9, 0, 1, 3, 5, 6, 8, 9, 0, 1, 3, 5, 6, 8, 9, 0, 1, 3, 5, 6, 8, 9, 0, 1, 3, 5, 6, 8, 9, 0, 1, 3, 5, 6, 8, 9, 0, 1, 3, 5, 6, 8, 9, 0, 1, 3, 5, 6, 8, 9, 0, 1, 3, 5, 6, 8, 9, 0, 1, 3, 5, 6, 8, 9, 0, 1, 3, 5, 6, 8, 9, 0, 1, 3, 5, 6, 8, 9, 0, 1, 3, 5, 6, 8, 9, 0, 1, 3, 5, 6, 8, 9, 0, 1, 3, 5, 6, 8, 9, 0, 1, 3, 5, 6, 8, 9, 0, 1, 3, 5, 6, 8, 9, 0, 1, 3, 5, 6, 8, 9, 0, 1, 3, 5, 6, 8, 9, 0, 1, 3, 5, 6, 8, 9, 0, 1, 3, 5, 6, 8, 9, 0, 1, 3, 5, 6, 8, 9, 0, 1, 3, 5, 6, 8, 9, 0, 1, 3, 5, 6, 8, 9, 0, 1, 3, 5, 6, 8, 9, 0, 1, 3, 5, 6, 8, 9]\n"
     ]
    },
    {
     "ename": "UndefVarError",
     "evalue": "UndefVarError: `fit` not defined",
     "output_type": "error",
     "traceback": [
      "UndefVarError: `fit` not defined\n",
      "\n",
      "Stacktrace:\n",
      " [1] top-level scope\n",
      "   @ c:\\Users\\20192809\\Documents\\GitHub\\EDES-thesis\\SymbolicRegression.ipynb:10"
     ]
    }
   ],
   "source": [
    "# plot the diabetic fits k5 values in one plot on the y axis vs the long time scale on the x axis\n",
    "k5_values = df_fits_diabetic[!,\"k5\"]\n",
    "long_time_scale = [0,1,3,5,6,8,9]\n",
    "long_time_scale_repeat = repeat(long_time_scale, outer = size(k5_values,1))\n",
    "println(long_time_scale_repeat)\n",
    "plot(long_time_scale_repeat, k5_values, seriestype = :scatter, legend = false, xlabel = \"Long time scale\", ylabel = \"k5\", title = \"Diabetic fits k5 values vs long time scale\")\n",
    "\n",
    "# draw splines through the points\n",
    "# fit a spline to the data\n",
    "spline = interpolate(long_time_scale, k5_values, BSpline(Quadratic(Line(OnCell())))\n",
    "plot!(spline, long_time_scale[1], long_time_scale[end], label = \"Spline fit\", lw = 2)"
   ]
  },
  {
   "cell_type": "code",
   "execution_count": 22,
   "metadata": {},
   "outputs": [
    {
     "name": "stdout",
     "output_type": "stream",
     "text": [
      "\u001b[1m7×7 DataFrame\u001b[0m\n",
      "\u001b[1m Row \u001b[0m│\u001b[1m ID      \u001b[0m\u001b[1m Meal Test \u001b[0m\u001b[1m Health status \u001b[0m\u001b[1m k1        \u001b[0m\u001b[1m k5         \u001b[0m\u001b[1m k6      \u001b[0m\u001b[1m k8      \u001b[0m\n",
      "     │\u001b[90m Float64 \u001b[0m\u001b[90m Float64   \u001b[0m\u001b[90m Float64       \u001b[0m\u001b[90m Float64   \u001b[0m\u001b[90m Float64    \u001b[0m\u001b[90m Float64 \u001b[0m\u001b[90m Float64 \u001b[0m\n",
      "─────┼────────────────────────────────────────────────────────────────────────────\n",
      "   1 │     9.0        1.0            0.0  0.0104323  0.0176969   4.76068  7.31664\n",
      "   2 │     9.0        2.0            0.0  0.0105906  0.0172111   4.83708  6.99317\n",
      "   3 │     9.0        3.0            0.0  0.01064    0.0124839   6.12522  8.2652\n",
      "   4 │     9.0        4.0            0.0  0.0104388  0.0105636   6.43597  7.81644\n",
      "   5 │     9.0        5.0            0.0  0.010475   0.0106977   5.30915  7.03222\n",
      "   6 │     9.0        6.0            0.0  0.0104189  0.00853009  3.98395  7.02128\n",
      "   7 │     9.0        7.0            0.0  0.0103762  0.00603877  3.86536  6.95791\n",
      "[0.0; 1.0; 3.0; 5.0; 6.0; 8.0; 9.0;;]\n",
      "[0.01734628159166582; 0.015560100420608174; 0.013166201354272841; 0.011606303168313244; 0.010900300867591091; 0.008455061919656861; 0.005810596565899253;;]\n"
     ]
    },
    {
     "name": "stderr",
     "output_type": "stream",
     "text": [
      "┌ Info: Started!\n",
      "└ @ SymbolicRegression C:\\Users\\20192809\\.julia\\packages\\SymbolicRegression\\FtJSD\\src\\SymbolicRegression.jl:831\n",
      "0.0%┣                                               ┫ 0/50 [00:00<00:-1, -0s/it]Expressions evaluated per second: [.....]. Head worker occupation: 0.0%         Press 'q' and then <enter> to stop execution early.                             Hall of Fame:                                                                   ---------------------------------------------------------------------------------------------------                                                             Complexity  Loss       Score     Equation                                       3           3.307e+00  1.201e+01  y = 0.32876 * x₁                              5           1.536e-04  4.989e+00  y = (x₁ - x₁) * x₁                            7           6.119e-05  4.602e-01  y = ((x₁ - x₁) * x₁) - -0.004931              11          6.103e-05  6.670e-04  y = ((x₁ - (x₁ - -0.00055351)) * (x₁ + -10.049)) * x₁                                                                         ---------------------------------------------------------------------------------------------------\n",
      "10.0%┣████▋                                         ┫ 1A5/50 [00:00<00:01, 49it/s]Expressions evaluated per second: [.....]. Head worker occupation: 44.4%. This is high, and will prevent efficient resource usage. Increase `ncycles_per_iteration` to reduce load on head worker.                                              Press 'q' and then <enter> to stop execution early.                             Hall of Fame:                                                                   ---------------------------------------------------------------------------------------------------                                                             Complexity  Loss       Score     Equation                                       1           1.352e-05  3.604e+01  y = 0.011835                                  5           1.352e-05  2.678e-14  y = x₁ - (x₁ + -0.011835)                     7           1.352e-05  2.720e-15  y = 0.94075 - (x₁ + (0.92891 - x₁))           13          3.087e-06  2.462e-01  y = x₁ - (x₁ + ((((x₁ + -0.54015) * -0.025681) - -0.42707) * -...                                                                                               0.03247))                                     17          1.544e-06  1.733e-01  y = x₁ - (x₁ + (-0.067855 * (((-1.6824 * ((0.32947 * -0.092593...                                                                                               ) * -0.36978)) * x₁) - -0.27625)))            19          3.636e-07  7.229e-01  y = x₁ - (x₁ + (-0.067855 * (((-1.6824 - (0.90314 * x₁)) * ((0...                                                                                               .52177 * -0.092593) * -0.36978)) - -0.27625)))                                                                                ---------------------------------------------------------------------------------------------------\n",
      "24.0%┣██████████▉                                  ┫ 12/50 [00:00<00:01, 64it/s]Expressions evaluated per second: [.....]. Head worker occupation: 21.2%        Press 'q' and then <enter> to stop execution early.                             Hall of Fame:                                                                   ---------------------------------------------------------------------------------------------------                                                             Complexity  Loss       Score     Equation                                       1           1.352e-05  3.604e+01  y = 0.011835                                  5           1.352e-05  2.678e-14  y = x₁ - (x₁ + -0.011835)                     7           1.352e-05  2.720e-15  y = 0.94075 - (x₁ + (0.92891 - x₁))           13          3.087e-06  2.462e-01  y = x₁ - (x₁ + ((((x₁ + -0.54015) * -0.025681) - -0.42707) * -...                                                                                               0.03247))                                     17          1.544e-06  1.733e-01  y = x₁ - (x₁ + (-0.067855 * (((-1.6824 * ((0.32947 * -0.092593...                                                                                               ) * -0.36978)) * x₁) - -0.27625)))            19          3.636e-07  7.229e-01  y = x₁ - (x₁ + (-0.067855 * (((-1.6824 - (0.90314 * x₁)) * ((0...                                                                                               .52177 * -0.092593) * -0.36978)) - -0.27625)))                                                                                ---------------------------------------------------------------------------------------------------\n",
      "36.0%┣████████████████▏                            ┫ 18/50 [00:00<00:00, 65it/s]Expressions evaluated per second: [.....]. Head worker occupation: 16.3%        Press 'q' and then <enter> to stop execution early.                             Hall of Fame:                                                                   ---------------------------------------------------------------------------------------------------                                                             Complexity  Loss       Score     Equation                                       1           1.352e-05  3.604e+01  y = 0.011835                                  5           1.352e-05  2.678e-14  y = x₁ - (x₁ + -0.011835)                     7           1.352e-05  2.720e-15  y = 0.94075 - (x₁ + (0.92891 - x₁))           11          4.487e-06  2.758e-01  y = x₁ - (x₁ + (((x₁ * -0.025681) - -0.42707) * -0.03247))                                                                    13          3.087e-06  1.871e-01  y = x₁ - (x₁ + ((((x₁ + -0.54015) * -0.025681) - -0.42707) * -...                                                                                               0.03247))                                     15          2.349e-06  1.366e-01  y = x₁ - ((((((x₁ + -0.54015) - 0.37742) * -0.025681) - -0.427...                                                                                               07) * -0.03247) + x₁)                         17          1.544e-06  2.100e-01  y = x₁ - (x₁ + (-0.067855 * (((-1.6824 * ((0.32947 * -0.092593...                                                                                               ) * -0.36978)) * x₁) - -0.27625)))            19          3.636e-07  7.229e-01  y = x₁ - (x₁ + (-0.067855 * (((-1.6824 - (0.90314 * x₁)) * ((0...                                                                                               .52177 * -0.092593) * -0.36978)) - -0.27625)))                                                                                ---------------------------------------------------------------------------------------------------\n",
      "42.0%┣███████████████████                          ┫ 21/50 [00:00<00:00, 64it/s]Expressions evaluated per second: [.....]. Head worker occupation: 19.2%        Press 'q' and then <enter> to stop execution early.                             Hall of Fame:                                                                   ---------------------------------------------------------------------------------------------------                                                             Complexity  Loss       Score     Equation                                       1           1.352e-05  3.604e+01  y = 0.011835                                  5           1.352e-05  2.678e-14  y = x₁ - (x₁ + -0.011835)                     7           1.352e-05  2.720e-15  y = 0.94075 - (x₁ + (0.92891 - x₁))           11          4.487e-06  2.758e-01  y = x₁ - (x₁ + (((x₁ * -0.025681) - -0.42707) * -0.03247))                                                                    13          3.087e-06  1.871e-01  y = x₁ - (x₁ + ((((x₁ + -0.54015) * -0.025681) - -0.42707) * -...                                                                                               0.03247))                                     15          1.332e-06  4.201e-01  y = x₁ - (x₁ + ((((x₁ + (-0.54015 - 1.4579)) * -0.025681) - -0...                                                                                               .42707) * -0.03247))                          19          3.636e-07  3.246e-01  y = x₁ - (x₁ + (-0.067855 * (((-1.6824 - (0.90314 * x₁)) * ((0...                                                                                               .52177 * -0.092593) * -0.36978)) - -0.27625)))                                                                                ---------------------------------------------------------------------------------------------------\n",
      "52.0%┣███████████████████████▍                     ┫ 26/50 [00:00<00:00, 67it/s]Expressions evaluated per second: [.....]. Head worker occupation: 22.7%        Press 'q' and then <enter> to stop execution early.                             Hall of Fame:                                                                   ---------------------------------------------------------------------------------------------------                                                             Complexity  Loss       Score     Equation                                       1           1.352e-05  3.604e+01  y = 0.011835                                  5           1.352e-05  2.678e-14  y = x₁ - (x₁ + -0.011835)                     7           1.352e-05  2.720e-15  y = 0.94075 - (x₁ + (0.92891 - x₁))           11          4.487e-06  2.758e-01  y = x₁ - (x₁ + (((x₁ * -0.025681) - -0.42707) * -0.03247))                                                                    13          3.087e-06  1.871e-01  y = x₁ - (x₁ + ((((x₁ + -0.54015) * -0.025681) - -0.42707) * -...                                                                                               0.03247))                                     15          3.133e-07  1.144e+00  y = x₁ - (x₁ + ((((-1.6823 - (x₁ * 0.90316)) * 0.018331) - -0....                                                                                               27664) * -0.06957))                           ---------------------------------------------------------------------------------------------------\n",
      "66.0%┣█████████████████████████████▊               ┫ 33/50 [00:00<00:00, 74it/s]Expressions evaluated per second: [.....]. Head worker occupation: 23.1%        Press 'q' and then <enter> to stop execution early.                             Hall of Fame:                                                                   ---------------------------------------------------------------------------------------------------                                                             Complexity  Loss       Score     Equation                                       1           1.352e-05  3.604e+01  y = 0.011835                                  5           1.352e-05  2.678e-14  y = x₁ - (x₁ + -0.011835)                     7           1.352e-05  2.720e-15  y = 0.94075 - (x₁ + (0.92891 - x₁))           11          4.487e-06  2.758e-01  y = x₁ - (x₁ + (((x₁ * -0.025681) - -0.42707) * -0.03247))                                                                    13          3.087e-06  1.871e-01  y = x₁ - (x₁ + ((((x₁ + -0.54015) * -0.025681) - -0.42707) * -...                                                                                               0.03247))                                     15          3.133e-07  1.144e+00  y = x₁ - (x₁ + (((((x₁ + 0.90977) + x₁) * -0.019769) - -0.6050...                                                                                               3) * -0.029129))                              ---------------------------------------------------------------------------------------------------\n",
      "78.0%┣███████████████████████████████████          ┫ 39/50 [00:00<00:00, 78it/s]Expressions evaluated per second: [.....]. Head worker occupation: 23.1%        Press 'q' and then <enter> to stop execution early.                             Hall of Fame:                                                                   ---------------------------------------------------------------------------------------------------                                                             Complexity  Loss       Score     Equation                                       1           1.352e-05  3.604e+01  y = 0.011835                                  5           1.352e-05  2.678e-14  y = x₁ - (x₁ + -0.011835)                     7           1.352e-05  2.720e-15  y = 0.94075 - (x₁ + (0.92891 - x₁))           11          4.487e-06  2.758e-01  y = x₁ - (x₁ + (((x₁ * -0.025681) - -0.42707) * -0.03247))                                                                    13          3.133e-07  1.331e+00  y = x₁ - (((((x₁ - 1.8186) * -0.032761) - -0.42682) * -0.03515...                                                                                               6) + x₁)                                      15          3.133e-07  3.280e-08  y = x₁ - (x₁ + (((((x₁ + 0.90977) + x₁) * -0.019769) - -0.6050...                                                                                               3) * -0.029129))                              19          3.133e-07  2.902e-13  y = (0.011352 - (((x₁ * 1.7538) + (((x₁ - x₁) + (x₁ + 0.89322)...                                                                                               ) * 0.14942)) * 0.00039984)) * 1.5135         ---------------------------------------------------------------------------------------------------\n",
      "90.0%┣████████████████████████████████████████▌    ┫ 45/50 [00:01<00:00, 80it/s]Expressions evaluated per second: [.....]. Head worker occupation: 24.2%        Press 'q' and then <enter> to stop execution early.                             Hall of Fame:                                                                   ---------------------------------------------------------------------------------------------------                                                             Complexity  Loss       Score     Equation                                       1           1.352e-05  3.604e+01  y = 0.011835                                  5           1.352e-05  2.678e-14  y = x₁ - (x₁ + -0.011835)                     7           1.352e-05  2.720e-15  y = 0.94075 - (x₁ + (0.92891 - x₁))           11          3.133e-07  9.413e-01  y = x₁ - (x₁ + (((x₁ * -0.028822) - -0.42794) * -0.039958))                                                                   15          3.133e-07  8.898e-09  y = x₁ - (x₁ + (((((x₁ + 0.90977) + x₁) * -0.019769) - -0.6050...                                                                                               3) * -0.029129))                              19          3.133e-07  2.902e-13  y = (0.011352 - (((x₁ * 1.7538) + (((x₁ - x₁) + (x₁ + 0.89322)...                                                                                               ) * 0.14942)) * 0.00039984)) * 1.5135         ---------------------------------------------------------------------------------------------------\n"
     ]
    }
   ],
   "source": [
    "# select a single individual\n",
    "df_individual = filter(row -> row[:ID] == 9, df_fits_diabetic)\n",
    "println(df_individual)\n",
    "# Define target and predictors\n",
    "target = :k5\n",
    "predictors = [:time_point]\n",
    "\n",
    "\n",
    "# Define the symbolic regression problem\n",
    "options = SymbolicRegression.Options(\n",
    "    binary_operators = (+, -, *),\t\n",
    "    npopulations = 10,\n",
    ")\n",
    "\n",
    "# Assume `ID` is the column that identifies individuals\n",
    "individual_ids = unique(df_fits_diabetic[!, :ID])\n",
    "\n",
    "# Initialize an empty array to store the results\n",
    "halloffames = []\n",
    "\n",
    "for id=1 #in individual_ids\n",
    "    # Filter the data for the current individual\n",
    "    df_individual = filter(row -> row[:ID] == id, df_fits_diabetic)\n",
    "\n",
    "    # add the time column (0,3,6,9)\n",
    "    df_individual[!, :time_point] = [0,1,3,5,6,8,9]\n",
    "\n",
    "    # Convert DataFrame to array\n",
    "    X = Matrix{Float64}(df_individual[:, predictors])\n",
    "    y = reshape(df_individual[:, target], :, 1)\n",
    "\n",
    "    println(X)\n",
    "    println(y)\n",
    "\n",
    "    # Perform the symbolic regression\n",
    "    halloffame = EquationSearch(X', y', niterations=5, options=options)\n",
    "\n",
    "\n",
    "    # Store the result\n",
    "    push!(halloffames, halloffame)\n",
    "end\n",
    "\n",
    "\n"
   ]
  },
  {
   "cell_type": "code",
   "execution_count": 23,
   "metadata": {},
   "outputs": [
    {
     "data": {
      "text/plain": [
       "1-element Vector{Any}:\n",
       " HallOfFame{Float64, Float64, Node{Float64}}(PopMember{Float64, Float64, Node{Float64}}[PopMember{Float64, Float64, Node{Float64}}(0.011834977983193044, 0.004552372459749525, 1.3523725405883242e-5, 17182918466880000, 1, 2674932735815078475, 5965140696411197007), PopMember{Float64, Float64, Node{Float64}}(1.0, 0.0, Inf, 17182918466760002, -1, 2151462231999607364, -1), PopMember{Float64, Float64, Node{Float64}}(0.9407457015267027 - 0.928910723519695, 0.010952372065241283, 1.3523725405883242e-5, 17182918471770000, 3, 4261274001606766539, 6310533722641113356), PopMember{Float64, Float64, Node{Float64}}(1.0, 0.0, Inf, 17182918466760002, -1, 4756505150425558516, -1), PopMember{Float64, Float64, Node{Float64}}(x1 - (x1 + -0.011834977984377333), 0.01735237143790225, 1.352372540588179e-5, 17182918466910000, 5, 8680565278478066156, 4240430586314165712), PopMember{Float64, Float64, Node{Float64}}(1.0, 0.0, Inf, 17182918466760002, -1, 7083629011652814768, -1), PopMember{Float64, Float64, Node{Float64}}(0.9407457015267027 - (x1 + (0.928910723519695 - x1)), 0.023752371741885932, 1.3523725405881714e-5, 17182918466910000, 7, 6310533722641113356, 1689136081452129915), PopMember{Float64, Float64, Node{Float64}}(1.0, 0.0, Inf, 17182918466760002, -1, 7316579005338906902, -1), PopMember{Float64, Float64, Node{Float64}}((((x1 * -0.0460192223801091) + 0.05407763450883069) - -0.627190199557119) * 0.025116655390354004, 0.02883134783944144, 3.134833415999309e-7, 17182918471659998, 9, 6848296328267970504, 5326912281938690919), PopMember{Float64, Float64, Node{Float64}}(1.0, 0.0, Inf, 17182918466760002, -1, 1846580567300033974, -1)  …  PopMember{Float64, Float64, Node{Float64}}(x1 - (((((x1 - 1.8185891561125964) * -0.032761009057305425) - -0.42682142527000716) * -0.03515641982233148) + x1), 0.04163132556607396, 3.132545282513913e-7, 17182918470930000, 13, 6546667042753795696, 8813513797307511952), PopMember{Float64, Float64, Node{Float64}}(1.0, 0.0, Inf, 17182918466760002, -1, 6372263113655318102, -1), PopMember{Float64, Float64, Node{Float64}}(x1 - (x1 + (((((x1 + 0.9097660388246908) + x1) * -0.019769488478202712) - -0.6050340385036694) * -0.029128753066891496)), 0.04803132586800266, 3.1325450770152044e-7, 17182918470309998, 15, 6494436113453559106, 7359652088135239628), PopMember{Float64, Float64, Node{Float64}}(1.0, 0.0, Inf, 17182918466760002, -1, 5184280209812205431, -1), PopMember{Float64, Float64, Node{Float64}}(x1 - (((((((x1 + -1.5229344453819458) * -0.5920952360744539) - x1) * 0.018795708221799032) - -0.427351515310682) * -0.0384874780387499) + x1), 0.05443132244669607, 3.132545077016708e-7, 17182918470830000, 17, 6312876060518205501, 401363200859740264), PopMember{Float64, Float64, Node{Float64}}(1.0, 0.0, Inf, 17182918466760002, -1, 7864544074716415514, -1), PopMember{Float64, Float64, Node{Float64}}((0.01135177895790687 - (((x1 * 1.7537674998709738) + (((x1 - x1) + (x1 + 0.8932177733426173)) * 0.1494226075874227)) * 0.0003998404615482848)) * 1.5134857827549808, 0.060831322750679706, 3.1325450770115674e-7, 17182918470639998, 19, 41683545812481277, 5379974993017998492), PopMember{Float64, Float64, Node{Float64}}(1.0, 0.0, Inf, 17182918466760002, -1, 2453690071462647039, -1), PopMember{Float64, Float64, Node{Float64}}(1.0, 0.0, Inf, 17182918466760002, -1, 6767023859525269578, -1), PopMember{Float64, Float64, Node{Float64}}(1.0, 0.0, Inf, 17182918466760002, -1, 856420181868252313, -1)], Bool[1, 0, 1, 0, 1, 0, 1, 0, 1, 0  …  1, 0, 1, 0, 1, 0, 1, 0, 0, 0])"
      ]
     },
     "metadata": {},
     "output_type": "display_data"
    }
   ],
   "source": [
    "halloffames"
   ]
  }
 ],
 "metadata": {
  "kernelspec": {
   "display_name": "Julia 1.10.1",
   "language": "julia",
   "name": "julia-1.10"
  },
  "language_info": {
   "file_extension": ".jl",
   "mimetype": "application/julia",
   "name": "julia",
   "version": "1.10.1"
  }
 },
 "nbformat": 4,
 "nbformat_minor": 2
}
