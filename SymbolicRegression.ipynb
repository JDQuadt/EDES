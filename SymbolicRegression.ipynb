{
 "cells": [
  {
   "cell_type": "code",
   "execution_count": 8,
   "metadata": {},
   "outputs": [],
   "source": [
    "using SymbolicRegression\n",
    "using DataFrames, CSV\n",
    "using ShiftedArrays\n",
    "using Plots\n",
    "using Interpolations\n",
    "\n",
    "import SymbolicRegression\n",
    "\n",
    "\n"
   ]
  },
  {
   "cell_type": "code",
   "execution_count": 9,
   "metadata": {},
   "outputs": [
    {
     "data": {
      "text/html": [
       "<div><div style = \"float: left;\"><span>35×7 DataFrame</span></div><div style = \"float: right;\"><span style = \"font-style: italic;\">10 rows omitted</span></div><div style = \"clear: both;\"></div></div><div class = \"data-frame\" style = \"overflow-x: scroll;\"><table class = \"data-frame\" style = \"margin-bottom: 6px;\"><thead><tr class = \"header\"><th class = \"rowNumber\" style = \"font-weight: bold; text-align: right;\">Row</th><th style = \"text-align: left;\">ID</th><th style = \"text-align: left;\">Meal Test</th><th style = \"text-align: left;\">Health status</th><th style = \"text-align: left;\">k1</th><th style = \"text-align: left;\">k5</th><th style = \"text-align: left;\">k6</th><th style = \"text-align: left;\">k8</th></tr><tr class = \"subheader headerLastRow\"><th class = \"rowNumber\" style = \"font-weight: bold; text-align: right;\"></th><th title = \"Float64\" style = \"text-align: left;\">Float64</th><th title = \"Float64\" style = \"text-align: left;\">Float64</th><th title = \"Float64\" style = \"text-align: left;\">Float64</th><th title = \"Float64\" style = \"text-align: left;\">Float64</th><th title = \"Float64\" style = \"text-align: left;\">Float64</th><th title = \"Float64\" style = \"text-align: left;\">Float64</th><th title = \"Float64\" style = \"text-align: left;\">Float64</th></tr></thead><tbody><tr><td class = \"rowNumber\" style = \"font-weight: bold; text-align: right;\">1</td><td style = \"text-align: right;\">1.0</td><td style = \"text-align: right;\">1.0</td><td style = \"text-align: right;\">0.0</td><td style = \"text-align: right;\">0.0104072</td><td style = \"text-align: right;\">0.0173463</td><td style = \"text-align: right;\">4.40951</td><td style = \"text-align: right;\">7.354</td></tr><tr><td class = \"rowNumber\" style = \"font-weight: bold; text-align: right;\">2</td><td style = \"text-align: right;\">1.0</td><td style = \"text-align: right;\">2.0</td><td style = \"text-align: right;\">0.0</td><td style = \"text-align: right;\">0.0104362</td><td style = \"text-align: right;\">0.0155601</td><td style = \"text-align: right;\">5.10032</td><td style = \"text-align: right;\">7.57521</td></tr><tr><td class = \"rowNumber\" style = \"font-weight: bold; text-align: right;\">3</td><td style = \"text-align: right;\">1.0</td><td style = \"text-align: right;\">3.0</td><td style = \"text-align: right;\">0.0</td><td style = \"text-align: right;\">0.0105299</td><td style = \"text-align: right;\">0.0131662</td><td style = \"text-align: right;\">5.54484</td><td style = \"text-align: right;\">7.59195</td></tr><tr><td class = \"rowNumber\" style = \"font-weight: bold; text-align: right;\">4</td><td style = \"text-align: right;\">1.0</td><td style = \"text-align: right;\">4.0</td><td style = \"text-align: right;\">0.0</td><td style = \"text-align: right;\">0.0104272</td><td style = \"text-align: right;\">0.0116063</td><td style = \"text-align: right;\">5.3463</td><td style = \"text-align: right;\">7.08974</td></tr><tr><td class = \"rowNumber\" style = \"font-weight: bold; text-align: right;\">5</td><td style = \"text-align: right;\">1.0</td><td style = \"text-align: right;\">5.0</td><td style = \"text-align: right;\">0.0</td><td style = \"text-align: right;\">0.0103704</td><td style = \"text-align: right;\">0.0109003</td><td style = \"text-align: right;\">4.90771</td><td style = \"text-align: right;\">6.83445</td></tr><tr><td class = \"rowNumber\" style = \"font-weight: bold; text-align: right;\">6</td><td style = \"text-align: right;\">1.0</td><td style = \"text-align: right;\">6.0</td><td style = \"text-align: right;\">0.0</td><td style = \"text-align: right;\">0.0104962</td><td style = \"text-align: right;\">0.00845506</td><td style = \"text-align: right;\">3.49573</td><td style = \"text-align: right;\">7.08165</td></tr><tr><td class = \"rowNumber\" style = \"font-weight: bold; text-align: right;\">7</td><td style = \"text-align: right;\">1.0</td><td style = \"text-align: right;\">7.0</td><td style = \"text-align: right;\">0.0</td><td style = \"text-align: right;\">0.0104589</td><td style = \"text-align: right;\">0.0058106</td><td style = \"text-align: right;\">3.53309</td><td style = \"text-align: right;\">7.01873</td></tr><tr><td class = \"rowNumber\" style = \"font-weight: bold; text-align: right;\">8</td><td style = \"text-align: right;\">3.0</td><td style = \"text-align: right;\">1.0</td><td style = \"text-align: right;\">0.0</td><td style = \"text-align: right;\">0.0105075</td><td style = \"text-align: right;\">0.0177411</td><td style = \"text-align: right;\">4.13964</td><td style = \"text-align: right;\">6.68463</td></tr><tr><td class = \"rowNumber\" style = \"font-weight: bold; text-align: right;\">9</td><td style = \"text-align: right;\">3.0</td><td style = \"text-align: right;\">2.0</td><td style = \"text-align: right;\">0.0</td><td style = \"text-align: right;\">0.0106055</td><td style = \"text-align: right;\">0.0147333</td><td style = \"text-align: right;\">4.93145</td><td style = \"text-align: right;\">7.50868</td></tr><tr><td class = \"rowNumber\" style = \"font-weight: bold; text-align: right;\">10</td><td style = \"text-align: right;\">3.0</td><td style = \"text-align: right;\">3.0</td><td style = \"text-align: right;\">0.0</td><td style = \"text-align: right;\">0.0103432</td><td style = \"text-align: right;\">0.0148735</td><td style = \"text-align: right;\">5.3038</td><td style = \"text-align: right;\">6.26741</td></tr><tr><td class = \"rowNumber\" style = \"font-weight: bold; text-align: right;\">11</td><td style = \"text-align: right;\">3.0</td><td style = \"text-align: right;\">4.0</td><td style = \"text-align: right;\">0.0</td><td style = \"text-align: right;\">0.0104012</td><td style = \"text-align: right;\">0.0117033</td><td style = \"text-align: right;\">5.26826</td><td style = \"text-align: right;\">6.65639</td></tr><tr><td class = \"rowNumber\" style = \"font-weight: bold; text-align: right;\">12</td><td style = \"text-align: right;\">3.0</td><td style = \"text-align: right;\">5.0</td><td style = \"text-align: right;\">0.0</td><td style = \"text-align: right;\">0.0103811</td><td style = \"text-align: right;\">0.0101047</td><td style = \"text-align: right;\">5.16378</td><td style = \"text-align: right;\">6.91062</td></tr><tr><td class = \"rowNumber\" style = \"font-weight: bold; text-align: right;\">13</td><td style = \"text-align: right;\">3.0</td><td style = \"text-align: right;\">6.0</td><td style = \"text-align: right;\">0.0</td><td style = \"text-align: right;\">0.0104027</td><td style = \"text-align: right;\">0.00686387</td><td style = \"text-align: right;\">4.43842</td><td style = \"text-align: right;\">7.31214</td></tr><tr><td style = \"text-align: right;\">&vellip;</td><td style = \"text-align: right;\">&vellip;</td><td style = \"text-align: right;\">&vellip;</td><td style = \"text-align: right;\">&vellip;</td><td style = \"text-align: right;\">&vellip;</td><td style = \"text-align: right;\">&vellip;</td><td style = \"text-align: right;\">&vellip;</td><td style = \"text-align: right;\">&vellip;</td></tr><tr><td class = \"rowNumber\" style = \"font-weight: bold; text-align: right;\">24</td><td style = \"text-align: right;\">7.0</td><td style = \"text-align: right;\">3.0</td><td style = \"text-align: right;\">0.0</td><td style = \"text-align: right;\">0.0104802</td><td style = \"text-align: right;\">0.0131599</td><td style = \"text-align: right;\">7.03225</td><td style = \"text-align: right;\">7.82309</td></tr><tr><td class = \"rowNumber\" style = \"font-weight: bold; text-align: right;\">25</td><td style = \"text-align: right;\">7.0</td><td style = \"text-align: right;\">4.0</td><td style = \"text-align: right;\">0.0</td><td style = \"text-align: right;\">0.0105236</td><td style = \"text-align: right;\">0.0124565</td><td style = \"text-align: right;\">5.95692</td><td style = \"text-align: right;\">6.93404</td></tr><tr><td class = \"rowNumber\" style = \"font-weight: bold; text-align: right;\">26</td><td style = \"text-align: right;\">7.0</td><td style = \"text-align: right;\">5.0</td><td style = \"text-align: right;\">0.0</td><td style = \"text-align: right;\">0.0105048</td><td style = \"text-align: right;\">0.00965394</td><td style = \"text-align: right;\">6.48187</td><td style = \"text-align: right;\">7.82711</td></tr><tr><td class = \"rowNumber\" style = \"font-weight: bold; text-align: right;\">27</td><td style = \"text-align: right;\">7.0</td><td style = \"text-align: right;\">6.0</td><td style = \"text-align: right;\">0.0</td><td style = \"text-align: right;\">0.0105778</td><td style = \"text-align: right;\">0.00808294</td><td style = \"text-align: right;\">4.49276</td><td style = \"text-align: right;\">7.09993</td></tr><tr><td class = \"rowNumber\" style = \"font-weight: bold; text-align: right;\">28</td><td style = \"text-align: right;\">7.0</td><td style = \"text-align: right;\">7.0</td><td style = \"text-align: right;\">0.0</td><td style = \"text-align: right;\">0.0105715</td><td style = \"text-align: right;\">0.00677929</td><td style = \"text-align: right;\">3.56364</td><td style = \"text-align: right;\">7.38376</td></tr><tr><td class = \"rowNumber\" style = \"font-weight: bold; text-align: right;\">29</td><td style = \"text-align: right;\">9.0</td><td style = \"text-align: right;\">1.0</td><td style = \"text-align: right;\">0.0</td><td style = \"text-align: right;\">0.0104323</td><td style = \"text-align: right;\">0.0176969</td><td style = \"text-align: right;\">4.76068</td><td style = \"text-align: right;\">7.31664</td></tr><tr><td class = \"rowNumber\" style = \"font-weight: bold; text-align: right;\">30</td><td style = \"text-align: right;\">9.0</td><td style = \"text-align: right;\">2.0</td><td style = \"text-align: right;\">0.0</td><td style = \"text-align: right;\">0.0105906</td><td style = \"text-align: right;\">0.0172111</td><td style = \"text-align: right;\">4.83708</td><td style = \"text-align: right;\">6.99317</td></tr><tr><td class = \"rowNumber\" style = \"font-weight: bold; text-align: right;\">31</td><td style = \"text-align: right;\">9.0</td><td style = \"text-align: right;\">3.0</td><td style = \"text-align: right;\">0.0</td><td style = \"text-align: right;\">0.01064</td><td style = \"text-align: right;\">0.0124839</td><td style = \"text-align: right;\">6.12522</td><td style = \"text-align: right;\">8.2652</td></tr><tr><td class = \"rowNumber\" style = \"font-weight: bold; text-align: right;\">32</td><td style = \"text-align: right;\">9.0</td><td style = \"text-align: right;\">4.0</td><td style = \"text-align: right;\">0.0</td><td style = \"text-align: right;\">0.0104388</td><td style = \"text-align: right;\">0.0105636</td><td style = \"text-align: right;\">6.43597</td><td style = \"text-align: right;\">7.81644</td></tr><tr><td class = \"rowNumber\" style = \"font-weight: bold; text-align: right;\">33</td><td style = \"text-align: right;\">9.0</td><td style = \"text-align: right;\">5.0</td><td style = \"text-align: right;\">0.0</td><td style = \"text-align: right;\">0.010475</td><td style = \"text-align: right;\">0.0106977</td><td style = \"text-align: right;\">5.30915</td><td style = \"text-align: right;\">7.03222</td></tr><tr><td class = \"rowNumber\" style = \"font-weight: bold; text-align: right;\">34</td><td style = \"text-align: right;\">9.0</td><td style = \"text-align: right;\">6.0</td><td style = \"text-align: right;\">0.0</td><td style = \"text-align: right;\">0.0104189</td><td style = \"text-align: right;\">0.00853009</td><td style = \"text-align: right;\">3.98395</td><td style = \"text-align: right;\">7.02128</td></tr><tr><td class = \"rowNumber\" style = \"font-weight: bold; text-align: right;\">35</td><td style = \"text-align: right;\">9.0</td><td style = \"text-align: right;\">7.0</td><td style = \"text-align: right;\">0.0</td><td style = \"text-align: right;\">0.0103762</td><td style = \"text-align: right;\">0.00603877</td><td style = \"text-align: right;\">3.86536</td><td style = \"text-align: right;\">6.95791</td></tr></tbody></table></div>"
      ],
      "text/latex": [
       "\\begin{tabular}{r|ccccccc}\n",
       "\t& ID & Meal Test & Health status & k1 & k5 & k6 & k8\\\\\n",
       "\t\\hline\n",
       "\t& Float64 & Float64 & Float64 & Float64 & Float64 & Float64 & Float64\\\\\n",
       "\t\\hline\n",
       "\t1 & 1.0 & 1.0 & 0.0 & 0.0104072 & 0.0173463 & 4.40951 & 7.354 \\\\\n",
       "\t2 & 1.0 & 2.0 & 0.0 & 0.0104362 & 0.0155601 & 5.10032 & 7.57521 \\\\\n",
       "\t3 & 1.0 & 3.0 & 0.0 & 0.0105299 & 0.0131662 & 5.54484 & 7.59195 \\\\\n",
       "\t4 & 1.0 & 4.0 & 0.0 & 0.0104272 & 0.0116063 & 5.3463 & 7.08974 \\\\\n",
       "\t5 & 1.0 & 5.0 & 0.0 & 0.0103704 & 0.0109003 & 4.90771 & 6.83445 \\\\\n",
       "\t6 & 1.0 & 6.0 & 0.0 & 0.0104962 & 0.00845506 & 3.49573 & 7.08165 \\\\\n",
       "\t7 & 1.0 & 7.0 & 0.0 & 0.0104589 & 0.0058106 & 3.53309 & 7.01873 \\\\\n",
       "\t8 & 3.0 & 1.0 & 0.0 & 0.0105075 & 0.0177411 & 4.13964 & 6.68463 \\\\\n",
       "\t9 & 3.0 & 2.0 & 0.0 & 0.0106055 & 0.0147333 & 4.93145 & 7.50868 \\\\\n",
       "\t10 & 3.0 & 3.0 & 0.0 & 0.0103432 & 0.0148735 & 5.3038 & 6.26741 \\\\\n",
       "\t11 & 3.0 & 4.0 & 0.0 & 0.0104012 & 0.0117033 & 5.26826 & 6.65639 \\\\\n",
       "\t12 & 3.0 & 5.0 & 0.0 & 0.0103811 & 0.0101047 & 5.16378 & 6.91062 \\\\\n",
       "\t13 & 3.0 & 6.0 & 0.0 & 0.0104027 & 0.00686387 & 4.43842 & 7.31214 \\\\\n",
       "\t14 & 3.0 & 7.0 & 0.0 & 0.010276 & 0.00693629 & 2.98742 & 7.21601 \\\\\n",
       "\t15 & 5.0 & 1.0 & 0.0 & 0.0105206 & 0.0167211 & 5.03029 & 7.42066 \\\\\n",
       "\t16 & 5.0 & 2.0 & 0.0 & 0.010592 & 0.0147223 & 5.77245 & 7.9008 \\\\\n",
       "\t17 & 5.0 & 3.0 & 0.0 & 0.0105115 & 0.0124605 & 6.76764 & 7.84633 \\\\\n",
       "\t18 & 5.0 & 4.0 & 0.0 & 0.0106039 & 0.0111794 & 5.92788 & 7.30673 \\\\\n",
       "\t19 & 5.0 & 5.0 & 0.0 & 0.0103708 & 0.00982335 & 6.2458 & 7.24046 \\\\\n",
       "\t20 & 5.0 & 6.0 & 0.0 & 0.0105444 & 0.00723845 & 4.69433 & 7.37623 \\\\\n",
       "\t21 & 5.0 & 7.0 & 0.0 & 0.0103778 & 0.00677809 & 3.51366 & 7.16487 \\\\\n",
       "\t22 & 7.0 & 1.0 & 0.0 & 0.0103961 & 0.0198797 & 4.92937 & 6.55507 \\\\\n",
       "\t23 & 7.0 & 2.0 & 0.0 & 0.0104886 & 0.0173026 & 5.64072 & 7.05593 \\\\\n",
       "\t24 & 7.0 & 3.0 & 0.0 & 0.0104802 & 0.0131599 & 7.03225 & 7.82309 \\\\\n",
       "\t$\\dots$ & $\\dots$ & $\\dots$ & $\\dots$ & $\\dots$ & $\\dots$ & $\\dots$ & $\\dots$ \\\\\n",
       "\\end{tabular}\n"
      ],
      "text/plain": [
       "\u001b[1m35×7 DataFrame\u001b[0m\n",
       "\u001b[1m Row \u001b[0m│\u001b[1m ID      \u001b[0m\u001b[1m Meal Test \u001b[0m\u001b[1m Health status \u001b[0m\u001b[1m k1        \u001b[0m\u001b[1m k5         \u001b[0m\u001b[1m k6      \u001b[0m\u001b[1m k8  \u001b[0m ⋯\n",
       "     │\u001b[90m Float64 \u001b[0m\u001b[90m Float64   \u001b[0m\u001b[90m Float64       \u001b[0m\u001b[90m Float64   \u001b[0m\u001b[90m Float64    \u001b[0m\u001b[90m Float64 \u001b[0m\u001b[90m Floa\u001b[0m ⋯\n",
       "─────┼──────────────────────────────────────────────────────────────────────────\n",
       "   1 │     1.0        1.0            0.0  0.0104072  0.0173463   4.40951  7.35 ⋯\n",
       "   2 │     1.0        2.0            0.0  0.0104362  0.0155601   5.10032  7.57\n",
       "   3 │     1.0        3.0            0.0  0.0105299  0.0131662   5.54484  7.59\n",
       "   4 │     1.0        4.0            0.0  0.0104272  0.0116063   5.3463   7.08\n",
       "   5 │     1.0        5.0            0.0  0.0103704  0.0109003   4.90771  6.83 ⋯\n",
       "   6 │     1.0        6.0            0.0  0.0104962  0.00845506  3.49573  7.08\n",
       "   7 │     1.0        7.0            0.0  0.0104589  0.0058106   3.53309  7.01\n",
       "   8 │     3.0        1.0            0.0  0.0105075  0.0177411   4.13964  6.68\n",
       "  ⋮  │    ⋮         ⋮            ⋮            ⋮          ⋮          ⋮        ⋮ ⋱\n",
       "  29 │     9.0        1.0            0.0  0.0104323  0.0176969   4.76068  7.31 ⋯\n",
       "  30 │     9.0        2.0            0.0  0.0105906  0.0172111   4.83708  6.99\n",
       "  31 │     9.0        3.0            0.0  0.01064    0.0124839   6.12522  8.26\n",
       "  32 │     9.0        4.0            0.0  0.0104388  0.0105636   6.43597  7.81\n",
       "  33 │     9.0        5.0            0.0  0.010475   0.0106977   5.30915  7.03 ⋯\n",
       "  34 │     9.0        6.0            0.0  0.0104189  0.00853009  3.98395  7.02\n",
       "  35 │     9.0        7.0            0.0  0.0103762  0.00603877  3.86536  6.95\n",
       "\u001b[36m                                                    1 column and 20 rows omitted\u001b[0m"
      ]
     },
     "metadata": {},
     "output_type": "display_data"
    }
   ],
   "source": [
    "df_fits =  CSV.read(\"./Results/Synthetic_population_fits.csv\", DataFrame)\n",
    "df_fits_diabetic = df_fits[df_fits[!,\"Health status\"] .== 0.0, :]"
   ]
  },
  {
   "cell_type": "code",
   "execution_count": 21,
   "metadata": {},
   "outputs": [
    {
     "name": "stdout",
     "output_type": "stream",
     "text": [
      "[0.0, 1.0, 3.0, 5.0, 6.0, 8.0, 9.0, 0.0, 1.0, 3.0, 5.0, 6.0, 8.0, 9.0, 0.0, 1.0, 3.0, 5.0, 6.0, 8.0, 9.0, 0.0, 1.0, 3.0, 5.0, 6.0, 8.0, 9.0, 0.0, 1.0, 3.0, 5.0, 6.0, 8.0, 9.0, 0.0, 1.0, 3.0, 5.0, 6.0, 8.0, 9.0, 0.0, 1.0, 3.0, 5.0, 6.0, 8.0, 9.0, 0.0, 1.0, 3.0, 5.0, 6.0, 8.0, 9.0, 0.0, 1.0, 3.0, 5.0, 6.0, 8.0, 9.0, 0.0, 1.0, 3.0, 5.0, 6.0, 8.0, 9.0, 0.0, 1.0, 3.0, 5.0, 6.0, 8.0, 9.0, 0.0, 1.0, 3.0, 5.0, 6.0, 8.0, 9.0, 0.0, 1.0, 3.0, 5.0, 6.0, 8.0, 9.0, 0.0, 1.0, 3.0, 5.0, 6.0, 8.0, 9.0, 0.0, 1.0, 3.0, 5.0, 6.0, 8.0, 9.0, 0.0, 1.0, 3.0, 5.0, 6.0, 8.0, 9.0, 0.0, 1.0, 3.0, 5.0, 6.0, 8.0, 9.0, 0.0, 1.0, 3.0, 5.0, 6.0, 8.0, 9.0, 0.0, 1.0, 3.0, 5.0, 6.0, 8.0, 9.0, 0.0, 1.0, 3.0, 5.0, 6.0, 8.0, 9.0, 0.0, 1.0, 3.0, 5.0, 6.0, 8.0, 9.0, 0.0, 1.0, 3.0, 5.0, 6.0, 8.0, 9.0, 0.0, 1.0, 3.0, 5.0, 6.0, 8.0, 9.0, 0.0, 1.0, 3.0, 5.0, 6.0, 8.0, 9.0, 0.0, 1.0, 3.0, 5.0, 6.0, 8.0, 9.0, 0.0, 1.0, 3.0, 5.0, 6.0, 8.0, 9.0, 0.0, 1.0, 3.0, 5.0, 6.0, 8.0, 9.0, 0.0, 1.0, 3.0, 5.0, 6.0, 8.0, 9.0, 0.0, 1.0, 3.0, 5.0, 6.0, 8.0, 9.0, 0.0, 1.0, 3.0, 5.0, 6.0, 8.0, 9.0, 0.0, 1.0, 3.0, 5.0, 6.0, 8.0, 9.0, 0.0, 1.0, 3.0, 5.0, 6.0, 8.0, 9.0, 0.0, 1.0, 3.0, 5.0, 6.0, 8.0, 9.0, 0.0, 1.0, 3.0, 5.0, 6.0, 8.0, 9.0, 0.0, 1.0, 3.0, 5.0, 6.0, 8.0, 9.0]\n"
     ]
    },
    {
     "ename": "MethodError",
     "evalue": "MethodError: no method matching interpolate(::Tuple{Vector{Float64}}, ::Vector{Float64}, ::BSpline{Linear{Throw{OnGrid}}})\n\nClosest candidates are:\n  interpolate(::Tuple{Vararg{Union{AbstractVector{T}, Tuple} where T, N}}, ::AbstractArray{Tel, N}, !Matched::IT) where {Tel, N, IT<:Union{NoInterp, Tuple{Vararg{Union{NoInterp, Gridded}}}, Gridded}}\n   @ Interpolations C:\\Users\\20192809\\.julia\\packages\\Interpolations\\91PhN\\src\\gridded\\gridded.jl:165\n  interpolate(!Matched::Type{TWeights}, !Matched::Type{TC}, ::Any, !Matched::IT, !Matched::GT) where {TWeights, TC, IT<:Union{NoInterp, Tuple{Vararg{Union{NoInterp, BSpline}}}, BSpline}, GT<:Union{NoInterp, Tuple{Vararg{Union{NoInterp, Interpolations.GridType}}}, Interpolations.GridType}}\n   @ Interpolations C:\\Users\\20192809\\.julia\\packages\\Interpolations\\91PhN\\src\\deprecations.jl:14\n  interpolate(!Matched::Type{TWeights}, !Matched::Type{TC}, ::Any, !Matched::IT) where {TWeights, TC, IT<:Union{NoInterp, Tuple{Vararg{Union{NoInterp, BSpline}}}, BSpline}}\n   @ Interpolations C:\\Users\\20192809\\.julia\\packages\\Interpolations\\91PhN\\src\\b-splines\\b-splines.jl:166\n  ...\n",
     "output_type": "error",
     "traceback": [
      "MethodError: no method matching interpolate(::Tuple{Vector{Float64}}, ::Vector{Float64}, ::BSpline{Linear{Throw{OnGrid}}})\n",
      "\n",
      "Closest candidates are:\n",
      "  interpolate(::Tuple{Vararg{Union{AbstractVector{T}, Tuple} where T, N}}, ::AbstractArray{Tel, N}, !Matched::IT) where {Tel, N, IT<:Union{NoInterp, Tuple{Vararg{Union{NoInterp, Gridded}}}, Gridded}}\n",
      "   @ Interpolations C:\\Users\\20192809\\.julia\\packages\\Interpolations\\91PhN\\src\\gridded\\gridded.jl:165\n",
      "  interpolate(!Matched::Type{TWeights}, !Matched::Type{TC}, ::Any, !Matched::IT, !Matched::GT) where {TWeights, TC, IT<:Union{NoInterp, Tuple{Vararg{Union{NoInterp, BSpline}}}, BSpline}, GT<:Union{NoInterp, Tuple{Vararg{Union{NoInterp, Interpolations.GridType}}}, Interpolations.GridType}}\n",
      "   @ Interpolations C:\\Users\\20192809\\.julia\\packages\\Interpolations\\91PhN\\src\\deprecations.jl:14\n",
      "  interpolate(!Matched::Type{TWeights}, !Matched::Type{TC}, ::Any, !Matched::IT) where {TWeights, TC, IT<:Union{NoInterp, Tuple{Vararg{Union{NoInterp, BSpline}}}, BSpline}}\n",
      "   @ Interpolations C:\\Users\\20192809\\.julia\\packages\\Interpolations\\91PhN\\src\\b-splines\\b-splines.jl:166\n",
      "  ...\n",
      "\n",
      "\n",
      "Stacktrace:\n",
      " [1] top-level scope\n",
      "   @ c:\\Users\\20192809\\Documents\\GitHub\\EDES\\SymbolicRegression.ipynb:11"
     ]
    }
   ],
   "source": [
    "# plot the diabetic fits k5 values in one plot on the y axis vs the long time scale on the x axis\n",
    "k5_values = df_fits_diabetic[!,\"k5\"]\n",
    "long_time_scale = [0.,1.,3.,5.,6.,8.,9.]\n",
    "\n",
    "long_time_scale_repeat = repeat(long_time_scale, outer = size(k5_values,1))\n",
    "println(long_time_scale_repeat)\n",
    "plot(long_time_scale_repeat, k5_values, seriestype = :scatter, legend = false, xlabel = \"Long time scale\", ylabel = \"k5\", title = \"Diabetic fits k5 values vs long time scale\")\n",
    "\n",
    "# draw splines through the points\n",
    "# fit a spline to the data\n",
    "spline = interpolate(long_time_scale, k5_values, BSpline(Linear()))\n",
    "plot!(spline, long_time_scale[1], long_time_scale[end], label = \"Spline fit\", lw = 2)"
   ]
  },
  {
   "cell_type": "code",
   "execution_count": 24,
   "metadata": {},
   "outputs": [
    {
     "ename": "MethodError",
     "evalue": "MethodError: no method matching (::Interpolations.BSplineInterpolation{Float64, 1, Vector{Float64}, BSpline{Linear{Throw{OnGrid}}}, Tuple{Base.OneTo{Int64}}})(::Array{Union{Nothing, Int64}, 0})\nUse square brackets [] for indexing an Array.\n\nClosest candidates are:\n  (::Interpolations.BSplineInterpolation{T, N, TCoefs, IT, Axs} where {TCoefs<:AbstractArray, IT<:Union{NoInterp, Tuple{Vararg{Union{NoInterp, BSpline}}}, BSpline}, Axs<:Tuple{Vararg{AbstractUnitRange, N}}})(!Matched::Number...) where {T, N}\n   @ Interpolations C:\\Users\\20192809\\.julia\\packages\\Interpolations\\91PhN\\src\\b-splines\\indexing.jl:5\n  (::Interpolations.BSplineInterpolation{T, N, TCoefs, IT, Axs} where {TCoefs<:AbstractArray, IT<:Union{NoInterp, Tuple{Vararg{Union{NoInterp, BSpline}}}, BSpline}, Axs<:Tuple{Vararg{AbstractUnitRange, N}}})(!Matched::Number...) where {T, M, N}\n   @ Interpolations C:\\Users\\20192809\\.julia\\packages\\Interpolations\\91PhN\\src\\b-splines\\indexing.jl:10\n  (::Interpolations.BSplineInterpolation{T, N, TCoefs, IT, Axs} where {TCoefs<:AbstractArray, IT<:Union{NoInterp, Tuple{Vararg{Union{NoInterp, BSpline}}}, BSpline}, Axs<:Tuple{Vararg{AbstractUnitRange, N}}})(!Matched::Union{Number, AbstractVector}...) where {T, N}\n   @ Interpolations C:\\Users\\20192809\\.julia\\packages\\Interpolations\\91PhN\\src\\b-splines\\indexing.jl:16\n  ...\n",
     "output_type": "error",
     "traceback": [
      "MethodError: no method matching (::Interpolations.BSplineInterpolation{Float64, 1, Vector{Float64}, BSpline{Linear{Throw{OnGrid}}}, Tuple{Base.OneTo{Int64}}})(::Array{Union{Nothing, Int64}, 0})\n",
      "Use square brackets [] for indexing an Array.\n",
      "\n",
      "Closest candidates are:\n",
      "  (::Interpolations.BSplineInterpolation{T, N, TCoefs, IT, Axs} where {TCoefs<:AbstractArray, IT<:Union{NoInterp, Tuple{Vararg{Union{NoInterp, BSpline}}}, BSpline}, Axs<:Tuple{Vararg{AbstractUnitRange, N}}})(!Matched::Number...) where {T, N}\n",
      "   @ Interpolations C:\\Users\\20192809\\.julia\\packages\\Interpolations\\91PhN\\src\\b-splines\\indexing.jl:5\n",
      "  (::Interpolations.BSplineInterpolation{T, N, TCoefs, IT, Axs} where {TCoefs<:AbstractArray, IT<:Union{NoInterp, Tuple{Vararg{Union{NoInterp, BSpline}}}, BSpline}, Axs<:Tuple{Vararg{AbstractUnitRange, N}}})(!Matched::Number...) where {T, M, N}\n",
      "   @ Interpolations C:\\Users\\20192809\\.julia\\packages\\Interpolations\\91PhN\\src\\b-splines\\indexing.jl:10\n",
      "  (::Interpolations.BSplineInterpolation{T, N, TCoefs, IT, Axs} where {TCoefs<:AbstractArray, IT<:Union{NoInterp, Tuple{Vararg{Union{NoInterp, BSpline}}}, BSpline}, Axs<:Tuple{Vararg{AbstractUnitRange, N}}})(!Matched::Union{Number, AbstractVector}...) where {T, N}\n",
      "   @ Interpolations C:\\Users\\20192809\\.julia\\packages\\Interpolations\\91PhN\\src\\b-splines\\indexing.jl:16\n",
      "  ...\n",
      "\n",
      "\n",
      "Stacktrace:\n",
      " [1] (::var\"#21#22\")(x::Array{Union{Nothing, Int64}, 0})\n",
      "   @ Main c:\\Users\\20192809\\Documents\\GitHub\\EDES\\SymbolicRegression.ipynb:11\n",
      " [2] (::var\"#23#24\")(x::Int64)\n",
      "   @ Main .\\none:0\n",
      " [3] iterate\n",
      "   @ .\\generator.jl:47 [inlined]\n",
      " [4] collect(itr::Base.Generator{Vector{Int64}, var\"#23#24\"})\n",
      "   @ Base .\\array.jl:834\n",
      " [5] top-level scope\n",
      "   @ c:\\Users\\20192809\\Documents\\GitHub\\EDES\\SymbolicRegression.ipynb:14"
     ]
    }
   ],
   "source": [
    "using Interpolations, Plots\n",
    "\n",
    "# Assuming df_fits_diabetic[\"k5\"] and long_time_scale are defined as before\n",
    "k5_values = df_fits_diabetic[!, \"k5\"]\n",
    "long_time_scale = [0, 1, 3, 5, 6, 8, 9]\n",
    "\n",
    "# Interpolation expects an array where the domain is 1:length(y_values)\n",
    "# For plotting against long_time_scale, we interpolate and then manually map the domain\n",
    "itp = interpolate(k5_values, BSpline(Linear()))\n",
    "# Create a function to map from long_time_scale to the corresponding interpolated value\n",
    "spline_func = x -> itp(x)\n",
    "\n",
    "# Generate spline values for plotting\n",
    "spline_values = [spline_func(Interpolations.indexin(x, long_time_scale)) for x in long_time_scale]\n",
    "\n",
    "# Plot the original data\n",
    "scatter(long_time_scale, k5_values, legend = false, xlabel = \"Long time scale\", ylabel = \"k5\", title = \"Diabetic fits k5 values vs long time scale\")\n",
    "# Plot the spline fit\n",
    "plot!(long_time_scale, spline_values, label = \"Spline fit\", lw = 2)"
   ]
  },
  {
   "cell_type": "code",
   "execution_count": 11,
   "metadata": {},
   "outputs": [
    {
     "name": "stderr",
     "output_type": "stream",
     "text": [
      "┌ Info: Started!\n",
      "└ @ SymbolicRegression C:\\Users\\20192809\\.julia\\packages\\SymbolicRegression\\FtJSD\\src\\SymbolicRegression.jl:831\n",
      "0.0%┣                                               ┫ 0/50 [00:00<00:-2, -0s/it]Expressions evaluated per second: [.....]. Head worker occupation: 0.0%         Press 'q' and then <enter> to stop execution early.                             Hall of Fame:                                                                   ---------------------------------------------------------------------------------------------------                                                             Complexity  Loss       Score     Equation                                       3           6.594e+00  1.201e+01  y = x₁ * 0.46365                              5           1.536e-04  5.334e+00  y = x₁ * (x₁ - x₁)                            11          1.057e-04  6.230e-02  y = (((x₁ + x₁) - (x₁ + x₁)) - 0.25787) * -0.083126                                                                           ---------------------------------------------------------------------------------------------------\n",
      "12.0%┣█████▌                                        ┫ 6/50 [00:00<00:01, 59it/s]Expressions evaluated per second: [.....]. Head worker occupation: 45.5%. This is high, and will prevent efficient resource usage. Increase `ncycles_per_iteration` to reduce load on head worker.                                              Press 'q' and then <enter> to stop execution early.                             Hall of Fame:                                                                   ---------------------------------------------------------------------------------------------------                                                             Complexity  Loss       Score     Equation                                       1           1.824e-04  3.604e+01  y = -0.001161                                 3           1.475e-04  1.062e-01  y = 0.080549 * 0.0032284                      5           1.352e-05  1.195e+00  y = (x₁ - x₁) + 0.011835                      ---------------------------------------------------------------------------------------------------\n",
      "30.0%┣█████████████▏                              ┫ 15/50 [00:00<00:00, 100it/s]Expressions evaluated per second: [.....]. Head worker occupation: 40.5%. This is high, and will prevent efficient resource usage. Increase `ncycles_per_iteration` to reduce load on head worker.                                              Press 'q' and then <enter> to stop execution early.                             Hall of Fame:                                                                   ---------------------------------------------------------------------------------------------------                                                             Complexity  Loss       Score     Equation                                       1           1.352e-05  3.604e+01  y = 0.011835                                  13          3.133e-07  3.138e-01  y = (((x₁ * 0.99925) + 0.011182) - x₁) * (x₁ - (x₁ - 1.5293))                                                                 ---------------------------------------------------------------------------------------------------\n",
      "42.0%┣██████████████████▌                         ┫ 21/50 [00:00<00:00, 104it/s]Expressions evaluated per second: [.....]. Head worker occupation: 32.7%        Press 'q' and then <enter> to stop execution early.                             Hall of Fame:                                                                   ---------------------------------------------------------------------------------------------------                                                             Complexity  Loss       Score     Equation                                       1           1.352e-05  3.604e+01  y = 0.011835                                  13          3.133e-07  3.138e-01  y = (((x₁ * 0.99925) + 0.011182) - x₁) * (x₁ - (x₁ - 1.5293))                                                                 ---------------------------------------------------------------------------------------------------\n",
      "56.0%┣████████████████████████▋                   ┫ 28/50 [00:00<00:00, 100it/s]Expressions evaluated per second: [.....]. Head worker occupation: 26.3%        Press 'q' and then <enter> to stop execution early.                             Hall of Fame:                                                                   ---------------------------------------------------------------------------------------------------                                                             Complexity  Loss       Score     Equation                                       1           1.352e-05  3.604e+01  y = 0.011835                                  13          3.133e-07  3.138e-01  y = (((x₁ * 0.99925) + 0.011182) - x₁) * (x₁ - (x₁ - 1.5293))                                                                 ---------------------------------------------------------------------------------------------------\n",
      "60.0%┣███████████████████████████                  ┫ 30/50 [00:00<00:00, 88it/s]Expressions evaluated per second: [.....]. Head worker occupation: 22.2%        Press 'q' and then <enter> to stop execution early.                             Hall of Fame:                                                                   ---------------------------------------------------------------------------------------------------                                                             Complexity  Loss       Score     Equation                                       1           1.352e-05  3.604e+01  y = 0.011835                                  13          3.133e-07  3.138e-01  y = (((x₁ * 0.99925) + 0.011182) - x₁) * (x₁ - (x₁ - 1.5293))                                                                 ---------------------------------------------------------------------------------------------------\n",
      "76.0%┣██████████████████████████████████▏          ┫ 38/50 [00:00<00:00, 97it/s]Expressions evaluated per second: [.....]. Head worker occupation: 23.2%        Press 'q' and then <enter> to stop execution early.                             Hall of Fame:                                                                   ---------------------------------------------------------------------------------------------------                                                             Complexity  Loss       Score     Equation                                       1           1.352e-05  3.604e+01  y = 0.011835                                  13          3.133e-07  3.138e-01  y = ((x₁ + (x₁ + -0.4302)) * ((x₁ + -0.00057586) - x₁)) + 0.01...                                                                                               6852                                          ---------------------------------------------------------------------------------------------------\n",
      "86.0%┣██████████████████████████████████████▊      ┫ 43/50 [00:00<00:00, 93it/s]Expressions evaluated per second: [.....]. Head worker occupation: 21.1%        Press 'q' and then <enter> to stop execution early.                             Hall of Fame:                                                                   ---------------------------------------------------------------------------------------------------                                                             Complexity  Loss       Score     Equation                                       1           1.352e-05  3.604e+01  y = 0.011835                                  13          3.133e-07  3.138e-01  y = ((x₁ + (x₁ + -0.4302)) * ((x₁ + -0.00057586) - x₁)) + 0.01...                                                                                               6852                                          ---------------------------------------------------------------------------------------------------\n"
     ]
    }
   ],
   "source": [
    "# select a single individual\n",
    "df_individual = filter(row -> row[:ID] == 9, df_fits_diabetic)\n",
    "\n",
    "# Define target and predictors\n",
    "target = :k5\n",
    "predictors = [:time_point]\n",
    "\n",
    "\n",
    "# Define the symbolic regression problem\n",
    "options = SymbolicRegression.Options(\n",
    "    binary_operators = (+, -, *),\t\n",
    "    npopulations = 10,\n",
    ")\n",
    "\n",
    "# Assume `ID` is the column that identifies individuals\n",
    "individual_ids = unique(df_fits_diabetic[!, :ID])\n",
    "\n",
    "# Initialize an empty array to store the results\n",
    "halloffames = []\n",
    "\n",
    "for id=1 #in individual_ids\n",
    "    # Filter the data for the current individual\n",
    "    df_individual = filter(row -> row[:ID] == id, df_fits_diabetic)\n",
    "\n",
    "    # add the time column (0,3,6,9)\n",
    "    df_individual[!, :time_point] = [0,1,3,5,6,8,9]\n",
    "\n",
    "    # Convert DataFrame to array\n",
    "    X = Matrix{Float64}(df_individual[:, predictors])\n",
    "    y = reshape(df_individual[:, target], :, 1)\n",
    "\n",
    "    # Perform the symbolic regression\n",
    "    halloffame = EquationSearch(X', y', niterations=5, options=options)\n",
    "\n",
    "\n",
    "    # Store the result\n",
    "    push!(halloffames, halloffame)\n",
    "end\n",
    "\n",
    "\n"
   ]
  },
  {
   "cell_type": "code",
   "execution_count": 12,
   "metadata": {},
   "outputs": [
    {
     "data": {
      "text/plain": [
       "1-element Vector{Any}:\n",
       " HallOfFame{Float64, Float64, Node{Float64}}(PopMember{Float64, Float64, Node{Float64}}[PopMember{Float64, Float64, Node{Float64}}(0.011834977983898293, 0.004552372459749524, 1.3523725405883239e-5, 17188711518940000, 1, 403679559507467542, 5607973848435080277), PopMember{Float64, Float64, Node{Float64}}(1.0, 0.0, Inf, 17188711516090000, -1, 4887031948687577358, -1), PopMember{Float64, Float64, Node{Float64}}(0.011834977984001058 * 1.0039383837100677, 0.010952589320832248, 1.3525897961792914e-5, 17188711517860000, 3, 5696788123263759771, 4924619272407359866), PopMember{Float64, Float64, Node{Float64}}(1.0, 0.0, Inf, 17188711516090000, -1, 8476242502507815558, -1), PopMember{Float64, Float64, Node{Float64}}((x1 - x1) + 0.011834977984515715, 0.017352371437902397, 1.3523725405883242e-5, 17188711516260000, 5, 1278677087488959821, 1851449517704148356), PopMember{Float64, Float64, Node{Float64}}(1.0, 0.0, Inf, 17188711516090000, -1, 3263958161882301068, -1), PopMember{Float64, Float64, Node{Float64}}(((x1 - x1) * -1.380906678768541) - -0.011834977984001044, 0.023752371741886085, 1.3523725405883242e-5, 17188711516240000, 7, 6123620936462992540, 1163983109941063799), PopMember{Float64, Float64, Node{Float64}}(1.0, 0.0, Inf, 17188711516090000, -1, 1708675234440894427, -1), PopMember{Float64, Float64, Node{Float64}}((x1 * ((x1 - x1) * x1)) + 0.011834977984001035, 0.030152372045869773, 1.3523725405883242e-5, 17188711516260000, 9, 874568047900810491, 7730507900042244778), PopMember{Float64, Float64, Node{Float64}}(1.0, 0.0, Inf, 17188711516090000, -1, 106308432457769623, -1)  …  PopMember{Float64, Float64, Node{Float64}}(((x1 + (x1 + -0.43020089255349114)) * ((x1 + -0.0005758604387980047) - x1)) + 0.016852251849504826, 0.04163132556401854, 3.1325450769708865e-7, 17188711518650000, 13, 1537702143838307598, 3703656058226643007), PopMember{Float64, Float64, Node{Float64}}(1.0, 0.0, Inf, 17188711516090000, -1, 3728374036136245728, -1), PopMember{Float64, Float64, Node{Float64}}((x1 - (x1 - -7.831042872069626e-5)) * (((x1 - (38.62932489992331 + 0.2090478450839175)) * 4.442513600366542) - -7.831042872069626e-5), 0.04867556965652285, 6.755692392903384e-6, 17188711520409998, 15, 6191705935662919245, 3823089912004644407), PopMember{Float64, Float64, Node{Float64}}(1.0, 0.0, Inf, 17188711516090000, -1, 6858096685903261285, -1), PopMember{Float64, Float64, Node{Float64}}((x1 - (x1 - -7.831042872069626e-5)) * (((x1 - ((1.2498910323313748 - -28.579769312552504) * 1.2931230248359782)) * 4.442513600366542) + x1), 0.05496878458969166, 5.687875937657593e-6, 17188711520630000, 17, 7586977088593920485, 4030629897658132791), PopMember{Float64, Float64, Node{Float64}}(1.0, 0.0, Inf, 17188711516090000, -1, 2198290851541590025, -1), PopMember{Float64, Float64, Node{Float64}}((x1 - (x1 - -7.831042872069626e-5)) * ((((x1 - 0.9336596445056579) - ((1.2498910323313748 - -28.579769312552504) * 1.2931230248359782)) * 4.442513600366542) + x1), 0.06135569919168514, 5.5570189177554604e-6, 17188711520530000, 19, 7509329001061269024, 8208626042961170041), PopMember{Float64, Float64, Node{Float64}}(1.0, 0.0, Inf, 17188711516090000, -1, 7026210549439249594, -1), PopMember{Float64, Float64, Node{Float64}}(1.0, 0.0, Inf, 17188711516090000, -1, 6858568616786231680, -1), PopMember{Float64, Float64, Node{Float64}}(1.0, 0.0, Inf, 17188711516090000, -1, 7323306623198997744, -1)], Bool[1, 0, 1, 0, 1, 0, 1, 0, 1, 0  …  1, 0, 1, 0, 1, 0, 1, 0, 0, 0])"
      ]
     },
     "metadata": {},
     "output_type": "display_data"
    }
   ],
   "source": [
    "halloffames"
   ]
  }
 ],
 "metadata": {
  "kernelspec": {
   "display_name": "Julia 1.10.1",
   "language": "julia",
   "name": "julia-1.10"
  },
  "language_info": {
   "file_extension": ".jl",
   "mimetype": "application/julia",
   "name": "julia",
   "version": "1.10.1"
  }
 },
 "nbformat": 4,
 "nbformat_minor": 2
}
