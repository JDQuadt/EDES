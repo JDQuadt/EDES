{
 "cells": [
  {
   "cell_type": "markdown",
   "metadata": {},
   "source": [
    "### Notebook to visualise the dynamics learned using LKmeans and LCTA on the robustness test set\n"
   ]
  },
  {
   "cell_type": "code",
   "execution_count": 1,
   "metadata": {},
   "outputs": [],
   "source": [
    "using CairoMakie\n",
    "using XLSX\n",
    "using DataFrames\n",
    "using Statistics"
   ]
  },
  {
   "cell_type": "code",
   "execution_count": 2,
   "metadata": {},
   "outputs": [],
   "source": [
    "file_path = \"C:/Users/20192809/OneDrive - TU Eindhoven/TUe/Thesis/Thesis writing/Combined results.xlsx\"\n",
    "sheet = \"Robustness_LCTA\"\n",
    "\n",
    "df = DataFrame(XLSX.readtable(file_path, sheet, \"F:H\", first_row = 2))\n",
    "stds = [0.1, 0.35]\n",
    "timepoints = [0,1,2,3,4]\n",
    "initial_k5 = 0.04\n",
    "initial_k6 = 3.0\n",
    "true_k5_linear_rate = -0.1 * initial_k5\n",
    "true_k6_linear_rate = 0.25 * initial_k6\n",
    "true_k6_quadratic_rate = -0.08 * initial_k6;"
   ]
  },
  {
   "cell_type": "code",
   "execution_count": 3,
   "metadata": {},
   "outputs": [
    {
     "data": {
      "text/plain": [
       "2.84"
      ]
     },
     "metadata": {},
     "output_type": "display_data"
    }
   ],
   "source": [
    "# extract LKmeans progressions \n",
    "df_LKmeans = DataFrame(XLSX.readtable(file_path, \"Robustness_LKM_SR\", \"F:G\", first_row = 17))\n",
    "\n",
    "# Hardcoded from combined results\n",
    "# Noise Level 0.1\n",
    "k5_01_rate = -0.00394\n",
    "k5_01_const = 0.0399\n",
    "k6_01_quad = -0.242\n",
    "k6_01_lin = 0.760\n",
    "k6_01_const = 2.98\n",
    "\n",
    "# Noise Level 0.35\n",
    "k5_035_rate = -0.00326\n",
    "k5_035_const = 0.0389\n",
    "k6_035_quad = -0.279\n",
    "k6_035_lin = 0.911\n",
    "k6_035_const = 2.84\n",
    "\n"
   ]
  },
  {
   "cell_type": "code",
   "execution_count": 4,
   "metadata": {},
   "outputs": [],
   "source": [
    "# Function to extract and average values from each cell\n",
    "function extract_average(val)\n",
    "    # Replace ',' with '.' for decimal consistency\n",
    "    val = replace(string(val), ',' => '.')\n",
    "    nums = parse.(Float64, split(val, \" & \"))\n",
    "    return mean(nums)\n",
    "end\n",
    "\n",
    "# Apply to all columns\n",
    "k5_linear = extract_average.(df[1:5, 1])\n",
    "k6_linear = extract_average.(df[1:5, 2])\n",
    "k6_quadratic = extract_average.(df[1:5, 3]);\n"
   ]
  },
  {
   "cell_type": "code",
   "execution_count": 5,
   "metadata": {},
   "outputs": [
    {
     "data": {
      "text/plain": [
       "2-element Vector{Vector{Float64}}:\n",
       " [3.0, 3.5108499999999996, 3.5416999999999996, 3.09255, 2.1634]\n",
       " [3.0, 3.513, 3.5460000000000003, 3.099, 2.1720000000000006]"
      ]
     },
     "metadata": {},
     "output_type": "display_data"
    }
   ],
   "source": [
    "# Compute true k5 (linear decrease)\n",
    "true_k5 = initial_k5 .+ true_k5_linear_rate .* timepoints\n",
    "\n",
    "# Compute true k6 (quadratic progression)\n",
    "true_k6 = initial_k6 .+ true_k6_linear_rate .* timepoints .+ true_k6_quadratic_rate .* (timepoints .^ 2);\n",
    "# Compute predicted k5 and k6 from LCTA\n",
    "predicted_k5 = [initial_k5 .+ k5_linear[i] .* timepoints for i in 1:length(stds)]\n",
    "predicted_k6 = [initial_k6 .+ k6_linear[i] .* timepoints .+ true_k6_quadratic_rate .* (timepoints .^ 2) for i in 1:length(stds)]\n"
   ]
  },
  {
   "cell_type": "code",
   "execution_count": 7,
   "metadata": {},
   "outputs": [
    {
     "name": "stderr",
     "output_type": "stream",
     "text": [
      "┌ Warning: Found `resolution` in the theme when creating a `Scene`. The `resolution` keyword for `Scene`s and `Figure`s has been deprecated. Use `Figure(; size = ...` or `Scene(; size = ...)` instead, which better reflects that this is a unitless size and not a pixel resolution. The key could also come from `set_theme!` calls or related theming functions.\n",
      "└ @ Makie C:\\Users\\20192809\\.julia\\packages\\Makie\\VRavR\\src\\scenes.jl:220\n"
     ]
    },
    {
     "data": {
      "text/plain": [
       "CairoMakie.Screen{IMAGE}\n"
      ]
     },
     "metadata": {},
     "output_type": "display_data"
    }
   ],
   "source": [
    "using CairoMakie\n",
    "\n",
    "# Create figure\n",
    "fig = Figure(resolution=(800, 400))\n",
    "\n",
    "# New timepoints for smoothing (finer resolution)\n",
    "fine_timepoints = 0:0.1:4  # For example, using 0.1 intervals\n",
    "\n",
    "# Fine initial values for k5 and k6 over the new timepoints\n",
    "fine_initial_k5 = initial_k5 .+ 0 .* fine_timepoints  # Just repeat initial_k5 over all timepoints\n",
    "fine_initial_k6 = initial_k6 .+ 0 .* fine_timepoints  # Similarly for k6\n",
    "\n",
    "# Extract averages for the k5 and k6 rates for selected noise levels (0.1 and 0.35)\n",
    "selected_stds = [3, 5]  # Indices corresponding to 0.1 and 0.35 in df\n",
    "k5_linear = extract_average.(df[selected_stds, 1])\n",
    "k6_linear = extract_average.(df[selected_stds, 2])\n",
    "k6_quadratic = extract_average.(df[selected_stds, 3])\n",
    "\n",
    "# True dynamics for k5 and k6 over fine timepoints\n",
    "true_k5 = fine_initial_k5 .+ true_k5_linear_rate .* fine_timepoints\n",
    "true_k6 = fine_initial_k6 .+ true_k6_linear_rate .* fine_timepoints .+ true_k6_quadratic_rate .* (fine_timepoints .^ 2)\n",
    "\n",
    "# Set up axes with specified label settings\n",
    "ax1 = Axis(fig[1, 1], xlabel=\"τ (years)\", ylabel=\"k5\", \n",
    "           xlabelsize=20, ylabelsize=16, \n",
    "           xticklabelsize=14, yticklabelsize=14, \n",
    "           xlabelfont=:bold, ylabelfont=:bold)\n",
    "\n",
    "ax2 = Axis(fig[1, 2], xlabel=\"τ (years)\", ylabel=\"k6\", \n",
    "           xlabelsize=20, ylabelsize=16, \n",
    "           xticklabelsize=14, yticklabelsize=14, \n",
    "           xlabelfont=:bold, ylabelfont=:bold)\n",
    "\n",
    "# Plot true dynamics with a thick black line (linewidth = 5)\n",
    "lines!(ax1, fine_timepoints, true_k5, color=:black,  linewidth=5, alpha=1)\n",
    "lines!(ax2, fine_timepoints, true_k6, color=:black, linewidth=5, alpha=1)\n",
    "\n",
    "# Use colormap for predicted dynamics\n",
    "colormap = Makie.wong_colors()\n",
    "\n",
    "# Plot LCTA predicted dynamics\n",
    "for (i, idx) in enumerate(selected_stds)\n",
    "    predicted_k5_fine = fine_initial_k5 .+ k5_linear[i] .* fine_timepoints\n",
    "    predicted_k6_fine = fine_initial_k6 .+ k6_linear[i] .* fine_timepoints .+ k6_quadratic[i] .* (fine_timepoints .^ 2)\n",
    "\n",
    "    # Plot LCTA with solid lines\n",
    "    lines!(ax1, fine_timepoints, predicted_k5_fine, color=colormap[i], linewidth=5, alpha=0.8)\n",
    "    lines!(ax2, fine_timepoints, predicted_k6_fine, color=colormap[i], linewidth=5, alpha=0.8)\n",
    "end\n",
    "\n",
    "# SR dynamics (dashed lines)\n",
    "sr_k5_01 = fine_initial_k5 .+ k5_01_rate .* fine_timepoints\n",
    "sr_k6_01 = fine_initial_k6 .+ k6_01_lin .* fine_timepoints .+ k6_01_quad .* (fine_timepoints .^ 2)\n",
    "\n",
    "sr_k5_035 = fine_initial_k5 .+ k5_035_rate .* fine_timepoints\n",
    "sr_k6_035 = fine_initial_k6 .+ k6_035_lin .* fine_timepoints .+ k6_035_quad .* (fine_timepoints .^ 2)\n",
    "\n",
    "# Plot SR dynamics using dashed lines\n",
    "lines!(ax1, fine_timepoints, sr_k5_01, color=colormap[1], linestyle=:dash, linewidth=5, alpha=0.8)\n",
    "lines!(ax2, fine_timepoints, sr_k6_01, color=colormap[1], linestyle=:dash, linewidth=5, alpha=0.5)\n",
    "\n",
    "lines!(ax1, fine_timepoints, sr_k5_035, color=colormap[2], linestyle=:dash, linewidth=5, alpha=0.8)\n",
    "lines!(ax2, fine_timepoints, sr_k6_035, color=colormap[2], linestyle=:dash, linewidth=5, alpha=0.5)\n",
    "\n",
    "# Create a custom legend\n",
    "legend_elements = [\n",
    "    LineElement(color=:black, linestyle=:dash, linewidth=5),  # True k5 and k6\n",
    "    LineElement(color=colormap[1], linewidth=5),  # LCTA (0.1)\n",
    "    LineElement(color=colormap[2], linewidth=5),  # LCTA (0.35)\n",
    "    LineElement(color=colormap[1], linestyle=:dash, linewidth=2),  # SR (0.1)\n",
    "    LineElement(color=colormap[2], linestyle=:dash, linewidth=2)   # SR (0.35)\n",
    "]\n",
    "\n",
    "legend_labels = [\n",
    "    \"True Dynamics\",\n",
    "    \"LCTA (noise level 0.2)\",\n",
    "    \"LCTA (noise level 0.35)\",\n",
    "    \"SR (noise level 0.2)\",\n",
    "    \"SR (noise level 0.35)\"\n",
    "]\n",
    "\n",
    "# Add legends\n",
    "Legend(fig[1, 3], legend_elements, legend_labels, position=:right)\n",
    "\n",
    "# Show plot\n",
    "fig\n",
    "\n",
    "# Save the plot\n",
    "save(\"LCTA_SR_dynamics.png\", fig)\n"
   ]
  }
 ],
 "metadata": {
  "kernelspec": {
   "display_name": "Julia 1.10.1",
   "language": "julia",
   "name": "julia-1.10"
  },
  "language_info": {
   "file_extension": ".jl",
   "mimetype": "application/julia",
   "name": "julia",
   "version": "1.10.1"
  }
 },
 "nbformat": 4,
 "nbformat_minor": 2
}
