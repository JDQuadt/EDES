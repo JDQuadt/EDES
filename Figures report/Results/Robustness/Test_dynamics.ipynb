{
 "cells": [
  {
   "cell_type": "markdown",
   "metadata": {},
   "source": [
    "### Notebook to visualise the dynamics learned using LKmeans and LCTA on the robustness test set\n"
   ]
  },
  {
   "cell_type": "code",
   "execution_count": 23,
   "metadata": {},
   "outputs": [],
   "source": [
    "using CairoMakie\n",
    "using XLSX\n",
    "using DataFrames\n",
    "using Statistics"
   ]
  },
  {
   "cell_type": "code",
   "execution_count": 32,
   "metadata": {},
   "outputs": [
    {
     "data": {
      "text/plain": [
       "-0.24"
      ]
     },
     "metadata": {},
     "output_type": "display_data"
    }
   ],
   "source": [
    "file_path = \"C:/Users/20192809/OneDrive - TU Eindhoven/TUe/Thesis/Thesis writing/Combined results.xlsx\"\n",
    "sheet = \"Robustness_LCTA\"\n",
    "\n",
    "df = DataFrame(XLSX.readtable(file_path, sheet, \"F:H\", first_row = 2))\n",
    "stds = [0.05, 0.1, 0.2, 0.3, 0.35]\n",
    "timepoints = [0,1,2,3,4]\n",
    "initial_k5 = 0.04\n",
    "initial_k6 = 3.0\n",
    "true_k5_linear_rate = -0.1 * initial_k5\n",
    "true_k6_linear_rate = 0.25 * initial_k6\n",
    "true_k6_quadratic_rate = -0.08 * initial_k6"
   ]
  },
  {
   "cell_type": "code",
   "execution_count": null,
   "metadata": {},
   "outputs": [
    {
     "data": {
      "text/plain": [
       "5-element Vector{Float64}:\n",
       " -0.24009999999999998\n",
       " -0.2405\n",
       " -0.242\n",
       " -0.252\n",
       " -0.272"
      ]
     },
     "metadata": {},
     "output_type": "display_data"
    }
   ],
   "source": [
    "# Function to extract and average values from each cell\n",
    "function extract_average(val)\n",
    "    # Replace ',' with '.' for decimal consistency\n",
    "    val = replace(string(val), ',' => '.')\n",
    "    nums = parse.(Float64, split(val, \" & \"))\n",
    "    return mean(nums)\n",
    "end\n",
    "\n",
    "# Apply to all columns\n",
    "k5_linear = extract_average.(df[1:5, 1])\n",
    "k6_linear = extract_average.(df[1:5, 2])\n",
    "k6_quadratic = extract_average.(df[1:5, 3]);\n"
   ]
  },
  {
   "cell_type": "code",
   "execution_count": null,
   "metadata": {},
   "outputs": [
    {
     "data": {
      "text/plain": [
       "5-element Vector{Vector{Float64}}:\n",
       " [3.0, 3.5108499999999996, 3.5416999999999996, 3.09255, 2.1634]\n",
       " [3.0, 3.513, 3.5460000000000003, 3.099, 2.1720000000000006]\n",
       " [3.0, 3.5235000000000003, 3.567, 3.1304999999999996, 2.2140000000000004]\n",
       " [3.0, 3.5664999999999996, 3.6529999999999996, 3.2595, 2.386]\n",
       " [3.0, 3.6345, 3.7890000000000006, 3.4635, 2.6580000000000004]"
      ]
     },
     "metadata": {},
     "output_type": "display_data"
    }
   ],
   "source": [
    "# Compute true k5 (linear decrease)\n",
    "true_k5 = initial_k5 .+ true_k5_linear_rate .* timepoints\n",
    "\n",
    "# Compute true k6 (quadratic progression)\n",
    "true_k6 = initial_k6 .+ true_k6_linear_rate .* timepoints .+ true_k6_quadratic_rate .* (timepoints .^ 2);\n",
    "# Compute predicted k5 and k6 from LCTA\n",
    "predicted_k5 = [initial_k5 .+ k5_linear[i] .* timepoints for i in 1:length(stds)]\n",
    "predicted_k6 = [initial_k6 .+ k6_linear[i] .* timepoints .+ true_k6_quadratic_rate .* (timepoints .^ 2) for i in 1:length(stds)]\n"
   ]
  },
  {
   "cell_type": "code",
   "execution_count": 68,
   "metadata": {},
   "outputs": [
    {
     "name": "stderr",
     "output_type": "stream",
     "text": [
      "┌ Warning: Found `resolution` in the theme when creating a `Scene`. The `resolution` keyword for `Scene`s and `Figure`s has been deprecated. Use `Figure(; size = ...` or `Scene(; size = ...)` instead, which better reflects that this is a unitless size and not a pixel resolution. The key could also come from `set_theme!` calls or related theming functions.\n",
      "└ @ Makie C:\\Users\\20192809\\.julia\\packages\\Makie\\VRavR\\src\\scenes.jl:220\n"
     ]
    },
    {
     "data": {
      "text/plain": [
       "CairoMakie.Screen{IMAGE}\n"
      ]
     },
     "metadata": {},
     "output_type": "display_data"
    }
   ],
   "source": [
    "using CairoMakie\n",
    "\n",
    "# Create figure\n",
    "fig = Figure(resolution=(800, 600))\n",
    "\n",
    "# New timepoints for smoothing (finer resolution)\n",
    "fine_timepoints = 0:0.1:4  # For example, using 0.1 intervals\n",
    "\n",
    "# Fine initial values for k5 and k6 over the new timepoints\n",
    "fine_initial_k5 = initial_k5 .+ 0 .* fine_timepoints  # Just repeat initial_k5 over all timepoints\n",
    "fine_initial_k6 = initial_k6 .+ 0 .* fine_timepoints  # Similarly for k6\n",
    "\n",
    "# Extract averages for the k5 and k6 rates\n",
    "k5_linear = extract_average.(df[1:5, 1])  # Average over the first 5 rows for k5 linear rate\n",
    "k6_linear = extract_average.(df[1:5, 2])  # Average over the first 5 rows for k6 linear rate\n",
    "k6_quadratic = extract_average.(df[1:5, 3])  # Average over the first 5 rows for k6 quadratic rate\n",
    "\n",
    "# True dynamics for k5 and k6 over fine timepoints\n",
    "true_k5 = fine_initial_k5 .+ true_k5_linear_rate .* fine_timepoints\n",
    "true_k6 = fine_initial_k6 .+ true_k6_linear_rate .* fine_timepoints .+ true_k6_quadratic_rate .* (fine_timepoints .^ 2)\n",
    "\n",
    "# Set up axes with specified label settings\n",
    "ax1 = Axis(fig[1, 1], xlabel=\"τ\", ylabel=\"k5\", \n",
    "           xlabelsize=20, ylabelsize=16, \n",
    "           xticklabelsize=14, yticklabelsize=14, \n",
    "           xlabelfont=:bold, ylabelfont=:bold)\n",
    "\n",
    "ax2 = Axis(fig[1, 2], xlabel=\"τ\", ylabel=\"k6\", \n",
    "           xlabelsize=20, ylabelsize=16, \n",
    "           xticklabelsize=14, yticklabelsize=14, \n",
    "           xlabelfont=:bold, ylabelfont=:bold)\n",
    "\n",
    "# Plot true dynamics with a thick black line (linewidth = 5)\n",
    "lines!(ax1, fine_timepoints, true_k5, color=:black, linestyle=:solid, linewidth=5, alpha=0.8)\n",
    "lines!(ax2, fine_timepoints, true_k6, color=:black, linestyle=:solid, linewidth=5, alpha=0.8)\n",
    "\n",
    "# Use colormap for predicted dynamics\n",
    "colormap = Makie.wong_colors()\n",
    "\n",
    "# Plot predicted dynamics for all noise levels with more timepoints and thicker lines\n",
    "for i in 1:length(stds)\n",
    "    # Calculate predicted k5 and k6 over the new timepoints using the extracted averages\n",
    "    predicted_k5_fine = fine_initial_k5 .+ k5_linear[i] .* fine_timepoints\n",
    "    predicted_k6_fine = fine_initial_k6 .+ k6_linear[i] .* fine_timepoints .+ k6_quadratic[i] .* (fine_timepoints .^ 2)\n",
    "    \n",
    "    # Plot these smoothed predicted dynamics\n",
    "    lines!(ax1, fine_timepoints, predicted_k5_fine, color=colormap[i], linewidth=5, alpha=0.7)\n",
    "    lines!(ax2, fine_timepoints, predicted_k6_fine, color=colormap[i], linewidth=5, alpha=0.7)\n",
    "end\n",
    "\n",
    "# Create a custom legend with labels for each STD\n",
    "legend_elements = [\n",
    "    LineElement(color=:black, linestyle=:dash, linewidth=5),  # True k5 and k6 with thick line\n",
    "]\n",
    "\n",
    "# Labels for k5 and k6 across different stds\n",
    "for i in 1:length(stds)\n",
    "    push!(legend_elements, LineElement(color=colormap[i], linewidth=5))  # Predicted k5 and k6 for each STD\n",
    "end\n",
    "\n",
    "legend_labels = [\n",
    "    \"True Dynamics\", \n",
    "    \"STD = 0.05\",\n",
    "    \"STD = 0.1\",\n",
    "    \"STD = 0.2\",\n",
    "    \"STD = 0.3\",\n",
    "    \"STD = 0.35\"\n",
    "]\n",
    "\n",
    "# Add legends\n",
    "Legend(fig[1, 3], legend_elements, legend_labels, position=:right)\n",
    "\n",
    "# Show plot\n",
    "fig\n",
    "\n",
    "# save the plot\n",
    "save(\"LCTA_test_dynamics.png\", fig)"
   ]
  },
  {
   "cell_type": "code",
   "execution_count": 62,
   "metadata": {},
   "outputs": [
    {
     "data": {
      "text/plain": [
       "5-element Vector{Vector{Float64}}:\n",
       " [0.04, 0.035985, 0.03197, 0.027955, 0.023940000000000003]\n",
       " [0.04, 0.03594, 0.031880000000000006, 0.027820000000000004, 0.023760000000000003]\n",
       " [0.04, 0.036305000000000004, 0.03261, 0.028915000000000003, 0.02522]\n",
       " [0.04, 0.03541, 0.03082, 0.02623, 0.02164]\n",
       " [0.04, 0.03523, 0.03046, 0.02569, 0.02092]"
      ]
     },
     "metadata": {},
     "output_type": "display_data"
    }
   ],
   "source": [
    "predicted_k5"
   ]
  }
 ],
 "metadata": {
  "kernelspec": {
   "display_name": "Julia 1.10.1",
   "language": "julia",
   "name": "julia-1.10"
  },
  "language_info": {
   "file_extension": ".jl",
   "mimetype": "application/julia",
   "name": "julia",
   "version": "1.10.1"
  }
 },
 "nbformat": 4,
 "nbformat_minor": 2
}
