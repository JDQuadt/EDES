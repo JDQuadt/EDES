{
 "cells": [
  {
   "cell_type": "markdown",
   "metadata": {},
   "source": [
    "## Notebook to visualise the four group datasets "
   ]
  },
  {
   "cell_type": "code",
   "execution_count": 2,
   "metadata": {},
   "outputs": [],
   "source": [
    "using CairoMakie\n",
    "using RData \n",
    "using DataFrames"
   ]
  },
  {
   "cell_type": "code",
   "execution_count": 3,
   "metadata": {},
   "outputs": [],
   "source": [
    "# load in the data\n",
    "file_path = \"C:/Users/20192809/OneDrive - TU Eindhoven/TUe/Thesis/Synthetic data tests/Robustness sets/four_group_data_noise_0.2.Rdata\"\n",
    "\n",
    "data = load(file_path)[\"data\"];\n"
   ]
  },
  {
   "cell_type": "code",
   "execution_count": null,
   "metadata": {},
   "outputs": [
    {
     "name": "stderr",
     "output_type": "stream",
     "text": [
      "┌ Warning: Found `resolution` in the theme when creating a `Scene`. The `resolution` keyword for `Scene`s and `Figure`s has been deprecated. Use `Figure(; size = ...` or `Scene(; size = ...)` instead, which better reflects that this is a unitless size and not a pixel resolution. The key could also come from `set_theme!` calls or related theming functions.\n",
      "└ @ Makie C:\\Users\\20192809\\.julia\\packages\\Makie\\VRavR\\src\\scenes.jl:220\n"
     ]
    },
    {
     "ename": "UndefVarError",
     "evalue": "UndefVarError: `initial_k5` not defined",
     "output_type": "error",
     "traceback": [
      "UndefVarError: `initial_k5` not defined\n",
      "\n",
      "Stacktrace:\n",
      " [1] top-level scope\n",
      "   @ c:\\Users\\20192809\\Documents\\GitHub\\EDES\\Figures report\\Results\\Robustness\\jl_notebook_cell_df34fa98e69747e1a8f8a730347b8e2f_W4sZmlsZQ==.jl:7"
     ]
    }
   ],
   "source": [
    "# Define group mappings\n",
    "group_names = Dict(\"1\" => \"Healthy\", \"2\" => \"T2DM\", \"3\" => \"Insulin resistant\", \"4\" => \"β-cell dysfunction\")\n",
    "group_labels = unique(data[:, end])  # Extract unique group labels (as strings)\n",
    "\n",
    "# Define colours for each group\n",
    "colormap = Makie.wong_colors()[1:length(group_labels)]\n",
    "group_colors = Dict(group_labels .=> colormap)\n",
    "\n",
    "# Create figure with two subplots and a shared x-axis\n",
    "fig = Figure(resolution = (900, 400))\n",
    "ax1 = Axis(fig[1, 1], xlabel=\"τ\", ylabel=\"k5\", \n",
    "           xlabelsize=20, ylabelsize=16, \n",
    "           xticklabelsize=14, yticklabelsize=14, \n",
    "           xlabelfont=:bold, ylabelfont=:bold)\n",
    "\n",
    "ax2 = Axis(fig[1, 2], xlabel=\"τ\", ylabel=\"k6\", \n",
    "           xlabelsize=20, ylabelsize=16, \n",
    "           xticklabelsize=14, yticklabelsize=14, \n",
    "           xlabelfont=:bold, ylabelfont=:bold)\n",
    "\n",
    "\n",
    "# Ensure x-axis spans the same range for both plots\n",
    "τ_min, τ_max = extrema(data[:, :time])\n",
    "xlims!(ax1, τ_min, τ_max)\n",
    "xlims!(ax2, τ_min, τ_max)\n",
    "\n",
    "# Plot lines for each group\n",
    "for group in group_labels\n",
    "    group_data = data[data[:, end] .== group, :]\n",
    "    for id in unique(group_data[:, :ID])  # Iterate over individuals\n",
    "        person_data = group_data[group_data[:, :ID] .== id, :]\n",
    "        lines!(ax1, person_data[:, :time], person_data[:, :k5], color=group_colors[group])\n",
    "        lines!(ax2, person_data[:, :time], person_data[:, :k6], color=group_colors[group])\n",
    "    end\n",
    "end\n",
    "\n",
    "# Add legend to position [1,3]\n",
    "Legend(fig[1, 3], [PolyElement(color=group_colors[g]) for g in group_labels], \n",
    "       [group_names[g] for g in group_labels], \"Group\")\n",
    "\n",
    "# Display figure\n",
    "fig\n",
    "\n",
    "# save figure \n",
    "# save(\"./parameter_trajectories_robustness_set_std=0.2.png\", fig)"
   ]
  }
 ],
 "metadata": {
  "kernelspec": {
   "display_name": "Julia 1.10.1",
   "language": "julia",
   "name": "julia-1.10"
  },
  "language_info": {
   "file_extension": ".jl",
   "mimetype": "application/julia",
   "name": "julia",
   "version": "1.10.1"
  }
 },
 "nbformat": 4,
 "nbformat_minor": 2
}
