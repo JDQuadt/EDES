{
 "cells": [
  {
   "cell_type": "markdown",
   "metadata": {},
   "source": [
    "### Notebook for generating the Missing timepoints accuracies"
   ]
  },
  {
   "cell_type": "code",
   "execution_count": 1,
   "metadata": {},
   "outputs": [],
   "source": [
    "using CairoMakie\n",
    "using XLSX\n",
    "using DataFrames"
   ]
  },
  {
   "cell_type": "code",
   "execution_count": 2,
   "metadata": {},
   "outputs": [
    {
     "data": {
      "text/html": [
       "<div><div style = \"float: left;\"><span>6×7 DataFrame</span></div><div style = \"clear: both;\"></div></div><div class = \"data-frame\" style = \"overflow-x: scroll;\"><table class = \"data-frame\" style = \"margin-bottom: 6px;\"><thead><tr class = \"header\"><th class = \"rowNumber\" style = \"font-weight: bold; text-align: right;\">Row</th><th style = \"text-align: left;\">std_0.05_NN_training</th><th style = \"text-align: left;\">std_0.1_NN_training</th><th style = \"text-align: left;\">std_0.2_NN_training</th><th style = \"text-align: left;\">std_0.3_NN_training</th><th style = \"text-align: left;\">std_0.35_NN_training</th><th style = \"text-align: left;\">std_0.4_NN_training</th><th style = \"text-align: left;\">std_0.5_NN_training</th></tr><tr class = \"subheader headerLastRow\"><th class = \"rowNumber\" style = \"font-weight: bold; text-align: right;\"></th><th title = \"Float64\" style = \"text-align: left;\">Float64</th><th title = \"Float64\" style = \"text-align: left;\">Float64</th><th title = \"Float64\" style = \"text-align: left;\">Float64</th><th title = \"Float64\" style = \"text-align: left;\">Float64</th><th title = \"Float64\" style = \"text-align: left;\">Float64</th><th title = \"Float64\" style = \"text-align: left;\">Float64</th><th title = \"Float64\" style = \"text-align: left;\">Float64</th></tr></thead><tbody><tr><td class = \"rowNumber\" style = \"font-weight: bold; text-align: right;\">1</td><td style = \"text-align: right;\">25.0</td><td style = \"text-align: right;\">74.0</td><td style = \"text-align: right;\">30.0</td><td style = \"text-align: right;\">38.0</td><td style = \"text-align: right;\">31.0</td><td style = \"text-align: right;\">42.0</td><td style = \"text-align: right;\">37.0</td></tr><tr><td class = \"rowNumber\" style = \"font-weight: bold; text-align: right;\">2</td><td style = \"text-align: right;\">50.0</td><td style = \"text-align: right;\">75.0</td><td style = \"text-align: right;\">40.0</td><td style = \"text-align: right;\">48.0</td><td style = \"text-align: right;\">57.0</td><td style = \"text-align: right;\">47.0</td><td style = \"text-align: right;\">37.0</td></tr><tr><td class = \"rowNumber\" style = \"font-weight: bold; text-align: right;\">3</td><td style = \"text-align: right;\">50.0</td><td style = \"text-align: right;\">51.0</td><td style = \"text-align: right;\">58.0</td><td style = \"text-align: right;\">48.0</td><td style = \"text-align: right;\">53.0</td><td style = \"text-align: right;\">42.0</td><td style = \"text-align: right;\">31.0</td></tr><tr><td class = \"rowNumber\" style = \"font-weight: bold; text-align: right;\">4</td><td style = \"text-align: right;\">50.0</td><td style = \"text-align: right;\">100.0</td><td style = \"text-align: right;\">82.0</td><td style = \"text-align: right;\">79.0</td><td style = \"text-align: right;\">61.0</td><td style = \"text-align: right;\">53.0</td><td style = \"text-align: right;\">34.0</td></tr><tr><td class = \"rowNumber\" style = \"font-weight: bold; text-align: right;\">5</td><td style = \"text-align: right;\">50.0</td><td style = \"text-align: right;\">80.0</td><td style = \"text-align: right;\">49.0</td><td style = \"text-align: right;\">45.0</td><td style = \"text-align: right;\">46.0</td><td style = \"text-align: right;\">46.0</td><td style = \"text-align: right;\">35.0</td></tr><tr><td class = \"rowNumber\" style = \"font-weight: bold; text-align: right;\">6</td><td style = \"text-align: right;\">50.0</td><td style = \"text-align: right;\">100.0</td><td style = \"text-align: right;\">74.0</td><td style = \"text-align: right;\">91.0</td><td style = \"text-align: right;\">70.0</td><td style = \"text-align: right;\">58.0</td><td style = \"text-align: right;\">35.0</td></tr></tbody></table></div>"
      ],
      "text/latex": [
       "\\begin{tabular}{r|ccccc}\n",
       "\t& std\\_0.05\\_NN\\_training & std\\_0.1\\_NN\\_training & std\\_0.2\\_NN\\_training & std\\_0.3\\_NN\\_training & \\\\\n",
       "\t\\hline\n",
       "\t& Float64 & Float64 & Float64 & Float64 & \\\\\n",
       "\t\\hline\n",
       "\t1 & 25.0 & 74.0 & 30.0 & 38.0 & $\\dots$ \\\\\n",
       "\t2 & 50.0 & 75.0 & 40.0 & 48.0 & $\\dots$ \\\\\n",
       "\t3 & 50.0 & 51.0 & 58.0 & 48.0 & $\\dots$ \\\\\n",
       "\t4 & 50.0 & 100.0 & 82.0 & 79.0 & $\\dots$ \\\\\n",
       "\t5 & 50.0 & 80.0 & 49.0 & 45.0 & $\\dots$ \\\\\n",
       "\t6 & 50.0 & 100.0 & 74.0 & 91.0 & $\\dots$ \\\\\n",
       "\\end{tabular}\n"
      ],
      "text/plain": [
       "\u001b[1m6×7 DataFrame\u001b[0m\n",
       "\u001b[1m Row \u001b[0m│\u001b[1m std_0.05_NN_training \u001b[0m\u001b[1m std_0.1_NN_training \u001b[0m\u001b[1m std_0.2_NN_training \u001b[0m\u001b[1m std_0.3\u001b[0m ⋯\n",
       "     │\u001b[90m Float64              \u001b[0m\u001b[90m Float64             \u001b[0m\u001b[90m Float64             \u001b[0m\u001b[90m Float64\u001b[0m ⋯\n",
       "─────┼──────────────────────────────────────────────────────────────────────────\n",
       "   1 │                 25.0                 74.0                 30.0          ⋯\n",
       "   2 │                 50.0                 75.0                 40.0\n",
       "   3 │                 50.0                 51.0                 58.0\n",
       "   4 │                 50.0                100.0                 82.0\n",
       "   5 │                 50.0                 80.0                 49.0          ⋯\n",
       "   6 │                 50.0                100.0                 74.0\n",
       "\u001b[36m                                                               4 columns omitted\u001b[0m"
      ]
     },
     "metadata": {},
     "output_type": "display_data"
    }
   ],
   "source": [
    "file_path_accuracy = \"C:/Users/20192809/OneDrive - TU Eindhoven/TUe/Thesis/Thesis writing/Combined results.xlsx\"\n",
    "sheet = \"Missing time points\"\n",
    "\n",
    "df_accuracies_LCTA = DataFrame(XLSX.readtable(file_path_accuracy, sheet))\n",
    "df_accuracies_NN = DataFrame(XLSX.readtable(file_path_accuracy, sheet, \"B:O\", first_row = 12))\n",
    "\n",
    "training_persons = 100\n",
    "test_persons = 20\n",
    "# Determine middle column index\n",
    "middle_LCTA = size(df_accuracies_LCTA, 2) ÷ 2\n",
    "middle_NN = size(df_accuracies_NN, 2) ÷ 2\n",
    "\n",
    "# Split LCTA DataFrame into test and train sets\n",
    "df_LCTA_test = df_accuracies_LCTA[:, 1:middle_LCTA]\n",
    "df_LCTA_train = df_accuracies_LCTA[:, middle_LCTA+1:end]\n",
    "\n",
    "# Split NN DataFrame into test and train sets\n",
    "df_NN_test = df_accuracies_NN[:, 1:middle_NN]\n",
    "df_NN_train = df_accuracies_NN[:, middle_NN+1:end];\n",
    "\n",
    "# go to percentage values \n",
    "df_LCTA_test = df_LCTA_test ./ test_persons .* 100\n",
    "df_LCTA_train = df_LCTA_train ./ training_persons .* 100\n",
    "df_NN_test = df_NN_test ./ test_persons .* 100\n",
    "df_NN_train = df_NN_train ./ training_persons .* 100\n"
   ]
  },
  {
   "cell_type": "markdown",
   "metadata": {},
   "source": [
    "### Test accuracies image"
   ]
  },
  {
   "cell_type": "code",
   "execution_count": 10,
   "metadata": {},
   "outputs": [
    {
     "data": {
      "text/plain": [
       "CairoMakie.Screen{IMAGE}\n"
      ]
     },
     "metadata": {},
     "output_type": "display_data"
    }
   ],
   "source": [
    "\n",
    "lcta_test_values = Float64.(Matrix(df_LCTA_test))  # Select relevant data for LCTA\n",
    "nn_test_values = Float64.(Matrix(df_NN_test))  # Select relevant data for NN\n",
    "\n",
    "# Define axis labels for time points and std sets\n",
    "time_points = [\"τ₍₀,₁₎\", \"τ₍₁,₂₎\", \"τ₍₂,₃₎\", \"τ₍₃,₄₎\", \"τ₍₀,₁,₂₎\", \"τ₍₂,₃,₄₎\"]\n",
    "std_sets = [\"noise level 0.05\", \"noise level 0.1\", \"noise level 0.2\", \"noise level 0.3\", \"noise level 0.35\", \"noise level 0.4\", \"noise level 0.5\"]\n",
    "\n",
    "# Create figure\n",
    "fig = Figure(size = (1000, 600))\n",
    "\n",
    "# Heatmap for LCTA\n",
    "ax1 = Axis(fig[1, 1], title = \"LCTA\", titlesize =16, xlabelsize=16, ylabelsize=16, \n",
    "xticklabelsize=20, yticklabelsize=14, \n",
    "xticklabelfont=:bold, ylabelfont=:bold, yticklabelfont=:bold)\n",
    "heatmap!(ax1, lcta_test_values, colormap = :viridis, colorrange = (0, 100))\n",
    "\n",
    "# Add grid lines for LCTA\n",
    "hlines!(ax1, 0.5:1:length(std_sets)+0.5, color = :black, linewidth = 1)\n",
    "vlines!(ax1, 0.5:1:length(time_points)+0.5, color = :black, linewidth = 1)\n",
    "\n",
    "# Heatmap for NN\n",
    "ax2 = Axis(fig[1, 2], title = \"cANN\", titlesize =16, xlabelsize=16, ylabelsize=16, \n",
    "xticklabelsize=20, yticklabelsize=16, \n",
    "xticklabelfont=:bold, ylabelfont=:bold, yticklabelfont=:bold)\n",
    "heatmap!(ax2, nn_test_values, colormap = :viridis, colorrange = (0, 100))\n",
    "\n",
    "# Add grid lines for NN\n",
    "hlines!(ax2, 0.5:1:length(std_sets)+0.5, color = :black, linewidth = 1)\n",
    "vlines!(ax2, 0.5:1:length(time_points)+0.5, color = :black, linewidth = 1)\n",
    "\n",
    "# Add colorbars\n",
    "Colorbar(fig[1, 3], limits = (0, 100), colormap = :viridis, label = \"Correctly classified (%)\", labelsize = 20, labelfont = :bold)\n",
    "\n",
    "# Set axis ticks\n",
    "ax1.xticks = (1:length(time_points), time_points)\n",
    "ax1.yticks = (1:length(std_sets), std_sets)\n",
    "ax2.xticks = (1:length(time_points), time_points)\n",
    "ax2.yticks = (1:length(std_sets), [\"\", \"\", \"\", \"\", \"\", \"\", \"\"])\n",
    "\n",
    "\n",
    "# Display figure\n",
    "fig\n",
    "\n",
    "# Save the figure\n",
    "save(\"heatmaps_test_missing_timepoints.png\", fig)"
   ]
  }
 ],
 "metadata": {
  "kernelspec": {
   "display_name": "Julia 1.10.1",
   "language": "julia",
   "name": "julia-1.10"
  },
  "language_info": {
   "file_extension": ".jl",
   "mimetype": "application/julia",
   "name": "julia",
   "version": "1.10.1"
  }
 },
 "nbformat": 4,
 "nbformat_minor": 2
}
