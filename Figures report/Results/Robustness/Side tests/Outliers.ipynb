{
 "cells": [
  {
   "cell_type": "markdown",
   "metadata": {},
   "source": [
    "### Notebook for generating the accuracies figure for the different outlier datasets "
   ]
  },
  {
   "cell_type": "code",
   "execution_count": 1,
   "metadata": {},
   "outputs": [],
   "source": [
    "using CairoMakie\n",
    "using XLSX\n",
    "using RData\n",
    "using DataFrames"
   ]
  },
  {
   "cell_type": "code",
   "execution_count": 2,
   "metadata": {},
   "outputs": [
    {
     "data": {
      "text/html": [
       "<div><div style = \"float: left;\"><span>9×3 DataFrame</span></div><div style = \"clear: both;\"></div></div><div class = \"data-frame\" style = \"overflow-x: scroll;\"><table class = \"data-frame\" style = \"margin-bottom: 6px;\"><thead><tr class = \"header\"><th class = \"rowNumber\" style = \"font-weight: bold; text-align: right;\">Row</th><th style = \"text-align: left;\">x1</th><th style = \"text-align: left;\">LCTA</th><th style = \"text-align: left;\">NN</th></tr><tr class = \"subheader headerLastRow\"><th class = \"rowNumber\" style = \"font-weight: bold; text-align: right;\"></th><th title = \"Float64\" style = \"text-align: left;\">Float64</th><th title = \"Float64\" style = \"text-align: left;\">Float64</th><th title = \"Float64\" style = \"text-align: left;\">Float64</th></tr></thead><tbody><tr><td class = \"rowNumber\" style = \"font-weight: bold; text-align: right;\">1</td><td style = \"text-align: right;\">35.0</td><td style = \"text-align: right;\">35.0</td><td style = \"text-align: right;\">35.0</td></tr><tr><td class = \"rowNumber\" style = \"font-weight: bold; text-align: right;\">2</td><td style = \"text-align: right;\">55.0</td><td style = \"text-align: right;\">35.0</td><td style = \"text-align: right;\">35.0</td></tr><tr><td class = \"rowNumber\" style = \"font-weight: bold; text-align: right;\">3</td><td style = \"text-align: right;\">30.0</td><td style = \"text-align: right;\">35.0</td><td style = \"text-align: right;\">35.0</td></tr><tr><td class = \"rowNumber\" style = \"font-weight: bold; text-align: right;\">4</td><td style = \"text-align: right;\">40.0</td><td style = \"text-align: right;\">30.0</td><td style = \"text-align: right;\">35.0</td></tr><tr><td class = \"rowNumber\" style = \"font-weight: bold; text-align: right;\">5</td><td style = \"text-align: right;\">50.0</td><td style = \"text-align: right;\">40.0</td><td style = \"text-align: right;\">35.0</td></tr><tr><td class = \"rowNumber\" style = \"font-weight: bold; text-align: right;\">6</td><td style = \"text-align: right;\">45.0</td><td style = \"text-align: right;\">35.0</td><td style = \"text-align: right;\">35.0</td></tr><tr><td class = \"rowNumber\" style = \"font-weight: bold; text-align: right;\">7</td><td style = \"text-align: right;\">35.0</td><td style = \"text-align: right;\">35.0</td><td style = \"text-align: right;\">35.0</td></tr><tr><td class = \"rowNumber\" style = \"font-weight: bold; text-align: right;\">8</td><td style = \"text-align: right;\">45.0</td><td style = \"text-align: right;\">30.0</td><td style = \"text-align: right;\">35.0</td></tr><tr><td class = \"rowNumber\" style = \"font-weight: bold; text-align: right;\">9</td><td style = \"text-align: right;\">50.0</td><td style = \"text-align: right;\">35.0</td><td style = \"text-align: right;\">45.0</td></tr></tbody></table></div>"
      ],
      "text/latex": [
       "\\begin{tabular}{r|ccc}\n",
       "\t& x1 & LCTA & NN\\\\\n",
       "\t\\hline\n",
       "\t& Float64 & Float64 & Float64\\\\\n",
       "\t\\hline\n",
       "\t1 & 35.0 & 35.0 & 35.0 \\\\\n",
       "\t2 & 55.0 & 35.0 & 35.0 \\\\\n",
       "\t3 & 30.0 & 35.0 & 35.0 \\\\\n",
       "\t4 & 40.0 & 30.0 & 35.0 \\\\\n",
       "\t5 & 50.0 & 40.0 & 35.0 \\\\\n",
       "\t6 & 45.0 & 35.0 & 35.0 \\\\\n",
       "\t7 & 35.0 & 35.0 & 35.0 \\\\\n",
       "\t8 & 45.0 & 30.0 & 35.0 \\\\\n",
       "\t9 & 50.0 & 35.0 & 45.0 \\\\\n",
       "\\end{tabular}\n"
      ],
      "text/plain": [
       "\u001b[1m9×3 DataFrame\u001b[0m\n",
       "\u001b[1m Row \u001b[0m│\u001b[1m x1      \u001b[0m\u001b[1m LCTA    \u001b[0m\u001b[1m NN      \u001b[0m\n",
       "     │\u001b[90m Float64 \u001b[0m\u001b[90m Float64 \u001b[0m\u001b[90m Float64 \u001b[0m\n",
       "─────┼───────────────────────────\n",
       "   1 │    35.0     35.0     35.0\n",
       "   2 │    55.0     35.0     35.0\n",
       "   3 │    30.0     35.0     35.0\n",
       "   4 │    40.0     30.0     35.0\n",
       "   5 │    50.0     40.0     35.0\n",
       "   6 │    45.0     35.0     35.0\n",
       "   7 │    35.0     35.0     35.0\n",
       "   8 │    45.0     30.0     35.0\n",
       "   9 │    50.0     35.0     45.0"
      ]
     },
     "metadata": {},
     "output_type": "display_data"
    }
   ],
   "source": [
    "file_path = \"C:/Users/20192809/OneDrive - TU Eindhoven/TUe/Thesis/Thesis writing/Combined results.xlsx\"\n",
    "sheet = \"Outliers\"\n",
    "\n",
    "data = DataFrame(XLSX.readtable(file_path, sheet))\n",
    "\n",
    "population_size = 20 \n",
    "\n",
    "data = data ./population_size .* 100\n",
    "# Move the last column to the first position\n",
    "data = hcat(data[:, end], data[:, 1:end-1])\n"
   ]
  },
  {
   "cell_type": "code",
   "execution_count": 6,
   "metadata": {},
   "outputs": [
    {
     "data": {
      "text/plain": [
       "CairoMakie.Screen{IMAGE}\n"
      ]
     },
     "metadata": {},
     "output_type": "display_data"
    }
   ],
   "source": [
    "# Define row and column names\n",
    "row_names = [\"τ₀\", \"τ₁\", \"τ₂\", \"τ₃\", \"τ₄\", \"τ₍₀,₁₎\", \"τ₍₁,₂₎\", \"τ₍₂,₃₎\", \"τ₍₃,₄₎\"]\n",
    "column_names = [\"L-Kmeans\", \"LCTA\", \"cANN\"]\n",
    "\n",
    "# Define colors for methods (consistent with previous plots)\n",
    "colormap = Makie.wong_colors()[1:3]  # First 3 colors from Wong palette\n",
    "method_colors = Dict(column_names .=> colormap)\n",
    "\n",
    "# Create figure\n",
    "fig = Figure(size = (1000, 400))\n",
    "ax = Axis(fig[1, 1], \n",
    "          xlabel = \"Outlier(s) in dataset\", \n",
    "          ylabel = \"Correctly classified (%)\", \n",
    "          xlabelsize = 20, ylabelsize = 20, \n",
    "          xticklabelsize = 20, yticklabelsize = 14, \n",
    "          xlabelfont = :bold, ylabelfont = :bold,\n",
    "          xticklabelfont = :bold,\n",
    "          xticks = (1:length(row_names), row_names))\n",
    "\n",
    "# Define bar positions and width\n",
    "x = 1:length(row_names)  # x positions for datasets\n",
    "bar_width = 0.25  # Width of each bar\n",
    "offsets = [-bar_width, 0, bar_width]  # Offsets for each method\n",
    "\n",
    "ylims!(ax, (0, 100))\n",
    "# Plot bars for each method\n",
    "for (i, method) in enumerate(column_names)\n",
    "    barplot!(x .+ offsets[i], data[:, i], color = method_colors[method], width = bar_width)\n",
    "end\n",
    "\n",
    "# Add red dotted line at y = 25%\n",
    "hlines!(25, color = :red, linestyle = :dot, linewidth = 3)\n",
    "\n",
    "# Add legend\n",
    "Legend(fig[1, 2], \n",
    "       [PolyElement(color = method_colors[method]) for method in column_names] ∪ [LineElement(color = :red, linestyle = :dot, linewidth = 2)], \n",
    "       column_names ∪ [\"Random Prediction\"], \"Method\", labelsize = 20, titlesize = 20)\n",
    "\n",
    "# Adjust layout spacing\n",
    "colgap!(fig.layout, 10)\n",
    "rowgap!(fig.layout, 10)\n",
    "\n",
    "# Display figure\n",
    "fig\n",
    "\n",
    "# Save figure\n",
    "save(\"./Outlier_accuracy.png\", fig)"
   ]
  }
 ],
 "metadata": {
  "kernelspec": {
   "display_name": "Julia 1.10.1",
   "language": "julia",
   "name": "julia-1.10"
  },
  "language_info": {
   "file_extension": ".jl",
   "mimetype": "application/julia",
   "name": "julia",
   "version": "1.10.1"
  }
 },
 "nbformat": 4,
 "nbformat_minor": 2
}
