{
 "cells": [
  {
   "cell_type": "markdown",
   "metadata": {},
   "source": [
    "### Notebook to visualise results of the late onset sets "
   ]
  },
  {
   "cell_type": "code",
   "execution_count": 32,
   "metadata": {},
   "outputs": [],
   "source": [
    "using CairoMakie\n",
    "using XLSX\n",
    "using RData\n",
    "using DataFrames"
   ]
  },
  {
   "cell_type": "code",
   "execution_count": null,
   "metadata": {},
   "outputs": [
    {
     "ename": "UndefVarError",
     "evalue": "UndefVarError: `df_accuracies` not defined",
     "output_type": "error",
     "traceback": [
      "UndefVarError: `df_accuracies` not defined\n",
      "\n",
      "Stacktrace:\n",
      " [1] top-level scope\n",
      "   @ c:\\Users\\20192809\\Documents\\GitHub\\EDES\\Figures report\\Results\\Robustness\\jl_notebook_cell_df34fa98e69747e1a8f8a730347b8e2f_W2sZmlsZQ==.jl:8"
     ]
    }
   ],
   "source": [
    "file_path_accuracy = \"C:/Users/20192809/OneDrive - TU Eindhoven/TUe/Thesis/Thesis writing/Combined results.xlsx\"\n",
    "sheet = \"Late onset\"\n",
    "\n",
    "df_accuracies = DataFrame(XLSX.readtable(file_path_accuracy, sheet))\n",
    "total_individuals = 200\n",
    "df_accuracies = (df_accuracies ./total_individuals) .*100\n",
    "\n"
   ]
  },
  {
   "cell_type": "code",
   "execution_count": 48,
   "metadata": {},
   "outputs": [],
   "source": [
    "file_paths = [\n",
    "    \"C:/Users/20192809/OneDrive - TU Eindhoven/TUe/Thesis/Synthetic data tests/Late onset sets/four_group_data_late_onset_noise_0.2_t=1.Rdata\",\n",
    "    \"C:/Users/20192809/OneDrive - TU Eindhoven/TUe/Thesis/Synthetic data tests/Late onset sets/four_group_data_late_onset_noise_0.2_t=2.Rdata\",\n",
    "    \"C:/Users/20192809/OneDrive - TU Eindhoven/TUe/Thesis/Synthetic data tests/Late onset sets/four_group_data_late_onset_noise_0.2_t=3.Rdata\",\n",
    "    \"C:/Users/20192809/OneDrive - TU Eindhoven/TUe/Thesis/Synthetic data tests/Late onset sets/four_group_data_late_onset_noise_0.2_t=4.Rdata\"\n",
    "]\n",
    "\n",
    "df_t1 = load(file_paths[1])[\"data\"]\n",
    "df_t2 = load(file_paths[2])[\"data\"]\n",
    "df_t3 = load(file_paths[3])[\"data\"]\n",
    "df_t4 = load(file_paths[4])[\"data\"];"
   ]
  },
  {
   "cell_type": "code",
   "execution_count": null,
   "metadata": {},
   "outputs": [
    {
     "name": "stderr",
     "output_type": "stream",
     "text": [
      "┌ Warning: Found `resolution` in the theme when creating a `Scene`. The `resolution` keyword for `Scene`s and `Figure`s has been deprecated. Use `Figure(; size = ...` or `Scene(; size = ...)` instead, which better reflects that this is a unitless size and not a pixel resolution. The key could also come from `set_theme!` calls or related theming functions.\n",
      "└ @ Makie C:\\Users\\20192809\\.julia\\packages\\Makie\\VRavR\\src\\scenes.jl:220\n"
     ]
    },
    {
     "data": {
      "text/plain": [
       "CairoMakie.Screen{IMAGE}\n"
      ]
     },
     "metadata": {},
     "output_type": "display_data"
    }
   ],
   "source": [
    "rownames = [\"t_1\", \"t_2\", \"t_3\", \"t_4\"]\n",
    "\n",
    "# Extract values\n",
    "lcta_values = Float64.(vec(df_accuracies[:, 1]))\n",
    "nn_values = Float64.(vec(df_accuracies[:, 2]))\n",
    "lkmeans_values = Float64.(vec(df_accuracies[:, 3]))\n",
    "\n",
    "# Define bar positions\n",
    "x = 1:length(rownames)\n",
    "bar_width = 0.25  # Controls spacing between bars\n",
    "\n",
    "# Define colours\n",
    "colormap = Makie.wong_colors()[1:3]\n",
    "labels = [\"LCTA\", \"NN\", \"LKmeans\"]\n",
    "\n",
    "# Create figure\n",
    "fig = Figure(resolution=(800, 500))\n",
    "ax = Axis(fig[1, 1], \n",
    "    xticks=(x, rownames), ylabel=\"Accuracy (%)\",\n",
    "    xlabel=\"Dataset\", ylabelfont=:bold, xlabelfont=:bold, ylabelsize=16, xlabelsize=16,\n",
    "    xticklabelsize=14, xticklabelfont=:bold)\n",
    "\n",
    "# Plot bars with small offsets\n",
    "barplot!(x .- bar_width, lcta_values, color=colormap[1], width=bar_width)\n",
    "barplot!(x, nn_values, color=colormap[2], width=bar_width)\n",
    "barplot!(x .+ bar_width, lkmeans_values, color=colormap[3], width=bar_width)\n",
    "\n",
    "# Add red dotted line at y = 25% with label\n",
    "hlines!(25, color=:red, linestyle=:dot, linewidth=2)\n",
    "\n",
    "# Add legend\n",
    "Legend(fig[1, 2], \n",
    "       [PolyElement(color=c) for c in colormap] ∪ [LineElement(color=:red, linestyle=:dot, linewidth=2)], \n",
    "       labels ∪ [\"Random Prediction\"], \"Method\")\n",
    "\n",
    "# Show plot\n",
    "fig\n",
    "\n",
    "# Save the plot\n",
    "save(\"Test_accuracies_late_onset.png\", fig, px_per_unit=2)\n"
   ]
  },
  {
   "cell_type": "code",
   "execution_count": 51,
   "metadata": {},
   "outputs": [
    {
     "name": "stderr",
     "output_type": "stream",
     "text": [
      "┌ Warning: Found `resolution` in the theme when creating a `Scene`. The `resolution` keyword for `Scene`s and `Figure`s has been deprecated. Use `Figure(; size = ...` or `Scene(; size = ...)` instead, which better reflects that this is a unitless size and not a pixel resolution. The key could also come from `set_theme!` calls or related theming functions.\n",
      "└ @ Makie C:\\Users\\20192809\\.julia\\packages\\Makie\\VRavR\\src\\scenes.jl:220\n"
     ]
    },
    {
     "data": {
      "text/plain": [
       "CairoMakie.Screen{IMAGE}\n"
      ]
     },
     "metadata": {},
     "output_type": "display_data"
    }
   ],
   "source": [
    "# Define group mappings\n",
    "group_names = Dict(\"1\" => \"Healthy\", \"2\" => \"T2DM\", \"3\" => \"Insulin resistant\", \"4\" => \"β-cell dysfunction\")\n",
    "group_labels = unique(df_t2[:, :group])  # Extract unique group labels (as strings)\n",
    "\n",
    "# Define colours for each group\n",
    "colormap = Makie.wong_colors()[1:length(group_labels)]\n",
    "group_colors = Dict(group_labels .=> colormap)\n",
    "\n",
    "# Create figure with two subplots and a shared x-axis\n",
    "fig = Figure(resolution = (900, 400))\n",
    "ax1 = Axis(fig[1, 1], xlabel=\"τ\", ylabel=\"k5\", \n",
    "           xlabelsize=20, ylabelsize=16, \n",
    "           xticklabelsize=14, yticklabelsize=14, \n",
    "           xlabelfont=:bold, ylabelfont=:bold)\n",
    "\n",
    "ax2 = Axis(fig[1, 2], xlabel=\"τ\", ylabel=\"k6\", \n",
    "           xlabelsize=20, ylabelsize=16, \n",
    "           xticklabelsize=14, yticklabelsize=14, \n",
    "           xlabelfont=:bold, ylabelfont=:bold)\n",
    "\n",
    "\n",
    "# Ensure x-axis spans the same range for both plots\n",
    "τ_min, τ_max = extrema(df_t2[:, :time])\n",
    "xlims!(ax1, τ_min, τ_max)\n",
    "xlims!(ax2, τ_min, τ_max)\n",
    "\n",
    "# Plot lines for each group\n",
    "for group in group_labels\n",
    "    group_data = df_t3[df_t3[:, :group] .== group, :]\n",
    "    for id in unique(group_data[:, :ID])  # Iterate over individuals\n",
    "        person_data = group_data[group_data[:, :ID] .== id, :]\n",
    "        lines!(ax1, person_data[:, :time], person_data[:, :k5], color=group_colors[group])\n",
    "        lines!(ax2, person_data[:, :time], person_data[:, :k6], color=group_colors[group])\n",
    "    end\n",
    "end\n",
    "\n",
    "# Add legend to position [1,3]\n",
    "Legend(fig[1, 3], [PolyElement(color=group_colors[g]) for g in group_labels], \n",
    "       [group_names[g] for g in group_labels], \"Group\")\n",
    "\n",
    "# Display figure\n",
    "fig\n",
    "\n",
    "# save figure \n",
    "save(\"./late_onset_t=3_trajectory.png\", fig)"
   ]
  }
 ],
 "metadata": {
  "kernelspec": {
   "display_name": "Julia 1.10.1",
   "language": "julia",
   "name": "julia-1.10"
  },
  "language_info": {
   "file_extension": ".jl",
   "mimetype": "application/julia",
   "name": "julia",
   "version": "1.10.1"
  }
 },
 "nbformat": 4,
 "nbformat_minor": 2
}
