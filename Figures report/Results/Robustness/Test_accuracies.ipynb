{
 "cells": [
  {
   "cell_type": "markdown",
   "metadata": {},
   "source": [
    "### Notebook to visualise the test accuracies for the different methods"
   ]
  },
  {
   "cell_type": "code",
   "execution_count": 1,
   "metadata": {},
   "outputs": [],
   "source": [
    "using CairoMakie\n",
    "using XLSX\n",
    "using DataFrames"
   ]
  },
  {
   "cell_type": "code",
   "execution_count": 2,
   "metadata": {},
   "outputs": [
    {
     "data": {
      "text/html": [
       "<div><div style = \"float: left;\"><span>7×4 DataFrame</span></div><div style = \"clear: both;\"></div></div><div class = \"data-frame\" style = \"overflow-x: scroll;\"><table class = \"data-frame\" style = \"margin-bottom: 6px;\"><thead><tr class = \"header\"><th class = \"rowNumber\" style = \"font-weight: bold; text-align: right;\">Row</th><th style = \"text-align: left;\">STD</th><th style = \"text-align: left;\">LCTA</th><th style = \"text-align: left;\">NN</th><th style = \"text-align: left;\">Lkmeans</th></tr><tr class = \"subheader headerLastRow\"><th class = \"rowNumber\" style = \"font-weight: bold; text-align: right;\"></th><th title = \"Any\" style = \"text-align: left;\">Any</th><th title = \"Any\" style = \"text-align: left;\">Any</th><th title = \"Any\" style = \"text-align: left;\">Any</th><th title = \"Any\" style = \"text-align: left;\">Any</th></tr></thead><tbody><tr><td class = \"rowNumber\" style = \"font-weight: bold; text-align: right;\">1</td><td style = \"text-align: left;\">0.05</td><td style = \"text-align: left;\">100.0</td><td style = \"text-align: left;\">100.0</td><td style = \"text-align: left;\">100.0</td></tr><tr><td class = \"rowNumber\" style = \"font-weight: bold; text-align: right;\">2</td><td style = \"text-align: left;\">0.1</td><td style = \"text-align: left;\">100.0</td><td style = \"text-align: left;\">100.0</td><td style = \"text-align: left;\">100.0</td></tr><tr><td class = \"rowNumber\" style = \"font-weight: bold; text-align: right;\">3</td><td style = \"text-align: left;\">0.2</td><td style = \"text-align: left;\">100.0</td><td style = \"text-align: left;\">100.0</td><td style = \"text-align: left;\">100.0</td></tr><tr><td class = \"rowNumber\" style = \"font-weight: bold; text-align: right;\">4</td><td style = \"text-align: left;\">0.3</td><td style = \"text-align: left;\">100.0</td><td style = \"text-align: left;\">70.0</td><td style = \"text-align: left;\">100.0</td></tr><tr><td class = \"rowNumber\" style = \"font-weight: bold; text-align: right;\">5</td><td style = \"text-align: left;\">0.35</td><td style = \"text-align: left;\">90.0</td><td style = \"text-align: left;\">70.0</td><td style = \"text-align: left;\">90.0</td></tr><tr><td class = \"rowNumber\" style = \"font-weight: bold; text-align: right;\">6</td><td style = \"text-align: left;\">0.4</td><td style = \"text-align: left;\">55.0</td><td style = \"text-align: left;\">55.0</td><td style = \"text-align: left;\">85.0</td></tr><tr><td class = \"rowNumber\" style = \"font-weight: bold; text-align: right;\">7</td><td style = \"text-align: left;\">0.5</td><td style = \"text-align: left;\">40.0</td><td style = \"text-align: left;\">45.0</td><td style = \"text-align: left;\">45.0</td></tr></tbody></table></div>"
      ],
      "text/latex": [
       "\\begin{tabular}{r|cccc}\n",
       "\t& STD & LCTA & NN & Lkmeans\\\\\n",
       "\t\\hline\n",
       "\t& Any & Any & Any & Any\\\\\n",
       "\t\\hline\n",
       "\t1 & 0.05 & 100.0 & 100.0 & 100.0 \\\\\n",
       "\t2 & 0.1 & 100.0 & 100.0 & 100.0 \\\\\n",
       "\t3 & 0.2 & 100.0 & 100.0 & 100.0 \\\\\n",
       "\t4 & 0.3 & 100.0 & 70.0 & 100.0 \\\\\n",
       "\t5 & 0.35 & 90.0 & 70.0 & 90.0 \\\\\n",
       "\t6 & 0.4 & 55.0 & 55.0 & 85.0 \\\\\n",
       "\t7 & 0.5 & 40.0 & 45.0 & 45.0 \\\\\n",
       "\\end{tabular}\n"
      ],
      "text/plain": [
       "\u001b[1m7×4 DataFrame\u001b[0m\n",
       "\u001b[1m Row \u001b[0m│\u001b[1m STD  \u001b[0m\u001b[1m LCTA  \u001b[0m\u001b[1m NN    \u001b[0m\u001b[1m Lkmeans \u001b[0m\n",
       "     │\u001b[90m Any  \u001b[0m\u001b[90m Any   \u001b[0m\u001b[90m Any   \u001b[0m\u001b[90m Any     \u001b[0m\n",
       "─────┼─────────────────────────────\n",
       "   1 │ 0.05  100.0  100.0  100.0\n",
       "   2 │ 0.1   100.0  100.0  100.0\n",
       "   3 │ 0.2   100.0  100.0  100.0\n",
       "   4 │ 0.3   100.0  70.0   100.0\n",
       "   5 │ 0.35  90.0   70.0   90.0\n",
       "   6 │ 0.4   55.0   55.0   85.0\n",
       "   7 │ 0.5   40.0   45.0   45.0"
      ]
     },
     "metadata": {},
     "output_type": "display_data"
    }
   ],
   "source": [
    "file_path = \"C:/Users/20192809/OneDrive - TU Eindhoven/TUe/Thesis/Thesis writing/Combined results.xlsx\"\n",
    "\n",
    "df = DataFrame(XLSX.readtable(file_path, \"Robustness\"))\n",
    "df[:, 2:end] = df[:, 2:end].*100\n",
    "df"
   ]
  },
  {
   "cell_type": "code",
   "execution_count": 7,
   "metadata": {},
   "outputs": [
    {
     "name": "stderr",
     "output_type": "stream",
     "text": [
      "┌ Warning: Found `resolution` in the theme when creating a `Scene`. The `resolution` keyword for `Scene`s and `Figure`s has been deprecated. Use `Figure(; size = ...` or `Scene(; size = ...)` instead, which better reflects that this is a unitless size and not a pixel resolution. The key could also come from `set_theme!` calls or related theming functions.\n",
      "└ @ Makie C:\\Users\\20192809\\.julia\\packages\\Makie\\VRavR\\src\\scenes.jl:220\n"
     ]
    },
    {
     "data": {
      "text/plain": [
       "CairoMakie.Screen{IMAGE}\n"
      ]
     },
     "metadata": {},
     "output_type": "display_data"
    }
   ],
   "source": [
    "\n",
    "# Extract values\n",
    "std_groups = string.(df[:, 1])  # Convert STD values to strings for categorical grouping\n",
    "lcta_values = Float64.(vec(df[:, 2]))\n",
    "nn_values = Float64.(vec(df[:, 3]))\n",
    "lkmeans_values = Float64.(vec(df[:, 4]))\n",
    "\n",
    "# Define bar positions\n",
    "x = 1:length(std_groups)\n",
    "bar_width = 0.25  # Controls spacing between bars\n",
    "\n",
    "# Define colours and labels in the desired order\n",
    "colormap = Makie.wong_colors()[1:3]\n",
    "labels = [\"LKmeans\", \"LCTA\", \"NN\"]  # Reordered labels\n",
    "\n",
    "# Reorder the data to match the desired order\n",
    "data_values = [lkmeans_values, lcta_values, nn_values]  # Reordered data\n",
    "\n",
    "# Create figure\n",
    "fig = Figure(resolution=(800, 500))\n",
    "ax = Axis(fig[1, 1], xticks=(x, std_groups), ylabel=\"Correctly classified (%)\",\n",
    "          xlabel=\"STD of noise in dataset\", ylabelfont=:bold, xlabelfont=:bold, ylabelsize=16, xlabelsize=16)\n",
    "\n",
    "# Plot bars with small offsets\n",
    "for (i, (values, color)) in enumerate(zip(data_values, colormap))\n",
    "    barplot!(x .+ (i - 2) * bar_width, values, color=color, width=bar_width)\n",
    "end\n",
    "\n",
    "# Add red dotted line at y = 25% with label\n",
    "hlines!(25, color=:red, linestyle=:dot, linewidth=3)\n",
    "\n",
    "# Add legend with the desired order\n",
    "Legend(fig[1, 2], \n",
    "       [PolyElement(color=c) for c in colormap] ∪ [LineElement(color=:red, linestyle=:dot, linewidth=2)], \n",
    "       labels ∪ [\"Random Prediction\"], \"Method\")\n",
    "\n",
    "# Show plot\n",
    "fig\n",
    "\n",
    "# Save the plot\n",
    "save(\"Test_accuracies_robustness.png\", fig, px_per_unit=2)"
   ]
  }
 ],
 "metadata": {
  "kernelspec": {
   "display_name": "Julia 1.10.1",
   "language": "julia",
   "name": "julia-1.10"
  },
  "language_info": {
   "file_extension": ".jl",
   "mimetype": "application/julia",
   "name": "julia",
   "version": "1.10.1"
  }
 },
 "nbformat": 4,
 "nbformat_minor": 2
}
