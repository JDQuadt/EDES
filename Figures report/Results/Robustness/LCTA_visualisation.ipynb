{
 "cells": [
  {
   "cell_type": "markdown",
   "metadata": {
    "vscode": {
     "languageId": "plaintext"
    }
   },
   "source": [
    "### Notebook to make the figure showing the classes uncovered by LCTA"
   ]
  },
  {
   "cell_type": "code",
   "execution_count": 24,
   "metadata": {},
   "outputs": [],
   "source": [
    "using DataFrames\n",
    "using CSV\n",
    "using CairoMakie\n",
    "using Statistics\n"
   ]
  },
  {
   "cell_type": "code",
   "execution_count": 17,
   "metadata": {},
   "outputs": [],
   "source": [
    "file_path_data = \"../../Data/robustness_fit_mult_0.2.CSV\"\n",
    "\n",
    "data = CSV.read(file_path_data, DataFrame)\n",
    "clusters = data[:,:assignment]\n",
    "k5 = data[:,:k5]\n",
    "k6 = data[:,:k6]\n",
    "time = data[:,:time];\n"
   ]
  },
  {
   "cell_type": "code",
   "execution_count": 22,
   "metadata": {},
   "outputs": [
    {
     "data": {
      "text/plain": [
       "4-element Vector{Int64}:\n",
       " 1\n",
       " 2\n",
       " 3\n",
       " 4"
      ]
     },
     "metadata": {},
     "output_type": "display_data"
    }
   ],
   "source": [
    "unique_clusters = unique(clusters)"
   ]
  },
  {
   "cell_type": "code",
   "execution_count": null,
   "metadata": {},
   "outputs": [
    {
     "data": {
      "text/plain": [
       "CairoMakie.Screen{IMAGE}\n"
      ]
     },
     "metadata": {},
     "output_type": "display_data"
    }
   ],
   "source": [
    "using CairoMakie, Statistics\n",
    "\n",
    "# Extract data\n",
    "clusters = data[:, :assignment]  # 500-element vector\n",
    "k5 = data[:, :k5]                # 500-element vector\n",
    "k6 = data[:, :k6]                # 500-element vector\n",
    "time = data[:, :time]            # 500-element vector\n",
    "\n",
    "# Reshape clusters into a 100-element vector (one cluster per person)\n",
    "clusters_per_person = clusters[1:5:end]\n",
    "\n",
    "# Get unique clusters and Wong colors\n",
    "unique_clusters = unique(clusters_per_person)\n",
    "colors = Makie.wong_colors()\n",
    "\n",
    "# Set up the figure with two subplots\n",
    "fig = Figure(size = (1000, 400))  # Adjusted width to accommodate the legend\n",
    "\n",
    "# First subplot for k5\n",
    "ax1 = Axis(fig[1, 1], xlabel = \"τ\", ylabel = \"k5\", \n",
    "           xticklabelsize = 14, yticklabelsize = 14, xlabelsize = 20, ylabelsize = 16, \n",
    "           xlabelfont = :bold, ylabelfont = :bold)\n",
    "\n",
    "# Second subplot for k6\n",
    "ax2 = Axis(fig[1, 2], xlabel = \"τ\", ylabel = \"k6\", \n",
    "           xticklabelsize = 14, yticklabelsize = 14, xlabelsize = 20, ylabelsize = 16, \n",
    "           xlabelfont = :bold, ylabelfont = :bold)\n",
    "\n",
    "# Function to calculate mean and confidence intervals over time\n",
    "function calculate_mean_and_ci_over_time(data, clusters, time_points)\n",
    "    unique_clusters = unique(clusters)\n",
    "    unique_times = unique(time_points)\n",
    "    mean_values = Dict()\n",
    "    ci_lower = Dict()\n",
    "    ci_upper = Dict()\n",
    "    \n",
    "    for cluster in unique_clusters\n",
    "        mean_val = Float64[]  # Explicitly typed as Vector{Float64}\n",
    "        lower_val = Float64[]  # Explicitly typed as Vector{Float64}\n",
    "        upper_val = Float64[]  # Explicitly typed as Vector{Float64}\n",
    "        for t in unique_times\n",
    "            idx = (clusters .== cluster) .& (time_points .== t)\n",
    "            cluster_data = data[idx]\n",
    "            if !isempty(cluster_data)\n",
    "                n = length(cluster_data)\n",
    "                mean_t = mean(cluster_data)\n",
    "                std_t = std(cluster_data)\n",
    "                ci = 1.96 * std_t / sqrt(n)  # 95% confidence interval\n",
    "                push!(mean_val, mean_t)\n",
    "                push!(lower_val, mean_t - ci)\n",
    "                push!(upper_val, mean_t + ci)\n",
    "            else\n",
    "                push!(mean_val, NaN)\n",
    "                push!(lower_val, NaN)\n",
    "                push!(upper_val, NaN)\n",
    "            end\n",
    "        end\n",
    "        mean_values[cluster] = mean_val\n",
    "        ci_lower[cluster] = lower_val\n",
    "        ci_upper[cluster] = upper_val\n",
    "    end\n",
    "    return mean_values, ci_lower, ci_upper, unique_times\n",
    "end\n",
    "\n",
    "# Calculate mean and CI for k5 and k6 over time\n",
    "mean_k5, ci_lower_k5, ci_upper_k5, unique_times = calculate_mean_and_ci_over_time(k5, clusters, time)\n",
    "mean_k6, ci_lower_k6, ci_upper_k6, _ = calculate_mean_and_ci_over_time(k6, clusters, time)\n",
    "\n",
    "# Plot k5 with mean and confidence intervals over time\n",
    "for (i, cluster) in enumerate(unique_clusters)\n",
    "    lines!(ax1, unique_times, mean_k5[cluster], color = colors[i], linewidth = 2, label = \"Cluster $cluster\", alpha =0.8)\n",
    "    band!(ax1, unique_times, ci_lower_k5[cluster], ci_upper_k5[cluster], color = (colors[i], 0.2))\n",
    "end\n",
    "\n",
    "# Plot k6 with mean and confidence intervals over time\n",
    "for (i, cluster) in enumerate(unique_clusters)\n",
    "    lines!(ax2, unique_times, mean_k6[cluster], color = colors[i], linewidth = 2, label = \"Cluster $cluster\", alpha =0.8)\n",
    "    band!(ax2, unique_times, ci_lower_k6[cluster], ci_upper_k6[cluster], color = (colors[i], 0.2))\n",
    "end\n",
    "\n",
    "# Create a custom legend\n",
    "legend_elements = [\n",
    "    LineElement(color = colors[1], linewidth = 2),  # Cluster 1\n",
    "    LineElement(color = colors[2], linewidth = 2),  # Cluster 2\n",
    "    LineElement(color = colors[3], linewidth = 2),  # Cluster 3\n",
    "    LineElement(color = colors[4], linewidth = 2),  # Cluster 4\n",
    "]\n",
    "\n",
    "legend_labels = [\"Cluster $i\" for i in 1:length(unique_clusters)]\n",
    "\n",
    "# Add legend to the right of the plots\n",
    "Legend(fig[1, 3], legend_elements, legend_labels, label_size = 16)\n",
    "\n",
    "# Show the figure\n",
    "fig\n",
    "\n",
    "# Save the figure\n",
    "save(\"robustness_fit_mult_0.2.png\", fig)"
   ]
  },
  {
   "cell_type": "code",
   "execution_count": 29,
   "metadata": {},
   "outputs": [
    {
     "data": {
      "text/plain": [
       "Dict{Any, Any} with 4 entries:\n",
       "  4 => Any[2.94633, 3.48392, 3.53891, 3.05177, 2.1766]\n",
       "  2 => Any[2.98088, 3.51447, 3.52336, 3.08762, 2.14006]\n",
       "  3 => Any[3.00047, 2.98259, 3.00067, 2.96315, 3.02851]\n",
       "  1 => Any[3.02253, 3.02659, 3.02882, 2.99662, 2.99706]"
      ]
     },
     "metadata": {},
     "output_type": "display_data"
    }
   ],
   "source": [
    "mean_k6"
   ]
  },
  {
   "cell_type": "code",
   "execution_count": 26,
   "metadata": {},
   "outputs": [
    {
     "data": {
      "text/plain": [
       "4-element Vector{Any}:\n",
       " [0.040105604590570235]\n",
       " [0.032216787130679735]\n",
       " [0.03197222159980844]\n",
       " [0.0402026877312381]"
      ]
     },
     "metadata": {},
     "output_type": "display_data"
    }
   ],
   "source": [
    "mean_k5"
   ]
  }
 ],
 "metadata": {
  "kernelspec": {
   "display_name": "Julia 1.10.1",
   "language": "julia",
   "name": "julia-1.10"
  },
  "language_info": {
   "file_extension": ".jl",
   "mimetype": "application/julia",
   "name": "julia",
   "version": "1.10.1"
  }
 },
 "nbformat": 4,
 "nbformat_minor": 2
}
