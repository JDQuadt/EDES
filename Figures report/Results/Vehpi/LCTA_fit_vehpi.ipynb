{
 "cells": [
  {
   "cell_type": "markdown",
   "metadata": {},
   "source": [
    "### Notebook for generating the LCTA fit on the Vehpi data figure"
   ]
  },
  {
   "cell_type": "code",
   "execution_count": 1,
   "metadata": {},
   "outputs": [],
   "source": [
    "using CairoMakie\n",
    "using CSV \n",
    "using DataFrames\n",
    "using RData"
   ]
  },
  {
   "cell_type": "code",
   "execution_count": 2,
   "metadata": {},
   "outputs": [],
   "source": [
    "file_path = \"C:/Users/20192809/OneDrive - TU Eindhoven/TUe/Thesis/R shenanigans/Vehpi data/plot_data.RData\"\n",
    "\n",
    "data = load(file_path)[\"plot_data\"];"
   ]
  },
  {
   "cell_type": "code",
   "execution_count": 3,
   "metadata": {},
   "outputs": [
    {
     "name": "stderr",
     "output_type": "stream",
     "text": [
      "┌ Warning: Found `resolution` in the theme when creating a `Scene`. The `resolution` keyword for `Scene`s and `Figure`s has been deprecated. Use `Figure(; size = ...` or `Scene(; size = ...)` instead, which better reflects that this is a unitless size and not a pixel resolution. The key could also come from `set_theme!` calls or related theming functions.\n",
      "└ @ Makie C:\\Users\\20192809\\.julia\\packages\\Makie\\VRavR\\src\\scenes.jl:220\n"
     ]
    },
    {
     "data": {
      "text/plain": [
       "CairoMakie.Screen{IMAGE}\n"
      ]
     },
     "metadata": {},
     "output_type": "display_data"
    }
   ],
   "source": [
    "using CairoMakie\n",
    "# data_filtered = filter(row -> row.Cluster != 1, data)\n",
    "# Define colours\n",
    "colors = Makie.wong_colors()\n",
    "cluster_ids = unique(data.Cluster)  # Get unique cluster IDs\n",
    "cluster_colors = Dict(cluster_ids .=> colors[mod1.(cluster_ids, length(colors))])  # Assign colours\n",
    "\n",
    "# Create figure with a wider resolution\n",
    "fig = Figure(resolution = (1400, 800))\n",
    "\n",
    "# Glucose plot (left)\n",
    "ax1 = Axis(fig[1, 1], \n",
    "    xlabel = \"τ (days)\", \n",
    "    ylabel = \"Fasting glucose (mmol/L)\", \n",
    "    xlabelsize = 24, ylabelsize = 24, xticklabelsize = 14, yticklabelsize = 14, \n",
    "    xlabelfont = :bold, ylabelfont = :bold\n",
    ")\n",
    "\n",
    "# Insulin plot (right)\n",
    "ax2 = Axis(fig[1, 2], \n",
    "    xlabel = \"τ (days)\", \n",
    "    ylabel = \"Fasting insulin (μU/ml)\", \n",
    "    xlabelsize = 24, ylabelsize = 24, xticklabelsize = 14, yticklabelsize = 14, \n",
    "    xlabelfont = :bold, ylabelfont = :bold\n",
    ")\n",
    "\n",
    "# Group by Simulation ID\n",
    "for (sim_id, sim_data) in pairs(groupby(data, :Simulation))\n",
    "    cluster = first(sim_data.Cluster)  # Get cluster of this simulation\n",
    "    cluster_color = cluster_colors[cluster]  # Assign colour\n",
    "\n",
    "    # Extract glucose & insulin separately\n",
    "    glucose_data = filter(row -> row.State_Variable == \"glucose\", sim_data)\n",
    "    insulin_data = filter(row -> row.State_Variable == \"insulin\", sim_data)\n",
    "\n",
    "    # Plot lines\n",
    "    if !isempty(glucose_data)\n",
    "        lines!(ax1, glucose_data.Timepoint, glucose_data.Value, color = cluster_color, alpha = 0.5)\n",
    "    end\n",
    "    if !isempty(insulin_data)\n",
    "        lines!(ax2, insulin_data.Timepoint, insulin_data.Value, color = cluster_color, alpha = 0.5)\n",
    "    end\n",
    "end\n",
    "\n",
    "# Add horizontal dotted lines for glucose thresholds\n",
    "hlines!(ax1, [6.9], linestyle=:dot, linewidth=4, color=:black)\n",
    "vlines!(ax1, [1500], linestyle = :dot, linewidth = 4, color = :red)\n",
    "vlines!(ax2, [1500], linestyle = :dot, linewidth = 4, color = :red)\n",
    "\n",
    "# Create the legend for glucose thresholds\n",
    "legend_elements = [\n",
    "    LineElement(color=:red, linestyle=:dot, linewidth=3),\n",
    "    LineElement(color=:black, linestyle=:dot, linewidth=3)\n",
    "]\n",
    "\n",
    "# Add cluster colours to the legend\n",
    "for cluster_id in cluster_ids\n",
    "    pushfirst!(legend_elements, LineElement(color=cluster_colors[cluster_id], linewidth=4))\n",
    "end\n",
    "\n",
    "\n",
    "# Add the legend to the figure\n",
    "Legend(fig[1, 3], \n",
    "    legend_elements, \n",
    "    [\"Teal class\",\"Orange class\",\"Blue class\",\"τ = 1500\", \"T2DM threshold\"], \n",
    "    labelsize = 20, labelfont = :bold)\n",
    "\n",
    "# Display figure\n",
    "fig\n",
    "\n",
    "# Save figure\n",
    "save(\"./LCTA_fit_Vehpi_data.png\", fig)\n"
   ]
  }
 ],
 "metadata": {
  "kernelspec": {
   "display_name": "Julia 1.10.1",
   "language": "julia",
   "name": "julia-1.10"
  },
  "language_info": {
   "file_extension": ".jl",
   "mimetype": "application/julia",
   "name": "julia",
   "version": "1.10.1"
  }
 },
 "nbformat": 4,
 "nbformat_minor": 2
}
