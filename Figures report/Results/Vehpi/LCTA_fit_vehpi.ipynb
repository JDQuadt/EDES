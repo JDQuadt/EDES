{
 "cells": [
  {
   "cell_type": "markdown",
   "metadata": {},
   "source": [
    "### Notebook for generating the LCTA fit on the Vehpi data figure"
   ]
  },
  {
   "cell_type": "code",
   "execution_count": 1,
   "metadata": {},
   "outputs": [],
   "source": [
    "using CairoMakie\n",
    "using CSV \n",
    "using DataFrames\n",
    "using RData"
   ]
  },
  {
   "cell_type": "code",
   "execution_count": 2,
   "metadata": {},
   "outputs": [
    {
     "data": {
      "text/html": [
       "<div><div style = \"float: left;\"><span>25680×5 DataFrame</span></div><div style = \"float: right;\"><span style = \"font-style: italic;\">25655 rows omitted</span></div><div style = \"clear: both;\"></div></div><div class = \"data-frame\" style = \"overflow-x: scroll;\"><table class = \"data-frame\" style = \"margin-bottom: 6px;\"><thead><tr class = \"header\"><th class = \"rowNumber\" style = \"font-weight: bold; text-align: right;\">Row</th><th style = \"text-align: left;\">Simulation</th><th style = \"text-align: left;\">Timepoint</th><th style = \"text-align: left;\">Cluster</th><th style = \"text-align: left;\">State_Variable</th><th style = \"text-align: left;\">Value</th></tr><tr class = \"subheader headerLastRow\"><th class = \"rowNumber\" style = \"font-weight: bold; text-align: right;\"></th><th title = \"Int32\" style = \"text-align: left;\">Int32</th><th title = \"Float64\" style = \"text-align: left;\">Float64</th><th title = \"Int32\" style = \"text-align: left;\">Int32</th><th title = \"String\" style = \"text-align: left;\">String</th><th title = \"Float64\" style = \"text-align: left;\">Float64</th></tr></thead><tbody><tr><td class = \"rowNumber\" style = \"font-weight: bold; text-align: right;\">1</td><td style = \"text-align: right;\">0</td><td style = \"text-align: right;\">0.0</td><td style = \"text-align: right;\">1</td><td style = \"text-align: left;\">glucose</td><td style = \"text-align: right;\">4.55466</td></tr><tr><td class = \"rowNumber\" style = \"font-weight: bold; text-align: right;\">2</td><td style = \"text-align: right;\">0</td><td style = \"text-align: right;\">0.0</td><td style = \"text-align: right;\">1</td><td style = \"text-align: left;\">insulin</td><td style = \"text-align: right;\">10.1198</td></tr><tr><td class = \"rowNumber\" style = \"font-weight: bold; text-align: right;\">3</td><td style = \"text-align: right;\">0</td><td style = \"text-align: right;\">300.0</td><td style = \"text-align: right;\">1</td><td style = \"text-align: left;\">glucose</td><td style = \"text-align: right;\">4.55402</td></tr><tr><td class = \"rowNumber\" style = \"font-weight: bold; text-align: right;\">4</td><td style = \"text-align: right;\">0</td><td style = \"text-align: right;\">300.0</td><td style = \"text-align: right;\">1</td><td style = \"text-align: left;\">insulin</td><td style = \"text-align: right;\">10.1188</td></tr><tr><td class = \"rowNumber\" style = \"font-weight: bold; text-align: right;\">5</td><td style = \"text-align: right;\">0</td><td style = \"text-align: right;\">600.0</td><td style = \"text-align: right;\">1</td><td style = \"text-align: left;\">glucose</td><td style = \"text-align: right;\">5.16559</td></tr><tr><td class = \"rowNumber\" style = \"font-weight: bold; text-align: right;\">6</td><td style = \"text-align: right;\">0</td><td style = \"text-align: right;\">600.0</td><td style = \"text-align: right;\">1</td><td style = \"text-align: left;\">insulin</td><td style = \"text-align: right;\">16.5001</td></tr><tr><td class = \"rowNumber\" style = \"font-weight: bold; text-align: right;\">7</td><td style = \"text-align: right;\">0</td><td style = \"text-align: right;\">900.0</td><td style = \"text-align: right;\">1</td><td style = \"text-align: left;\">glucose</td><td style = \"text-align: right;\">5.41396</td></tr><tr><td class = \"rowNumber\" style = \"font-weight: bold; text-align: right;\">8</td><td style = \"text-align: right;\">0</td><td style = \"text-align: right;\">900.0</td><td style = \"text-align: right;\">1</td><td style = \"text-align: left;\">insulin</td><td style = \"text-align: right;\">19.9571</td></tr><tr><td class = \"rowNumber\" style = \"font-weight: bold; text-align: right;\">9</td><td style = \"text-align: right;\">0</td><td style = \"text-align: right;\">1200.0</td><td style = \"text-align: right;\">1</td><td style = \"text-align: left;\">glucose</td><td style = \"text-align: right;\">5.43568</td></tr><tr><td class = \"rowNumber\" style = \"font-weight: bold; text-align: right;\">10</td><td style = \"text-align: right;\">0</td><td style = \"text-align: right;\">1200.0</td><td style = \"text-align: right;\">1</td><td style = \"text-align: left;\">insulin</td><td style = \"text-align: right;\">21.3785</td></tr><tr><td class = \"rowNumber\" style = \"font-weight: bold; text-align: right;\">11</td><td style = \"text-align: right;\">0</td><td style = \"text-align: right;\">1500.0</td><td style = \"text-align: right;\">1</td><td style = \"text-align: left;\">glucose</td><td style = \"text-align: right;\">5.39518</td></tr><tr><td class = \"rowNumber\" style = \"font-weight: bold; text-align: right;\">12</td><td style = \"text-align: right;\">0</td><td style = \"text-align: right;\">1500.0</td><td style = \"text-align: right;\">1</td><td style = \"text-align: left;\">insulin</td><td style = \"text-align: right;\">22.1248</td></tr><tr><td class = \"rowNumber\" style = \"font-weight: bold; text-align: right;\">13</td><td style = \"text-align: right;\">0</td><td style = \"text-align: right;\">2000.0</td><td style = \"text-align: right;\">1</td><td style = \"text-align: left;\">glucose</td><td style = \"text-align: right;\">5.29713</td></tr><tr><td style = \"text-align: right;\">&vellip;</td><td style = \"text-align: right;\">&vellip;</td><td style = \"text-align: right;\">&vellip;</td><td style = \"text-align: right;\">&vellip;</td><td style = \"text-align: right;\">&vellip;</td><td style = \"text-align: right;\">&vellip;</td></tr><tr><td class = \"rowNumber\" style = \"font-weight: bold; text-align: right;\">25669</td><td style = \"text-align: right;\">1283</td><td style = \"text-align: right;\">1200.0</td><td style = \"text-align: right;\">2</td><td style = \"text-align: left;\">glucose</td><td style = \"text-align: right;\">5.81679</td></tr><tr><td class = \"rowNumber\" style = \"font-weight: bold; text-align: right;\">25670</td><td style = \"text-align: right;\">1283</td><td style = \"text-align: right;\">1200.0</td><td style = \"text-align: right;\">2</td><td style = \"text-align: left;\">insulin</td><td style = \"text-align: right;\">15.151</td></tr><tr><td class = \"rowNumber\" style = \"font-weight: bold; text-align: right;\">25671</td><td style = \"text-align: right;\">1283</td><td style = \"text-align: right;\">1500.0</td><td style = \"text-align: right;\">2</td><td style = \"text-align: left;\">glucose</td><td style = \"text-align: right;\">5.85882</td></tr><tr><td class = \"rowNumber\" style = \"font-weight: bold; text-align: right;\">25672</td><td style = \"text-align: right;\">1283</td><td style = \"text-align: right;\">1500.0</td><td style = \"text-align: right;\">2</td><td style = \"text-align: left;\">insulin</td><td style = \"text-align: right;\">15.5043</td></tr><tr><td class = \"rowNumber\" style = \"font-weight: bold; text-align: right;\">25673</td><td style = \"text-align: right;\">1283</td><td style = \"text-align: right;\">2000.0</td><td style = \"text-align: right;\">2</td><td style = \"text-align: left;\">glucose</td><td style = \"text-align: right;\">5.88354</td></tr><tr><td class = \"rowNumber\" style = \"font-weight: bold; text-align: right;\">25674</td><td style = \"text-align: right;\">1283</td><td style = \"text-align: right;\">2000.0</td><td style = \"text-align: right;\">2</td><td style = \"text-align: left;\">insulin</td><td style = \"text-align: right;\">15.7053</td></tr><tr><td class = \"rowNumber\" style = \"font-weight: bold; text-align: right;\">25675</td><td style = \"text-align: right;\">1283</td><td style = \"text-align: right;\">2500.0</td><td style = \"text-align: right;\">2</td><td style = \"text-align: left;\">glucose</td><td style = \"text-align: right;\">5.63538</td></tr><tr><td class = \"rowNumber\" style = \"font-weight: bold; text-align: right;\">25676</td><td style = \"text-align: right;\">1283</td><td style = \"text-align: right;\">2500.0</td><td style = \"text-align: right;\">2</td><td style = \"text-align: left;\">insulin</td><td style = \"text-align: right;\">14.2651</td></tr><tr><td class = \"rowNumber\" style = \"font-weight: bold; text-align: right;\">25677</td><td style = \"text-align: right;\">1283</td><td style = \"text-align: right;\">3000.0</td><td style = \"text-align: right;\">2</td><td style = \"text-align: left;\">glucose</td><td style = \"text-align: right;\">5.01305</td></tr><tr><td class = \"rowNumber\" style = \"font-weight: bold; text-align: right;\">25678</td><td style = \"text-align: right;\">1283</td><td style = \"text-align: right;\">3000.0</td><td style = \"text-align: right;\">2</td><td style = \"text-align: left;\">insulin</td><td style = \"text-align: right;\">9.62552</td></tr><tr><td class = \"rowNumber\" style = \"font-weight: bold; text-align: right;\">25679</td><td style = \"text-align: right;\">1283</td><td style = \"text-align: right;\">3600.0</td><td style = \"text-align: right;\">2</td><td style = \"text-align: left;\">glucose</td><td style = \"text-align: right;\">5.01362</td></tr><tr><td class = \"rowNumber\" style = \"font-weight: bold; text-align: right;\">25680</td><td style = \"text-align: right;\">1283</td><td style = \"text-align: right;\">3600.0</td><td style = \"text-align: right;\">2</td><td style = \"text-align: left;\">insulin</td><td style = \"text-align: right;\">8.9601</td></tr></tbody></table></div>"
      ],
      "text/latex": [
       "\\begin{tabular}{r|ccccc}\n",
       "\t& Simulation & Timepoint & Cluster & State\\_Variable & Value\\\\\n",
       "\t\\hline\n",
       "\t& Int32 & Float64 & Int32 & String & Float64\\\\\n",
       "\t\\hline\n",
       "\t1 & 0 & 0.0 & 1 & glucose & 4.55466 \\\\\n",
       "\t2 & 0 & 0.0 & 1 & insulin & 10.1198 \\\\\n",
       "\t3 & 0 & 300.0 & 1 & glucose & 4.55402 \\\\\n",
       "\t4 & 0 & 300.0 & 1 & insulin & 10.1188 \\\\\n",
       "\t5 & 0 & 600.0 & 1 & glucose & 5.16559 \\\\\n",
       "\t6 & 0 & 600.0 & 1 & insulin & 16.5001 \\\\\n",
       "\t7 & 0 & 900.0 & 1 & glucose & 5.41396 \\\\\n",
       "\t8 & 0 & 900.0 & 1 & insulin & 19.9571 \\\\\n",
       "\t9 & 0 & 1200.0 & 1 & glucose & 5.43568 \\\\\n",
       "\t10 & 0 & 1200.0 & 1 & insulin & 21.3785 \\\\\n",
       "\t11 & 0 & 1500.0 & 1 & glucose & 5.39518 \\\\\n",
       "\t12 & 0 & 1500.0 & 1 & insulin & 22.1248 \\\\\n",
       "\t13 & 0 & 2000.0 & 1 & glucose & 5.29713 \\\\\n",
       "\t14 & 0 & 2000.0 & 1 & insulin & 22.7748 \\\\\n",
       "\t15 & 0 & 2500.0 & 1 & glucose & 4.92382 \\\\\n",
       "\t16 & 0 & 2500.0 & 1 & insulin & 19.2843 \\\\\n",
       "\t17 & 0 & 3000.0 & 1 & glucose & 4.34371 \\\\\n",
       "\t18 & 0 & 3000.0 & 1 & insulin & 10.8587 \\\\\n",
       "\t19 & 0 & 3600.0 & 1 & glucose & 4.43478 \\\\\n",
       "\t20 & 0 & 3600.0 & 1 & insulin & 10.1168 \\\\\n",
       "\t21 & 1 & 0.0 & 1 & glucose & 4.94634 \\\\\n",
       "\t22 & 1 & 0.0 & 1 & insulin & 9.37991 \\\\\n",
       "\t23 & 1 & 300.0 & 1 & glucose & 4.94545 \\\\\n",
       "\t24 & 1 & 300.0 & 1 & insulin & 9.37865 \\\\\n",
       "\t$\\dots$ & $\\dots$ & $\\dots$ & $\\dots$ & $\\dots$ & $\\dots$ \\\\\n",
       "\\end{tabular}\n"
      ],
      "text/plain": [
       "\u001b[1m25680×5 DataFrame\u001b[0m\n",
       "\u001b[1m   Row \u001b[0m│\u001b[1m Simulation \u001b[0m\u001b[1m Timepoint \u001b[0m\u001b[1m Cluster \u001b[0m\u001b[1m State_Variable \u001b[0m\u001b[1m Value    \u001b[0m\n",
       "       │\u001b[90m Int32      \u001b[0m\u001b[90m Float64   \u001b[0m\u001b[90m Int32   \u001b[0m\u001b[90m String         \u001b[0m\u001b[90m Float64  \u001b[0m\n",
       "───────┼──────────────────────────────────────────────────────────\n",
       "     1 │          0        0.0        1  glucose          4.55466\n",
       "     2 │          0        0.0        1  insulin         10.1198\n",
       "     3 │          0      300.0        1  glucose          4.55402\n",
       "     4 │          0      300.0        1  insulin         10.1188\n",
       "     5 │          0      600.0        1  glucose          5.16559\n",
       "     6 │          0      600.0        1  insulin         16.5001\n",
       "     7 │          0      900.0        1  glucose          5.41396\n",
       "     8 │          0      900.0        1  insulin         19.9571\n",
       "   ⋮   │     ⋮           ⋮         ⋮           ⋮            ⋮\n",
       " 25674 │       1283     2000.0        2  insulin         15.7053\n",
       " 25675 │       1283     2500.0        2  glucose          5.63538\n",
       " 25676 │       1283     2500.0        2  insulin         14.2651\n",
       " 25677 │       1283     3000.0        2  glucose          5.01305\n",
       " 25678 │       1283     3000.0        2  insulin          9.62552\n",
       " 25679 │       1283     3600.0        2  glucose          5.01362\n",
       " 25680 │       1283     3600.0        2  insulin          8.9601\n",
       "\u001b[36m                                                25665 rows omitted\u001b[0m"
      ]
     },
     "metadata": {},
     "output_type": "display_data"
    }
   ],
   "source": [
    "file_path = \"C:/Users/20192809/OneDrive - TU Eindhoven/TUe/Thesis/R shenanigans/Vehpi data/plot_data.RData\"\n",
    "\n",
    "data = load(file_path)[\"plot_data\"]"
   ]
  },
  {
   "cell_type": "code",
   "execution_count": 6,
   "metadata": {},
   "outputs": [
    {
     "name": "stderr",
     "output_type": "stream",
     "text": [
      "┌ Warning: Found `resolution` in the theme when creating a `Scene`. The `resolution` keyword for `Scene`s and `Figure`s has been deprecated. Use `Figure(; size = ...` or `Scene(; size = ...)` instead, which better reflects that this is a unitless size and not a pixel resolution. The key could also come from `set_theme!` calls or related theming functions.\n",
      "└ @ Makie C:\\Users\\20192809\\.julia\\packages\\Makie\\VRavR\\src\\scenes.jl:220\n"
     ]
    },
    {
     "data": {
      "text/plain": [
       "CairoMakie.Screen{IMAGE}\n"
      ]
     },
     "metadata": {},
     "output_type": "display_data"
    }
   ],
   "source": [
    "using CairoMakie\n",
    "# data_filtered = filter(row -> row.Cluster != 1, data)\n",
    "# Define colours\n",
    "colors = Makie.wong_colors()\n",
    "cluster_ids = unique(data.Cluster)  # Get unique cluster IDs\n",
    "cluster_colors = Dict(cluster_ids .=> colors[mod1.(cluster_ids, length(colors))])  # Assign colours\n",
    "\n",
    "# Create figure with a wider resolution\n",
    "fig = Figure(resolution = (1400, 800))\n",
    "\n",
    "# Glucose plot (left)\n",
    "ax1 = Axis(fig[1, 1], \n",
    "    xlabel = \"τ (days)\", \n",
    "    ylabel = \"Fasting glucose (mmol/L)\", \n",
    "    xlabelsize = 24, ylabelsize = 24, xticklabelsize = 14, yticklabelsize = 14, \n",
    "    xlabelfont = :bold, ylabelfont = :bold\n",
    ")\n",
    "\n",
    "# Insulin plot (right)\n",
    "ax2 = Axis(fig[1, 2], \n",
    "    xlabel = \"τ (days)\", \n",
    "    ylabel = \"Fasting insulin (mmol/L)\", \n",
    "    xlabelsize = 24, ylabelsize = 24, xticklabelsize = 14, yticklabelsize = 14, \n",
    "    xlabelfont = :bold, ylabelfont = :bold\n",
    ")\n",
    "\n",
    "# Group by Simulation ID\n",
    "for (sim_id, sim_data) in pairs(groupby(data, :Simulation))\n",
    "    cluster = first(sim_data.Cluster)  # Get cluster of this simulation\n",
    "    cluster_color = cluster_colors[cluster]  # Assign colour\n",
    "\n",
    "    # Extract glucose & insulin separately\n",
    "    glucose_data = filter(row -> row.State_Variable == \"glucose\", sim_data)\n",
    "    insulin_data = filter(row -> row.State_Variable == \"insulin\", sim_data)\n",
    "\n",
    "    # Plot lines\n",
    "    if !isempty(glucose_data)\n",
    "        lines!(ax1, glucose_data.Timepoint, glucose_data.Value, color = cluster_color, alpha = 0.5)\n",
    "    end\n",
    "    if !isempty(insulin_data)\n",
    "        lines!(ax2, insulin_data.Timepoint, insulin_data.Value, color = cluster_color, alpha = 0.5)\n",
    "    end\n",
    "end\n",
    "\n",
    "# Add horizontal dotted lines for glucose thresholds\n",
    "hlines!(ax1, [5.6], linestyle=:dot, linewidth=4, color=:red)\n",
    "hlines!(ax1, [6.9], linestyle=:dot, linewidth=4, color=:black)\n",
    "\n",
    "# Add legend for glucose thresholds\n",
    "Legend(fig[1, 3], \n",
    "    [LineElement(color=:red, linestyle=:dot, linewidth=3), \n",
    "     LineElement(color=:black, linestyle=:dot, linewidth=3)], \n",
    "     [\"Prediabetes cutoff\", \"T2DM cutoff\"], labelsize = 20, labelfont = :bold)\n",
    "\n",
    "# Display figure\n",
    "fig\n",
    "\n",
    "# Save figure\n",
    "save(\"./LCTA_fit_Vehpi_data.png\", fig)\n"
   ]
  }
 ],
 "metadata": {
  "kernelspec": {
   "display_name": "Julia 1.10.1",
   "language": "julia",
   "name": "julia-1.10"
  },
  "language_info": {
   "file_extension": ".jl",
   "mimetype": "application/julia",
   "name": "julia",
   "version": "1.10.1"
  }
 },
 "nbformat": 4,
 "nbformat_minor": 2
}
