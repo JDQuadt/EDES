{
 "cells": [
  {
   "cell_type": "markdown",
   "metadata": {},
   "source": [
    "### Notebook to generate the figure showing the simulated Vehpi data"
   ]
  },
  {
   "cell_type": "code",
   "execution_count": 1,
   "metadata": {},
   "outputs": [],
   "source": [
    "using CairoMakie\n",
    "using CSV \n",
    "using DataFrames"
   ]
  },
  {
   "cell_type": "code",
   "execution_count": 5,
   "metadata": {},
   "outputs": [
    {
     "data": {
      "text/plain": [
       "721-element Vector{Int64}:\n",
       "    0\n",
       "    5\n",
       "   10\n",
       "   15\n",
       "   20\n",
       "   25\n",
       "   30\n",
       "   35\n",
       "   40\n",
       "   45\n",
       "    ⋮\n",
       " 3560\n",
       " 3565\n",
       " 3570\n",
       " 3575\n",
       " 3580\n",
       " 3585\n",
       " 3590\n",
       " 3595\n",
       " 3600"
      ]
     },
     "metadata": {},
     "output_type": "display_data"
    }
   ],
   "source": [
    "# load in data\n",
    "file_path = \"C:/Users/20192809/OneDrive - TU Eindhoven/TUe/Thesis/Synthetic data tests/Vehpi data/simulation_data.csv\"\n",
    "\n",
    "data = CSV.File(file_path) |> DataFrame\n",
    "# Convert all time columns to Float64, handling comma decimal separators\n",
    "for col in names(data)[3:end]  # Skip \"simulation\" and \"State Variable\"\n",
    "    data[!, col] .= parse.(Float64, replace.(data[!, col], \",\" => \".\"))\n",
    "end\n",
    "\n",
    "# Filter for glucose (State Variable = 0) and insulin (State Variable = 1)\n",
    "glucose = filter(row -> row[:\"State Variable\"] == 0, data)\n",
    "insulin = filter(row -> row[:\"State Variable\"] == 1, data)\n",
    "\n",
    "# Convert glucose values to mmol/L (mg/dL ÷ 18.018)\n",
    "glucose[:, 3:end] .= glucose[:, 3:end] ./ 18.018  # Element-wise division for all time columns\n",
    "\n",
    "# Extract column names\n",
    "time_columns = names(data)[3:end]  # Skip \"simulation\" and \"State Variable\"\n",
    "\n",
    "# Extract numeric time values from column names\n",
    "time_values = parse.(Int, replace.(time_columns, \"Time_\" => \"\"));\n",
    "\n",
    "\n"
   ]
  },
  {
   "cell_type": "code",
   "execution_count": 46,
   "metadata": {},
   "outputs": [
    {
     "name": "stdout",
     "output_type": "stream",
     "text": [
      "Glucose & Insulin plots done\n"
     ]
    },
    {
     "name": "stderr",
     "output_type": "stream",
     "text": [
      "┌ Warning: Found `resolution` in the theme when creating a `Scene`. The `resolution` keyword for `Scene`s and `Figure`s has been deprecated. Use `Figure(; size = ...` or `Scene(; size = ...)` instead, which better reflects that this is a unitless size and not a pixel resolution. The key could also come from `set_theme!` calls or related theming functions.\n",
      "└ @ Makie C:\\Users\\20192809\\.julia\\packages\\Makie\\VRavR\\src\\scenes.jl:220\n"
     ]
    },
    {
     "data": {
      "text/plain": [
       "CairoMakie.Screen{IMAGE}\n"
      ]
     },
     "metadata": {},
     "output_type": "display_data"
    }
   ],
   "source": [
    "using CairoMakie\n",
    "\n",
    "# Define colours\n",
    "colors = Makie.wong_colors()\n",
    "\n",
    "# Create figure with two subplots\n",
    "fig = Figure(resolution = (1400, 500))\n",
    "\n",
    "# Glucose plot (left)\n",
    "ax1 = Axis(fig[1, 1], \n",
    "    xlabel = \"τ (days)\", \n",
    "    ylabel = \"Fasting glucose (mmol/L)\", \n",
    "    xlabelsize = 20, ylabelsize = 16, xticklabelsize = 14, yticklabelsize = 14, \n",
    "    xlabelfont = :bold, ylabelfont = :bold\n",
    ")\n",
    "\n",
    "# Insulin plot (right)\n",
    "ax2 = Axis(fig[1, 2], \n",
    "    xlabel = \"τ (days)\", \n",
    "    ylabel = \"Fasting insulin (μU/ml)\", \n",
    "    xlabelsize = 20, ylabelsize = 16, xticklabelsize = 14, yticklabelsize = 14, \n",
    "    xlabelfont = :bold, ylabelfont = :bold\n",
    ")\n",
    "\n",
    "# Plot all glucose and insulin lines\n",
    "for i in 1:nrow(glucose)\n",
    "    lines!(ax1, time_values, collect(Float64, glucose[i, 3:end]), color = colors[mod1(i, length(colors))])\n",
    "    lines!(ax2, time_values, collect(Float64, insulin[i, 3:end]), color = colors[mod1(i, length(colors))])\n",
    "end\n",
    "\n",
    "println(\"Glucose & Insulin plots done\")\n",
    "\n",
    "# Add vertical dotted lines at t = 300 and t = 2400\n",
    "line1 = vlines!(ax1, [300], linestyle=:dot, color=:red, linewidth=3)\n",
    "line2 = vlines!(ax1, [2400], linestyle=:dot, color=:black, linewidth=3)\n",
    "vlines!(ax2, [300], linestyle=:dot, color=:red, linewidth=3)\n",
    "vlines!(ax2, [2400], linestyle=:dot, color=:black, linewidth=3)\n",
    "\n",
    "\n",
    "# Add legend to the right of both plots\n",
    "Legend(fig[1, 3], \n",
    "       [LineElement(color=:red, linestyle=:dot, linewidth=2), \n",
    "        LineElement(color=:black, linestyle=:dot, linewidth=2)], \n",
    "        [\"Weight increase\", \"Diet intervention\"])\n",
    "\n",
    "# Display figure\n",
    "fig\n",
    "\n",
    "\n",
    "\n",
    "\n",
    "#save the figure as a png file\n",
    "save(\"./Vehpi_simulated_data.png\", fig)\n"
   ]
  }
 ],
 "metadata": {
  "kernelspec": {
   "display_name": "Julia 1.10.1",
   "language": "julia",
   "name": "julia-1.10"
  },
  "language_info": {
   "file_extension": ".jl",
   "mimetype": "application/julia",
   "name": "julia",
   "version": "1.10.1"
  }
 },
 "nbformat": 4,
 "nbformat_minor": 2
}
