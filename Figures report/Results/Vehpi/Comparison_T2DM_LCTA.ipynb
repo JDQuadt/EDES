{
 "cells": [
  {
   "cell_type": "markdown",
   "metadata": {},
   "source": [
    "### Notebook used to compare the clusters found in LCTA to the groups found using the T2DM and prediabetes thresholds for fasting glucose"
   ]
  },
  {
   "cell_type": "code",
   "execution_count": 84,
   "metadata": {},
   "outputs": [],
   "source": [
    "using CairoMakie\n",
    "using CSV \n",
    "using DataFrames\n",
    "using RData\n",
    "using Combinatorics\n",
    "using StatsBase  "
   ]
  },
  {
   "cell_type": "code",
   "execution_count": 59,
   "metadata": {},
   "outputs": [],
   "source": [
    "file_path_LCTA = \"C:/Users/20192809/OneDrive - TU Eindhoven/TUe/Thesis/R shenanigans/Vehpi data/plot_data.RData\"\n",
    "\n",
    "data_LCTA = load(file_path_LCTA)[\"plot_data\"]\n",
    "\n",
    "# Extract unique rows based on the 'Simulation' column\n",
    "unique_simulations_LCTA = unique(data_LCTA, [:Simulation])\n",
    "clusters_LCTA = unique_simulations_LCTA[:, :Cluster];"
   ]
  },
  {
   "cell_type": "code",
   "execution_count": null,
   "metadata": {},
   "outputs": [],
   "source": [
    "# load in data\n",
    "file_path_simulation = \"C:/Users/20192809/OneDrive - TU Eindhoven/TUe/Thesis/Synthetic data tests/Vehpi data/simulation_data.csv\"\n",
    "\n",
    "data_simulation = CSV.File(file_path_simulation) |> DataFrame\n",
    "# Convert all time columns to Float64, handling comma decimal separators\n",
    "for col in names(data_simulation)[3:end]  # Skip \"simulation\" and \"State Variable\"\n",
    "    data_simulation[!, col] .= parse.(Float64, replace.(data_simulation[!, col], \",\" => \".\"))\n",
    "end\n",
    "\n",
    "# Filter for glucose (State Variable = 0) and insulin (State Variable = 1)\n",
    "glucose = filter(row -> row[:\"State Variable\"] == 0, data_simulation)\n",
    "insulin = filter(row -> row[:\"State Variable\"] == 1, data_simulation)\n",
    "\n",
    "# Convert glucose values to mmol/L (mg/dL ÷ 18.018)\n",
    "glucose[:, 3:end] .= glucose[:, 3:end] ./ 18.018  # Element-wise division for all time columns\n"
   ]
  },
  {
   "cell_type": "code",
   "execution_count": 86,
   "metadata": {},
   "outputs": [],
   "source": [
    "# Define cutoffs\n",
    "T2DM_cutoff = 6.9\n",
    "\n",
    "# Extract only the glucose values (ignoring first two columns)\n",
    "time_columns = names(glucose)[3:end]  # All time columns\n",
    "\n",
    "# Define function to classify each simulation and return a vector\n",
    "function classify_glucose(row)\n",
    "    glucose_values = row[time_columns] |> collect  # Convert row to a vector\n",
    "    max_glucose = maximum(glucose_values)\n",
    "    final_glucose = glucose_values[end]\n",
    "    \n",
    "    # Check for \"Intervention-responsive\" group\n",
    "    went_above = false\n",
    "    went_below_after_exceed = false\n",
    "    \n",
    "    for val in glucose_values\n",
    "        if val > T2DM_cutoff\n",
    "            went_above = true\n",
    "        end\n",
    "        if went_above && val < T2DM_cutoff\n",
    "            went_below_after_exceed = true\n",
    "            break  # No need to check further once condition is met\n",
    "        end\n",
    "    end\n",
    "    \n",
    "    # Determine group classification\n",
    "    if max_glucose <= T2DM_cutoff\n",
    "        return \"Non-diabetic\"\n",
    "    elseif went_above && went_below_after_exceed\n",
    "        return \"Intervention-responsive\"\n",
    "    else\n",
    "        return \"Diabetic\"\n",
    "    end\n",
    "end\n",
    "\n",
    "# Apply function to classify and return a vector of classifications\n",
    "glucose_groups = classify_glucose.(eachrow(glucose));\n"
   ]
  },
  {
   "cell_type": "code",
   "execution_count": 87,
   "metadata": {},
   "outputs": [
    {
     "name": "stdout",
     "output_type": "stream",
     "text": [
      "Accurate classifications: Dict(\"Non-diabetic\" => 674, \"Intervention-responsive\" => 100, \"Diabetic\" => 195)\n",
      "Misclassifications: Dict(\"Non-diabetic\" => 226, \"Intervention-responsive\" => 4, \"Diabetic\" => 85)\n"
     ]
    }
   ],
   "source": [
    "# Direct cluster-to-group mapping (example provided by you)\n",
    "cluster_to_group_mapping = Dict(2 => \"Non-diabetic\", 1 => \"Intervention-responsive\", 3 => \"Diabetic\")\n",
    "\n",
    "# Initialize dictionaries to count accurate and misclassifications for each group\n",
    "accurate_classifications = Dict(\"Non-diabetic\" => 0, \"Intervention-responsive\" => 0, \"Diabetic\" => 0)\n",
    "misclassifications = Dict(\"Non-diabetic\" => 0, \"Intervention-responsive\" => 0, \"Diabetic\" => 0)\n",
    "\n",
    "# Count accurate classifications and misclassifications\n",
    "for (cluster, group) in zip(clusters_LCTA, glucose_groups)\n",
    "    if cluster_to_group_mapping[cluster] == group\n",
    "        accurate_classifications[group] += 1  # Correct classification\n",
    "    else\n",
    "        misclassifications[group] += 1  # Incorrect classification\n",
    "    end\n",
    "end\n",
    "\n",
    "# Display the counts of accurate and misclassified classifications per group\n",
    "println(\"Accurate classifications: \", accurate_classifications)\n",
    "println(\"Misclassifications: \", misclassifications)\n"
   ]
  },
  {
   "cell_type": "code",
   "execution_count": 94,
   "metadata": {},
   "outputs": [
    {
     "name": "stdout",
     "output_type": "stream",
     "text": [
      "Confusion Matrix:\n",
      "                   Predicted\n",
      "Actual   Non-diabetic  Intervention-responsive  Diabetic\n",
      "Non-diabetic   674                226                   0\n",
      "Intervention-responsive   0                100                   4\n",
      "Diabetic   0                85                   195\n",
      "\n",
      "Accurate classifications: Dict(\"Non-diabetic\" => 674, \"Intervention-responsive\" => 100, \"Diabetic\" => 195)\n",
      "Misclassifications: Dict(\"Non-diabetic\" => 226, \"Intervention-responsive\" => 4, \"Diabetic\" => 85)\n"
     ]
    }
   ],
   "source": [
    "# Direct cluster-to-group mapping (example provided by you)\n",
    "cluster_to_group_mapping = Dict(2 => \"Non-diabetic\", 1 => \"Intervention-responsive\", 3 => \"Diabetic\")\n",
    "\n",
    "# Initialize confusion matrix (rows: actual class, columns: predicted class)\n",
    "conf_matrix = zeros(Int, 3, 3)\n",
    "\n",
    "# Initialize dictionaries to count accurate and misclassifications for each group\n",
    "accurate_classifications = Dict(\"Non-diabetic\" => 0, \"Intervention-responsive\" => 0, \"Diabetic\" => 0)\n",
    "misclassifications = Dict(\"Non-diabetic\" => 0, \"Intervention-responsive\" => 0, \"Diabetic\" => 0)\n",
    "\n",
    "# Create a mapping to index the rows and columns of the confusion matrix\n",
    "group_to_index = Dict(\"Non-diabetic\" => 1, \"Intervention-responsive\" => 2, \"Diabetic\" => 3)\n",
    "\n",
    "# Count accurate classifications and misclassifications\n",
    "for (cluster, group) in zip(clusters_LCTA, glucose_groups)\n",
    "    predicted_group = cluster_to_group_mapping[cluster]\n",
    "    \n",
    "    # Get row and column indices for the confusion matrix\n",
    "    row = group_to_index[group]\n",
    "    col = group_to_index[predicted_group]\n",
    "    \n",
    "    if predicted_group == group\n",
    "        accurate_classifications[group] += 1  # Correct classification\n",
    "        conf_matrix[row, col] += 1  # Increment the diagonal for accurate predictions\n",
    "    else\n",
    "        misclassifications[group] += 1  # Incorrect classification\n",
    "        conf_matrix[row, col] += 1  # Increment the misclassified group in the matrix\n",
    "    end\n",
    "end\n",
    "\n",
    "# Display confusion matrix\n",
    "println(\"Confusion Matrix:\")\n",
    "println(\"                   Predicted\")\n",
    "println(\"Actual   Non-diabetic  Intervention-responsive  Diabetic\")\n",
    "for i in 1:3\n",
    "    println([\"Non-diabetic\", \"Intervention-responsive\", \"Diabetic\"][i], \"   \", conf_matrix[i, 1], \"                \", conf_matrix[i, 2], \"                   \", conf_matrix[i, 3])\n",
    "end\n",
    "\n",
    "# Display the counts of accurate and misclassified classifications per group\n",
    "println(\"\\nAccurate classifications: \", accurate_classifications)\n",
    "println(\"Misclassifications: \", misclassifications)\n"
   ]
  },
  {
   "cell_type": "code",
   "execution_count": 95,
   "metadata": {},
   "outputs": [
    {
     "data": {
      "text/plain": [
       "3×3 Matrix{Int64}:\n",
       " 674  226    0\n",
       "   0  100    4\n",
       "   0   85  195"
      ]
     },
     "metadata": {},
     "output_type": "display_data"
    }
   ],
   "source": [
    "conf_matrix"
   ]
  }
 ],
 "metadata": {
  "kernelspec": {
   "display_name": "Julia 1.10.1",
   "language": "julia",
   "name": "julia-1.10"
  },
  "language_info": {
   "file_extension": ".jl",
   "mimetype": "application/julia",
   "name": "julia",
   "version": "1.10.1"
  }
 },
 "nbformat": 4,
 "nbformat_minor": 2
}
