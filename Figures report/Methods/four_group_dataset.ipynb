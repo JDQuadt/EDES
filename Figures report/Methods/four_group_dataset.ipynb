{
 "cells": [
  {
   "cell_type": "markdown",
   "metadata": {},
   "source": [
    "## Notebook to visualise the four group datasets "
   ]
  },
  {
   "cell_type": "code",
   "execution_count": 5,
   "metadata": {},
   "outputs": [],
   "source": [
    "using GLMakie\n",
    "using RData \n",
    "using DataFrames"
   ]
  },
  {
   "cell_type": "code",
   "execution_count": 11,
   "metadata": {},
   "outputs": [
    {
     "data": {
      "text/html": [
       "<div><div style = \"float: left;\"><span>500×8 DataFrame</span></div><div style = \"float: right;\"><span style = \"font-style: italic;\">475 rows omitted</span></div><div style = \"clear: both;\"></div></div><div class = \"data-frame\" style = \"overflow-x: scroll;\"><table class = \"data-frame\" style = \"margin-bottom: 6px;\"><thead><tr class = \"header\"><th class = \"rowNumber\" style = \"font-weight: bold; text-align: right;\">Row</th><th style = \"text-align: left;\">ID</th><th style = \"text-align: left;\">time</th><th style = \"text-align: left;\">k5</th><th style = \"text-align: left;\">k6</th><th style = \"text-align: left;\">k6_sq</th><th style = \"text-align: left;\">k6_lin</th><th style = \"text-align: left;\">k5_lin</th><th style = \"text-align: left;\">group</th></tr><tr class = \"subheader headerLastRow\"><th class = \"rowNumber\" style = \"font-weight: bold; text-align: right;\"></th><th title = \"Int32\" style = \"text-align: left;\">Int32</th><th title = \"Int32\" style = \"text-align: left;\">Int32</th><th title = \"Float64\" style = \"text-align: left;\">Float64</th><th title = \"Float64\" style = \"text-align: left;\">Float64</th><th title = \"Union{Missing, Float64}\" style = \"text-align: left;\">Float64?</th><th title = \"Union{Missing, Float64}\" style = \"text-align: left;\">Float64?</th><th title = \"Union{Missing, Float64}\" style = \"text-align: left;\">Float64?</th><th title = \"CategoricalArrays.CategoricalValue{String, UInt8}\" style = \"text-align: left;\">Cat…</th></tr></thead><tbody><tr><td class = \"rowNumber\" style = \"font-weight: bold; text-align: right;\">1</td><td style = \"text-align: right;\">1</td><td style = \"text-align: right;\">0</td><td style = \"text-align: right;\">0.0391032</td><td style = \"text-align: right;\">2.97238</td><td style = \"font-style: italic; text-align: right;\">missing</td><td style = \"font-style: italic; text-align: right;\">missing</td><td style = \"font-style: italic; text-align: right;\">missing</td><td style = \"text-align: left;\">1</td></tr><tr><td class = \"rowNumber\" style = \"font-weight: bold; text-align: right;\">2</td><td style = \"text-align: right;\">1</td><td style = \"text-align: right;\">1</td><td style = \"text-align: right;\">0.0424939</td><td style = \"text-align: right;\">3.00846</td><td style = \"font-style: italic; text-align: right;\">missing</td><td style = \"font-style: italic; text-align: right;\">missing</td><td style = \"font-style: italic; text-align: right;\">missing</td><td style = \"text-align: left;\">1</td></tr><tr><td class = \"rowNumber\" style = \"font-weight: bold; text-align: right;\">3</td><td style = \"text-align: right;\">1</td><td style = \"text-align: right;\">2</td><td style = \"text-align: right;\">0.0402069</td><td style = \"text-align: right;\">3.20581</td><td style = \"font-style: italic; text-align: right;\">missing</td><td style = \"font-style: italic; text-align: right;\">missing</td><td style = \"font-style: italic; text-align: right;\">missing</td><td style = \"text-align: left;\">1</td></tr><tr><td class = \"rowNumber\" style = \"font-weight: bold; text-align: right;\">4</td><td style = \"text-align: right;\">1</td><td style = \"text-align: right;\">3</td><td style = \"text-align: right;\">0.0407375</td><td style = \"text-align: right;\">2.84819</td><td style = \"font-style: italic; text-align: right;\">missing</td><td style = \"font-style: italic; text-align: right;\">missing</td><td style = \"font-style: italic; text-align: right;\">missing</td><td style = \"text-align: left;\">1</td></tr><tr><td class = \"rowNumber\" style = \"font-weight: bold; text-align: right;\">5</td><td style = \"text-align: right;\">1</td><td style = \"text-align: right;\">4</td><td style = \"text-align: right;\">0.038901</td><td style = \"text-align: right;\">2.94652</td><td style = \"font-style: italic; text-align: right;\">missing</td><td style = \"font-style: italic; text-align: right;\">missing</td><td style = \"font-style: italic; text-align: right;\">missing</td><td style = \"text-align: left;\">1</td></tr><tr><td class = \"rowNumber\" style = \"font-weight: bold; text-align: right;\">6</td><td style = \"text-align: right;\">2</td><td style = \"text-align: right;\">0</td><td style = \"text-align: right;\">0.0419585</td><td style = \"text-align: right;\">3.04318</td><td style = \"text-align: right;\">-0.08</td><td style = \"text-align: right;\">0.25</td><td style = \"text-align: right;\">-0.1</td><td style = \"text-align: left;\">2</td></tr><tr><td class = \"rowNumber\" style = \"font-weight: bold; text-align: right;\">7</td><td style = \"text-align: right;\">2</td><td style = \"text-align: right;\">1</td><td style = \"text-align: right;\">0.0366412</td><td style = \"text-align: right;\">3.52328</td><td style = \"text-align: right;\">-0.08</td><td style = \"text-align: right;\">0.25</td><td style = \"text-align: right;\">-0.1</td><td style = \"text-align: left;\">2</td></tr><tr><td class = \"rowNumber\" style = \"font-weight: bold; text-align: right;\">8</td><td style = \"text-align: right;\">2</td><td style = \"text-align: right;\">2</td><td style = \"text-align: right;\">0.0311107</td><td style = \"text-align: right;\">3.75443</td><td style = \"text-align: right;\">-0.08</td><td style = \"text-align: right;\">0.25</td><td style = \"text-align: right;\">-0.1</td><td style = \"text-align: left;\">2</td></tr><tr><td class = \"rowNumber\" style = \"font-weight: bold; text-align: right;\">9</td><td style = \"text-align: right;\">2</td><td style = \"text-align: right;\">3</td><td style = \"text-align: right;\">0.0287966</td><td style = \"text-align: right;\">2.85401</td><td style = \"text-align: right;\">-0.08</td><td style = \"text-align: right;\">0.25</td><td style = \"text-align: right;\">-0.1</td><td style = \"text-align: left;\">2</td></tr><tr><td class = \"rowNumber\" style = \"font-weight: bold; text-align: right;\">10</td><td style = \"text-align: right;\">2</td><td style = \"text-align: right;\">4</td><td style = \"text-align: right;\">0.0251222</td><td style = \"text-align: right;\">2.10327</td><td style = \"text-align: right;\">-0.08</td><td style = \"text-align: right;\">0.25</td><td style = \"text-align: right;\">-0.1</td><td style = \"text-align: left;\">2</td></tr><tr><td class = \"rowNumber\" style = \"font-weight: bold; text-align: right;\">11</td><td style = \"text-align: right;\">3</td><td style = \"text-align: right;\">0</td><td style = \"text-align: right;\">0.0382915</td><td style = \"text-align: right;\">2.97384</td><td style = \"font-style: italic; text-align: right;\">missing</td><td style = \"font-style: italic; text-align: right;\">missing</td><td style = \"text-align: right;\">-0.1</td><td style = \"text-align: left;\">3</td></tr><tr><td class = \"rowNumber\" style = \"font-weight: bold; text-align: right;\">12</td><td style = \"text-align: right;\">3</td><td style = \"text-align: right;\">1</td><td style = \"text-align: right;\">0.0343584</td><td style = \"text-align: right;\">2.91253</td><td style = \"font-style: italic; text-align: right;\">missing</td><td style = \"font-style: italic; text-align: right;\">missing</td><td style = \"text-align: right;\">-0.1</td><td style = \"text-align: left;\">3</td></tr><tr><td class = \"rowNumber\" style = \"font-weight: bold; text-align: right;\">13</td><td style = \"text-align: right;\">3</td><td style = \"text-align: right;\">2</td><td style = \"text-align: right;\">0.0309999</td><td style = \"text-align: right;\">2.7976</td><td style = \"font-style: italic; text-align: right;\">missing</td><td style = \"font-style: italic; text-align: right;\">missing</td><td style = \"text-align: right;\">-0.1</td><td style = \"text-align: left;\">3</td></tr><tr><td style = \"text-align: right;\">&vellip;</td><td style = \"text-align: right;\">&vellip;</td><td style = \"text-align: right;\">&vellip;</td><td style = \"text-align: right;\">&vellip;</td><td style = \"text-align: right;\">&vellip;</td><td style = \"text-align: right;\">&vellip;</td><td style = \"text-align: right;\">&vellip;</td><td style = \"text-align: right;\">&vellip;</td><td style = \"text-align: right;\">&vellip;</td></tr><tr><td class = \"rowNumber\" style = \"font-weight: bold; text-align: right;\">489</td><td style = \"text-align: right;\">98</td><td style = \"text-align: right;\">3</td><td style = \"text-align: right;\">0.0267208</td><td style = \"text-align: right;\">3.09958</td><td style = \"text-align: right;\">-0.08</td><td style = \"text-align: right;\">0.25</td><td style = \"text-align: right;\">-0.1</td><td style = \"text-align: left;\">2</td></tr><tr><td class = \"rowNumber\" style = \"font-weight: bold; text-align: right;\">490</td><td style = \"text-align: right;\">98</td><td style = \"text-align: right;\">4</td><td style = \"text-align: right;\">0.0234836</td><td style = \"text-align: right;\">2.17757</td><td style = \"text-align: right;\">-0.08</td><td style = \"text-align: right;\">0.25</td><td style = \"text-align: right;\">-0.1</td><td style = \"text-align: left;\">2</td></tr><tr><td class = \"rowNumber\" style = \"font-weight: bold; text-align: right;\">491</td><td style = \"text-align: right;\">99</td><td style = \"text-align: right;\">0</td><td style = \"text-align: right;\">0.0436881</td><td style = \"text-align: right;\">2.86505</td><td style = \"font-style: italic; text-align: right;\">missing</td><td style = \"font-style: italic; text-align: right;\">missing</td><td style = \"text-align: right;\">-0.1</td><td style = \"text-align: left;\">3</td></tr><tr><td class = \"rowNumber\" style = \"font-weight: bold; text-align: right;\">492</td><td style = \"text-align: right;\">99</td><td style = \"text-align: right;\">1</td><td style = \"text-align: right;\">0.0355112</td><td style = \"text-align: right;\">2.93799</td><td style = \"font-style: italic; text-align: right;\">missing</td><td style = \"font-style: italic; text-align: right;\">missing</td><td style = \"text-align: right;\">-0.1</td><td style = \"text-align: left;\">3</td></tr><tr><td class = \"rowNumber\" style = \"font-weight: bold; text-align: right;\">493</td><td style = \"text-align: right;\">99</td><td style = \"text-align: right;\">2</td><td style = \"text-align: right;\">0.0344198</td><td style = \"text-align: right;\">2.90766</td><td style = \"font-style: italic; text-align: right;\">missing</td><td style = \"font-style: italic; text-align: right;\">missing</td><td style = \"text-align: right;\">-0.1</td><td style = \"text-align: left;\">3</td></tr><tr><td class = \"rowNumber\" style = \"font-weight: bold; text-align: right;\">494</td><td style = \"text-align: right;\">99</td><td style = \"text-align: right;\">3</td><td style = \"text-align: right;\">0.0278687</td><td style = \"text-align: right;\">3.09446</td><td style = \"font-style: italic; text-align: right;\">missing</td><td style = \"font-style: italic; text-align: right;\">missing</td><td style = \"text-align: right;\">-0.1</td><td style = \"text-align: left;\">3</td></tr><tr><td class = \"rowNumber\" style = \"font-weight: bold; text-align: right;\">495</td><td style = \"text-align: right;\">99</td><td style = \"text-align: right;\">4</td><td style = \"text-align: right;\">0.0223063</td><td style = \"text-align: right;\">3.19862</td><td style = \"font-style: italic; text-align: right;\">missing</td><td style = \"font-style: italic; text-align: right;\">missing</td><td style = \"text-align: right;\">-0.1</td><td style = \"text-align: left;\">3</td></tr><tr><td class = \"rowNumber\" style = \"font-weight: bold; text-align: right;\">496</td><td style = \"text-align: right;\">100</td><td style = \"text-align: right;\">0</td><td style = \"text-align: right;\">0.0410812</td><td style = \"text-align: right;\">2.8711</td><td style = \"text-align: right;\">-0.08</td><td style = \"text-align: right;\">0.25</td><td style = \"font-style: italic; text-align: right;\">missing</td><td style = \"text-align: left;\">4</td></tr><tr><td class = \"rowNumber\" style = \"font-weight: bold; text-align: right;\">497</td><td style = \"text-align: right;\">100</td><td style = \"text-align: right;\">1</td><td style = \"text-align: right;\">0.0407273</td><td style = \"text-align: right;\">3.4844</td><td style = \"text-align: right;\">-0.08</td><td style = \"text-align: right;\">0.25</td><td style = \"font-style: italic; text-align: right;\">missing</td><td style = \"text-align: left;\">4</td></tr><tr><td class = \"rowNumber\" style = \"font-weight: bold; text-align: right;\">498</td><td style = \"text-align: right;\">100</td><td style = \"text-align: right;\">2</td><td style = \"text-align: right;\">0.0405012</td><td style = \"text-align: right;\">3.5292</td><td style = \"text-align: right;\">-0.08</td><td style = \"text-align: right;\">0.25</td><td style = \"font-style: italic; text-align: right;\">missing</td><td style = \"text-align: left;\">4</td></tr><tr><td class = \"rowNumber\" style = \"font-weight: bold; text-align: right;\">499</td><td style = \"text-align: right;\">100</td><td style = \"text-align: right;\">3</td><td style = \"text-align: right;\">0.0417128</td><td style = \"text-align: right;\">2.92787</td><td style = \"text-align: right;\">-0.08</td><td style = \"text-align: right;\">0.25</td><td style = \"font-style: italic; text-align: right;\">missing</td><td style = \"text-align: left;\">4</td></tr><tr><td class = \"rowNumber\" style = \"font-weight: bold; text-align: right;\">500</td><td style = \"text-align: right;\">100</td><td style = \"text-align: right;\">4</td><td style = \"text-align: right;\">0.0391638</td><td style = \"text-align: right;\">2.1301</td><td style = \"text-align: right;\">-0.08</td><td style = \"text-align: right;\">0.25</td><td style = \"font-style: italic; text-align: right;\">missing</td><td style = \"text-align: left;\">4</td></tr></tbody></table></div>"
      ],
      "text/latex": [
       "\\begin{tabular}{r|cccccccc}\n",
       "\t& ID & time & k5 & k6 & k6\\_sq & k6\\_lin & k5\\_lin & group\\\\\n",
       "\t\\hline\n",
       "\t& Int32 & Int32 & Float64 & Float64 & Float64? & Float64? & Float64? & Cat…\\\\\n",
       "\t\\hline\n",
       "\t1 & 1 & 0 & 0.0391032 & 2.97238 & \\emph{missing} & \\emph{missing} & \\emph{missing} & 1 \\\\\n",
       "\t2 & 1 & 1 & 0.0424939 & 3.00846 & \\emph{missing} & \\emph{missing} & \\emph{missing} & 1 \\\\\n",
       "\t3 & 1 & 2 & 0.0402069 & 3.20581 & \\emph{missing} & \\emph{missing} & \\emph{missing} & 1 \\\\\n",
       "\t4 & 1 & 3 & 0.0407375 & 2.84819 & \\emph{missing} & \\emph{missing} & \\emph{missing} & 1 \\\\\n",
       "\t5 & 1 & 4 & 0.038901 & 2.94652 & \\emph{missing} & \\emph{missing} & \\emph{missing} & 1 \\\\\n",
       "\t6 & 2 & 0 & 0.0419585 & 3.04318 & -0.08 & 0.25 & -0.1 & 2 \\\\\n",
       "\t7 & 2 & 1 & 0.0366412 & 3.52328 & -0.08 & 0.25 & -0.1 & 2 \\\\\n",
       "\t8 & 2 & 2 & 0.0311107 & 3.75443 & -0.08 & 0.25 & -0.1 & 2 \\\\\n",
       "\t9 & 2 & 3 & 0.0287966 & 2.85401 & -0.08 & 0.25 & -0.1 & 2 \\\\\n",
       "\t10 & 2 & 4 & 0.0251222 & 2.10327 & -0.08 & 0.25 & -0.1 & 2 \\\\\n",
       "\t11 & 3 & 0 & 0.0382915 & 2.97384 & \\emph{missing} & \\emph{missing} & -0.1 & 3 \\\\\n",
       "\t12 & 3 & 1 & 0.0343584 & 2.91253 & \\emph{missing} & \\emph{missing} & -0.1 & 3 \\\\\n",
       "\t13 & 3 & 2 & 0.0309999 & 2.7976 & \\emph{missing} & \\emph{missing} & -0.1 & 3 \\\\\n",
       "\t14 & 3 & 3 & 0.0293405 & 3.0184 & \\emph{missing} & \\emph{missing} & -0.1 & 3 \\\\\n",
       "\t15 & 3 & 4 & 0.022179 & 3.15046 & \\emph{missing} & \\emph{missing} & -0.1 & 3 \\\\\n",
       "\t16 & 4 & 0 & 0.0406823 & 2.96459 & -0.08 & 0.25 & \\emph{missing} & 4 \\\\\n",
       "\t17 & 4 & 1 & 0.0414322 & 3.61538 & -0.08 & 0.25 & \\emph{missing} & 4 \\\\\n",
       "\t18 & 4 & 2 & 0.0413145 & 3.62264 & -0.08 & 0.25 & \\emph{missing} & 4 \\\\\n",
       "\t19 & 4 & 3 & 0.0408863 & 3.08257 & -0.08 & 0.25 & \\emph{missing} & 4 \\\\\n",
       "\t20 & 4 & 4 & 0.0395105 & 2.11434 & -0.08 & 0.25 & \\emph{missing} & 4 \\\\\n",
       "\t21 & 5 & 0 & 0.0388885 & 2.97505 & \\emph{missing} & \\emph{missing} & \\emph{missing} & 1 \\\\\n",
       "\t22 & 5 & 1 & 0.0379754 & 3.26027 & \\emph{missing} & \\emph{missing} & \\emph{missing} & 1 \\\\\n",
       "\t23 & 5 & 2 & 0.0419327 & 2.86523 & \\emph{missing} & \\emph{missing} & \\emph{missing} & 1 \\\\\n",
       "\t24 & 5 & 3 & 0.0393554 & 2.944 & \\emph{missing} & \\emph{missing} & \\emph{missing} & 1 \\\\\n",
       "\t$\\dots$ & $\\dots$ & $\\dots$ & $\\dots$ & $\\dots$ & $\\dots$ & $\\dots$ & $\\dots$ & $\\dots$ \\\\\n",
       "\\end{tabular}\n"
      ],
      "text/plain": [
       "\u001b[1m500×8 DataFrame\u001b[0m\n",
       "\u001b[1m Row \u001b[0m│\u001b[1m ID    \u001b[0m\u001b[1m time  \u001b[0m\u001b[1m k5        \u001b[0m\u001b[1m k6      \u001b[0m\u001b[1m k6_sq      \u001b[0m\u001b[1m k6_lin     \u001b[0m\u001b[1m k5_lin    \u001b[0m\u001b[1m gr\u001b[0m ⋯\n",
       "     │\u001b[90m Int32 \u001b[0m\u001b[90m Int32 \u001b[0m\u001b[90m Float64   \u001b[0m\u001b[90m Float64 \u001b[0m\u001b[90m Float64?   \u001b[0m\u001b[90m Float64?   \u001b[0m\u001b[90m Float64?  \u001b[0m\u001b[90m Ca\u001b[0m ⋯\n",
       "─────┼──────────────────────────────────────────────────────────────────────────\n",
       "   1 │     1      0  0.0391032  2.97238 \u001b[90m missing    \u001b[0m\u001b[90m missing    \u001b[0m\u001b[90m missing   \u001b[0m 1  ⋯\n",
       "   2 │     1      1  0.0424939  3.00846 \u001b[90m missing    \u001b[0m\u001b[90m missing    \u001b[0m\u001b[90m missing   \u001b[0m 1\n",
       "   3 │     1      2  0.0402069  3.20581 \u001b[90m missing    \u001b[0m\u001b[90m missing    \u001b[0m\u001b[90m missing   \u001b[0m 1\n",
       "   4 │     1      3  0.0407375  2.84819 \u001b[90m missing    \u001b[0m\u001b[90m missing    \u001b[0m\u001b[90m missing   \u001b[0m 1\n",
       "   5 │     1      4  0.038901   2.94652 \u001b[90m missing    \u001b[0m\u001b[90m missing    \u001b[0m\u001b[90m missing   \u001b[0m 1  ⋯\n",
       "   6 │     2      0  0.0419585  3.04318       -0.08        0.25       -0.1  2\n",
       "   7 │     2      1  0.0366412  3.52328       -0.08        0.25       -0.1  2\n",
       "   8 │     2      2  0.0311107  3.75443       -0.08        0.25       -0.1  2\n",
       "  ⋮  │   ⋮      ⋮        ⋮         ⋮         ⋮           ⋮           ⋮         ⋱\n",
       " 494 │    99      3  0.0278687  3.09446 \u001b[90m missing    \u001b[0m\u001b[90m missing    \u001b[0m      -0.1  3  ⋯\n",
       " 495 │    99      4  0.0223063  3.19862 \u001b[90m missing    \u001b[0m\u001b[90m missing    \u001b[0m      -0.1  3\n",
       " 496 │   100      0  0.0410812  2.8711        -0.08        0.25 \u001b[90m missing   \u001b[0m 4\n",
       " 497 │   100      1  0.0407273  3.4844        -0.08        0.25 \u001b[90m missing   \u001b[0m 4\n",
       " 498 │   100      2  0.0405012  3.5292        -0.08        0.25 \u001b[90m missing   \u001b[0m 4  ⋯\n",
       " 499 │   100      3  0.0417128  2.92787       -0.08        0.25 \u001b[90m missing   \u001b[0m 4\n",
       " 500 │   100      4  0.0391638  2.1301        -0.08        0.25 \u001b[90m missing   \u001b[0m 4\n",
       "\u001b[36m                                                   1 column and 485 rows omitted\u001b[0m"
      ]
     },
     "metadata": {},
     "output_type": "display_data"
    }
   ],
   "source": [
    "# load in the data\n",
    "file_path = \"C:/Users/20192809/OneDrive - TU Eindhoven/TUe/Thesis/Synthetic data tests/Robustness sets/four_group_data_noise_0.2.Rdata\"\n",
    "\n",
    "data = load(file_path)[\"data\"]\n"
   ]
  },
  {
   "cell_type": "code",
   "execution_count": null,
   "metadata": {},
   "outputs": [],
   "source": []
  }
 ],
 "metadata": {
  "kernelspec": {
   "display_name": "Julia 1.10.1",
   "language": "julia",
   "name": "julia-1.10"
  },
  "language_info": {
   "file_extension": ".jl",
   "mimetype": "application/julia",
   "name": "julia",
   "version": "1.10.1"
  }
 },
 "nbformat": 4,
 "nbformat_minor": 2
}
