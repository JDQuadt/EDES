{
 "cells": [
  {
   "cell_type": "markdown",
   "metadata": {},
   "source": [
    "## File used to analyse the Japanese dataset in terms of EDES parameters"
   ]
  },
  {
   "cell_type": "code",
   "execution_count": 1,
   "metadata": {},
   "outputs": [],
   "source": [
    "using CSV\n",
    "using DataFrames\n",
    "\n",
    "# Load the OGTT data\n",
    "data_OGTT = CSV.read(\"C:/Users/20192809/Documents/Data/ohashi_csv_files/ohashi_OGTT.csv\", DataFrame)\n",
    "\n",
    "# load the subject data\n",
    "data_subject = CSV.read(\"C:/Users/20192809/Documents/Data/ohashi_csv_files/ohashi_subjectinfo.csv\", DataFrame);"
   ]
  },
  {
   "cell_type": "markdown",
   "metadata": {},
   "source": [
    "### select the OGTT data from the normal glucose tolerant subjects"
   ]
  },
  {
   "cell_type": "code",
   "execution_count": 2,
   "metadata": {},
   "outputs": [
    {
     "data": {
      "text/html": [
       "<div><div style = \"float: left;\"><span>49×17 DataFrame</span></div><div style = \"float: right;\"><span style = \"font-style: italic;\">24 rows omitted</span></div><div style = \"clear: both;\"></div></div><div class = \"data-frame\" style = \"overflow-x: scroll;\"><table class = \"data-frame\" style = \"margin-bottom: 6px;\"><thead><tr class = \"header\"><th class = \"rowNumber\" style = \"font-weight: bold; text-align: right;\">Row</th><th style = \"text-align: left;\">No</th><th style = \"text-align: left;\">O-PG(0)</th><th style = \"text-align: left;\">O-PG(30)</th><th style = \"text-align: left;\">O-PG(60)</th><th style = \"text-align: left;\">O-PG(90)</th><th style = \"text-align: left;\">O-PG(120)</th><th style = \"text-align: left;\">O- IRI(0)</th><th style = \"text-align: left;\">O-IRI(30)</th><th style = \"text-align: left;\">O-IRI(60)</th><th style = \"text-align: left;\">O-IRI(90)</th><th style = \"text-align: left;\">O-IRI(120)</th><th style = \"text-align: left;\">O-CPR(0)</th><th style = \"text-align: left;\">O-CPR(30)</th><th style = \"text-align: left;\">O-CPR(60)</th><th style = \"text-align: left;\">O-CPR(90)</th><th style = \"text-align: left;\">O-CPR(120)</th><th style = \"text-align: left;\">BW</th></tr><tr class = \"subheader headerLastRow\"><th class = \"rowNumber\" style = \"font-weight: bold; text-align: right;\"></th><th title = \"Int64\" style = \"text-align: left;\">Int64</th><th title = \"Float64\" style = \"text-align: left;\">Float64</th><th title = \"Float64\" style = \"text-align: left;\">Float64</th><th title = \"Float64\" style = \"text-align: left;\">Float64</th><th title = \"Float64\" style = \"text-align: left;\">Float64</th><th title = \"Float64\" style = \"text-align: left;\">Float64</th><th title = \"Float64\" style = \"text-align: left;\">Float64</th><th title = \"Float64\" style = \"text-align: left;\">Float64</th><th title = \"Float64\" style = \"text-align: left;\">Float64</th><th title = \"Float64\" style = \"text-align: left;\">Float64</th><th title = \"Float64\" style = \"text-align: left;\">Float64</th><th title = \"Float64\" style = \"text-align: left;\">Float64</th><th title = \"Float64\" style = \"text-align: left;\">Float64</th><th title = \"Float64\" style = \"text-align: left;\">Float64</th><th title = \"Float64\" style = \"text-align: left;\">Float64</th><th title = \"Float64\" style = \"text-align: left;\">Float64</th><th title = \"Float64\" style = \"text-align: left;\">Float64</th></tr></thead><tbody><tr><td class = \"rowNumber\" style = \"font-weight: bold; text-align: right;\">1</td><td style = \"text-align: right;\">1</td><td style = \"text-align: right;\">4.88889</td><td style = \"text-align: right;\">7.72222</td><td style = \"text-align: right;\">10.5556</td><td style = \"text-align: right;\">9.05556</td><td style = \"text-align: right;\">7.5</td><td style = \"text-align: right;\">11.0</td><td style = \"text-align: right;\">58.0</td><td style = \"text-align: right;\">110.0</td><td style = \"text-align: right;\">105.0</td><td style = \"text-align: right;\">119.0</td><td style = \"text-align: right;\">2.6</td><td style = \"text-align: right;\">5.4</td><td style = \"text-align: right;\">9.4</td><td style = \"text-align: right;\">10.6</td><td style = \"text-align: right;\">11.9</td><td style = \"text-align: right;\">78.7</td></tr><tr><td class = \"rowNumber\" style = \"font-weight: bold; text-align: right;\">2</td><td style = \"text-align: right;\">2</td><td style = \"text-align: right;\">4.33333</td><td style = \"text-align: right;\">6.77778</td><td style = \"text-align: right;\">8.11111</td><td style = \"text-align: right;\">9.5</td><td style = \"text-align: right;\">7.38889</td><td style = \"text-align: right;\">8.0</td><td style = \"text-align: right;\">38.0</td><td style = \"text-align: right;\">18.0</td><td style = \"text-align: right;\">61.0</td><td style = \"text-align: right;\">44.0</td><td style = \"text-align: right;\">1.6</td><td style = \"text-align: right;\">4.7</td><td style = \"text-align: right;\">6.2</td><td style = \"text-align: right;\">7.8</td><td style = \"text-align: right;\">7.6</td><td style = \"text-align: right;\">98.7</td></tr><tr><td class = \"rowNumber\" style = \"font-weight: bold; text-align: right;\">3</td><td style = \"text-align: right;\">3</td><td style = \"text-align: right;\">5.38889</td><td style = \"text-align: right;\">10.5556</td><td style = \"text-align: right;\">10.9444</td><td style = \"text-align: right;\">7.05556</td><td style = \"text-align: right;\">6.38889</td><td style = \"text-align: right;\">10.1</td><td style = \"text-align: right;\">65.2</td><td style = \"text-align: right;\">98.3</td><td style = \"text-align: right;\">47.6</td><td style = \"text-align: right;\">30.2</td><td style = \"text-align: right;\">2.5</td><td style = \"text-align: right;\">6.5</td><td style = \"text-align: right;\">9.4</td><td style = \"text-align: right;\">7.6</td><td style = \"text-align: right;\">6.2</td><td style = \"text-align: right;\">70.0</td></tr><tr><td class = \"rowNumber\" style = \"font-weight: bold; text-align: right;\">4</td><td style = \"text-align: right;\">4</td><td style = \"text-align: right;\">5.16667</td><td style = \"text-align: right;\">8.77778</td><td style = \"text-align: right;\">6.83333</td><td style = \"text-align: right;\">6.88889</td><td style = \"text-align: right;\">7.22222</td><td style = \"text-align: right;\">4.1</td><td style = \"text-align: right;\">37.1</td><td style = \"text-align: right;\">14.9</td><td style = \"text-align: right;\">18.9</td><td style = \"text-align: right;\">29.8</td><td style = \"text-align: right;\">1.1</td><td style = \"text-align: right;\">4.9</td><td style = \"text-align: right;\">4.2</td><td style = \"text-align: right;\">4.2</td><td style = \"text-align: right;\">6.0</td><td style = \"text-align: right;\">60.0</td></tr><tr><td class = \"rowNumber\" style = \"font-weight: bold; text-align: right;\">5</td><td style = \"text-align: right;\">6</td><td style = \"text-align: right;\">4.72222</td><td style = \"text-align: right;\">6.88889</td><td style = \"text-align: right;\">5.16667</td><td style = \"text-align: right;\">5.27778</td><td style = \"text-align: right;\">6.94444</td><td style = \"text-align: right;\">9.2</td><td style = \"text-align: right;\">84.7</td><td style = \"text-align: right;\">67.8</td><td style = \"text-align: right;\">25.2</td><td style = \"text-align: right;\">109.6</td><td style = \"text-align: right;\">2.6</td><td style = \"text-align: right;\">10.1</td><td style = \"text-align: right;\">8.6</td><td style = \"text-align: right;\">5.7</td><td style = \"text-align: right;\">12.0</td><td style = \"text-align: right;\">66.8</td></tr><tr><td class = \"rowNumber\" style = \"font-weight: bold; text-align: right;\">6</td><td style = \"text-align: right;\">7</td><td style = \"text-align: right;\">4.83333</td><td style = \"text-align: right;\">6.88889</td><td style = \"text-align: right;\">6.27778</td><td style = \"text-align: right;\">6.16667</td><td style = \"text-align: right;\">6.33333</td><td style = \"text-align: right;\">10.6</td><td style = \"text-align: right;\">28.0</td><td style = \"text-align: right;\">5.8</td><td style = \"text-align: right;\">20.3</td><td style = \"text-align: right;\">25.7</td><td style = \"text-align: right;\">1.8</td><td style = \"text-align: right;\">4.1</td><td style = \"text-align: right;\">4.8</td><td style = \"text-align: right;\">5.4</td><td style = \"text-align: right;\">6.2</td><td style = \"text-align: right;\">58.0</td></tr><tr><td class = \"rowNumber\" style = \"font-weight: bold; text-align: right;\">7</td><td style = \"text-align: right;\">8</td><td style = \"text-align: right;\">5.83333</td><td style = \"text-align: right;\">8.16667</td><td style = \"text-align: right;\">9.05556</td><td style = \"text-align: right;\">7.72222</td><td style = \"text-align: right;\">6.0</td><td style = \"text-align: right;\">9.3</td><td style = \"text-align: right;\">33.0</td><td style = \"text-align: right;\">70.8</td><td style = \"text-align: right;\">40.6</td><td style = \"text-align: right;\">19.6</td><td style = \"text-align: right;\">2.4</td><td style = \"text-align: right;\">4.2</td><td style = \"text-align: right;\">7.7</td><td style = \"text-align: right;\">6.8</td><td style = \"text-align: right;\">4.8</td><td style = \"text-align: right;\">65.0</td></tr><tr><td class = \"rowNumber\" style = \"font-weight: bold; text-align: right;\">8</td><td style = \"text-align: right;\">9</td><td style = \"text-align: right;\">5.0</td><td style = \"text-align: right;\">8.44444</td><td style = \"text-align: right;\">10.7778</td><td style = \"text-align: right;\">8.66667</td><td style = \"text-align: right;\">7.16667</td><td style = \"text-align: right;\">4.3</td><td style = \"text-align: right;\">45.4</td><td style = \"text-align: right;\">62.8</td><td style = \"text-align: right;\">76.2</td><td style = \"text-align: right;\">66.8</td><td style = \"text-align: right;\">1.7</td><td style = \"text-align: right;\">5.6</td><td style = \"text-align: right;\">8.6</td><td style = \"text-align: right;\">10.2</td><td style = \"text-align: right;\">10.3</td><td style = \"text-align: right;\">65.0</td></tr><tr><td class = \"rowNumber\" style = \"font-weight: bold; text-align: right;\">9</td><td style = \"text-align: right;\">10</td><td style = \"text-align: right;\">4.94444</td><td style = \"text-align: right;\">7.22222</td><td style = \"text-align: right;\">6.11111</td><td style = \"text-align: right;\">5.61111</td><td style = \"text-align: right;\">5.27778</td><td style = \"text-align: right;\">8.0</td><td style = \"text-align: right;\">35.2</td><td style = \"text-align: right;\">31.5</td><td style = \"text-align: right;\">26.5</td><td style = \"text-align: right;\">19.0</td><td style = \"text-align: right;\">1.5</td><td style = \"text-align: right;\">5.4</td><td style = \"text-align: right;\">5.7</td><td style = \"text-align: right;\">4.9</td><td style = \"text-align: right;\">4.3</td><td style = \"text-align: right;\">40.0</td></tr><tr><td class = \"rowNumber\" style = \"font-weight: bold; text-align: right;\">10</td><td style = \"text-align: right;\">11</td><td style = \"text-align: right;\">4.61111</td><td style = \"text-align: right;\">7.27778</td><td style = \"text-align: right;\">6.38889</td><td style = \"text-align: right;\">5.66667</td><td style = \"text-align: right;\">5.22222</td><td style = \"text-align: right;\">3.1</td><td style = \"text-align: right;\">27.5</td><td style = \"text-align: right;\">32.1</td><td style = \"text-align: right;\">22.1</td><td style = \"text-align: right;\">17.1</td><td style = \"text-align: right;\">0.7</td><td style = \"text-align: right;\">3.4</td><td style = \"text-align: right;\">4.6</td><td style = \"text-align: right;\">4.3</td><td style = \"text-align: right;\">3.7</td><td style = \"text-align: right;\">44.0</td></tr><tr><td class = \"rowNumber\" style = \"font-weight: bold; text-align: right;\">11</td><td style = \"text-align: right;\">12</td><td style = \"text-align: right;\">4.16667</td><td style = \"text-align: right;\">8.44444</td><td style = \"text-align: right;\">9.55556</td><td style = \"text-align: right;\">6.27778</td><td style = \"text-align: right;\">6.16667</td><td style = \"text-align: right;\">2.3</td><td style = \"text-align: right;\">53.5</td><td style = \"text-align: right;\">143.3</td><td style = \"text-align: right;\">69.7</td><td style = \"text-align: right;\">69.7</td><td style = \"text-align: right;\">0.9</td><td style = \"text-align: right;\">6.1</td><td style = \"text-align: right;\">13.3</td><td style = \"text-align: right;\">10.3</td><td style = \"text-align: right;\">10.7</td><td style = \"text-align: right;\">58.0</td></tr><tr><td class = \"rowNumber\" style = \"font-weight: bold; text-align: right;\">12</td><td style = \"text-align: right;\">13</td><td style = \"text-align: right;\">5.0</td><td style = \"text-align: right;\">6.72222</td><td style = \"text-align: right;\">6.33333</td><td style = \"text-align: right;\">6.22222</td><td style = \"text-align: right;\">5.77778</td><td style = \"text-align: right;\">7.2</td><td style = \"text-align: right;\">47.5</td><td style = \"text-align: right;\">24.0</td><td style = \"text-align: right;\">26.4</td><td style = \"text-align: right;\">30.3</td><td style = \"text-align: right;\">1.7</td><td style = \"text-align: right;\">6.2</td><td style = \"text-align: right;\">4.7</td><td style = \"text-align: right;\">5.1</td><td style = \"text-align: right;\">5.7</td><td style = \"text-align: right;\">46.8</td></tr><tr><td class = \"rowNumber\" style = \"font-weight: bold; text-align: right;\">13</td><td style = \"text-align: right;\">14</td><td style = \"text-align: right;\">4.22222</td><td style = \"text-align: right;\">7.55556</td><td style = \"text-align: right;\">7.0</td><td style = \"text-align: right;\">5.55556</td><td style = \"text-align: right;\">3.22222</td><td style = \"text-align: right;\">3.6</td><td style = \"text-align: right;\">73.6</td><td style = \"text-align: right;\">126.5</td><td style = \"text-align: right;\">118.3</td><td style = \"text-align: right;\">56.1</td><td style = \"text-align: right;\">1.3</td><td style = \"text-align: right;\">6.4</td><td style = \"text-align: right;\">11.5</td><td style = \"text-align: right;\">13.1</td><td style = \"text-align: right;\">9.6</td><td style = \"text-align: right;\">52.0</td></tr><tr><td style = \"text-align: right;\">&vellip;</td><td style = \"text-align: right;\">&vellip;</td><td style = \"text-align: right;\">&vellip;</td><td style = \"text-align: right;\">&vellip;</td><td style = \"text-align: right;\">&vellip;</td><td style = \"text-align: right;\">&vellip;</td><td style = \"text-align: right;\">&vellip;</td><td style = \"text-align: right;\">&vellip;</td><td style = \"text-align: right;\">&vellip;</td><td style = \"text-align: right;\">&vellip;</td><td style = \"text-align: right;\">&vellip;</td><td style = \"text-align: right;\">&vellip;</td><td style = \"text-align: right;\">&vellip;</td><td style = \"text-align: right;\">&vellip;</td><td style = \"text-align: right;\">&vellip;</td><td style = \"text-align: right;\">&vellip;</td><td style = \"text-align: right;\">&vellip;</td><td style = \"text-align: right;\">&vellip;</td></tr><tr><td class = \"rowNumber\" style = \"font-weight: bold; text-align: right;\">38</td><td style = \"text-align: right;\">39</td><td style = \"text-align: right;\">4.5</td><td style = \"text-align: right;\">8.27778</td><td style = \"text-align: right;\">6.83333</td><td style = \"text-align: right;\">6.38889</td><td style = \"text-align: right;\">6.66667</td><td style = \"text-align: right;\">8.6</td><td style = \"text-align: right;\">86.0</td><td style = \"text-align: right;\">57.3</td><td style = \"text-align: right;\">56.1</td><td style = \"text-align: right;\">47.2</td><td style = \"text-align: right;\">1.5</td><td style = \"text-align: right;\">6.9</td><td style = \"text-align: right;\">7.3</td><td style = \"text-align: right;\">7.1</td><td style = \"text-align: right;\">7.1</td><td style = \"text-align: right;\">72.0</td></tr><tr><td class = \"rowNumber\" style = \"font-weight: bold; text-align: right;\">39</td><td style = \"text-align: right;\">40</td><td style = \"text-align: right;\">4.38889</td><td style = \"text-align: right;\">6.16667</td><td style = \"text-align: right;\">7.55556</td><td style = \"text-align: right;\">5.22222</td><td style = \"text-align: right;\">4.94444</td><td style = \"text-align: right;\">5.2</td><td style = \"text-align: right;\">17.6</td><td style = \"text-align: right;\">68.6</td><td style = \"text-align: right;\">46.7</td><td style = \"text-align: right;\">36.1</td><td style = \"text-align: right;\">1.5</td><td style = \"text-align: right;\">4.2</td><td style = \"text-align: right;\">10.0</td><td style = \"text-align: right;\">8.6</td><td style = \"text-align: right;\">6.1</td><td style = \"text-align: right;\">58.0</td></tr><tr><td class = \"rowNumber\" style = \"font-weight: bold; text-align: right;\">40</td><td style = \"text-align: right;\">41</td><td style = \"text-align: right;\">4.5</td><td style = \"text-align: right;\">5.72222</td><td style = \"text-align: right;\">5.83333</td><td style = \"text-align: right;\">6.38889</td><td style = \"text-align: right;\">5.83333</td><td style = \"text-align: right;\">4.6</td><td style = \"text-align: right;\">32.7</td><td style = \"text-align: right;\">34.7</td><td style = \"text-align: right;\">45.8</td><td style = \"text-align: right;\">36.8</td><td style = \"text-align: right;\">1.3</td><td style = \"text-align: right;\">4.5</td><td style = \"text-align: right;\">5.1</td><td style = \"text-align: right;\">6.0</td><td style = \"text-align: right;\">6.0</td><td style = \"text-align: right;\">47.0</td></tr><tr><td class = \"rowNumber\" style = \"font-weight: bold; text-align: right;\">41</td><td style = \"text-align: right;\">42</td><td style = \"text-align: right;\">5.05556</td><td style = \"text-align: right;\">9.55556</td><td style = \"text-align: right;\">6.83333</td><td style = \"text-align: right;\">7.16667</td><td style = \"text-align: right;\">5.0</td><td style = \"text-align: right;\">8.2</td><td style = \"text-align: right;\">118.3</td><td style = \"text-align: right;\">55.4</td><td style = \"text-align: right;\">50.7</td><td style = \"text-align: right;\">14.0</td><td style = \"text-align: right;\">1.7</td><td style = \"text-align: right;\">9.1</td><td style = \"text-align: right;\">7.3</td><td style = \"text-align: right;\">7.3</td><td style = \"text-align: right;\">4.7</td><td style = \"text-align: right;\">65.0</td></tr><tr><td class = \"rowNumber\" style = \"font-weight: bold; text-align: right;\">42</td><td style = \"text-align: right;\">43</td><td style = \"text-align: right;\">4.5</td><td style = \"text-align: right;\">8.33333</td><td style = \"text-align: right;\">7.72222</td><td style = \"text-align: right;\">5.72222</td><td style = \"text-align: right;\">6.44444</td><td style = \"text-align: right;\">4.2</td><td style = \"text-align: right;\">26.5</td><td style = \"text-align: right;\">30.8</td><td style = \"text-align: right;\">10.6</td><td style = \"text-align: right;\">27.6</td><td style = \"text-align: right;\">1.2</td><td style = \"text-align: right;\">4.0</td><td style = \"text-align: right;\">4.7</td><td style = \"text-align: right;\">3.3</td><td style = \"text-align: right;\">4.0</td><td style = \"text-align: right;\">55.0</td></tr><tr><td class = \"rowNumber\" style = \"font-weight: bold; text-align: right;\">43</td><td style = \"text-align: right;\">44</td><td style = \"text-align: right;\">4.0</td><td style = \"text-align: right;\">13.9444</td><td style = \"text-align: right;\">15.0</td><td style = \"text-align: right;\">9.83333</td><td style = \"text-align: right;\">7.66667</td><td style = \"text-align: right;\">5.0</td><td style = \"text-align: right;\">42.0</td><td style = \"text-align: right;\">24.0</td><td style = \"text-align: right;\">153.0</td><td style = \"text-align: right;\">100.0</td><td style = \"text-align: right;\">1.5</td><td style = \"text-align: right;\">7.0</td><td style = \"text-align: right;\">14.2</td><td style = \"text-align: right;\">15.9</td><td style = \"text-align: right;\">13.2</td><td style = \"text-align: right;\">38.8</td></tr><tr><td class = \"rowNumber\" style = \"font-weight: bold; text-align: right;\">44</td><td style = \"text-align: right;\">45</td><td style = \"text-align: right;\">5.38889</td><td style = \"text-align: right;\">9.38889</td><td style = \"text-align: right;\">10.9444</td><td style = \"text-align: right;\">8.94444</td><td style = \"text-align: right;\">7.66667</td><td style = \"text-align: right;\">5.0</td><td style = \"text-align: right;\">24.0</td><td style = \"text-align: right;\">49.0</td><td style = \"text-align: right;\">50.0</td><td style = \"text-align: right;\">40.0</td><td style = \"text-align: right;\">1.5</td><td style = \"text-align: right;\">4.4</td><td style = \"text-align: right;\">7.6</td><td style = \"text-align: right;\">8.6</td><td style = \"text-align: right;\">8.5</td><td style = \"text-align: right;\">48.0</td></tr><tr><td class = \"rowNumber\" style = \"font-weight: bold; text-align: right;\">45</td><td style = \"text-align: right;\">46</td><td style = \"text-align: right;\">4.94444</td><td style = \"text-align: right;\">8.44444</td><td style = \"text-align: right;\">7.27778</td><td style = \"text-align: right;\">7.27778</td><td style = \"text-align: right;\">6.38889</td><td style = \"text-align: right;\">9.0</td><td style = \"text-align: right;\">47.0</td><td style = \"text-align: right;\">36.0</td><td style = \"text-align: right;\">47.0</td><td style = \"text-align: right;\">32.0</td><td style = \"text-align: right;\">1.5</td><td style = \"text-align: right;\">5.4</td><td style = \"text-align: right;\">5.5</td><td style = \"text-align: right;\">6.3</td><td style = \"text-align: right;\">5.3</td><td style = \"text-align: right;\">50.0</td></tr><tr><td class = \"rowNumber\" style = \"font-weight: bold; text-align: right;\">46</td><td style = \"text-align: right;\">47</td><td style = \"text-align: right;\">5.22222</td><td style = \"text-align: right;\">7.61111</td><td style = \"text-align: right;\">6.33333</td><td style = \"text-align: right;\">7.61111</td><td style = \"text-align: right;\">6.94444</td><td style = \"text-align: right;\">4.0</td><td style = \"text-align: right;\">65.0</td><td style = \"text-align: right;\">39.0</td><td style = \"text-align: right;\">48.0</td><td style = \"text-align: right;\">24.0</td><td style = \"text-align: right;\">1.3</td><td style = \"text-align: right;\">6.0</td><td style = \"text-align: right;\">4.0</td><td style = \"text-align: right;\">5.6</td><td style = \"text-align: right;\">6.2</td><td style = \"text-align: right;\">54.7</td></tr><tr><td class = \"rowNumber\" style = \"font-weight: bold; text-align: right;\">47</td><td style = \"text-align: right;\">48</td><td style = \"text-align: right;\">5.05556</td><td style = \"text-align: right;\">8.16667</td><td style = \"text-align: right;\">7.83333</td><td style = \"text-align: right;\">5.55556</td><td style = \"text-align: right;\">5.72222</td><td style = \"text-align: right;\">5.0</td><td style = \"text-align: right;\">60.0</td><td style = \"text-align: right;\">56.0</td><td style = \"text-align: right;\">22.0</td><td style = \"text-align: right;\">25.0</td><td style = \"text-align: right;\">1.3</td><td style = \"text-align: right;\">5.4</td><td style = \"text-align: right;\">6.7</td><td style = \"text-align: right;\">4.2</td><td style = \"text-align: right;\">4.5</td><td style = \"text-align: right;\">50.8</td></tr><tr><td class = \"rowNumber\" style = \"font-weight: bold; text-align: right;\">48</td><td style = \"text-align: right;\">49</td><td style = \"text-align: right;\">5.05556</td><td style = \"text-align: right;\">9.83333</td><td style = \"text-align: right;\">8.5</td><td style = \"text-align: right;\">7.22222</td><td style = \"text-align: right;\">6.77778</td><td style = \"text-align: right;\">5.0</td><td style = \"text-align: right;\">66.0</td><td style = \"text-align: right;\">56.0</td><td style = \"text-align: right;\">47.0</td><td style = \"text-align: right;\">43.0</td><td style = \"text-align: right;\">1.7</td><td style = \"text-align: right;\">8.8</td><td style = \"text-align: right;\">9.9</td><td style = \"text-align: right;\">9.6</td><td style = \"text-align: right;\">9.4</td><td style = \"text-align: right;\">53.5</td></tr><tr><td class = \"rowNumber\" style = \"font-weight: bold; text-align: right;\">49</td><td style = \"text-align: right;\">50</td><td style = \"text-align: right;\">5.38889</td><td style = \"text-align: right;\">9.61111</td><td style = \"text-align: right;\">12.6111</td><td style = \"text-align: right;\">10.1111</td><td style = \"text-align: right;\">6.77778</td><td style = \"text-align: right;\">4.2</td><td style = \"text-align: right;\">39.2</td><td style = \"text-align: right;\">68.9</td><td style = \"text-align: right;\">52.9</td><td style = \"text-align: right;\">18.7</td><td style = \"text-align: right;\">1.2</td><td style = \"text-align: right;\">5.2</td><td style = \"text-align: right;\">9.0</td><td style = \"text-align: right;\">8.9</td><td style = \"text-align: right;\">5.5</td><td style = \"text-align: right;\">69.0</td></tr></tbody></table></div>"
      ],
      "text/latex": [
       "\\begin{tabular}{r|cccccccccc}\n",
       "\t& No & O-PG(0) & O-PG(30) & O-PG(60) & O-PG(90) & O-PG(120) & O- IRI(0) & O-IRI(30) & O-IRI(60) & \\\\\n",
       "\t\\hline\n",
       "\t& Int64 & Float64 & Float64 & Float64 & Float64 & Float64 & Float64 & Float64 & Float64 & \\\\\n",
       "\t\\hline\n",
       "\t1 & 1 & 4.88889 & 7.72222 & 10.5556 & 9.05556 & 7.5 & 11.0 & 58.0 & 110.0 & $\\dots$ \\\\\n",
       "\t2 & 2 & 4.33333 & 6.77778 & 8.11111 & 9.5 & 7.38889 & 8.0 & 38.0 & 18.0 & $\\dots$ \\\\\n",
       "\t3 & 3 & 5.38889 & 10.5556 & 10.9444 & 7.05556 & 6.38889 & 10.1 & 65.2 & 98.3 & $\\dots$ \\\\\n",
       "\t4 & 4 & 5.16667 & 8.77778 & 6.83333 & 6.88889 & 7.22222 & 4.1 & 37.1 & 14.9 & $\\dots$ \\\\\n",
       "\t5 & 6 & 4.72222 & 6.88889 & 5.16667 & 5.27778 & 6.94444 & 9.2 & 84.7 & 67.8 & $\\dots$ \\\\\n",
       "\t6 & 7 & 4.83333 & 6.88889 & 6.27778 & 6.16667 & 6.33333 & 10.6 & 28.0 & 5.8 & $\\dots$ \\\\\n",
       "\t7 & 8 & 5.83333 & 8.16667 & 9.05556 & 7.72222 & 6.0 & 9.3 & 33.0 & 70.8 & $\\dots$ \\\\\n",
       "\t8 & 9 & 5.0 & 8.44444 & 10.7778 & 8.66667 & 7.16667 & 4.3 & 45.4 & 62.8 & $\\dots$ \\\\\n",
       "\t9 & 10 & 4.94444 & 7.22222 & 6.11111 & 5.61111 & 5.27778 & 8.0 & 35.2 & 31.5 & $\\dots$ \\\\\n",
       "\t10 & 11 & 4.61111 & 7.27778 & 6.38889 & 5.66667 & 5.22222 & 3.1 & 27.5 & 32.1 & $\\dots$ \\\\\n",
       "\t11 & 12 & 4.16667 & 8.44444 & 9.55556 & 6.27778 & 6.16667 & 2.3 & 53.5 & 143.3 & $\\dots$ \\\\\n",
       "\t12 & 13 & 5.0 & 6.72222 & 6.33333 & 6.22222 & 5.77778 & 7.2 & 47.5 & 24.0 & $\\dots$ \\\\\n",
       "\t13 & 14 & 4.22222 & 7.55556 & 7.0 & 5.55556 & 3.22222 & 3.6 & 73.6 & 126.5 & $\\dots$ \\\\\n",
       "\t14 & 15 & 4.88889 & 7.44444 & 7.16667 & 5.5 & 4.33333 & 5.1 & 74.8 & 106.4 & $\\dots$ \\\\\n",
       "\t15 & 16 & 4.38889 & 6.66667 & 7.0 & 5.83333 & 5.16667 & 4.5 & 37.6 & 36.1 & $\\dots$ \\\\\n",
       "\t16 & 17 & 4.94444 & 6.66667 & 5.27778 & 6.94444 & 6.11111 & 8.4 & 49.9 & 27.4 & $\\dots$ \\\\\n",
       "\t17 & 18 & 4.33333 & 5.5 & 5.94444 & 5.16667 & 5.55556 & 2.5 & 23.6 & 23.9 & $\\dots$ \\\\\n",
       "\t18 & 19 & 5.33333 & 9.33333 & 6.11111 & 4.5 & 5.11111 & 5.1 & 32.5 & 38.1 & $\\dots$ \\\\\n",
       "\t19 & 20 & 4.5 & 4.88889 & 5.66667 & 5.72222 & 5.88889 & 11.4 & 37.0 & 31.9 & $\\dots$ \\\\\n",
       "\t20 & 21 & 4.55556 & 8.0 & 4.55556 & 5.27778 & 6.0 & 4.2 & 80.8 & 16.3 & $\\dots$ \\\\\n",
       "\t21 & 22 & 5.38889 & 8.88889 & 7.72222 & 5.94444 & 7.44444 & 2.8 & 23.4 & 23.8 & $\\dots$ \\\\\n",
       "\t22 & 23 & 4.77778 & 7.44444 & 6.5 & 5.83333 & 6.0 & 3.3 & 68.4 & 42.3 & $\\dots$ \\\\\n",
       "\t23 & 24 & 4.61111 & 7.94444 & 8.0 & 6.77778 & 7.55556 & 4.8 & 31.2 & 37.6 & $\\dots$ \\\\\n",
       "\t24 & 25 & 5.16667 & 8.38889 & 6.66667 & 5.11111 & 4.88889 & 5.5 & 72.2 & 75.1 & $\\dots$ \\\\\n",
       "\t$\\dots$ & $\\dots$ & $\\dots$ & $\\dots$ & $\\dots$ & $\\dots$ & $\\dots$ & $\\dots$ & $\\dots$ & $\\dots$ &  \\\\\n",
       "\\end{tabular}\n"
      ],
      "text/plain": [
       "\u001b[1m49×17 DataFrame\u001b[0m\n",
       "\u001b[1m Row \u001b[0m│\u001b[1m No    \u001b[0m\u001b[1m O-PG(0) \u001b[0m\u001b[1m O-PG(30) \u001b[0m\u001b[1m O-PG(60) \u001b[0m\u001b[1m O-PG(90) \u001b[0m\u001b[1m O-PG(120) \u001b[0m\u001b[1m O- IRI(0) \u001b[0m\u001b[1m O-I\u001b[0m ⋯\n",
       "     │\u001b[90m Int64 \u001b[0m\u001b[90m Float64 \u001b[0m\u001b[90m Float64  \u001b[0m\u001b[90m Float64  \u001b[0m\u001b[90m Float64  \u001b[0m\u001b[90m Float64   \u001b[0m\u001b[90m Float64   \u001b[0m\u001b[90m Flo\u001b[0m ⋯\n",
       "─────┼──────────────────────────────────────────────────────────────────────────\n",
       "   1 │     1  4.88889   7.72222  10.5556    9.05556    7.5           11.0      ⋯\n",
       "   2 │     2  4.33333   6.77778   8.11111   9.5        7.38889        8.0\n",
       "   3 │     3  5.38889  10.5556   10.9444    7.05556    6.38889       10.1\n",
       "   4 │     4  5.16667   8.77778   6.83333   6.88889    7.22222        4.1\n",
       "   5 │     6  4.72222   6.88889   5.16667   5.27778    6.94444        9.2      ⋯\n",
       "   6 │     7  4.83333   6.88889   6.27778   6.16667    6.33333       10.6\n",
       "   7 │     8  5.83333   8.16667   9.05556   7.72222    6.0            9.3\n",
       "   8 │     9  5.0       8.44444  10.7778    8.66667    7.16667        4.3\n",
       "  ⋮  │   ⋮       ⋮        ⋮         ⋮         ⋮          ⋮          ⋮          ⋱\n",
       "  43 │    44  4.0      13.9444   15.0       9.83333    7.66667        5.0      ⋯\n",
       "  44 │    45  5.38889   9.38889  10.9444    8.94444    7.66667        5.0\n",
       "  45 │    46  4.94444   8.44444   7.27778   7.27778    6.38889        9.0\n",
       "  46 │    47  5.22222   7.61111   6.33333   7.61111    6.94444        4.0\n",
       "  47 │    48  5.05556   8.16667   7.83333   5.55556    5.72222        5.0      ⋯\n",
       "  48 │    49  5.05556   9.83333   8.5       7.22222    6.77778        5.0\n",
       "  49 │    50  5.38889   9.61111  12.6111   10.1111     6.77778        4.2\n",
       "\u001b[36m                                                  10 columns and 34 rows omitted\u001b[0m"
      ]
     },
     "metadata": {},
     "output_type": "display_data"
    }
   ],
   "source": [
    "data_NGT_info = data_subject[data_subject[!, :type] .== \"NGT\", :]\n",
    "\n",
    "# Extract the list of IDs from the NGT data\n",
    "ngt_ids = data_NGT_info[!, :No]\n",
    "\n",
    "# Filter the OGTT data for rows where the ID matches an NGT ID\n",
    "data_NGT_OGTT = data_OGTT[in.(data_OGTT[!, :No], Ref(ngt_ids)), :]\n",
    "\n",
    "# convert glucose values to mmol/L\n",
    "data_NGT_OGTT[!, 2:6] = data_NGT_OGTT[!, 2:6] ./ 18\n",
    "\n",
    "# add bodyweight to OGTT data\n",
    "data_NGT_OGTT = rightjoin(data_NGT_OGTT, data_NGT_info[:, [:No, :BW]], on = :No)\n",
    "\n",
    "# drop individuals with missing values\n",
    "data_NGT_OGTT = dropmissing(data_NGT_OGTT)"
   ]
  },
  {
   "cell_type": "markdown",
   "metadata": {},
   "source": [
    "## Fit the EDES model to the data and calculate the EDES parameters    "
   ]
  },
  {
   "cell_type": "code",
   "execution_count": 3,
   "metadata": {},
   "outputs": [
    {
     "name": "stdout",
     "output_type": "stream",
     "text": [
      "      From worker 6:\tOptimization successful! continuing...\n",
      "      From worker 6:\tParameter estimation done!\n",
      "      From worker 2:\tOptimization successful! continuing...\n",
      "      From worker 7:\tOptimization successful! continuing...\n",
      "      From worker 7:\tParameter estimation done!\n",
      "      From worker 2:\tParameter estimation done!\n",
      "      From worker 4:\tOptimization successful! continuing...\n",
      "      From worker 4:\tParameter estimation done!\n",
      "      From worker 8:\tOptimization successful! continuing...\n",
      "      From worker 8:\tParameter estimation done!\n",
      "      From worker 5:\tOptimization successful! continuing...\n",
      "      From worker 5:\tParameter estimation done!\n",
      "      From worker 9:\tOptimization successful! continuing...\n",
      "      From worker 9:\tParameter estimation done!\n",
      "      From worker 6:\tOptimization successful! continuing...\n",
      "      From worker 6:\tParameter estimation done!\n",
      "      From worker 2:\tOptimization successful! continuing...\n",
      "      From worker 2:\tParameter estimation done!\n",
      "      From worker 5:\tOptimization successful! continuing...\n",
      "      From worker 5:\tParameter estimation done!\n",
      "      From worker 8:\tOptimization successful! continuing...\n",
      "      From worker 8:\tParameter estimation done!\n",
      "      From worker 4:\tOptimization successful! continuing...\n",
      "      From worker 4:\tParameter estimation done!\n",
      "      From worker 3:\tOptimization successful! continuing...\n",
      "      From worker 3:\tParameter estimation done!\n",
      "      From worker 9:\tOptimization successful! continuing...\n",
      "      From worker 9:\tParameter estimation done!\n",
      "      From worker 6:\tOptimization successful! continuing...\n",
      "      From worker 6:\tParameter estimation done!\n",
      "      From worker 2:\tOptimization successful! continuing...\n",
      "      From worker 8:\tOptimization successful! continuing...\n",
      "      From worker 8:\tParameter estimation done!\n",
      "      From worker 2:\tParameter estimation done!\n",
      "      From worker 5:\tOptimization successful! continuing...\n",
      "      From worker 5:\tParameter estimation done!\n",
      "      From worker 8:\tOptimization successful! continuing...\n",
      "      From worker 8:\tParameter estimation done!\n",
      "      From worker 7:\tOptimization successful! continuing...\n",
      "      From worker 7:\tParameter estimation done!\n",
      "      From worker 9:\tOptimization successful! continuing...\n",
      "      From worker 9:\tParameter estimation done!\n",
      "      From worker 4:\tOptimization successful! continuing...\n",
      "      From worker 4:\tParameter estimation done!\n",
      "      From worker 3:\tOptimization successful! continuing...\n",
      "      From worker 3:\tParameter estimation done!\n",
      "      From worker 5:\tOptimization successful! continuing...\n",
      "      From worker 5:\tParameter estimation done!\n",
      "      From worker 6:\tOptimization successful! continuing...\n",
      "      From worker 6:\tParameter estimation done!\n",
      "      From worker 2:\tOptimization successful! continuing...\n",
      "      From worker 2:\tParameter estimation done!\n",
      "      From worker 8:\tOptimization successful! continuing...\n",
      "      From worker 8:\tParameter estimation done!\n",
      "      From worker 7:\tOptimization successful! continuing...\n",
      "      From worker 7:\tParameter estimation done!\n",
      "      From worker 9:\tOptimization successful! continuing...\n",
      "      From worker 9:\tParameter estimation done!\n",
      "      From worker 3:\tOptimization successful! continuing...\n",
      "      From worker 3:\tParameter estimation done!\n",
      "      From worker 4:\tOptimization successful! continuing...\n",
      "      From worker 4:\tParameter estimation done!\n",
      "      From worker 6:\tOptimization successful! continuing...\n",
      "      From worker 6:\tParameter estimation done!\n",
      "      From worker 5:\tOptimization successful! continuing...\n",
      "      From worker 5:\tParameter estimation done!\n",
      "      From worker 2:\tOptimization successful! continuing...\n",
      "      From worker 2:\tParameter estimation done!\n",
      "      From worker 8:\tOptimization successful! continuing...\n",
      "      From worker 8:\tParameter estimation done!\n",
      "      From worker 6:\tOptimization successful! continuing...\n",
      "      From worker 6:\tParameter estimation done!\n",
      "      From worker 4:\tOptimization successful! continuing...\n",
      "      From worker 4:\tParameter estimation done!\n",
      "      From worker 2:\tOptimization successful! continuing...\n",
      "      From worker 2:\tParameter estimation done!\n",
      "      From worker 7:\tOptimization successful! continuing...\n",
      "      From worker 7:\tParameter estimation done!\n",
      "      From worker 3:\tOptimization successful! continuing...\n",
      "      From worker 3:\tParameter estimation done!\n",
      "      From worker 5:\tOptimization successful! continuing...\n",
      "      From worker 5:\tParameter estimation done!\n",
      "      From worker 9:\tOptimization successful! continuing...\n",
      "      From worker 9:\tParameter estimation done!\n",
      "      From worker 2:\tOptimization successful! continuing...\n",
      "      From worker 2:\tParameter estimation done!\n",
      "      From worker 4:\tOptimization successful! continuing...\n",
      "      From worker 4:\tParameter estimation done!\n",
      "      From worker 6:\tOptimization successful! continuing...\n",
      "      From worker 6:\tParameter estimation done!\n",
      "      From worker 3:\tOptimization successful! continuing...\n",
      "      From worker 3:\tParameter estimation done!\n",
      "      From worker 5:\tOptimization successful! continuing...\n",
      "      From worker 5:\tParameter estimation done!\n",
      "      From worker 7:\tOptimization successful! continuing...\n",
      "      From worker 7:\tParameter estimation done!\n",
      "      From worker 8:\tOptimization successful! continuing...\n",
      "      From worker 8:\tParameter estimation done!\n"
     ]
    },
    {
     "data": {
      "text/plain": [
       "Task (done) @0x0000024b8f01e100"
      ]
     },
     "metadata": {},
     "output_type": "display_data"
    }
   ],
   "source": [
    "using Distributed\n",
    "\n",
    "n_cores = length(Sys.cpu_info())\n",
    "\n",
    "if nprocs()-1 < n_cores\n",
    "    addprocs(n_cores-nprocs()+1, exeflags=\"--project\")\n",
    "end\n",
    "\n",
    "@everywhere begin\n",
    "    using DifferentialEquations, SciMLBase, Random # for solving ODEs\n",
    "    using DataFrames\n",
    "    using Optimization, OptimizationOptimJL, LineSearches # for optimization\n",
    "    using QuasiMonteCarlo # for LHS\n",
    "    using Trapz\n",
    "    include(\"../EDES/including.jl\")\n",
    "end\n",
    "\n",
    "# fitting hyperparameters\n",
    "parameters_to_fit = [\"k1\", \"k5\", \"k6\"]\n",
    "ub = [0.5, 1.5, 10.]\n",
    "lb =  [0.0005, 0, 0]\n",
    "save_file = false\n",
    "\n",
    "# extract data from the OGTT data\n",
    "glucose =Matrix(data_NGT_OGTT[!, 2:6])\n",
    "insulin = Matrix(data_NGT_OGTT[!, 7:11])\n",
    "bodyweight = data_NGT_OGTT[!, :BW]\n",
    "G_dose = 75000\n",
    "time_G = [0, 30, 60, 90, 120]\n",
    "time_I = [0, 30, 60, 90, 120]\n",
    "\n",
    "# Prepare the patients list with positional and keyword arguments as a tuple\n",
    "patients = [\n",
    "    (glucose[i, :], insulin[i, :], bodyweight[i], G_dose, time_G, time_I, \n",
    "    (parameters_to_fit, ub, lb, save_file)) \n",
    "    for i in 1:size(glucose, 1)\n",
    "]\n",
    "\n",
    "# Wrapper function to pass keyword arguments correctly\n",
    "@everywhere function wrapper(params)\n",
    "    glucose, insulin, BW, meal_G, time_G, time_I, (estimated_params, ub, lb, save_boolean) = params\n",
    "    ParameterEstimation(\n",
    "        glucose,\n",
    "        insulin,\n",
    "        BW,\n",
    "        meal_G,\n",
    "        time_G,\n",
    "        time_I;\n",
    "        estimated_params = estimated_params,\n",
    "        ub = ub,\n",
    "        lb = lb,\n",
    "        save_boolean = save_boolean\n",
    "    )\n",
    "end\n",
    "\n",
    "# Use pmap with the wrapper\n",
    "results = pmap(x -> wrapper(x), patients)\n",
    "\n",
    "# close the parallel pool\n",
    "\n",
    "rmprocs(procs()[2:end])\n"
   ]
  },
  {
   "cell_type": "code",
   "execution_count": 4,
   "metadata": {},
   "outputs": [
    {
     "data": {
      "text/html": [
       "<div><div style = \"float: left;\"><span>1×7 DataFrame</span></div><div style = \"clear: both;\"></div></div><div class = \"data-frame\" style = \"overflow-x: scroll;\"><table class = \"data-frame\" style = \"margin-bottom: 6px;\"><thead><tr class = \"header\"><th class = \"rowNumber\" style = \"font-weight: bold; text-align: right;\">Row</th><th style = \"text-align: left;\">variable</th><th style = \"text-align: left;\">mean</th><th style = \"text-align: left;\">min</th><th style = \"text-align: left;\">median</th><th style = \"text-align: left;\">max</th><th style = \"text-align: left;\">nmissing</th><th style = \"text-align: left;\">eltype</th></tr><tr class = \"subheader headerLastRow\"><th class = \"rowNumber\" style = \"font-weight: bold; text-align: right;\"></th><th title = \"Symbol\" style = \"text-align: left;\">Symbol</th><th title = \"Float64\" style = \"text-align: left;\">Float64</th><th title = \"Float64\" style = \"text-align: left;\">Float64</th><th title = \"Float64\" style = \"text-align: left;\">Float64</th><th title = \"Float64\" style = \"text-align: left;\">Float64</th><th title = \"Int64\" style = \"text-align: left;\">Int64</th><th title = \"DataType\" style = \"text-align: left;\">DataType</th></tr></thead><tbody><tr><td class = \"rowNumber\" style = \"font-weight: bold; text-align: right;\">1</td><td style = \"text-align: left;\">k6</td><td style = \"text-align: right;\">2.45694</td><td style = \"text-align: right;\">3.47277e-15</td><td style = \"text-align: right;\">1.90766</td><td style = \"text-align: right;\">9.99962</td><td style = \"text-align: right;\">0</td><td style = \"text-align: left;\">Float64</td></tr></tbody></table></div>"
      ],
      "text/latex": [
       "\\begin{tabular}{r|ccccccc}\n",
       "\t& variable & mean & min & median & max & nmissing & eltype\\\\\n",
       "\t\\hline\n",
       "\t& Symbol & Float64 & Float64 & Float64 & Float64 & Int64 & DataType\\\\\n",
       "\t\\hline\n",
       "\t1 & k6 & 2.45694 & 3.47277e-15 & 1.90766 & 9.99962 & 0 & Float64 \\\\\n",
       "\\end{tabular}\n"
      ],
      "text/plain": [
       "\u001b[1m1×7 DataFrame\u001b[0m\n",
       "\u001b[1m Row \u001b[0m│\u001b[1m variable \u001b[0m\u001b[1m mean    \u001b[0m\u001b[1m min         \u001b[0m\u001b[1m median  \u001b[0m\u001b[1m max     \u001b[0m\u001b[1m nmissing \u001b[0m\u001b[1m eltype   \u001b[0m\n",
       "     │\u001b[90m Symbol   \u001b[0m\u001b[90m Float64 \u001b[0m\u001b[90m Float64     \u001b[0m\u001b[90m Float64 \u001b[0m\u001b[90m Float64 \u001b[0m\u001b[90m Int64    \u001b[0m\u001b[90m DataType \u001b[0m\n",
       "─────┼──────────────────────────────────────────────────────────────────────\n",
       "   1 │ k6        2.45694  3.47277e-15  1.90766  9.99962         0  Float64"
      ]
     },
     "metadata": {},
     "output_type": "display_data"
    }
   ],
   "source": [
    "using Statistics\n",
    "\n",
    "df_k1 = DataFrame(k1 = [results[i][1] for i in 1:length(results)])\n",
    "df_k5 = DataFrame(k5 = [results[i][2] for i in 1:length(results)])\n",
    "df_k6 = DataFrame(k6 = [results[i][3] for i in 1:length(results)])\n",
    "\n",
    "# get statistics of df\n",
    "# describe(df_k1)\n",
    "\n",
    "describe(df_k6)\n",
    "\n",
    "# describe(df_k5)"
   ]
  },
  {
   "cell_type": "markdown",
   "metadata": {},
   "source": [
    "## visually inspect the fits"
   ]
  },
  {
   "cell_type": "code",
   "execution_count": 6,
   "metadata": {},
   "outputs": [
    {
     "data": {
      "text/plain": [
       "49-element Vector{Bool}:\n",
       " 0\n",
       " 0\n",
       " 0\n",
       " 0\n",
       " 0\n",
       " 0\n",
       " 0\n",
       " 0\n",
       " 0\n",
       " 0\n",
       " ⋮\n",
       " 0\n",
       " 0\n",
       " 0\n",
       " 0\n",
       " 0\n",
       " 0\n",
       " 0\n",
       " 0\n",
       " 0"
      ]
     },
     "metadata": {},
     "output_type": "display_data"
    }
   ],
   "source": [
    "using GLMakie\n",
    "\n",
    "include(\"./PlotAnalysis.jl\")\n",
    "\n",
    "results_df = hcat(df_k1, df_k5, df_k6)\n",
    "\n",
    "data_NGT_OGTT\n",
    "time_G = [0, 30, 60, 90, 120]\n",
    "time_I = [0, 30, 60, 90, 120]\n",
    "G_dose = 75000\n",
    "\n",
    "glucose = Matrix(data_NGT_OGTT[!, 2:6])\n",
    "insulin = Matrix(data_NGT_OGTT[!, 7:11])\n",
    "BW = data_NGT_OGTT[!, :BW]\n",
    "\n",
    "Interactive_plots_EDES(results_df, glucose, insulin, BW, time_G, time_I, G_dose = G_dose)\n",
    "\n",
    "\n",
    "\n",
    "\n"
   ]
  },
  {
   "cell_type": "code",
   "execution_count": null,
   "metadata": {},
   "outputs": [],
   "source": [
    "\n",
    "\n",
    "glucose = Matrix(data_NGT_OGTT[!, 2:6])\n",
    "insulin = Matrix(data_NGT_OGTT[!, 7:11])\n",
    "BW = data_NGT_OGTT[!, :BW]\n",
    "\n",
    "\n",
    "new_df = DataFrame()\n",
    "\n"
   ]
  }
 ],
 "metadata": {
  "kernelspec": {
   "display_name": "Julia 1.10.1",
   "language": "julia",
   "name": "julia-1.10"
  },
  "language_info": {
   "file_extension": ".jl",
   "mimetype": "application/julia",
   "name": "julia",
   "version": "1.10.1"
  }
 },
 "nbformat": 4,
 "nbformat_minor": 2
}
