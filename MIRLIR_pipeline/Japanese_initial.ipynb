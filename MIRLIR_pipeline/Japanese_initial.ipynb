{
 "cells": [
  {
   "cell_type": "markdown",
   "metadata": {},
   "source": [
    "## File used to analyse the Japanese dataset in terms of EDES parameters"
   ]
  },
  {
   "cell_type": "code",
   "execution_count": 1,
   "metadata": {},
   "outputs": [],
   "source": [
    "using CSV\n",
    "using DataFrames\n",
    "\n",
    "# Load the OGTT data\n",
    "data_OGTT = CSV.read(\"C:/Users/20192809/Documents/Data/ohashi_csv_files/ohashi_OGTT.csv\", DataFrame)\n",
    "\n",
    "# load the subject data\n",
    "data_subject = CSV.read(\"C:/Users/20192809/Documents/Data/ohashi_csv_files/ohashi_subjectinfo.csv\", DataFrame);"
   ]
  },
  {
   "cell_type": "markdown",
   "metadata": {},
   "source": [
    "### select the OGTT data from the normal glucose tolerant subjects"
   ]
  },
  {
   "cell_type": "code",
   "execution_count": 2,
   "metadata": {},
   "outputs": [
    {
     "data": {
      "text/plain": [
       "5-element Vector{Int64}:\n",
       "   0\n",
       "  30\n",
       "  60\n",
       "  90\n",
       " 120"
      ]
     },
     "metadata": {},
     "output_type": "display_data"
    }
   ],
   "source": [
    "data_NGT_info = data_subject[data_subject[!, :type] .== \"NGT\", :]\n",
    "\n",
    "# Extract the list of IDs from the NGT data\n",
    "ngt_ids = data_NGT_info[!, :No]\n",
    "\n",
    "# Filter the OGTT data for rows where the ID matches an NGT ID\n",
    "data_NGT_OGTT = data_OGTT[in.(data_OGTT[!, :No], Ref(ngt_ids)), :]\n",
    "\n",
    "# convert glucose values to mmol/L\n",
    "data_NGT_OGTT[!, 2:6] = data_NGT_OGTT[!, 2:6] ./ 18\n",
    "\n",
    "# add bodyweight to OGTT data\n",
    "data_NGT_OGTT = rightjoin(data_NGT_OGTT, data_NGT_info[:, [:No, :BW]], on = :No)\n",
    "\n",
    "# drop individuals with missing values\n",
    "data_NGT_OGTT = dropmissing(data_NGT_OGTT)\n",
    "\n",
    "\n",
    "# extract data from the OGTT data\n",
    "glucose =Matrix(data_NGT_OGTT[!, 2:6])\n",
    "insulin = Matrix(data_NGT_OGTT[!, 7:11])\n",
    "bodyweight = data_NGT_OGTT[!, :BW]\n",
    "G_dose = 75000\n",
    "time_G = [0, 30, 60, 90, 120]\n",
    "time_I = [0, 30, 60, 90, 120];\n",
    "\n"
   ]
  },
  {
   "cell_type": "markdown",
   "metadata": {},
   "source": [
    "## Fit the EDES model to the data and calculate the EDES parameters    "
   ]
  },
  {
   "cell_type": "code",
   "execution_count": 4,
   "metadata": {},
   "outputs": [],
   "source": [
    "# fitting hyperparameters\n",
    "parameters_to_fit = [\"k1\", \"k5\", \"k6\"]\n",
    "ub = [0.5, 1.5, 10.]\n",
    "lb =  [0.0005, 0, 0]\n",
    "save_file = false\n",
    "\n",
    "# Prepare the patients list with positional and keyword arguments as a tuple\n",
    "patients = [\n",
    "    (glucose[i, :], insulin[i, :], bodyweight[i], G_dose, time_G, time_I, \n",
    "    (parameters_to_fit, ub, lb, save_file)) \n",
    "    for i in 1:size(glucose, 1)\n",
    "];"
   ]
  },
  {
   "cell_type": "code",
   "execution_count": 5,
   "metadata": {},
   "outputs": [
    {
     "name": "stdout",
     "output_type": "stream",
     "text": [
      "      From worker 4:\tOptimization successful! continuing...\n",
      "      From worker 4:\tParameter estimation done!\n",
      "      From worker 5:\tOptimization successful! continuing...\n",
      "      From worker 5:\tParameter estimation done!\n",
      "      From worker 6:\tOptimization successful! continuing...\n",
      "      From worker 6:\tParameter estimation done!\n",
      "      From worker 2:\tOptimization successful! continuing...\n",
      "      From worker 2:\tParameter estimation done!\n",
      "      From worker 9:\tOptimization successful! continuing...\n",
      "      From worker 9:\tParameter estimation done!\n",
      "      From worker 7:\tOptimization successful! continuing...\n",
      "      From worker 7:\tParameter estimation done!\n",
      "      From worker 8:\tOptimization successful! continuing...\n",
      "      From worker 8:\tParameter estimation done!\n",
      "      From worker 6:\tOptimization successful! continuing...\n",
      "      From worker 6:\tParameter estimation done!\n",
      "      From worker 2:\tOptimization successful! continuing...\n",
      "      From worker 2:\tParameter estimation done!\n",
      "      From worker 5:\tOptimization successful! continuing...\n",
      "      From worker 5:\tParameter estimation done!\n",
      "      From worker 7:\tOptimization successful! continuing...\n",
      "      From worker 7:\tParameter estimation done!\n",
      "      From worker 4:\tOptimization successful! continuing...\n",
      "      From worker 4:\tParameter estimation done!\n",
      "      From worker 8:\tOptimization successful! continuing...\n",
      "      From worker 8:\tParameter estimation done!\n",
      "      From worker 6:\tOptimization successful! continuing...\n",
      "      From worker 6:\tParameter estimation done!\n",
      "      From worker 3:\tOptimization successful! continuing...\n",
      "      From worker 3:\tParameter estimation done!\n",
      "      From worker 9:\tOptimization successful! continuing...\n",
      "      From worker 9:\tParameter estimation done!\n",
      "      From worker 2:\tOptimization successful! continuing...\n",
      "      From worker 2:\tParameter estimation done!\n",
      "      From worker 8:\tOptimization successful! continuing...\n",
      "      From worker 8:\tParameter estimation done!\n",
      "      From worker 4:\tOptimization successful! continuing...\n",
      "      From worker 4:\tParameter estimation done!\n",
      "      From worker 7:\tOptimization successful! continuing...\n",
      "      From worker 7:\tParameter estimation done!\n",
      "      From worker 6:\tOptimization successful! continuing...\n",
      "      From worker 6:\tParameter estimation done!\n",
      "      From worker 5:\tOptimization successful! continuing...\n",
      "      From worker 5:\tParameter estimation done!\n",
      "      From worker 2:\tOptimization successful! continuing...\n",
      "      From worker 2:\tParameter estimation done!\n",
      "      From worker 8:\tOptimization successful! continuing...\n",
      "      From worker 8:\tParameter estimation done!\n",
      "      From worker 6:\tOptimization successful! continuing...\n",
      "      From worker 6:\tParameter estimation done!\n",
      "      From worker 9:\tOptimization successful! continuing...\n",
      "      From worker 9:\tParameter estimation done!\n",
      "      From worker 4:\tOptimization successful! continuing...\n",
      "      From worker 4:\tParameter estimation done!\n",
      "      From worker 2:\tOptimization successful! continuing...\n",
      "      From worker 2:\tParameter estimation done!\n",
      "      From worker 3:\tOptimization successful! continuing...\n",
      "      From worker 3:\tParameter estimation done!\n",
      "      From worker 7:\tOptimization successful! continuing...\n",
      "      From worker 7:\tParameter estimation done!\n",
      "      From worker 8:\tOptimization successful! continuing...\n",
      "      From worker 8:\tParameter estimation done!\n",
      "      From worker 5:\tOptimization successful! continuing...\n",
      "      From worker 5:\tParameter estimation done!\n",
      "      From worker 3:\tOptimization successful! continuing...\n",
      "      From worker 3:\tParameter estimation done!\n",
      "      From worker 9:\tOptimization successful! continuing...\n",
      "      From worker 9:\tParameter estimation done!\n",
      "      From worker 4:\tOptimization successful! continuing...\n",
      "      From worker 4:\tParameter estimation done!\n",
      "      From worker 8:\tOptimization successful! continuing...\n",
      "      From worker 8:\tParameter estimation done!\n",
      "      From worker 7:\tOptimization successful! continuing...\n",
      "      From worker 7:\tParameter estimation done!\n",
      "      From worker 6:\tOptimization successful! continuing...\n",
      "      From worker 6:\tParameter estimation done!\n",
      "      From worker 9:\tOptimization successful! continuing...\n",
      "      From worker 9:\tParameter estimation done!\n",
      "      From worker 2:\tOptimization successful! continuing...\n",
      "      From worker 2:\tParameter estimation done!\n",
      "      From worker 5:\tOptimization successful! continuing...\n",
      "      From worker 5:\tParameter estimation done!\n",
      "      From worker 7:\tOptimization successful! continuing...\n",
      "      From worker 7:\tParameter estimation done!\n",
      "      From worker 3:\tOptimization successful! continuing...\n",
      "      From worker 3:\tParameter estimation done!\n",
      "      From worker 6:\tOptimization successful! continuing...\n",
      "      From worker 6:\tParameter estimation done!\n",
      "      From worker 8:\tOptimization successful! continuing...\n",
      "      From worker 8:\tParameter estimation done!\n",
      "      From worker 4:\tOptimization successful! continuing...\n",
      "      From worker 4:\tParameter estimation done!\n",
      "      From worker 9:\tOptimization successful! continuing...\n",
      "      From worker 9:\tParameter estimation done!\n",
      "      From worker 2:\tOptimization successful! continuing...\n",
      "      From worker 2:\tParameter estimation done!\n",
      "      From worker 5:\tOptimization successful! continuing...\n",
      "      From worker 5:\tParameter estimation done!\n"
     ]
    },
    {
     "data": {
      "text/plain": [
       "Task (done) @0x000001cb964b66d0"
      ]
     },
     "metadata": {},
     "output_type": "display_data"
    }
   ],
   "source": [
    "using Distributed\n",
    "\n",
    "n_cores = length(Sys.cpu_info())\n",
    "\n",
    "if nprocs()-1 < n_cores\n",
    "    addprocs(n_cores-nprocs()+1, exeflags=\"--project\")\n",
    "end\n",
    "\n",
    "@everywhere begin\n",
    "    using DifferentialEquations, SciMLBase, Random # for solving ODEs\n",
    "    using DataFrames\n",
    "    using Optimization, OptimizationOptimJL, LineSearches # for optimization\n",
    "    using QuasiMonteCarlo # for LHS\n",
    "    using Trapz\n",
    "    include(\"../EDES/including.jl\")\n",
    "end\n",
    "\n",
    "\n",
    "# extract data from the OGTT data\n",
    "glucose =Matrix(data_NGT_OGTT[!, 2:6])\n",
    "insulin = Matrix(data_NGT_OGTT[!, 7:11])\n",
    "bodyweight = data_NGT_OGTT[!, :BW]\n",
    "G_dose = 75000\n",
    "time_G = [0, 30, 60, 90, 120]\n",
    "time_I = [0, 30, 60, 90, 120]\n",
    "\n",
    "# Prepare the patients list with positional and keyword arguments as a tuple\n",
    "patients = [\n",
    "    (glucose[i, :], insulin[i, :], bodyweight[i], G_dose, time_G, time_I, \n",
    "    (parameters_to_fit, ub, lb, save_file)) \n",
    "    for i in 1:size(glucose, 1)\n",
    "]\n",
    "first_patient = patients[1]\n",
    "\n",
    "# Wrapper function to pass keyword arguments correctly\n",
    "@everywhere function wrapper(params)\n",
    "    glucose, insulin, BW, meal_G, time_G, time_I, (estimated_params, ub, lb, save_boolean) = params\n",
    "    ParameterEstimation(\n",
    "        glucose,\n",
    "        insulin,\n",
    "        BW,\n",
    "        meal_G,\n",
    "        time_G,\n",
    "        time_I;\n",
    "        estimated_params = estimated_params,\n",
    "        ub = ub,\n",
    "        lb = lb,\n",
    "        save_boolean = save_boolean\n",
    "    )\n",
    "end\n",
    "\n",
    "# Use pmap with the wrapper\n",
    "results = pmap(x -> wrapper(x), patients)\n",
    "\n",
    "# close the parallel pool\n",
    "\n",
    "rmprocs(procs()[2:end])\n"
   ]
  },
  {
   "cell_type": "code",
   "execution_count": 6,
   "metadata": {},
   "outputs": [
    {
     "data": {
      "text/html": [
       "<div><div style = \"float: left;\"><span>1×7 DataFrame</span></div><div style = \"clear: both;\"></div></div><div class = \"data-frame\" style = \"overflow-x: scroll;\"><table class = \"data-frame\" style = \"margin-bottom: 6px;\"><thead><tr class = \"header\"><th class = \"rowNumber\" style = \"font-weight: bold; text-align: right;\">Row</th><th style = \"text-align: left;\">variable</th><th style = \"text-align: left;\">mean</th><th style = \"text-align: left;\">min</th><th style = \"text-align: left;\">median</th><th style = \"text-align: left;\">max</th><th style = \"text-align: left;\">nmissing</th><th style = \"text-align: left;\">eltype</th></tr><tr class = \"subheader headerLastRow\"><th class = \"rowNumber\" style = \"font-weight: bold; text-align: right;\"></th><th title = \"Symbol\" style = \"text-align: left;\">Symbol</th><th title = \"Float64\" style = \"text-align: left;\">Float64</th><th title = \"Float64\" style = \"text-align: left;\">Float64</th><th title = \"Float64\" style = \"text-align: left;\">Float64</th><th title = \"Float64\" style = \"text-align: left;\">Float64</th><th title = \"Int64\" style = \"text-align: left;\">Int64</th><th title = \"DataType\" style = \"text-align: left;\">DataType</th></tr></thead><tbody><tr><td class = \"rowNumber\" style = \"font-weight: bold; text-align: right;\">1</td><td style = \"text-align: left;\">k6</td><td style = \"text-align: right;\">3.23792</td><td style = \"text-align: right;\">1.60979e-20</td><td style = \"text-align: right;\">1.77261</td><td style = \"text-align: right;\">9.9925</td><td style = \"text-align: right;\">0</td><td style = \"text-align: left;\">Float64</td></tr></tbody></table></div>"
      ],
      "text/latex": [
       "\\begin{tabular}{r|ccccccc}\n",
       "\t& variable & mean & min & median & max & nmissing & eltype\\\\\n",
       "\t\\hline\n",
       "\t& Symbol & Float64 & Float64 & Float64 & Float64 & Int64 & DataType\\\\\n",
       "\t\\hline\n",
       "\t1 & k6 & 3.23792 & 1.60979e-20 & 1.77261 & 9.9925 & 0 & Float64 \\\\\n",
       "\\end{tabular}\n"
      ],
      "text/plain": [
       "\u001b[1m1×7 DataFrame\u001b[0m\n",
       "\u001b[1m Row \u001b[0m│\u001b[1m variable \u001b[0m\u001b[1m mean    \u001b[0m\u001b[1m min         \u001b[0m\u001b[1m median  \u001b[0m\u001b[1m max     \u001b[0m\u001b[1m nmissing \u001b[0m\u001b[1m eltype   \u001b[0m\n",
       "     │\u001b[90m Symbol   \u001b[0m\u001b[90m Float64 \u001b[0m\u001b[90m Float64     \u001b[0m\u001b[90m Float64 \u001b[0m\u001b[90m Float64 \u001b[0m\u001b[90m Int64    \u001b[0m\u001b[90m DataType \u001b[0m\n",
       "─────┼──────────────────────────────────────────────────────────────────────\n",
       "   1 │ k6        3.23792  1.60979e-20  1.77261   9.9925         0  Float64"
      ]
     },
     "metadata": {},
     "output_type": "display_data"
    }
   ],
   "source": [
    "using Statistics\n",
    "\n",
    "df_k1 = DataFrame(k1 = [results[i][1] for i in 1:length(results)])\n",
    "df_k5 = DataFrame(k5 = [results[i][2] for i in 1:length(results)])\n",
    "df_k6 = DataFrame(k6 = [results[i][3] for i in 1:length(results)])\n",
    "\n",
    "# get statistics of df\n",
    "# describe(df_k1)\n",
    "\n",
    "describe(df_k6)\n",
    "\n",
    "# describe(df_k5)"
   ]
  },
  {
   "cell_type": "markdown",
   "metadata": {},
   "source": [
    "## visually inspect the fits"
   ]
  },
  {
   "cell_type": "code",
   "execution_count": 7,
   "metadata": {},
   "outputs": [
    {
     "data": {
      "text/plain": [
       "49-element Vector{Bool}:\n",
       " 0\n",
       " 0\n",
       " 0\n",
       " 0\n",
       " 0\n",
       " 0\n",
       " 0\n",
       " 0\n",
       " 0\n",
       " 0\n",
       " ⋮\n",
       " 0\n",
       " 0\n",
       " 0\n",
       " 0\n",
       " 0\n",
       " 0\n",
       " 0\n",
       " 0\n",
       " 0"
      ]
     },
     "metadata": {},
     "output_type": "display_data"
    }
   ],
   "source": [
    "using GLMakie\n",
    "\n",
    "include(\"./PlotAnalysis.jl\")\n",
    "\n",
    "results_df = hcat(df_k1, df_k5, df_k6)\n",
    "\n",
    "data_NGT_OGTT\n",
    "time_G = [0, 30, 60, 90, 120]\n",
    "time_I = [0, 30, 60, 90, 120]\n",
    "G_dose = 75000\n",
    "\n",
    "glucose = Matrix(data_NGT_OGTT[!, 2:6])\n",
    "insulin = Matrix(data_NGT_OGTT[!, 7:11])\n",
    "BW = data_NGT_OGTT[!, :BW]\n",
    "\n",
    "Interactive_plots_EDES(results_df, glucose, insulin, BW, time_G, time_I, G_dose = G_dose)\n",
    "\n",
    "\n",
    "\n",
    "\n"
   ]
  },
  {
   "cell_type": "code",
   "execution_count": null,
   "metadata": {},
   "outputs": [],
   "source": [
    "\n",
    "\n",
    "glucose = Matrix(data_NGT_OGTT[!, 2:6])\n",
    "insulin = Matrix(data_NGT_OGTT[!, 7:11])\n",
    "BW = data_NGT_OGTT[!, :BW]\n",
    "\n",
    "\n",
    "new_df = DataFrame()\n",
    "\n"
   ]
  }
 ],
 "metadata": {
  "kernelspec": {
   "display_name": "Julia 1.10.1",
   "language": "julia",
   "name": "julia-1.10"
  },
  "language_info": {
   "file_extension": ".jl",
   "mimetype": "application/julia",
   "name": "julia",
   "version": "1.10.1"
  }
 },
 "nbformat": 4,
 "nbformat_minor": 2
}
