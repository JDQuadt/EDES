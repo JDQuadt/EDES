{
 "cells": [
  {
   "cell_type": "markdown",
   "metadata": {},
   "source": [
    "## File used to analyse the Japanese dataset in terms of EDES parameters"
   ]
  },
  {
   "cell_type": "code",
   "execution_count": 7,
   "metadata": {},
   "outputs": [
    {
     "data": {
      "text/html": [
       "<div><div style = \"float: left;\"><span>121×7 DataFrame</span></div><div style = \"float: right;\"><span style = \"font-style: italic;\">96 rows omitted</span></div><div style = \"clear: both;\"></div></div><div class = \"data-frame\" style = \"overflow-x: scroll;\"><table class = \"data-frame\" style = \"margin-bottom: 6px;\"><thead><tr class = \"header\"><th class = \"rowNumber\" style = \"font-weight: bold; text-align: right;\">Row</th><th style = \"text-align: left;\">No</th><th style = \"text-align: left;\">sex(male1)</th><th style = \"text-align: left;\">age</th><th style = \"text-align: left;\">BH</th><th style = \"text-align: left;\">BW</th><th style = \"text-align: left;\">BMI</th><th style = \"text-align: left;\">type</th></tr><tr class = \"subheader headerLastRow\"><th class = \"rowNumber\" style = \"font-weight: bold; text-align: right;\"></th><th title = \"Int64\" style = \"text-align: left;\">Int64</th><th title = \"Int64\" style = \"text-align: left;\">Int64</th><th title = \"Int64\" style = \"text-align: left;\">Int64</th><th title = \"Float64\" style = \"text-align: left;\">Float64</th><th title = \"Float64\" style = \"text-align: left;\">Float64</th><th title = \"Float64\" style = \"text-align: left;\">Float64</th><th title = \"String7\" style = \"text-align: left;\">String7</th></tr></thead><tbody><tr><td class = \"rowNumber\" style = \"font-weight: bold; text-align: right;\">1</td><td style = \"text-align: right;\">1</td><td style = \"text-align: right;\">0</td><td style = \"text-align: right;\">34</td><td style = \"text-align: right;\">152.1</td><td style = \"text-align: right;\">78.7</td><td style = \"text-align: right;\">34.0</td><td style = \"text-align: left;\">NGT</td></tr><tr><td class = \"rowNumber\" style = \"font-weight: bold; text-align: right;\">2</td><td style = \"text-align: right;\">2</td><td style = \"text-align: right;\">1</td><td style = \"text-align: right;\">34</td><td style = \"text-align: right;\">172.9</td><td style = \"text-align: right;\">98.7</td><td style = \"text-align: right;\">33.0</td><td style = \"text-align: left;\">NGT</td></tr><tr><td class = \"rowNumber\" style = \"font-weight: bold; text-align: right;\">3</td><td style = \"text-align: right;\">3</td><td style = \"text-align: right;\">1</td><td style = \"text-align: right;\">44</td><td style = \"text-align: right;\">172.0</td><td style = \"text-align: right;\">70.0</td><td style = \"text-align: right;\">23.7</td><td style = \"text-align: left;\">NGT</td></tr><tr><td class = \"rowNumber\" style = \"font-weight: bold; text-align: right;\">4</td><td style = \"text-align: right;\">4</td><td style = \"text-align: right;\">1</td><td style = \"text-align: right;\">35</td><td style = \"text-align: right;\">172.0</td><td style = \"text-align: right;\">60.0</td><td style = \"text-align: right;\">20.3</td><td style = \"text-align: left;\">NGT</td></tr><tr><td class = \"rowNumber\" style = \"font-weight: bold; text-align: right;\">5</td><td style = \"text-align: right;\">5</td><td style = \"text-align: right;\">1</td><td style = \"text-align: right;\">41</td><td style = \"text-align: right;\">183.0</td><td style = \"text-align: right;\">74.0</td><td style = \"text-align: right;\">22.1</td><td style = \"text-align: left;\">NGT</td></tr><tr><td class = \"rowNumber\" style = \"font-weight: bold; text-align: right;\">6</td><td style = \"text-align: right;\">6</td><td style = \"text-align: right;\">1</td><td style = \"text-align: right;\">30</td><td style = \"text-align: right;\">178.8</td><td style = \"text-align: right;\">66.8</td><td style = \"text-align: right;\">20.9</td><td style = \"text-align: left;\">NGT</td></tr><tr><td class = \"rowNumber\" style = \"font-weight: bold; text-align: right;\">7</td><td style = \"text-align: right;\">7</td><td style = \"text-align: right;\">0</td><td style = \"text-align: right;\">41</td><td style = \"text-align: right;\">163.0</td><td style = \"text-align: right;\">58.0</td><td style = \"text-align: right;\">21.8</td><td style = \"text-align: left;\">NGT</td></tr><tr><td class = \"rowNumber\" style = \"font-weight: bold; text-align: right;\">8</td><td style = \"text-align: right;\">8</td><td style = \"text-align: right;\">1</td><td style = \"text-align: right;\">60</td><td style = \"text-align: right;\">170.3</td><td style = \"text-align: right;\">65.0</td><td style = \"text-align: right;\">22.4</td><td style = \"text-align: left;\">NGT</td></tr><tr><td class = \"rowNumber\" style = \"font-weight: bold; text-align: right;\">9</td><td style = \"text-align: right;\">9</td><td style = \"text-align: right;\">1</td><td style = \"text-align: right;\">22</td><td style = \"text-align: right;\">173.0</td><td style = \"text-align: right;\">65.0</td><td style = \"text-align: right;\">21.7</td><td style = \"text-align: left;\">NGT</td></tr><tr><td class = \"rowNumber\" style = \"font-weight: bold; text-align: right;\">10</td><td style = \"text-align: right;\">10</td><td style = \"text-align: right;\">0</td><td style = \"text-align: right;\">30</td><td style = \"text-align: right;\">150.3</td><td style = \"text-align: right;\">40.0</td><td style = \"text-align: right;\">17.7</td><td style = \"text-align: left;\">NGT</td></tr><tr><td class = \"rowNumber\" style = \"font-weight: bold; text-align: right;\">11</td><td style = \"text-align: right;\">11</td><td style = \"text-align: right;\">0</td><td style = \"text-align: right;\">30</td><td style = \"text-align: right;\">153.8</td><td style = \"text-align: right;\">44.0</td><td style = \"text-align: right;\">18.6</td><td style = \"text-align: left;\">NGT</td></tr><tr><td class = \"rowNumber\" style = \"font-weight: bold; text-align: right;\">12</td><td style = \"text-align: right;\">12</td><td style = \"text-align: right;\">1</td><td style = \"text-align: right;\">23</td><td style = \"text-align: right;\">171.2</td><td style = \"text-align: right;\">58.0</td><td style = \"text-align: right;\">19.8</td><td style = \"text-align: left;\">NGT</td></tr><tr><td class = \"rowNumber\" style = \"font-weight: bold; text-align: right;\">13</td><td style = \"text-align: right;\">13</td><td style = \"text-align: right;\">0</td><td style = \"text-align: right;\">28</td><td style = \"text-align: right;\">157.4</td><td style = \"text-align: right;\">46.8</td><td style = \"text-align: right;\">18.9</td><td style = \"text-align: left;\">NGT</td></tr><tr><td style = \"text-align: right;\">&vellip;</td><td style = \"text-align: right;\">&vellip;</td><td style = \"text-align: right;\">&vellip;</td><td style = \"text-align: right;\">&vellip;</td><td style = \"text-align: right;\">&vellip;</td><td style = \"text-align: right;\">&vellip;</td><td style = \"text-align: right;\">&vellip;</td><td style = \"text-align: right;\">&vellip;</td></tr><tr><td class = \"rowNumber\" style = \"font-weight: bold; text-align: right;\">110</td><td style = \"text-align: right;\">110</td><td style = \"text-align: right;\">0</td><td style = \"text-align: right;\">61</td><td style = \"text-align: right;\">151.8</td><td style = \"text-align: right;\">69.2</td><td style = \"text-align: right;\">30.0</td><td style = \"text-align: left;\">T2DM</td></tr><tr><td class = \"rowNumber\" style = \"font-weight: bold; text-align: right;\">111</td><td style = \"text-align: right;\">111</td><td style = \"text-align: right;\">0</td><td style = \"text-align: right;\">63</td><td style = \"text-align: right;\">148.6</td><td style = \"text-align: right;\">52.3</td><td style = \"text-align: right;\">23.7</td><td style = \"text-align: left;\">T2DM</td></tr><tr><td class = \"rowNumber\" style = \"font-weight: bold; text-align: right;\">112</td><td style = \"text-align: right;\">112</td><td style = \"text-align: right;\">1</td><td style = \"text-align: right;\">73</td><td style = \"text-align: right;\">175.1</td><td style = \"text-align: right;\">72.1</td><td style = \"text-align: right;\">23.5</td><td style = \"text-align: left;\">T2DM</td></tr><tr><td class = \"rowNumber\" style = \"font-weight: bold; text-align: right;\">113</td><td style = \"text-align: right;\">113</td><td style = \"text-align: right;\">1</td><td style = \"text-align: right;\">62</td><td style = \"text-align: right;\">168.9</td><td style = \"text-align: right;\">76.4</td><td style = \"text-align: right;\">26.8</td><td style = \"text-align: left;\">T2DM</td></tr><tr><td class = \"rowNumber\" style = \"font-weight: bold; text-align: right;\">114</td><td style = \"text-align: right;\">114</td><td style = \"text-align: right;\">1</td><td style = \"text-align: right;\">50</td><td style = \"text-align: right;\">174.1</td><td style = \"text-align: right;\">73.6</td><td style = \"text-align: right;\">24.3</td><td style = \"text-align: left;\">T2DM</td></tr><tr><td class = \"rowNumber\" style = \"font-weight: bold; text-align: right;\">115</td><td style = \"text-align: right;\">115</td><td style = \"text-align: right;\">1</td><td style = \"text-align: right;\">28</td><td style = \"text-align: right;\">184.7</td><td style = \"text-align: right;\">123.7</td><td style = \"text-align: right;\">36.3</td><td style = \"text-align: left;\">T2DM</td></tr><tr><td class = \"rowNumber\" style = \"font-weight: bold; text-align: right;\">116</td><td style = \"text-align: right;\">116</td><td style = \"text-align: right;\">1</td><td style = \"text-align: right;\">31</td><td style = \"text-align: right;\">175.8</td><td style = \"text-align: right;\">83.6</td><td style = \"text-align: right;\">27.1</td><td style = \"text-align: left;\">T2DM</td></tr><tr><td class = \"rowNumber\" style = \"font-weight: bold; text-align: right;\">117</td><td style = \"text-align: right;\">117</td><td style = \"text-align: right;\">0</td><td style = \"text-align: right;\">65</td><td style = \"text-align: right;\">154.1</td><td style = \"text-align: right;\">61.0</td><td style = \"text-align: right;\">25.7</td><td style = \"text-align: left;\">T2DM</td></tr><tr><td class = \"rowNumber\" style = \"font-weight: bold; text-align: right;\">118</td><td style = \"text-align: right;\">118</td><td style = \"text-align: right;\">0</td><td style = \"text-align: right;\">60</td><td style = \"text-align: right;\">158.8</td><td style = \"text-align: right;\">61.9</td><td style = \"text-align: right;\">24.5</td><td style = \"text-align: left;\">T2DM</td></tr><tr><td class = \"rowNumber\" style = \"font-weight: bold; text-align: right;\">119</td><td style = \"text-align: right;\">119</td><td style = \"text-align: right;\">1</td><td style = \"text-align: right;\">76</td><td style = \"text-align: right;\">165.5</td><td style = \"text-align: right;\">54.3</td><td style = \"text-align: right;\">19.8</td><td style = \"text-align: left;\">T2DM</td></tr><tr><td class = \"rowNumber\" style = \"font-weight: bold; text-align: right;\">120</td><td style = \"text-align: right;\">120</td><td style = \"text-align: right;\">0</td><td style = \"text-align: right;\">58</td><td style = \"text-align: right;\">156.2</td><td style = \"text-align: right;\">61.6</td><td style = \"text-align: right;\">25.2</td><td style = \"text-align: left;\">T2DM</td></tr><tr><td class = \"rowNumber\" style = \"font-weight: bold; text-align: right;\">121</td><td style = \"text-align: right;\">121</td><td style = \"text-align: right;\">1</td><td style = \"text-align: right;\">53</td><td style = \"text-align: right;\">165.3</td><td style = \"text-align: right;\">60.7</td><td style = \"text-align: right;\">22.2</td><td style = \"text-align: left;\">T2DM</td></tr></tbody></table></div>"
      ],
      "text/latex": [
       "\\begin{tabular}{r|ccccccc}\n",
       "\t& No & sex(male1) & age & BH & BW & BMI & type\\\\\n",
       "\t\\hline\n",
       "\t& Int64 & Int64 & Int64 & Float64 & Float64 & Float64 & String7\\\\\n",
       "\t\\hline\n",
       "\t1 & 1 & 0 & 34 & 152.1 & 78.7 & 34.0 & NGT \\\\\n",
       "\t2 & 2 & 1 & 34 & 172.9 & 98.7 & 33.0 & NGT \\\\\n",
       "\t3 & 3 & 1 & 44 & 172.0 & 70.0 & 23.7 & NGT \\\\\n",
       "\t4 & 4 & 1 & 35 & 172.0 & 60.0 & 20.3 & NGT \\\\\n",
       "\t5 & 5 & 1 & 41 & 183.0 & 74.0 & 22.1 & NGT \\\\\n",
       "\t6 & 6 & 1 & 30 & 178.8 & 66.8 & 20.9 & NGT \\\\\n",
       "\t7 & 7 & 0 & 41 & 163.0 & 58.0 & 21.8 & NGT \\\\\n",
       "\t8 & 8 & 1 & 60 & 170.3 & 65.0 & 22.4 & NGT \\\\\n",
       "\t9 & 9 & 1 & 22 & 173.0 & 65.0 & 21.7 & NGT \\\\\n",
       "\t10 & 10 & 0 & 30 & 150.3 & 40.0 & 17.7 & NGT \\\\\n",
       "\t11 & 11 & 0 & 30 & 153.8 & 44.0 & 18.6 & NGT \\\\\n",
       "\t12 & 12 & 1 & 23 & 171.2 & 58.0 & 19.8 & NGT \\\\\n",
       "\t13 & 13 & 0 & 28 & 157.4 & 46.8 & 18.9 & NGT \\\\\n",
       "\t14 & 14 & 0 & 22 & 164.0 & 52.0 & 19.3 & NGT \\\\\n",
       "\t15 & 15 & 0 & 23 & 159.0 & 48.5 & 19.2 & NGT \\\\\n",
       "\t16 & 16 & 1 & 24 & 173.8 & 58.0 & 19.2 & NGT \\\\\n",
       "\t17 & 17 & 0 & 23 & 166.0 & 50.3 & 18.2 & NGT \\\\\n",
       "\t18 & 18 & 0 & 28 & 160.0 & 48.0 & 18.8 & NGT \\\\\n",
       "\t19 & 19 & 0 & 50 & 159.0 & 53.2 & 21.0 & NGT \\\\\n",
       "\t20 & 20 & 0 & 25 & 157.3 & 46.7 & 18.9 & NGT \\\\\n",
       "\t21 & 21 & 0 & 26 & 165.0 & 52.0 & 19.1 & NGT \\\\\n",
       "\t22 & 22 & 0 & 49 & 161.0 & 56.5 & 21.8 & NGT \\\\\n",
       "\t23 & 23 & 0 & 26 & 155.3 & 57.5 & 23.8 & NGT \\\\\n",
       "\t24 & 24 & 0 & 26 & 160.0 & 51.7 & 20.2 & NGT \\\\\n",
       "\t$\\dots$ & $\\dots$ & $\\dots$ & $\\dots$ & $\\dots$ & $\\dots$ & $\\dots$ & $\\dots$ \\\\\n",
       "\\end{tabular}\n"
      ],
      "text/plain": [
       "\u001b[1m121×7 DataFrame\u001b[0m\n",
       "\u001b[1m Row \u001b[0m│\u001b[1m No    \u001b[0m\u001b[1m sex(male1) \u001b[0m\u001b[1m age   \u001b[0m\u001b[1m BH      \u001b[0m\u001b[1m BW      \u001b[0m\u001b[1m BMI     \u001b[0m\u001b[1m type    \u001b[0m\n",
       "     │\u001b[90m Int64 \u001b[0m\u001b[90m Int64      \u001b[0m\u001b[90m Int64 \u001b[0m\u001b[90m Float64 \u001b[0m\u001b[90m Float64 \u001b[0m\u001b[90m Float64 \u001b[0m\u001b[90m String7 \u001b[0m\n",
       "─────┼──────────────────────────────────────────────────────────────\n",
       "   1 │     1           0     34    152.1     78.7     34.0  NGT\n",
       "   2 │     2           1     34    172.9     98.7     33.0  NGT\n",
       "   3 │     3           1     44    172.0     70.0     23.7  NGT\n",
       "   4 │     4           1     35    172.0     60.0     20.3  NGT\n",
       "   5 │     5           1     41    183.0     74.0     22.1  NGT\n",
       "   6 │     6           1     30    178.8     66.8     20.9  NGT\n",
       "   7 │     7           0     41    163.0     58.0     21.8  NGT\n",
       "   8 │     8           1     60    170.3     65.0     22.4  NGT\n",
       "  ⋮  │   ⋮        ⋮         ⋮       ⋮        ⋮        ⋮        ⋮\n",
       " 115 │   115           1     28    184.7    123.7     36.3  T2DM\n",
       " 116 │   116           1     31    175.8     83.6     27.1  T2DM\n",
       " 117 │   117           0     65    154.1     61.0     25.7  T2DM\n",
       " 118 │   118           0     60    158.8     61.9     24.5  T2DM\n",
       " 119 │   119           1     76    165.5     54.3     19.8  T2DM\n",
       " 120 │   120           0     58    156.2     61.6     25.2  T2DM\n",
       " 121 │   121           1     53    165.3     60.7     22.2  T2DM\n",
       "\u001b[36m                                                    106 rows omitted\u001b[0m"
      ]
     },
     "metadata": {},
     "output_type": "display_data"
    }
   ],
   "source": [
    "using CSV\n",
    "using DataFrames\n",
    "\n",
    "# Load the OGTT data\n",
    "data_OGTT = CSV.read(\"C:/Users/20192809/Documents/data/ohashi_csv_files/ohashi_OGTT.csv\", DataFrame)\n",
    "\n",
    "# load the subject data\n",
    "data_subject = CSV.read(\"C:/Users/20192809/Documents/data/ohashi_csv_files/ohashi_subjectinfo.csv\", DataFrame)"
   ]
  },
  {
   "cell_type": "markdown",
   "metadata": {},
   "source": [
    "### select the OGTT data from the normal glucose tolerant subjects"
   ]
  },
  {
   "cell_type": "code",
   "execution_count": 23,
   "metadata": {},
   "outputs": [
    {
     "data": {
      "text/html": [
       "<div><div style = \"float: left;\"><span>49×16 DataFrame</span></div><div style = \"float: right;\"><span style = \"font-style: italic;\">24 rows omitted</span></div><div style = \"clear: both;\"></div></div><div class = \"data-frame\" style = \"overflow-x: scroll;\"><table class = \"data-frame\" style = \"margin-bottom: 6px;\"><thead><tr class = \"header\"><th class = \"rowNumber\" style = \"font-weight: bold; text-align: right;\">Row</th><th style = \"text-align: left;\">No</th><th style = \"text-align: left;\">O-PG(0)</th><th style = \"text-align: left;\">O-PG(30)</th><th style = \"text-align: left;\">O-PG(60)</th><th style = \"text-align: left;\">O-PG(90)</th><th style = \"text-align: left;\">O-PG(120)</th><th style = \"text-align: left;\">O- IRI(0)</th><th style = \"text-align: left;\">O-IRI(30)</th><th style = \"text-align: left;\">O-IRI(60)</th><th style = \"text-align: left;\">O-IRI(90)</th><th style = \"text-align: left;\">O-IRI(120)</th><th style = \"text-align: left;\">O-CPR(0)</th><th style = \"text-align: left;\">O-CPR(30)</th><th style = \"text-align: left;\">O-CPR(60)</th><th style = \"text-align: left;\">O-CPR(90)</th><th style = \"text-align: left;\">O-CPR(120)</th></tr><tr class = \"subheader headerLastRow\"><th class = \"rowNumber\" style = \"font-weight: bold; text-align: right;\"></th><th title = \"Int64\" style = \"text-align: left;\">Int64</th><th title = \"Float64\" style = \"text-align: left;\">Float64</th><th title = \"Float64\" style = \"text-align: left;\">Float64</th><th title = \"Float64\" style = \"text-align: left;\">Float64</th><th title = \"Float64\" style = \"text-align: left;\">Float64</th><th title = \"Float64\" style = \"text-align: left;\">Float64</th><th title = \"Float64\" style = \"text-align: left;\">Float64</th><th title = \"Float64\" style = \"text-align: left;\">Float64</th><th title = \"Float64\" style = \"text-align: left;\">Float64</th><th title = \"Float64\" style = \"text-align: left;\">Float64</th><th title = \"Float64\" style = \"text-align: left;\">Float64</th><th title = \"Float64\" style = \"text-align: left;\">Float64</th><th title = \"Float64\" style = \"text-align: left;\">Float64</th><th title = \"Float64\" style = \"text-align: left;\">Float64</th><th title = \"Float64\" style = \"text-align: left;\">Float64</th><th title = \"Float64\" style = \"text-align: left;\">Float64</th></tr></thead><tbody><tr><td class = \"rowNumber\" style = \"font-weight: bold; text-align: right;\">1</td><td style = \"text-align: right;\">1</td><td style = \"text-align: right;\">4.88889</td><td style = \"text-align: right;\">7.72222</td><td style = \"text-align: right;\">10.5556</td><td style = \"text-align: right;\">9.05556</td><td style = \"text-align: right;\">7.5</td><td style = \"text-align: right;\">11.0</td><td style = \"text-align: right;\">58.0</td><td style = \"text-align: right;\">110.0</td><td style = \"text-align: right;\">105.0</td><td style = \"text-align: right;\">119.0</td><td style = \"text-align: right;\">2.6</td><td style = \"text-align: right;\">5.4</td><td style = \"text-align: right;\">9.4</td><td style = \"text-align: right;\">10.6</td><td style = \"text-align: right;\">11.9</td></tr><tr><td class = \"rowNumber\" style = \"font-weight: bold; text-align: right;\">2</td><td style = \"text-align: right;\">2</td><td style = \"text-align: right;\">4.33333</td><td style = \"text-align: right;\">6.77778</td><td style = \"text-align: right;\">8.11111</td><td style = \"text-align: right;\">9.5</td><td style = \"text-align: right;\">7.38889</td><td style = \"text-align: right;\">8.0</td><td style = \"text-align: right;\">38.0</td><td style = \"text-align: right;\">18.0</td><td style = \"text-align: right;\">61.0</td><td style = \"text-align: right;\">44.0</td><td style = \"text-align: right;\">1.6</td><td style = \"text-align: right;\">4.7</td><td style = \"text-align: right;\">6.2</td><td style = \"text-align: right;\">7.8</td><td style = \"text-align: right;\">7.6</td></tr><tr><td class = \"rowNumber\" style = \"font-weight: bold; text-align: right;\">3</td><td style = \"text-align: right;\">3</td><td style = \"text-align: right;\">5.38889</td><td style = \"text-align: right;\">10.5556</td><td style = \"text-align: right;\">10.9444</td><td style = \"text-align: right;\">7.05556</td><td style = \"text-align: right;\">6.38889</td><td style = \"text-align: right;\">10.1</td><td style = \"text-align: right;\">65.2</td><td style = \"text-align: right;\">98.3</td><td style = \"text-align: right;\">47.6</td><td style = \"text-align: right;\">30.2</td><td style = \"text-align: right;\">2.5</td><td style = \"text-align: right;\">6.5</td><td style = \"text-align: right;\">9.4</td><td style = \"text-align: right;\">7.6</td><td style = \"text-align: right;\">6.2</td></tr><tr><td class = \"rowNumber\" style = \"font-weight: bold; text-align: right;\">4</td><td style = \"text-align: right;\">4</td><td style = \"text-align: right;\">5.16667</td><td style = \"text-align: right;\">8.77778</td><td style = \"text-align: right;\">6.83333</td><td style = \"text-align: right;\">6.88889</td><td style = \"text-align: right;\">7.22222</td><td style = \"text-align: right;\">4.1</td><td style = \"text-align: right;\">37.1</td><td style = \"text-align: right;\">14.9</td><td style = \"text-align: right;\">18.9</td><td style = \"text-align: right;\">29.8</td><td style = \"text-align: right;\">1.1</td><td style = \"text-align: right;\">4.9</td><td style = \"text-align: right;\">4.2</td><td style = \"text-align: right;\">4.2</td><td style = \"text-align: right;\">6.0</td></tr><tr><td class = \"rowNumber\" style = \"font-weight: bold; text-align: right;\">5</td><td style = \"text-align: right;\">6</td><td style = \"text-align: right;\">4.72222</td><td style = \"text-align: right;\">6.88889</td><td style = \"text-align: right;\">5.16667</td><td style = \"text-align: right;\">5.27778</td><td style = \"text-align: right;\">6.94444</td><td style = \"text-align: right;\">9.2</td><td style = \"text-align: right;\">84.7</td><td style = \"text-align: right;\">67.8</td><td style = \"text-align: right;\">25.2</td><td style = \"text-align: right;\">109.6</td><td style = \"text-align: right;\">2.6</td><td style = \"text-align: right;\">10.1</td><td style = \"text-align: right;\">8.6</td><td style = \"text-align: right;\">5.7</td><td style = \"text-align: right;\">12.0</td></tr><tr><td class = \"rowNumber\" style = \"font-weight: bold; text-align: right;\">6</td><td style = \"text-align: right;\">7</td><td style = \"text-align: right;\">4.83333</td><td style = \"text-align: right;\">6.88889</td><td style = \"text-align: right;\">6.27778</td><td style = \"text-align: right;\">6.16667</td><td style = \"text-align: right;\">6.33333</td><td style = \"text-align: right;\">10.6</td><td style = \"text-align: right;\">28.0</td><td style = \"text-align: right;\">5.8</td><td style = \"text-align: right;\">20.3</td><td style = \"text-align: right;\">25.7</td><td style = \"text-align: right;\">1.8</td><td style = \"text-align: right;\">4.1</td><td style = \"text-align: right;\">4.8</td><td style = \"text-align: right;\">5.4</td><td style = \"text-align: right;\">6.2</td></tr><tr><td class = \"rowNumber\" style = \"font-weight: bold; text-align: right;\">7</td><td style = \"text-align: right;\">8</td><td style = \"text-align: right;\">5.83333</td><td style = \"text-align: right;\">8.16667</td><td style = \"text-align: right;\">9.05556</td><td style = \"text-align: right;\">7.72222</td><td style = \"text-align: right;\">6.0</td><td style = \"text-align: right;\">9.3</td><td style = \"text-align: right;\">33.0</td><td style = \"text-align: right;\">70.8</td><td style = \"text-align: right;\">40.6</td><td style = \"text-align: right;\">19.6</td><td style = \"text-align: right;\">2.4</td><td style = \"text-align: right;\">4.2</td><td style = \"text-align: right;\">7.7</td><td style = \"text-align: right;\">6.8</td><td style = \"text-align: right;\">4.8</td></tr><tr><td class = \"rowNumber\" style = \"font-weight: bold; text-align: right;\">8</td><td style = \"text-align: right;\">9</td><td style = \"text-align: right;\">5.0</td><td style = \"text-align: right;\">8.44444</td><td style = \"text-align: right;\">10.7778</td><td style = \"text-align: right;\">8.66667</td><td style = \"text-align: right;\">7.16667</td><td style = \"text-align: right;\">4.3</td><td style = \"text-align: right;\">45.4</td><td style = \"text-align: right;\">62.8</td><td style = \"text-align: right;\">76.2</td><td style = \"text-align: right;\">66.8</td><td style = \"text-align: right;\">1.7</td><td style = \"text-align: right;\">5.6</td><td style = \"text-align: right;\">8.6</td><td style = \"text-align: right;\">10.2</td><td style = \"text-align: right;\">10.3</td></tr><tr><td class = \"rowNumber\" style = \"font-weight: bold; text-align: right;\">9</td><td style = \"text-align: right;\">10</td><td style = \"text-align: right;\">4.94444</td><td style = \"text-align: right;\">7.22222</td><td style = \"text-align: right;\">6.11111</td><td style = \"text-align: right;\">5.61111</td><td style = \"text-align: right;\">5.27778</td><td style = \"text-align: right;\">8.0</td><td style = \"text-align: right;\">35.2</td><td style = \"text-align: right;\">31.5</td><td style = \"text-align: right;\">26.5</td><td style = \"text-align: right;\">19.0</td><td style = \"text-align: right;\">1.5</td><td style = \"text-align: right;\">5.4</td><td style = \"text-align: right;\">5.7</td><td style = \"text-align: right;\">4.9</td><td style = \"text-align: right;\">4.3</td></tr><tr><td class = \"rowNumber\" style = \"font-weight: bold; text-align: right;\">10</td><td style = \"text-align: right;\">11</td><td style = \"text-align: right;\">4.61111</td><td style = \"text-align: right;\">7.27778</td><td style = \"text-align: right;\">6.38889</td><td style = \"text-align: right;\">5.66667</td><td style = \"text-align: right;\">5.22222</td><td style = \"text-align: right;\">3.1</td><td style = \"text-align: right;\">27.5</td><td style = \"text-align: right;\">32.1</td><td style = \"text-align: right;\">22.1</td><td style = \"text-align: right;\">17.1</td><td style = \"text-align: right;\">0.7</td><td style = \"text-align: right;\">3.4</td><td style = \"text-align: right;\">4.6</td><td style = \"text-align: right;\">4.3</td><td style = \"text-align: right;\">3.7</td></tr><tr><td class = \"rowNumber\" style = \"font-weight: bold; text-align: right;\">11</td><td style = \"text-align: right;\">12</td><td style = \"text-align: right;\">4.16667</td><td style = \"text-align: right;\">8.44444</td><td style = \"text-align: right;\">9.55556</td><td style = \"text-align: right;\">6.27778</td><td style = \"text-align: right;\">6.16667</td><td style = \"text-align: right;\">2.3</td><td style = \"text-align: right;\">53.5</td><td style = \"text-align: right;\">143.3</td><td style = \"text-align: right;\">69.7</td><td style = \"text-align: right;\">69.7</td><td style = \"text-align: right;\">0.9</td><td style = \"text-align: right;\">6.1</td><td style = \"text-align: right;\">13.3</td><td style = \"text-align: right;\">10.3</td><td style = \"text-align: right;\">10.7</td></tr><tr><td class = \"rowNumber\" style = \"font-weight: bold; text-align: right;\">12</td><td style = \"text-align: right;\">13</td><td style = \"text-align: right;\">5.0</td><td style = \"text-align: right;\">6.72222</td><td style = \"text-align: right;\">6.33333</td><td style = \"text-align: right;\">6.22222</td><td style = \"text-align: right;\">5.77778</td><td style = \"text-align: right;\">7.2</td><td style = \"text-align: right;\">47.5</td><td style = \"text-align: right;\">24.0</td><td style = \"text-align: right;\">26.4</td><td style = \"text-align: right;\">30.3</td><td style = \"text-align: right;\">1.7</td><td style = \"text-align: right;\">6.2</td><td style = \"text-align: right;\">4.7</td><td style = \"text-align: right;\">5.1</td><td style = \"text-align: right;\">5.7</td></tr><tr><td class = \"rowNumber\" style = \"font-weight: bold; text-align: right;\">13</td><td style = \"text-align: right;\">14</td><td style = \"text-align: right;\">4.22222</td><td style = \"text-align: right;\">7.55556</td><td style = \"text-align: right;\">7.0</td><td style = \"text-align: right;\">5.55556</td><td style = \"text-align: right;\">3.22222</td><td style = \"text-align: right;\">3.6</td><td style = \"text-align: right;\">73.6</td><td style = \"text-align: right;\">126.5</td><td style = \"text-align: right;\">118.3</td><td style = \"text-align: right;\">56.1</td><td style = \"text-align: right;\">1.3</td><td style = \"text-align: right;\">6.4</td><td style = \"text-align: right;\">11.5</td><td style = \"text-align: right;\">13.1</td><td style = \"text-align: right;\">9.6</td></tr><tr><td style = \"text-align: right;\">&vellip;</td><td style = \"text-align: right;\">&vellip;</td><td style = \"text-align: right;\">&vellip;</td><td style = \"text-align: right;\">&vellip;</td><td style = \"text-align: right;\">&vellip;</td><td style = \"text-align: right;\">&vellip;</td><td style = \"text-align: right;\">&vellip;</td><td style = \"text-align: right;\">&vellip;</td><td style = \"text-align: right;\">&vellip;</td><td style = \"text-align: right;\">&vellip;</td><td style = \"text-align: right;\">&vellip;</td><td style = \"text-align: right;\">&vellip;</td><td style = \"text-align: right;\">&vellip;</td><td style = \"text-align: right;\">&vellip;</td><td style = \"text-align: right;\">&vellip;</td><td style = \"text-align: right;\">&vellip;</td><td style = \"text-align: right;\">&vellip;</td></tr><tr><td class = \"rowNumber\" style = \"font-weight: bold; text-align: right;\">38</td><td style = \"text-align: right;\">39</td><td style = \"text-align: right;\">4.5</td><td style = \"text-align: right;\">8.27778</td><td style = \"text-align: right;\">6.83333</td><td style = \"text-align: right;\">6.38889</td><td style = \"text-align: right;\">6.66667</td><td style = \"text-align: right;\">8.6</td><td style = \"text-align: right;\">86.0</td><td style = \"text-align: right;\">57.3</td><td style = \"text-align: right;\">56.1</td><td style = \"text-align: right;\">47.2</td><td style = \"text-align: right;\">1.5</td><td style = \"text-align: right;\">6.9</td><td style = \"text-align: right;\">7.3</td><td style = \"text-align: right;\">7.1</td><td style = \"text-align: right;\">7.1</td></tr><tr><td class = \"rowNumber\" style = \"font-weight: bold; text-align: right;\">39</td><td style = \"text-align: right;\">40</td><td style = \"text-align: right;\">4.38889</td><td style = \"text-align: right;\">6.16667</td><td style = \"text-align: right;\">7.55556</td><td style = \"text-align: right;\">5.22222</td><td style = \"text-align: right;\">4.94444</td><td style = \"text-align: right;\">5.2</td><td style = \"text-align: right;\">17.6</td><td style = \"text-align: right;\">68.6</td><td style = \"text-align: right;\">46.7</td><td style = \"text-align: right;\">36.1</td><td style = \"text-align: right;\">1.5</td><td style = \"text-align: right;\">4.2</td><td style = \"text-align: right;\">10.0</td><td style = \"text-align: right;\">8.6</td><td style = \"text-align: right;\">6.1</td></tr><tr><td class = \"rowNumber\" style = \"font-weight: bold; text-align: right;\">40</td><td style = \"text-align: right;\">41</td><td style = \"text-align: right;\">4.5</td><td style = \"text-align: right;\">5.72222</td><td style = \"text-align: right;\">5.83333</td><td style = \"text-align: right;\">6.38889</td><td style = \"text-align: right;\">5.83333</td><td style = \"text-align: right;\">4.6</td><td style = \"text-align: right;\">32.7</td><td style = \"text-align: right;\">34.7</td><td style = \"text-align: right;\">45.8</td><td style = \"text-align: right;\">36.8</td><td style = \"text-align: right;\">1.3</td><td style = \"text-align: right;\">4.5</td><td style = \"text-align: right;\">5.1</td><td style = \"text-align: right;\">6.0</td><td style = \"text-align: right;\">6.0</td></tr><tr><td class = \"rowNumber\" style = \"font-weight: bold; text-align: right;\">41</td><td style = \"text-align: right;\">42</td><td style = \"text-align: right;\">5.05556</td><td style = \"text-align: right;\">9.55556</td><td style = \"text-align: right;\">6.83333</td><td style = \"text-align: right;\">7.16667</td><td style = \"text-align: right;\">5.0</td><td style = \"text-align: right;\">8.2</td><td style = \"text-align: right;\">118.3</td><td style = \"text-align: right;\">55.4</td><td style = \"text-align: right;\">50.7</td><td style = \"text-align: right;\">14.0</td><td style = \"text-align: right;\">1.7</td><td style = \"text-align: right;\">9.1</td><td style = \"text-align: right;\">7.3</td><td style = \"text-align: right;\">7.3</td><td style = \"text-align: right;\">4.7</td></tr><tr><td class = \"rowNumber\" style = \"font-weight: bold; text-align: right;\">42</td><td style = \"text-align: right;\">43</td><td style = \"text-align: right;\">4.5</td><td style = \"text-align: right;\">8.33333</td><td style = \"text-align: right;\">7.72222</td><td style = \"text-align: right;\">5.72222</td><td style = \"text-align: right;\">6.44444</td><td style = \"text-align: right;\">4.2</td><td style = \"text-align: right;\">26.5</td><td style = \"text-align: right;\">30.8</td><td style = \"text-align: right;\">10.6</td><td style = \"text-align: right;\">27.6</td><td style = \"text-align: right;\">1.2</td><td style = \"text-align: right;\">4.0</td><td style = \"text-align: right;\">4.7</td><td style = \"text-align: right;\">3.3</td><td style = \"text-align: right;\">4.0</td></tr><tr><td class = \"rowNumber\" style = \"font-weight: bold; text-align: right;\">43</td><td style = \"text-align: right;\">44</td><td style = \"text-align: right;\">4.0</td><td style = \"text-align: right;\">13.9444</td><td style = \"text-align: right;\">15.0</td><td style = \"text-align: right;\">9.83333</td><td style = \"text-align: right;\">7.66667</td><td style = \"text-align: right;\">5.0</td><td style = \"text-align: right;\">42.0</td><td style = \"text-align: right;\">24.0</td><td style = \"text-align: right;\">153.0</td><td style = \"text-align: right;\">100.0</td><td style = \"text-align: right;\">1.5</td><td style = \"text-align: right;\">7.0</td><td style = \"text-align: right;\">14.2</td><td style = \"text-align: right;\">15.9</td><td style = \"text-align: right;\">13.2</td></tr><tr><td class = \"rowNumber\" style = \"font-weight: bold; text-align: right;\">44</td><td style = \"text-align: right;\">45</td><td style = \"text-align: right;\">5.38889</td><td style = \"text-align: right;\">9.38889</td><td style = \"text-align: right;\">10.9444</td><td style = \"text-align: right;\">8.94444</td><td style = \"text-align: right;\">7.66667</td><td style = \"text-align: right;\">5.0</td><td style = \"text-align: right;\">24.0</td><td style = \"text-align: right;\">49.0</td><td style = \"text-align: right;\">50.0</td><td style = \"text-align: right;\">40.0</td><td style = \"text-align: right;\">1.5</td><td style = \"text-align: right;\">4.4</td><td style = \"text-align: right;\">7.6</td><td style = \"text-align: right;\">8.6</td><td style = \"text-align: right;\">8.5</td></tr><tr><td class = \"rowNumber\" style = \"font-weight: bold; text-align: right;\">45</td><td style = \"text-align: right;\">46</td><td style = \"text-align: right;\">4.94444</td><td style = \"text-align: right;\">8.44444</td><td style = \"text-align: right;\">7.27778</td><td style = \"text-align: right;\">7.27778</td><td style = \"text-align: right;\">6.38889</td><td style = \"text-align: right;\">9.0</td><td style = \"text-align: right;\">47.0</td><td style = \"text-align: right;\">36.0</td><td style = \"text-align: right;\">47.0</td><td style = \"text-align: right;\">32.0</td><td style = \"text-align: right;\">1.5</td><td style = \"text-align: right;\">5.4</td><td style = \"text-align: right;\">5.5</td><td style = \"text-align: right;\">6.3</td><td style = \"text-align: right;\">5.3</td></tr><tr><td class = \"rowNumber\" style = \"font-weight: bold; text-align: right;\">46</td><td style = \"text-align: right;\">47</td><td style = \"text-align: right;\">5.22222</td><td style = \"text-align: right;\">7.61111</td><td style = \"text-align: right;\">6.33333</td><td style = \"text-align: right;\">7.61111</td><td style = \"text-align: right;\">6.94444</td><td style = \"text-align: right;\">4.0</td><td style = \"text-align: right;\">65.0</td><td style = \"text-align: right;\">39.0</td><td style = \"text-align: right;\">48.0</td><td style = \"text-align: right;\">24.0</td><td style = \"text-align: right;\">1.3</td><td style = \"text-align: right;\">6.0</td><td style = \"text-align: right;\">4.0</td><td style = \"text-align: right;\">5.6</td><td style = \"text-align: right;\">6.2</td></tr><tr><td class = \"rowNumber\" style = \"font-weight: bold; text-align: right;\">47</td><td style = \"text-align: right;\">48</td><td style = \"text-align: right;\">5.05556</td><td style = \"text-align: right;\">8.16667</td><td style = \"text-align: right;\">7.83333</td><td style = \"text-align: right;\">5.55556</td><td style = \"text-align: right;\">5.72222</td><td style = \"text-align: right;\">5.0</td><td style = \"text-align: right;\">60.0</td><td style = \"text-align: right;\">56.0</td><td style = \"text-align: right;\">22.0</td><td style = \"text-align: right;\">25.0</td><td style = \"text-align: right;\">1.3</td><td style = \"text-align: right;\">5.4</td><td style = \"text-align: right;\">6.7</td><td style = \"text-align: right;\">4.2</td><td style = \"text-align: right;\">4.5</td></tr><tr><td class = \"rowNumber\" style = \"font-weight: bold; text-align: right;\">48</td><td style = \"text-align: right;\">49</td><td style = \"text-align: right;\">5.05556</td><td style = \"text-align: right;\">9.83333</td><td style = \"text-align: right;\">8.5</td><td style = \"text-align: right;\">7.22222</td><td style = \"text-align: right;\">6.77778</td><td style = \"text-align: right;\">5.0</td><td style = \"text-align: right;\">66.0</td><td style = \"text-align: right;\">56.0</td><td style = \"text-align: right;\">47.0</td><td style = \"text-align: right;\">43.0</td><td style = \"text-align: right;\">1.7</td><td style = \"text-align: right;\">8.8</td><td style = \"text-align: right;\">9.9</td><td style = \"text-align: right;\">9.6</td><td style = \"text-align: right;\">9.4</td></tr><tr><td class = \"rowNumber\" style = \"font-weight: bold; text-align: right;\">49</td><td style = \"text-align: right;\">50</td><td style = \"text-align: right;\">5.38889</td><td style = \"text-align: right;\">9.61111</td><td style = \"text-align: right;\">12.6111</td><td style = \"text-align: right;\">10.1111</td><td style = \"text-align: right;\">6.77778</td><td style = \"text-align: right;\">4.2</td><td style = \"text-align: right;\">39.2</td><td style = \"text-align: right;\">68.9</td><td style = \"text-align: right;\">52.9</td><td style = \"text-align: right;\">18.7</td><td style = \"text-align: right;\">1.2</td><td style = \"text-align: right;\">5.2</td><td style = \"text-align: right;\">9.0</td><td style = \"text-align: right;\">8.9</td><td style = \"text-align: right;\">5.5</td></tr></tbody></table></div>"
      ],
      "text/latex": [
       "\\begin{tabular}{r|cccccccccc}\n",
       "\t& No & O-PG(0) & O-PG(30) & O-PG(60) & O-PG(90) & O-PG(120) & O- IRI(0) & O-IRI(30) & O-IRI(60) & \\\\\n",
       "\t\\hline\n",
       "\t& Int64 & Float64 & Float64 & Float64 & Float64 & Float64 & Float64 & Float64 & Float64 & \\\\\n",
       "\t\\hline\n",
       "\t1 & 1 & 4.88889 & 7.72222 & 10.5556 & 9.05556 & 7.5 & 11.0 & 58.0 & 110.0 & $\\dots$ \\\\\n",
       "\t2 & 2 & 4.33333 & 6.77778 & 8.11111 & 9.5 & 7.38889 & 8.0 & 38.0 & 18.0 & $\\dots$ \\\\\n",
       "\t3 & 3 & 5.38889 & 10.5556 & 10.9444 & 7.05556 & 6.38889 & 10.1 & 65.2 & 98.3 & $\\dots$ \\\\\n",
       "\t4 & 4 & 5.16667 & 8.77778 & 6.83333 & 6.88889 & 7.22222 & 4.1 & 37.1 & 14.9 & $\\dots$ \\\\\n",
       "\t5 & 6 & 4.72222 & 6.88889 & 5.16667 & 5.27778 & 6.94444 & 9.2 & 84.7 & 67.8 & $\\dots$ \\\\\n",
       "\t6 & 7 & 4.83333 & 6.88889 & 6.27778 & 6.16667 & 6.33333 & 10.6 & 28.0 & 5.8 & $\\dots$ \\\\\n",
       "\t7 & 8 & 5.83333 & 8.16667 & 9.05556 & 7.72222 & 6.0 & 9.3 & 33.0 & 70.8 & $\\dots$ \\\\\n",
       "\t8 & 9 & 5.0 & 8.44444 & 10.7778 & 8.66667 & 7.16667 & 4.3 & 45.4 & 62.8 & $\\dots$ \\\\\n",
       "\t9 & 10 & 4.94444 & 7.22222 & 6.11111 & 5.61111 & 5.27778 & 8.0 & 35.2 & 31.5 & $\\dots$ \\\\\n",
       "\t10 & 11 & 4.61111 & 7.27778 & 6.38889 & 5.66667 & 5.22222 & 3.1 & 27.5 & 32.1 & $\\dots$ \\\\\n",
       "\t11 & 12 & 4.16667 & 8.44444 & 9.55556 & 6.27778 & 6.16667 & 2.3 & 53.5 & 143.3 & $\\dots$ \\\\\n",
       "\t12 & 13 & 5.0 & 6.72222 & 6.33333 & 6.22222 & 5.77778 & 7.2 & 47.5 & 24.0 & $\\dots$ \\\\\n",
       "\t13 & 14 & 4.22222 & 7.55556 & 7.0 & 5.55556 & 3.22222 & 3.6 & 73.6 & 126.5 & $\\dots$ \\\\\n",
       "\t14 & 15 & 4.88889 & 7.44444 & 7.16667 & 5.5 & 4.33333 & 5.1 & 74.8 & 106.4 & $\\dots$ \\\\\n",
       "\t15 & 16 & 4.38889 & 6.66667 & 7.0 & 5.83333 & 5.16667 & 4.5 & 37.6 & 36.1 & $\\dots$ \\\\\n",
       "\t16 & 17 & 4.94444 & 6.66667 & 5.27778 & 6.94444 & 6.11111 & 8.4 & 49.9 & 27.4 & $\\dots$ \\\\\n",
       "\t17 & 18 & 4.33333 & 5.5 & 5.94444 & 5.16667 & 5.55556 & 2.5 & 23.6 & 23.9 & $\\dots$ \\\\\n",
       "\t18 & 19 & 5.33333 & 9.33333 & 6.11111 & 4.5 & 5.11111 & 5.1 & 32.5 & 38.1 & $\\dots$ \\\\\n",
       "\t19 & 20 & 4.5 & 4.88889 & 5.66667 & 5.72222 & 5.88889 & 11.4 & 37.0 & 31.9 & $\\dots$ \\\\\n",
       "\t20 & 21 & 4.55556 & 8.0 & 4.55556 & 5.27778 & 6.0 & 4.2 & 80.8 & 16.3 & $\\dots$ \\\\\n",
       "\t21 & 22 & 5.38889 & 8.88889 & 7.72222 & 5.94444 & 7.44444 & 2.8 & 23.4 & 23.8 & $\\dots$ \\\\\n",
       "\t22 & 23 & 4.77778 & 7.44444 & 6.5 & 5.83333 & 6.0 & 3.3 & 68.4 & 42.3 & $\\dots$ \\\\\n",
       "\t23 & 24 & 4.61111 & 7.94444 & 8.0 & 6.77778 & 7.55556 & 4.8 & 31.2 & 37.6 & $\\dots$ \\\\\n",
       "\t24 & 25 & 5.16667 & 8.38889 & 6.66667 & 5.11111 & 4.88889 & 5.5 & 72.2 & 75.1 & $\\dots$ \\\\\n",
       "\t$\\dots$ & $\\dots$ & $\\dots$ & $\\dots$ & $\\dots$ & $\\dots$ & $\\dots$ & $\\dots$ & $\\dots$ & $\\dots$ &  \\\\\n",
       "\\end{tabular}\n"
      ],
      "text/plain": [
       "\u001b[1m49×16 DataFrame\u001b[0m\n",
       "\u001b[1m Row \u001b[0m│\u001b[1m No    \u001b[0m\u001b[1m O-PG(0) \u001b[0m\u001b[1m O-PG(30) \u001b[0m\u001b[1m O-PG(60) \u001b[0m\u001b[1m O-PG(90) \u001b[0m\u001b[1m O-PG(120) \u001b[0m\u001b[1m O- IRI(0) \u001b[0m\u001b[1m O-I\u001b[0m ⋯\n",
       "     │\u001b[90m Int64 \u001b[0m\u001b[90m Float64 \u001b[0m\u001b[90m Float64  \u001b[0m\u001b[90m Float64  \u001b[0m\u001b[90m Float64  \u001b[0m\u001b[90m Float64   \u001b[0m\u001b[90m Float64   \u001b[0m\u001b[90m Flo\u001b[0m ⋯\n",
       "─────┼──────────────────────────────────────────────────────────────────────────\n",
       "   1 │     1  4.88889   7.72222  10.5556    9.05556    7.5           11.0      ⋯\n",
       "   2 │     2  4.33333   6.77778   8.11111   9.5        7.38889        8.0\n",
       "   3 │     3  5.38889  10.5556   10.9444    7.05556    6.38889       10.1\n",
       "   4 │     4  5.16667   8.77778   6.83333   6.88889    7.22222        4.1\n",
       "   5 │     6  4.72222   6.88889   5.16667   5.27778    6.94444        9.2      ⋯\n",
       "   6 │     7  4.83333   6.88889   6.27778   6.16667    6.33333       10.6\n",
       "   7 │     8  5.83333   8.16667   9.05556   7.72222    6.0            9.3\n",
       "   8 │     9  5.0       8.44444  10.7778    8.66667    7.16667        4.3\n",
       "  ⋮  │   ⋮       ⋮        ⋮         ⋮         ⋮          ⋮          ⋮          ⋱\n",
       "  43 │    44  4.0      13.9444   15.0       9.83333    7.66667        5.0      ⋯\n",
       "  44 │    45  5.38889   9.38889  10.9444    8.94444    7.66667        5.0\n",
       "  45 │    46  4.94444   8.44444   7.27778   7.27778    6.38889        9.0\n",
       "  46 │    47  5.22222   7.61111   6.33333   7.61111    6.94444        4.0\n",
       "  47 │    48  5.05556   8.16667   7.83333   5.55556    5.72222        5.0      ⋯\n",
       "  48 │    49  5.05556   9.83333   8.5       7.22222    6.77778        5.0\n",
       "  49 │    50  5.38889   9.61111  12.6111   10.1111     6.77778        4.2\n",
       "\u001b[36m                                                   9 columns and 34 rows omitted\u001b[0m"
      ]
     },
     "metadata": {},
     "output_type": "display_data"
    }
   ],
   "source": [
    "data_NGT_info = data_subject[data_subject[!, :type] .== \"NGT\", :]\n",
    "\n",
    "# Extract the list of IDs from the NGT data\n",
    "ngt_ids = data_NGT_info[!, :No]\n",
    "\n",
    "# Filter the OGTT data for rows where the ID matches an NGT ID\n",
    "data_NGT_OGTT = data_OGTT[in.(data_OGTT[!, :No], Ref(ngt_ids)), :]\n",
    "\n",
    "# convert glucose values to mmol/L\n",
    "data_NGT_OGTT[!, 2:6] = data_NGT_OGTT[!, 2:6] ./ 18\n",
    "\n",
    "# drop individuals with missing values\n",
    "data_NGT_OGTT = dropmissing(data_NGT_OGTT)"
   ]
  },
  {
   "cell_type": "markdown",
   "metadata": {},
   "source": [
    "## Fit the EDES model to the data and calculate the EDES parameters    "
   ]
  },
  {
   "cell_type": "code",
   "execution_count": 32,
   "metadata": {},
   "outputs": [
    {
     "ename": "ArgumentError",
     "evalue": "ArgumentError: Package DifferentialEquations not found in current path.\n- Run `import Pkg; Pkg.add(\"DifferentialEquations\")` to install the DifferentialEquations package.",
     "output_type": "error",
     "traceback": [
      "ArgumentError: Package DifferentialEquations not found in current path.\n",
      "- Run `import Pkg; Pkg.add(\"DifferentialEquations\")` to install the DifferentialEquations package.\n",
      "\n",
      "Stacktrace:\n",
      "  [1] macro expansion\n",
      "    @ .\\loading.jl:1630 [inlined]\n",
      "  [2] macro expansion\n",
      "    @ .\\lock.jl:267 [inlined]\n",
      "  [3] require(into::Module, mod::Symbol)\n",
      "    @ Base .\\loading.jl:1611\n",
      "  [4] eval\n",
      "    @ .\\boot.jl:370 [inlined]\n",
      "  [5] include_string(mapexpr::typeof(REPL.softscope), mod::Module, code::String, filename::String)\n",
      "    @ Base .\\loading.jl:1903\n",
      "  [6] #invokelatest#2\n",
      "    @ .\\essentials.jl:819 [inlined]\n",
      "  [7] invokelatest\n",
      "    @ .\\essentials.jl:816 [inlined]\n",
      "  [8] (::VSCodeServer.var\"#217#218\"{VSCodeServer.NotebookRunCellArguments, String})()\n",
      "    @ VSCodeServer c:\\Users\\20192809\\.vscode\\extensions\\julialang.language-julia-1.127.2\\scripts\\packages\\VSCodeServer\\src\\serve_notebook.jl:24\n",
      "  [9] withpath(f::VSCodeServer.var\"#217#218\"{VSCodeServer.NotebookRunCellArguments, String}, path::String)\n",
      "    @ VSCodeServer c:\\Users\\20192809\\.vscode\\extensions\\julialang.language-julia-1.127.2\\scripts\\packages\\VSCodeServer\\src\\repl.jl:276\n",
      " [10] notebook_runcell_request(conn::VSCodeServer.JSONRPC.JSONRPCEndpoint{Base.PipeEndpoint, Base.PipeEndpoint}, params::VSCodeServer.NotebookRunCellArguments)\n",
      "    @ VSCodeServer c:\\Users\\20192809\\.vscode\\extensions\\julialang.language-julia-1.127.2\\scripts\\packages\\VSCodeServer\\src\\serve_notebook.jl:13\n",
      " [11] dispatch_msg(x::VSCodeServer.JSONRPC.JSONRPCEndpoint{Base.PipeEndpoint, Base.PipeEndpoint}, dispatcher::VSCodeServer.JSONRPC.MsgDispatcher, msg::Dict{String, Any})\n",
      "    @ VSCodeServer.JSONRPC c:\\Users\\20192809\\.vscode\\extensions\\julialang.language-julia-1.127.2\\scripts\\packages\\JSONRPC\\src\\typed.jl:67\n",
      " [12] serve_notebook(pipename::String, debugger_pipename::String, outputchannel_logger::Base.CoreLogging.SimpleLogger; error_handler::var\"#7#12\"{String})\n",
      "    @ VSCodeServer c:\\Users\\20192809\\.vscode\\extensions\\julialang.language-julia-1.127.2\\scripts\\packages\\VSCodeServer\\src\\serve_notebook.jl:147\n",
      " [13] top-level scope\n",
      "    @ c:\\Users\\20192809\\.vscode\\extensions\\julialang.language-julia-1.127.2\\scripts\\notebook\\notebook.jl:35"
     ]
    }
   ],
   "source": [
    "using DifferentialEquations\n",
    "\n",
    "# include the whole model\n",
    "include(\"../EDES/Including.jl\")"
   ]
  }
 ],
 "metadata": {
  "kernelspec": {
   "display_name": "Julia 1.9.3",
   "language": "julia",
   "name": "julia-1.9"
  },
  "language_info": {
   "file_extension": ".jl",
   "mimetype": "application/julia",
   "name": "julia",
   "version": "1.9.3"
  }
 },
 "nbformat": 4,
 "nbformat_minor": 2
}
