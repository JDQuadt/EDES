{
 "cells": [
  {
   "cell_type": "code",
   "execution_count": 1,
   "metadata": {},
   "outputs": [
    {
     "data": {
      "text/plain": [
       "TaskLocalRNG()"
      ]
     },
     "metadata": {},
     "output_type": "display_data"
    }
   ],
   "source": [
    "using CSV \n",
    "using DataFrames, Random\n",
    "using Clustering\n",
    "\n",
    "# set random seed\n",
    "Random.seed!(1234)"
   ]
  },
  {
   "cell_type": "code",
   "execution_count": 2,
   "metadata": {},
   "outputs": [
    {
     "data": {
      "text/html": [
       "<div><div style = \"float: left;\"><span>70×7 DataFrame</span></div><div style = \"float: right;\"><span style = \"font-style: italic;\">45 rows omitted</span></div><div style = \"clear: both;\"></div></div><div class = \"data-frame\" style = \"overflow-x: scroll;\"><table class = \"data-frame\" style = \"margin-bottom: 6px;\"><thead><tr class = \"header\"><th class = \"rowNumber\" style = \"font-weight: bold; text-align: right;\">Row</th><th style = \"text-align: left;\">ID</th><th style = \"text-align: left;\">Meal Test</th><th style = \"text-align: left;\">Health status</th><th style = \"text-align: left;\">k1</th><th style = \"text-align: left;\">k5</th><th style = \"text-align: left;\">k6</th><th style = \"text-align: left;\">k8</th></tr><tr class = \"subheader headerLastRow\"><th class = \"rowNumber\" style = \"font-weight: bold; text-align: right;\"></th><th title = \"Float64\" style = \"text-align: left;\">Float64</th><th title = \"Float64\" style = \"text-align: left;\">Float64</th><th title = \"Float64\" style = \"text-align: left;\">Float64</th><th title = \"Float64\" style = \"text-align: left;\">Float64</th><th title = \"Float64\" style = \"text-align: left;\">Float64</th><th title = \"Float64\" style = \"text-align: left;\">Float64</th><th title = \"Float64\" style = \"text-align: left;\">Float64</th></tr></thead><tbody><tr><td class = \"rowNumber\" style = \"font-weight: bold; text-align: right;\">1</td><td style = \"text-align: right;\">1.0</td><td style = \"text-align: right;\">1.0</td><td style = \"text-align: right;\">0.0</td><td style = \"text-align: right;\">0.0104072</td><td style = \"text-align: right;\">0.0173463</td><td style = \"text-align: right;\">4.40951</td><td style = \"text-align: right;\">7.354</td></tr><tr><td class = \"rowNumber\" style = \"font-weight: bold; text-align: right;\">2</td><td style = \"text-align: right;\">1.0</td><td style = \"text-align: right;\">2.0</td><td style = \"text-align: right;\">0.0</td><td style = \"text-align: right;\">0.0104362</td><td style = \"text-align: right;\">0.0155601</td><td style = \"text-align: right;\">5.10032</td><td style = \"text-align: right;\">7.57521</td></tr><tr><td class = \"rowNumber\" style = \"font-weight: bold; text-align: right;\">3</td><td style = \"text-align: right;\">1.0</td><td style = \"text-align: right;\">3.0</td><td style = \"text-align: right;\">0.0</td><td style = \"text-align: right;\">0.0105299</td><td style = \"text-align: right;\">0.0131662</td><td style = \"text-align: right;\">5.54484</td><td style = \"text-align: right;\">7.59195</td></tr><tr><td class = \"rowNumber\" style = \"font-weight: bold; text-align: right;\">4</td><td style = \"text-align: right;\">1.0</td><td style = \"text-align: right;\">4.0</td><td style = \"text-align: right;\">0.0</td><td style = \"text-align: right;\">0.0104272</td><td style = \"text-align: right;\">0.0116063</td><td style = \"text-align: right;\">5.3463</td><td style = \"text-align: right;\">7.08974</td></tr><tr><td class = \"rowNumber\" style = \"font-weight: bold; text-align: right;\">5</td><td style = \"text-align: right;\">1.0</td><td style = \"text-align: right;\">5.0</td><td style = \"text-align: right;\">0.0</td><td style = \"text-align: right;\">0.0103704</td><td style = \"text-align: right;\">0.0109003</td><td style = \"text-align: right;\">4.90771</td><td style = \"text-align: right;\">6.83445</td></tr><tr><td class = \"rowNumber\" style = \"font-weight: bold; text-align: right;\">6</td><td style = \"text-align: right;\">1.0</td><td style = \"text-align: right;\">6.0</td><td style = \"text-align: right;\">0.0</td><td style = \"text-align: right;\">0.0104962</td><td style = \"text-align: right;\">0.00845506</td><td style = \"text-align: right;\">3.49573</td><td style = \"text-align: right;\">7.08165</td></tr><tr><td class = \"rowNumber\" style = \"font-weight: bold; text-align: right;\">7</td><td style = \"text-align: right;\">1.0</td><td style = \"text-align: right;\">7.0</td><td style = \"text-align: right;\">0.0</td><td style = \"text-align: right;\">0.0104589</td><td style = \"text-align: right;\">0.0058106</td><td style = \"text-align: right;\">3.53309</td><td style = \"text-align: right;\">7.01873</td></tr><tr><td class = \"rowNumber\" style = \"font-weight: bold; text-align: right;\">8</td><td style = \"text-align: right;\">2.0</td><td style = \"text-align: right;\">1.0</td><td style = \"text-align: right;\">1.0</td><td style = \"text-align: right;\">0.01038</td><td style = \"text-align: right;\">0.0164254</td><td style = \"text-align: right;\">5.00868</td><td style = \"text-align: right;\">7.44119</td></tr><tr><td class = \"rowNumber\" style = \"font-weight: bold; text-align: right;\">9</td><td style = \"text-align: right;\">2.0</td><td style = \"text-align: right;\">2.0</td><td style = \"text-align: right;\">1.0</td><td style = \"text-align: right;\">0.0105607</td><td style = \"text-align: right;\">0.0166048</td><td style = \"text-align: right;\">4.63033</td><td style = \"text-align: right;\">7.29184</td></tr><tr><td class = \"rowNumber\" style = \"font-weight: bold; text-align: right;\">10</td><td style = \"text-align: right;\">2.0</td><td style = \"text-align: right;\">3.0</td><td style = \"text-align: right;\">1.0</td><td style = \"text-align: right;\">0.0105964</td><td style = \"text-align: right;\">0.0173572</td><td style = \"text-align: right;\">4.41143</td><td style = \"text-align: right;\">6.93469</td></tr><tr><td class = \"rowNumber\" style = \"font-weight: bold; text-align: right;\">11</td><td style = \"text-align: right;\">2.0</td><td style = \"text-align: right;\">4.0</td><td style = \"text-align: right;\">1.0</td><td style = \"text-align: right;\">0.0105905</td><td style = \"text-align: right;\">0.016594</td><td style = \"text-align: right;\">4.58117</td><td style = \"text-align: right;\">7.28308</td></tr><tr><td class = \"rowNumber\" style = \"font-weight: bold; text-align: right;\">12</td><td style = \"text-align: right;\">2.0</td><td style = \"text-align: right;\">5.0</td><td style = \"text-align: right;\">1.0</td><td style = \"text-align: right;\">0.0103747</td><td style = \"text-align: right;\">0.0171087</td><td style = \"text-align: right;\">4.86054</td><td style = \"text-align: right;\">7.12897</td></tr><tr><td class = \"rowNumber\" style = \"font-weight: bold; text-align: right;\">13</td><td style = \"text-align: right;\">2.0</td><td style = \"text-align: right;\">6.0</td><td style = \"text-align: right;\">1.0</td><td style = \"text-align: right;\">0.0103526</td><td style = \"text-align: right;\">0.0183913</td><td style = \"text-align: right;\">4.63087</td><td style = \"text-align: right;\">6.60372</td></tr><tr><td style = \"text-align: right;\">&vellip;</td><td style = \"text-align: right;\">&vellip;</td><td style = \"text-align: right;\">&vellip;</td><td style = \"text-align: right;\">&vellip;</td><td style = \"text-align: right;\">&vellip;</td><td style = \"text-align: right;\">&vellip;</td><td style = \"text-align: right;\">&vellip;</td><td style = \"text-align: right;\">&vellip;</td></tr><tr><td class = \"rowNumber\" style = \"font-weight: bold; text-align: right;\">59</td><td style = \"text-align: right;\">9.0</td><td style = \"text-align: right;\">3.0</td><td style = \"text-align: right;\">0.0</td><td style = \"text-align: right;\">0.01064</td><td style = \"text-align: right;\">0.0124839</td><td style = \"text-align: right;\">6.12522</td><td style = \"text-align: right;\">8.2652</td></tr><tr><td class = \"rowNumber\" style = \"font-weight: bold; text-align: right;\">60</td><td style = \"text-align: right;\">9.0</td><td style = \"text-align: right;\">4.0</td><td style = \"text-align: right;\">0.0</td><td style = \"text-align: right;\">0.0104388</td><td style = \"text-align: right;\">0.0105636</td><td style = \"text-align: right;\">6.43597</td><td style = \"text-align: right;\">7.81644</td></tr><tr><td class = \"rowNumber\" style = \"font-weight: bold; text-align: right;\">61</td><td style = \"text-align: right;\">9.0</td><td style = \"text-align: right;\">5.0</td><td style = \"text-align: right;\">0.0</td><td style = \"text-align: right;\">0.010475</td><td style = \"text-align: right;\">0.0106977</td><td style = \"text-align: right;\">5.30915</td><td style = \"text-align: right;\">7.03222</td></tr><tr><td class = \"rowNumber\" style = \"font-weight: bold; text-align: right;\">62</td><td style = \"text-align: right;\">9.0</td><td style = \"text-align: right;\">6.0</td><td style = \"text-align: right;\">0.0</td><td style = \"text-align: right;\">0.0104189</td><td style = \"text-align: right;\">0.00853009</td><td style = \"text-align: right;\">3.98395</td><td style = \"text-align: right;\">7.02128</td></tr><tr><td class = \"rowNumber\" style = \"font-weight: bold; text-align: right;\">63</td><td style = \"text-align: right;\">9.0</td><td style = \"text-align: right;\">7.0</td><td style = \"text-align: right;\">0.0</td><td style = \"text-align: right;\">0.0103762</td><td style = \"text-align: right;\">0.00603877</td><td style = \"text-align: right;\">3.86536</td><td style = \"text-align: right;\">6.95791</td></tr><tr><td class = \"rowNumber\" style = \"font-weight: bold; text-align: right;\">64</td><td style = \"text-align: right;\">10.0</td><td style = \"text-align: right;\">1.0</td><td style = \"text-align: right;\">1.0</td><td style = \"text-align: right;\">0.0106377</td><td style = \"text-align: right;\">0.0169243</td><td style = \"text-align: right;\">4.94405</td><td style = \"text-align: right;\">8.0878</td></tr><tr><td class = \"rowNumber\" style = \"font-weight: bold; text-align: right;\">65</td><td style = \"text-align: right;\">10.0</td><td style = \"text-align: right;\">2.0</td><td style = \"text-align: right;\">1.0</td><td style = \"text-align: right;\">0.0104316</td><td style = \"text-align: right;\">0.0174009</td><td style = \"text-align: right;\">5.27918</td><td style = \"text-align: right;\">7.86959</td></tr><tr><td class = \"rowNumber\" style = \"font-weight: bold; text-align: right;\">66</td><td style = \"text-align: right;\">10.0</td><td style = \"text-align: right;\">3.0</td><td style = \"text-align: right;\">1.0</td><td style = \"text-align: right;\">0.0105963</td><td style = \"text-align: right;\">0.019876</td><td style = \"text-align: right;\">4.39981</td><td style = \"text-align: right;\">6.84395</td></tr><tr><td class = \"rowNumber\" style = \"font-weight: bold; text-align: right;\">67</td><td style = \"text-align: right;\">10.0</td><td style = \"text-align: right;\">4.0</td><td style = \"text-align: right;\">1.0</td><td style = \"text-align: right;\">0.0105077</td><td style = \"text-align: right;\">0.0209194</td><td style = \"text-align: right;\">4.37947</td><td style = \"text-align: right;\">6.49426</td></tr><tr><td class = \"rowNumber\" style = \"font-weight: bold; text-align: right;\">68</td><td style = \"text-align: right;\">10.0</td><td style = \"text-align: right;\">5.0</td><td style = \"text-align: right;\">1.0</td><td style = \"text-align: right;\">0.0104347</td><td style = \"text-align: right;\">0.0211719</td><td style = \"text-align: right;\">4.47908</td><td style = \"text-align: right;\">6.41746</td></tr><tr><td class = \"rowNumber\" style = \"font-weight: bold; text-align: right;\">69</td><td style = \"text-align: right;\">10.0</td><td style = \"text-align: right;\">6.0</td><td style = \"text-align: right;\">1.0</td><td style = \"text-align: right;\">0.0105718</td><td style = \"text-align: right;\">0.0187096</td><td style = \"text-align: right;\">4.67724</td><td style = \"text-align: right;\">7.29872</td></tr><tr><td class = \"rowNumber\" style = \"font-weight: bold; text-align: right;\">70</td><td style = \"text-align: right;\">10.0</td><td style = \"text-align: right;\">7.0</td><td style = \"text-align: right;\">1.0</td><td style = \"text-align: right;\">0.0104549</td><td style = \"text-align: right;\">0.0190106</td><td style = \"text-align: right;\">4.85905</td><td style = \"text-align: right;\">7.1827</td></tr></tbody></table></div>"
      ],
      "text/latex": [
       "\\begin{tabular}{r|ccccccc}\n",
       "\t& ID & Meal Test & Health status & k1 & k5 & k6 & k8\\\\\n",
       "\t\\hline\n",
       "\t& Float64 & Float64 & Float64 & Float64 & Float64 & Float64 & Float64\\\\\n",
       "\t\\hline\n",
       "\t1 & 1.0 & 1.0 & 0.0 & 0.0104072 & 0.0173463 & 4.40951 & 7.354 \\\\\n",
       "\t2 & 1.0 & 2.0 & 0.0 & 0.0104362 & 0.0155601 & 5.10032 & 7.57521 \\\\\n",
       "\t3 & 1.0 & 3.0 & 0.0 & 0.0105299 & 0.0131662 & 5.54484 & 7.59195 \\\\\n",
       "\t4 & 1.0 & 4.0 & 0.0 & 0.0104272 & 0.0116063 & 5.3463 & 7.08974 \\\\\n",
       "\t5 & 1.0 & 5.0 & 0.0 & 0.0103704 & 0.0109003 & 4.90771 & 6.83445 \\\\\n",
       "\t6 & 1.0 & 6.0 & 0.0 & 0.0104962 & 0.00845506 & 3.49573 & 7.08165 \\\\\n",
       "\t7 & 1.0 & 7.0 & 0.0 & 0.0104589 & 0.0058106 & 3.53309 & 7.01873 \\\\\n",
       "\t8 & 2.0 & 1.0 & 1.0 & 0.01038 & 0.0164254 & 5.00868 & 7.44119 \\\\\n",
       "\t9 & 2.0 & 2.0 & 1.0 & 0.0105607 & 0.0166048 & 4.63033 & 7.29184 \\\\\n",
       "\t10 & 2.0 & 3.0 & 1.0 & 0.0105964 & 0.0173572 & 4.41143 & 6.93469 \\\\\n",
       "\t11 & 2.0 & 4.0 & 1.0 & 0.0105905 & 0.016594 & 4.58117 & 7.28308 \\\\\n",
       "\t12 & 2.0 & 5.0 & 1.0 & 0.0103747 & 0.0171087 & 4.86054 & 7.12897 \\\\\n",
       "\t13 & 2.0 & 6.0 & 1.0 & 0.0103526 & 0.0183913 & 4.63087 & 6.60372 \\\\\n",
       "\t14 & 2.0 & 7.0 & 1.0 & 0.0105032 & 0.0169132 & 4.66418 & 7.17284 \\\\\n",
       "\t15 & 3.0 & 1.0 & 0.0 & 0.0105075 & 0.0177411 & 4.13964 & 6.68463 \\\\\n",
       "\t16 & 3.0 & 2.0 & 0.0 & 0.0106055 & 0.0147333 & 4.93145 & 7.50868 \\\\\n",
       "\t17 & 3.0 & 3.0 & 0.0 & 0.0103432 & 0.0148735 & 5.3038 & 6.26741 \\\\\n",
       "\t18 & 3.0 & 4.0 & 0.0 & 0.0104012 & 0.0117033 & 5.26826 & 6.65639 \\\\\n",
       "\t19 & 3.0 & 5.0 & 0.0 & 0.0103811 & 0.0101047 & 5.16378 & 6.91062 \\\\\n",
       "\t20 & 3.0 & 6.0 & 0.0 & 0.0104027 & 0.00686387 & 4.43842 & 7.31214 \\\\\n",
       "\t21 & 3.0 & 7.0 & 0.0 & 0.010276 & 0.00693629 & 2.98742 & 7.21601 \\\\\n",
       "\t22 & 4.0 & 1.0 & 1.0 & 0.0103574 & 0.0172396 & 4.88545 & 6.75461 \\\\\n",
       "\t23 & 4.0 & 2.0 & 1.0 & 0.0105515 & 0.0166323 & 4.67859 & 6.94707 \\\\\n",
       "\t24 & 4.0 & 3.0 & 1.0 & 0.0104706 & 0.014798 & 5.24855 & 7.92857 \\\\\n",
       "\t$\\dots$ & $\\dots$ & $\\dots$ & $\\dots$ & $\\dots$ & $\\dots$ & $\\dots$ & $\\dots$ \\\\\n",
       "\\end{tabular}\n"
      ],
      "text/plain": [
       "\u001b[1m70×7 DataFrame\u001b[0m\n",
       "\u001b[1m Row \u001b[0m│\u001b[1m ID      \u001b[0m\u001b[1m Meal Test \u001b[0m\u001b[1m Health status \u001b[0m\u001b[1m k1        \u001b[0m\u001b[1m k5         \u001b[0m\u001b[1m k6      \u001b[0m\u001b[1m k8  \u001b[0m ⋯\n",
       "     │\u001b[90m Float64 \u001b[0m\u001b[90m Float64   \u001b[0m\u001b[90m Float64       \u001b[0m\u001b[90m Float64   \u001b[0m\u001b[90m Float64    \u001b[0m\u001b[90m Float64 \u001b[0m\u001b[90m Floa\u001b[0m ⋯\n",
       "─────┼──────────────────────────────────────────────────────────────────────────\n",
       "   1 │     1.0        1.0            0.0  0.0104072  0.0173463   4.40951  7.35 ⋯\n",
       "   2 │     1.0        2.0            0.0  0.0104362  0.0155601   5.10032  7.57\n",
       "   3 │     1.0        3.0            0.0  0.0105299  0.0131662   5.54484  7.59\n",
       "   4 │     1.0        4.0            0.0  0.0104272  0.0116063   5.3463   7.08\n",
       "   5 │     1.0        5.0            0.0  0.0103704  0.0109003   4.90771  6.83 ⋯\n",
       "   6 │     1.0        6.0            0.0  0.0104962  0.00845506  3.49573  7.08\n",
       "   7 │     1.0        7.0            0.0  0.0104589  0.0058106   3.53309  7.01\n",
       "   8 │     2.0        1.0            1.0  0.01038    0.0164254   5.00868  7.44\n",
       "  ⋮  │    ⋮         ⋮            ⋮            ⋮          ⋮          ⋮        ⋮ ⋱\n",
       "  64 │    10.0        1.0            1.0  0.0106377  0.0169243   4.94405  8.08 ⋯\n",
       "  65 │    10.0        2.0            1.0  0.0104316  0.0174009   5.27918  7.86\n",
       "  66 │    10.0        3.0            1.0  0.0105963  0.019876    4.39981  6.84\n",
       "  67 │    10.0        4.0            1.0  0.0105077  0.0209194   4.37947  6.49\n",
       "  68 │    10.0        5.0            1.0  0.0104347  0.0211719   4.47908  6.41 ⋯\n",
       "  69 │    10.0        6.0            1.0  0.0105718  0.0187096   4.67724  7.29\n",
       "  70 │    10.0        7.0            1.0  0.0104549  0.0190106   4.85905  7.18\n",
       "\u001b[36m                                                    1 column and 55 rows omitted\u001b[0m"
      ]
     },
     "metadata": {},
     "output_type": "display_data"
    }
   ],
   "source": [
    "df_fits =  CSV.read(\"./Results/Synthetic_population_fits.csv\", DataFrame)"
   ]
  },
  {
   "cell_type": "code",
   "execution_count": 3,
   "metadata": {},
   "outputs": [
    {
     "name": "stdout",
     "output_type": "stream",
     "text": [
      "[0.01734628159166582 0.015560100420608174 0.013166201354272841 0.011606303168313244 0.010900300867591091 0.008455061919656861 0.005810596565899253; 0.016425356382514283 0.016604790918781306 0.017357175701227145 0.016594029766924586 0.01710870605433626 0.018391312959718516 0.01691323111485573; 0.017741123604684116 0.014733305573794325 0.014873538264214826 0.011703281017250964 0.010104662722040225 0.006863866196773451 0.006936286591068973; 0.01723963007312067 0.016632303701400324 0.014797975203949761 0.01640993297974588 0.015501062401041559 0.016842248548831824 0.01510189067109356; 0.01672105229640699 0.014722334129898672 0.01246051447964216 0.011179392926622053 0.009823347589085462 0.007238445265190115 0.006778085045786041; 0.01957763337525204 0.019453438590055418 0.018053612846445362 0.02024442443677467 0.016467483861426227 0.020081009291218737 0.018658787238648687; 0.01987966268820765 0.017302605701466866 0.013159940780327927 0.012456475948762622 0.009653940957124109 0.008082935826705473 0.006779287612374907; 0.018715067877169027 0.019684267740915504 0.01717401250788483 0.01880750668517271 0.01853822389000103 0.019772229679974215 0.020124375554770348; 0.01769693341405622 0.017211110471929813 0.012483906399117985 0.01056355387649797 0.010697673613427985 0.008530094283811317 0.006038774018172242; 0.016924302817992416 0.017400899141909516 0.019875986940566734 0.020919364339703712 0.021171899019726305 0.018709593324683374 0.01901061888687229]\n"
     ]
    },
    {
     "data": {
      "text/plain": [
       "2-element Vector{Int64}:\n",
       " 5\n",
       " 5"
      ]
     },
     "metadata": {},
     "output_type": "display_data"
    }
   ],
   "source": [
    "# Rename the columns to be used in unstack\n",
    "df_k5s = rename(df_fits,  Symbol(\"Meal Test\") => :parameter, :k5 => :value)\n",
    "# Get the unique IDs and Health status\n",
    "df_health_status = unique(df_fits[:, [:ID, Symbol(\"Health status\")]])\n",
    "\n",
    "# Unstack the DataFrame\n",
    "df_unstacked = unstack(df_k5s, :ID,  :parameter, :value)\n",
    "# Join the \"Health status\" DataFrame with the unstacked DataFrame\n",
    "df_unstacked = rightjoin(df_unstacked, df_health_status, on = :ID)\n",
    "#R = kmeans(k5_data,2)\n",
    "\n",
    "\n",
    "# Get the data for the clustering\n",
    "k5_data = df_unstacked[:, 2:end-1]\n",
    "k5_data = Matrix{Float64}(k5_data)\t\n",
    "println(k5_data)\n",
    "# Perform the clustering\n",
    "R = kmeans(k5_data', 2)\n",
    "# Find the missing values\n",
    "\n",
    "a = assignments(R) # get the assignments of points to clusters\n",
    "c = counts(R) # get the cluster sizes\n",
    "\n",
    "\n",
    "\n"
   ]
  },
  {
   "cell_type": "code",
   "execution_count": 7,
   "metadata": {},
   "outputs": [
    {
     "data": {
      "text/plain": [
       "\"c:\\\\Users\\\\20192809\\\\Documents\\\\GitHub\\\\EDES-thesis\\\\k5_clusters.png\""
      ]
     },
     "metadata": {},
     "output_type": "display_data"
    }
   ],
   "source": [
    "using MultivariateStats, Plots\n",
    "\n",
    "# Perform PCA\n",
    "M = fit(PCA, k5_data'; maxoutdim=2)\n",
    "\n",
    "# Project the data onto the principal components\n",
    "Yte = MultivariateStats.transform(M, k5_data')\n",
    "\n",
    "# Get the variance explained by each component\n",
    "ve = round.(M.prinvars / sum(M.prinvars);digits=4)\n",
    "ve1 = ve[1]\n",
    "ve2 = ve[2]\n",
    "\n",
    "# Create a scatter plot of the projected data, colored by cluster assignment\n",
    "scatter(Yte[1, :], Yte[2, :], color=a, legend=false, xlabel=\"PC1 ($ve1%)\" , ylabel=\"PC2 ($ve2%)\", title=\"PCA parameter k5\")\n",
    "\n",
    "savefig(\"k5_clusters.png\")\n"
   ]
  },
  {
   "cell_type": "code",
   "execution_count": 5,
   "metadata": {},
   "outputs": [
    {
     "ename": "ErrorException",
     "evalue": "type KmeansResult has no field dists",
     "output_type": "error",
     "traceback": [
      "type KmeansResult has no field dists\n",
      "\n",
      "Stacktrace:\n",
      " [1] getproperty(clu::KmeansResult{Matrix{Float64}, Float64, Int64}, prop::Symbol)\n",
      "   @ Clustering C:\\Users\\20192809\\.julia\\packages\\Clustering\\JwhfU\\src\\deprecate.jl:54\n",
      " [2] top-level scope\n",
      "   @ c:\\Users\\20192809\\Documents\\GitHub\\EDES-thesis\\KMLclustering.ipynb:14"
     ]
    }
   ],
   "source": [
    "# implement a elbow plot\n",
    "using Clustering\n",
    "using Plots\n",
    "\n",
    "# Create a vector to store the sum of squared errors\n",
    "sse = Float64[]\n",
    "# Create a vector to store the number of clusters\n",
    "k = 1:10\n",
    "# Loop over the number of clusters\n",
    "for i in k\n",
    "    # Perform the clustering\n",
    "    R = kmeans(k5_data', i)\n",
    "    # Get the sum of squared errors\n",
    "    push!(sse, sum(R.dists))\n",
    "end\n",
    "\n",
    "# Create a plot of the sum of squared errors\n",
    "plot(k, sse, xlabel=\"Number of clusters\", ylabel=\"Sum of squared errors\", title=\"Elbow plot for k5\")\n"
   ]
  }
 ],
 "metadata": {
  "kernelspec": {
   "display_name": "Julia 1.10.1",
   "language": "julia",
   "name": "julia-1.10"
  },
  "language_info": {
   "file_extension": ".jl",
   "mimetype": "application/julia",
   "name": "julia",
   "version": "1.10.1"
  }
 },
 "nbformat": 4,
 "nbformat_minor": 2
}
